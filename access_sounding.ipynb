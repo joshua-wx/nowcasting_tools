{
 "cells": [
  {
   "cell_type": "code",
   "execution_count": 1,
   "metadata": {},
   "outputs": [],
   "source": [
    "import xarray as xr\n",
    "import numpy as np\n",
    "from scipy.interpolate import interp1d"
   ]
  },
  {
   "cell_type": "code",
   "execution_count": 2,
   "metadata": {},
   "outputs": [],
   "source": [
    "def sounding_interp(snd_temp, snd_height, target_temp):\n",
    "    \"\"\"\n",
    "    Provides an linear interpolated height for a target temperature using a\n",
    "    sounding vertical profile. Looks for first instance of temperature\n",
    "    below target_temp from surface upward.\n",
    "\n",
    "    Parameters\n",
    "    ----------\n",
    "    snd_temp : ndarray\n",
    "        Temperature data (degrees C).\n",
    "    snd_height : ndarray\n",
    "        Relative height data (m).\n",
    "    target_temp : float\n",
    "        Target temperature to find height at (m).\n",
    "\n",
    "    Returns\n",
    "    -------\n",
    "    intp_h: float\n",
    "        Interpolated height of target_temp (m).\n",
    "\n",
    "    \"\"\"\n",
    "    intp_h = np.nan\n",
    "\n",
    "    #check if target_temp is warmer than lowest level in sounding\n",
    "    if target_temp>snd_temp[0]:\n",
    "        print('warning, target temp level below sounding, returning ground level (0m)')\n",
    "        return 0.\n",
    "    \n",
    "    \n",
    "    # find index above and below freezing level\n",
    "    mask = np.where(snd_temp < target_temp)\n",
    "    above_ind = mask[0][0]\n",
    "\n",
    "    # index below\n",
    "    below_ind = above_ind - 1\n",
    "    # apply linear interplation to points above and below target_temp\n",
    "    set_interp = interp1d(\n",
    "        snd_temp[below_ind:above_ind+1],\n",
    "        snd_height[below_ind:above_ind+1], kind='linear')\n",
    "    # apply interpolant\n",
    "    intp_h = set_interp(target_temp)\n",
    "    return intp_h\n"
   ]
  },
  {
   "cell_type": "code",
   "execution_count": 3,
   "metadata": {},
   "outputs": [],
   "source": [
    "#config\n",
    "access_root = '/g/data/lb4/ops_aps2/access-g/0001' #access g\n",
    "request_date = '20200720' #yyyymmdd UTC\n",
    "request_time = '0600' #HHMM UTC\n",
    "request_lat = -27.717\n",
    "request_lon = 153.24\n",
    "request_name = '20200720_hailers'"
   ]
  },
  {
   "cell_type": "code",
   "execution_count": 4,
   "metadata": {},
   "outputs": [],
   "source": [
    "#build file paths\n",
    "access_folder = '/'.join([access_root, request_date, request_time, 'an', 'pl'])\n",
    "temp_ffn = access_folder + '/air_temp.nc'\n",
    "geop_ffn = access_folder + '/geop_ht.nc'\n",
    "relh_ffn = access_folder + '/relhum.nc'\n",
    "uwnd_ffn = access_folder + '/wnd_ucmp.nc'\n",
    "vwnd_ffn = access_folder + '/wnd_vcmp.nc'"
   ]
  },
  {
   "cell_type": "code",
   "execution_count": 5,
   "metadata": {},
   "outputs": [],
   "source": [
    "#extract data\n",
    "temp_ds = xr.open_dataset(temp_ffn)\n",
    "temp_data = temp_ds.air_temp.sel(lon=request_lon, method='nearest').sel(lat=request_lat, method='nearest').data[0] - 273.15 #units: deg C\n",
    "geop_ds = xr.open_dataset(geop_ffn)\n",
    "geop_data = geop_ds.geop_ht.sel(lon=request_lon, method='nearest').sel(lat=request_lat, method='nearest').data[0] #units: m\n",
    "relh_ds = xr.open_dataset(relh_ffn)\n",
    "relh_data = relh_ds.relhum.sel(lon=request_lon, method='nearest').sel(lat=request_lat, method='nearest').data[0] #units: percentage\n",
    "uwnd_ds = xr.open_dataset(uwnd_ffn)\n",
    "uwnd_data = uwnd_ds.wnd_ucmp.sel(lon=request_lon, method='nearest').sel(lat=request_lat, method='nearest').data[0] #units: m/s\n",
    "vwnd_ds = xr.open_dataset(vwnd_ffn)\n",
    "vwnd_data = vwnd_ds.wnd_vcmp.sel(lon=request_lon, method='nearest').sel(lat=request_lat, method='nearest').data[0] #units: m/s"
   ]
  },
  {
   "cell_type": "code",
   "execution_count": 6,
   "metadata": {},
   "outputs": [
    {
     "name": "stdout",
     "output_type": "stream",
     "text": [
      "0C altitude:  4404.0 m\n",
      "-20C altitude:  7361.0 m\n"
     ]
    }
   ],
   "source": [
    "#interpolate to 0C and -20C levels\n",
    "print('0C altitude: ', np.round(sounding_interp(temp_data, geop_data, 0)), 'm')\n",
    "print('-20C altitude: ', np.round(sounding_interp(temp_data, geop_data, -20)), 'm')"
   ]
  },
  {
   "cell_type": "code",
   "execution_count": null,
   "metadata": {},
   "outputs": [],
   "source": [
    "#output to file\n",
    "\n"
   ]
  }
 ],
 "metadata": {
  "kernelspec": {
   "display_name": "Python [conda env:radar-dev] *",
   "language": "python",
   "name": "conda-env-radar-dev-py"
  },
  "language_info": {
   "codemirror_mode": {
    "name": "ipython",
    "version": 3
   },
   "file_extension": ".py",
   "mimetype": "text/x-python",
   "name": "python",
   "nbconvert_exporter": "python",
   "pygments_lexer": "ipython3",
   "version": "3.8.3"
  }
 },
 "nbformat": 4,
 "nbformat_minor": 4
}
