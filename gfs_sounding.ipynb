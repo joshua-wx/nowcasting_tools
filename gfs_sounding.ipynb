{
 "cells": [
  {
   "cell_type": "code",
   "execution_count": 1,
   "metadata": {},
   "outputs": [
    {
     "ename": "ModuleNotFoundError",
     "evalue": "No module named 'bs4'",
     "output_type": "error",
     "traceback": [
      "\u001b[0;31m---------------------------------------------------------------------------\u001b[0m",
      "\u001b[0;31mModuleNotFoundError\u001b[0m                       Traceback (most recent call last)",
      "\u001b[0;32m<ipython-input-1-2b029f97da75>\u001b[0m in \u001b[0;36m<module>\u001b[0;34m\u001b[0m\n\u001b[1;32m      7\u001b[0m \u001b[0;34m\u001b[0m\u001b[0m\n\u001b[1;32m      8\u001b[0m \u001b[0;32mimport\u001b[0m \u001b[0mnumpy\u001b[0m \u001b[0;32mas\u001b[0m \u001b[0mnp\u001b[0m\u001b[0;34m\u001b[0m\u001b[0;34m\u001b[0m\u001b[0m\n\u001b[0;32m----> 9\u001b[0;31m \u001b[0;32mfrom\u001b[0m \u001b[0mbs4\u001b[0m \u001b[0;32mimport\u001b[0m \u001b[0mBeautifulSoup\u001b[0m\u001b[0;34m\u001b[0m\u001b[0;34m\u001b[0m\u001b[0m\n\u001b[0m",
      "\u001b[0;31mModuleNotFoundError\u001b[0m: No module named 'bs4'"
     ]
    }
   ],
   "source": [
    "import os\n",
    "import pickle\n",
    "import string\n",
    "import traceback\n",
    "import urllib.request\n",
    "from datetime import datetime\n",
    "\n",
    "import numpy as np\n",
    "from bs4 import BeautifulSoup"
   ]
  },
  {
   "cell_type": "code",
   "execution_count": null,
   "metadata": {},
   "outputs": [],
   "source": [
    "\n",
    "\n",
    "def get_gfs_sounding(request_dt, request_lat, request_lon, outffn):\n",
    "    \"\"\"\n",
    "    Download GFS sounding data from NOAA\n",
    "\n",
    "    Parameters\n",
    "    ----------\n",
    "    adj_date : datetime\n",
    "        The date of the requested radiosoundings\n",
    "    radar_lat : float\n",
    "        Location of radar lat\n",
    "    radar_lon : float\n",
    "        Location of radar lon\n",
    "\n",
    "    Returns\n",
    "    -------\n",
    "    None\n",
    "    \"\"\"\n",
    "\n",
    "    year_str  = datetime.strftime(request_dt, '%Y')\n",
    "    month_str = datetime.strftime(request_dt, '%m')\n",
    "    day_str   = datetime.strftime(request_dt, '%d')\n",
    "    hour_str    = datetime.strftime(request_dt, '%H')\n",
    "\n",
    "    #take the floor of the hour to the 6hr inverval\n",
    "    hour_str_floor = str(np.floor(float(hour_str)/6)*6)\n",
    "    \n",
    "    print(hour_str_floor)\n",
    "\n",
    "    url = ''.join(['https://rucsoundings.noaa.gov/get_soundings.cgi?data_source=GFS',\n",
    "                    '&start_year=',year_str,\n",
    "                    '&start_month_name=',month_str,\n",
    "                    '&start_mday=',day_str,\n",
    "                    '&start_hour=',hour_str_floor,\n",
    "                    '&start_min=0&n_hrs=1.0&fcst_len=analyses&airport=',request_lat,'%2C',request_lon,\n",
    "                    '&start_min=0&n_hrs=1.0&fcst_len=shortest&airport=&text=Ascii%20text%20%28GSD%20format%29&hydrometeors=false'])\n",
    "    \n",
    "    print(url)\n",
    "    \n",
    "#     #read into formatted data\n",
    "#     C = textscan(web_str,'%f%f%f%f%f%f%f','delimiter',' ','MultipleDelimsAsOne',1,'HeaderLines',6)\n",
    "#     snd_height = C[3]\n",
    "#     snd_temp   = C{4}/10 \n",
    "        \n",
    "        \n",
    "#     url = 'https://rucsoundings.noaa.gov/get_soundings.cgi?data_source=GFS&latest=latest&start_year='+\n",
    "#           \"3ALIST&YEAR=%i&MONTH=%02i&FROM=%02i%s&TO=%02i%s&STNM=%s\"\n",
    "#           (year, month, day, hour, day, hour, station_id)\n",
    "    \n",
    "#     with urllib.request.urlopen(url) as f:\n",
    "#         content = f.read()\n",
    "\n",
    "#     #split ascii data\n",
    "#     soup = BeautifulSoup(content, \"html.parser\")\n",
    "#     data_text = soup.get_text()\n",
    "#     splitted = data_text.split(\"\\n\",data_text.count(\"\\n\"))\n",
    "#     ascii_txt = \"\\n\".join(splitted[4:])\n",
    "    \n",
    "#     #write to nc file\n",
    "#     outfile = \"%s_%i%02i%02i_%s.nc\" % (station_id, year, month, day, hour)\n",
    "    \n",
    "\n",
    "#     return outfile"
   ]
  },
  {
   "cell_type": "code",
   "execution_count": 2,
   "metadata": {},
   "outputs": [
    {
     "ename": "NameError",
     "evalue": "name 'get_gfs_sounding' is not defined",
     "output_type": "error",
     "traceback": [
      "\u001b[0;31m---------------------------------------------------------------------------\u001b[0m",
      "\u001b[0;31mNameError\u001b[0m                                 Traceback (most recent call last)",
      "\u001b[0;32m<ipython-input-2-781f23d57863>\u001b[0m in \u001b[0;36m<module>\u001b[0;34m\u001b[0m\n\u001b[0;32m----> 1\u001b[0;31m \u001b[0mout\u001b[0m \u001b[0;34m=\u001b[0m \u001b[0mget_gfs_sounding\u001b[0m\u001b[0;34m(\u001b[0m\u001b[0mdatetime\u001b[0m\u001b[0;34m.\u001b[0m\u001b[0mstrptime\u001b[0m\u001b[0;34m(\u001b[0m\u001b[0;34m'20200419'\u001b[0m\u001b[0;34m,\u001b[0m\u001b[0;34m'%Y%m%d'\u001b[0m\u001b[0;34m)\u001b[0m\u001b[0;34m,\u001b[0m \u001b[0;34m'-27'\u001b[0m\u001b[0;34m,\u001b[0m \u001b[0;34m'153'\u001b[0m\u001b[0;34m,\u001b[0m \u001b[0;34m'test.out'\u001b[0m\u001b[0;34m)\u001b[0m\u001b[0;34m\u001b[0m\u001b[0;34m\u001b[0m\u001b[0m\n\u001b[0m",
      "\u001b[0;31mNameError\u001b[0m: name 'get_gfs_sounding' is not defined"
     ]
    }
   ],
   "source": [
    "out = get_gfs_sounding(datetime.strptime('20200419','%Y%m%d'), '-27', '153', 'test.out')\n"
   ]
  },
  {
   "cell_type": "code",
   "execution_count": null,
   "metadata": {},
   "outputs": [],
   "source": []
  }
 ],
 "metadata": {
  "kernelspec": {
   "display_name": "Python [conda env:radar-dev] *",
   "language": "python",
   "name": "conda-env-radar-dev-py"
  },
  "language_info": {
   "codemirror_mode": {
    "name": "ipython",
    "version": 3
   },
   "file_extension": ".py",
   "mimetype": "text/x-python",
   "name": "python",
   "nbconvert_exporter": "python",
   "pygments_lexer": "ipython3",
   "version": "3.7.6"
  }
 },
 "nbformat": 4,
 "nbformat_minor": 4
}
