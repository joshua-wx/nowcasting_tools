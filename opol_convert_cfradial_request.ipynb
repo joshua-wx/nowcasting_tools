{
 "cells": [
  {
   "cell_type": "code",
   "execution_count": 1,
   "metadata": {},
   "outputs": [
    {
     "name": "stdout",
     "output_type": "stream",
     "text": [
      "\n",
      "## You are using the Python ARM Radar Toolkit (Py-ART), an open source\n",
      "## library for working with weather radar data. Py-ART is partly\n",
      "## supported by the U.S. Department of Energy as part of the Atmospheric\n",
      "## Radiation Measurement (ARM) Climate Research Facility, an Office of\n",
      "## Science user facility.\n",
      "##\n",
      "## If you use this software to prepare a publication, please cite:\n",
      "##\n",
      "##     JJ Helmus and SM Collis, JORS 2016, doi: 10.5334/jors.119\n",
      "\n"
     ]
    }
   ],
   "source": [
    "import os\n",
    "import re\n",
    "from glob import glob\n",
    "from datetime import datetime\n",
    "import gzip\n",
    "\n",
    "import pyart\n",
    "\n",
    "import pandas as pd\n",
    "import numpy as np\n",
    "import pickle"
   ]
  },
  {
   "cell_type": "code",
   "execution_count": 2,
   "metadata": {},
   "outputs": [],
   "source": [
    "def get_time_from_filename(filename, date):\n",
    "    '''\n",
    "    GET_TIME_FROM_FILENAME\n",
    "    Capture the time string inside the filename and returns it.\n",
    "    '''\n",
    "\n",
    "    # Looking for date followed by underscore and 6 consecutives number (i.e.\n",
    "    # the time)\n",
    "    dtstr = re.findall(date + '.[0-9]{6}', filename)\n",
    "    dtime = datetime.strptime(dtstr[0], '%Y%m%d-%H%M%S')\n",
    "    return dtime\n",
    "\n",
    "\n",
    "def find_nearest_filename(file_list, target_dt):\n",
    "    dt_list = []\n",
    "    for file in file_list:\n",
    "        basename = os.path.basename(file)\n",
    "        dt_list.append(get_time_from_filename(basename, target_dt.strftime('%Y%m%d')))\n",
    "    dt_array = np.array(dt_list)\n",
    "    time_diff = np.abs(dt_array-target_dt)\n",
    "    min_idx = np.argmin(time_diff)\n",
    "    min_ffn = file_list[min_idx]\n",
    "    print('min time difference is', time_diff[min_idx],'for', os.path.basename(min_ffn))\n",
    "    return min_ffn\n",
    "\n",
    "\n",
    "\n",
    "def get_filter(radar, dbz_name='total_power',\n",
    "                      zdr_name='differential_reflectivity',\n",
    "                      phidp_name='differential_phase',\n",
    "                      width_name='spectrum_width',\n",
    "                      rhohv_name='cross_correlation_ratio'):\n",
    "    \n",
    "    \"\"\"\n",
    "    Loads a gaussian mixture model (pre generated) for filtering of clutter from radar volume\n",
    "    This function was developed by Valentin Louf\n",
    "    returns a gatefilter dictionary for masking radar data in the pyart radar object\n",
    "    \"\"\"\n",
    "    \n",
    "    # Load Scikit model\n",
    "    with gzip.GzipFile(PATH_TO_GM_MODEL, 'r') as gzid:\n",
    "        meteorological_echoes_GMM = pickle.load(gzid)\n",
    "    \n",
    "    df_orig = pd.DataFrame({'total_power': radar.fields[dbz_name]['data'].flatten(),\n",
    "                            'differential_reflectivity': radar.fields[zdr_name]['data'].flatten(),\n",
    "                            'differential_phase': radar.fields[phidp_name]['data'].flatten(),\n",
    "                            'spectrum_width': radar.fields[width_name]['data'].flatten(),\n",
    "                            'cross_correlation_ratio': radar.fields[rhohv_name]['data'].flatten(),\n",
    "                           })\n",
    "\n",
    "    df = df_orig.dropna()\n",
    "\n",
    "    pos_droped = df_orig.dropna().index\n",
    "    radar_cluster = meteorological_echoes_GMM.predict(df_orig.dropna())\n",
    "\n",
    "    r = radar.range['data']\n",
    "    time = radar.time['data']\n",
    "    R, T = np.meshgrid(r, time)\n",
    "\n",
    "    clus = np.zeros_like(R.flatten())\n",
    "    clus[pos_droped] = radar_cluster + 1\n",
    "    cluster = clus.reshape(R.shape)\n",
    "\n",
    "    meteorological_signal = ((cluster >= 5) | (cluster == 2)) \n",
    "\n",
    "    radar.add_field('good_mask', {'data': meteorological_signal})\n",
    "\n",
    "    gf = pyart.filters.GateFilter(radar)\n",
    "    gf.exclude_equal('good_mask', 0)\n",
    "    gf = pyart.correct.despeckle_field(radar, dbz_name, gatefilter=gf)\n",
    "    _ = radar.fields.pop('good_mask')\n",
    "\n",
    "    return gf"
   ]
  },
  {
   "cell_type": "code",
   "execution_count": 3,
   "metadata": {},
   "outputs": [
    {
     "name": "stdout",
     "output_type": "stream",
     "text": [
      "/g/data/hj10/admin/opol/level_1/in2019_v01/20190124/9776HUB-PPIVol-20190124-000034-0000.hdf\n"
     ]
    },
    {
     "name": "stderr",
     "output_type": "stream",
     "text": [
      "/g/data/en0/jss548/miniconda3/envs/radar-dev/lib/python3.8/site-packages/pyart/aux_io/odim_h5.py:295: DeprecationWarning: an integer is required (got type numpy.float32).  Implicit conversion to integers using __int__ is deprecated, and may be removed in a future version of Python.\n",
      "  start_time = datetime.datetime.utcfromtimestamp(start_epoch)\n",
      "/g/data/en0/jss548/miniconda3/envs/radar-dev/lib/python3.8/site-packages/sklearn/utils/deprecation.py:143: FutureWarning: The sklearn.mixture.gaussian_mixture module is  deprecated in version 0.22 and will be removed in version 0.24. The corresponding classes / functions should instead be imported from sklearn.mixture. Anything that cannot be imported from sklearn.mixture is now part of the private API.\n",
      "  warnings.warn(message, FutureWarning)\n",
      "/g/data/en0/jss548/miniconda3/envs/radar-dev/lib/python3.8/site-packages/sklearn/base.py:329: UserWarning: Trying to unpickle estimator GaussianMixture from version 0.21.3 when using version 0.23.1. This might lead to breaking code or invalid results. Use at your own risk.\n",
      "  warnings.warn(\n"
     ]
    },
    {
     "name": "stdout",
     "output_type": "stream",
     "text": [
      "/g/data/hj10/admin/opol/level_1/in2019_v01/20190124/9776HUB-PPIVol-20190124-000606-0000.hdf\n"
     ]
    },
    {
     "name": "stderr",
     "output_type": "stream",
     "text": [
      "/g/data/en0/jss548/miniconda3/envs/radar-dev/lib/python3.8/site-packages/pyart/aux_io/odim_h5.py:295: DeprecationWarning: an integer is required (got type numpy.float32).  Implicit conversion to integers using __int__ is deprecated, and may be removed in a future version of Python.\n",
      "  start_time = datetime.datetime.utcfromtimestamp(start_epoch)\n",
      "/g/data/en0/jss548/miniconda3/envs/radar-dev/lib/python3.8/site-packages/sklearn/base.py:329: UserWarning: Trying to unpickle estimator GaussianMixture from version 0.21.3 when using version 0.23.1. This might lead to breaking code or invalid results. Use at your own risk.\n",
      "  warnings.warn(\n"
     ]
    },
    {
     "name": "stdout",
     "output_type": "stream",
     "text": [
      "/g/data/hj10/admin/opol/level_1/in2019_v01/20190124/9776HUB-PPIVol-20190124-000721-0000.hdf\n"
     ]
    },
    {
     "name": "stderr",
     "output_type": "stream",
     "text": [
      "/g/data/en0/jss548/miniconda3/envs/radar-dev/lib/python3.8/site-packages/pyart/aux_io/odim_h5.py:295: DeprecationWarning: an integer is required (got type numpy.float32).  Implicit conversion to integers using __int__ is deprecated, and may be removed in a future version of Python.\n",
      "  start_time = datetime.datetime.utcfromtimestamp(start_epoch)\n",
      "/g/data/en0/jss548/miniconda3/envs/radar-dev/lib/python3.8/site-packages/sklearn/base.py:329: UserWarning: Trying to unpickle estimator GaussianMixture from version 0.21.3 when using version 0.23.1. This might lead to breaking code or invalid results. Use at your own risk.\n",
      "  warnings.warn(\n"
     ]
    },
    {
     "name": "stdout",
     "output_type": "stream",
     "text": [
      "/g/data/hj10/admin/opol/level_1/in2019_v01/20190124/9776HUB-PPIVol-20190124-001253-0000.hdf\n"
     ]
    },
    {
     "name": "stderr",
     "output_type": "stream",
     "text": [
      "/g/data/en0/jss548/miniconda3/envs/radar-dev/lib/python3.8/site-packages/pyart/aux_io/odim_h5.py:295: DeprecationWarning: an integer is required (got type numpy.float32).  Implicit conversion to integers using __int__ is deprecated, and may be removed in a future version of Python.\n",
      "  start_time = datetime.datetime.utcfromtimestamp(start_epoch)\n",
      "/g/data/en0/jss548/miniconda3/envs/radar-dev/lib/python3.8/site-packages/sklearn/base.py:329: UserWarning: Trying to unpickle estimator GaussianMixture from version 0.21.3 when using version 0.23.1. This might lead to breaking code or invalid results. Use at your own risk.\n",
      "  warnings.warn(\n"
     ]
    },
    {
     "name": "stdout",
     "output_type": "stream",
     "text": [
      "/g/data/hj10/admin/opol/level_1/in2019_v01/20190124/9776HUB-PPIVol-20190124-001407-0000.hdf\n"
     ]
    },
    {
     "name": "stderr",
     "output_type": "stream",
     "text": [
      "/g/data/en0/jss548/miniconda3/envs/radar-dev/lib/python3.8/site-packages/pyart/aux_io/odim_h5.py:295: DeprecationWarning: an integer is required (got type numpy.float32).  Implicit conversion to integers using __int__ is deprecated, and may be removed in a future version of Python.\n",
      "  start_time = datetime.datetime.utcfromtimestamp(start_epoch)\n",
      "/g/data/en0/jss548/miniconda3/envs/radar-dev/lib/python3.8/site-packages/sklearn/base.py:329: UserWarning: Trying to unpickle estimator GaussianMixture from version 0.21.3 when using version 0.23.1. This might lead to breaking code or invalid results. Use at your own risk.\n",
      "  warnings.warn(\n"
     ]
    },
    {
     "name": "stdout",
     "output_type": "stream",
     "text": [
      "/g/data/hj10/admin/opol/level_1/in2019_v01/20190124/9776HUB-PPIVol-20190124-001939-0000.hdf\n"
     ]
    },
    {
     "name": "stderr",
     "output_type": "stream",
     "text": [
      "/g/data/en0/jss548/miniconda3/envs/radar-dev/lib/python3.8/site-packages/pyart/aux_io/odim_h5.py:295: DeprecationWarning: an integer is required (got type numpy.float32).  Implicit conversion to integers using __int__ is deprecated, and may be removed in a future version of Python.\n",
      "  start_time = datetime.datetime.utcfromtimestamp(start_epoch)\n",
      "/g/data/en0/jss548/miniconda3/envs/radar-dev/lib/python3.8/site-packages/sklearn/base.py:329: UserWarning: Trying to unpickle estimator GaussianMixture from version 0.21.3 when using version 0.23.1. This might lead to breaking code or invalid results. Use at your own risk.\n",
      "  warnings.warn(\n"
     ]
    },
    {
     "name": "stdout",
     "output_type": "stream",
     "text": [
      "/g/data/hj10/admin/opol/level_1/in2019_v01/20190124/9776HUB-PPIVol-20190124-002054-0000.hdf\n"
     ]
    },
    {
     "name": "stderr",
     "output_type": "stream",
     "text": [
      "/g/data/en0/jss548/miniconda3/envs/radar-dev/lib/python3.8/site-packages/pyart/aux_io/odim_h5.py:295: DeprecationWarning: an integer is required (got type numpy.float32).  Implicit conversion to integers using __int__ is deprecated, and may be removed in a future version of Python.\n",
      "  start_time = datetime.datetime.utcfromtimestamp(start_epoch)\n",
      "/g/data/en0/jss548/miniconda3/envs/radar-dev/lib/python3.8/site-packages/sklearn/base.py:329: UserWarning: Trying to unpickle estimator GaussianMixture from version 0.21.3 when using version 0.23.1. This might lead to breaking code or invalid results. Use at your own risk.\n",
      "  warnings.warn(\n"
     ]
    },
    {
     "name": "stdout",
     "output_type": "stream",
     "text": [
      "/g/data/hj10/admin/opol/level_1/in2019_v01/20190124/9776HUB-PPIVol-20190124-002626-0000.hdf\n"
     ]
    },
    {
     "name": "stderr",
     "output_type": "stream",
     "text": [
      "/g/data/en0/jss548/miniconda3/envs/radar-dev/lib/python3.8/site-packages/pyart/aux_io/odim_h5.py:295: DeprecationWarning: an integer is required (got type numpy.float32).  Implicit conversion to integers using __int__ is deprecated, and may be removed in a future version of Python.\n",
      "  start_time = datetime.datetime.utcfromtimestamp(start_epoch)\n",
      "/g/data/en0/jss548/miniconda3/envs/radar-dev/lib/python3.8/site-packages/sklearn/base.py:329: UserWarning: Trying to unpickle estimator GaussianMixture from version 0.21.3 when using version 0.23.1. This might lead to breaking code or invalid results. Use at your own risk.\n",
      "  warnings.warn(\n"
     ]
    },
    {
     "name": "stdout",
     "output_type": "stream",
     "text": [
      "/g/data/hj10/admin/opol/level_1/in2019_v01/20190124/9776HUB-PPIVol-20190124-002740-0000.hdf\n"
     ]
    },
    {
     "name": "stderr",
     "output_type": "stream",
     "text": [
      "/g/data/en0/jss548/miniconda3/envs/radar-dev/lib/python3.8/site-packages/pyart/aux_io/odim_h5.py:295: DeprecationWarning: an integer is required (got type numpy.float32).  Implicit conversion to integers using __int__ is deprecated, and may be removed in a future version of Python.\n",
      "  start_time = datetime.datetime.utcfromtimestamp(start_epoch)\n",
      "/g/data/en0/jss548/miniconda3/envs/radar-dev/lib/python3.8/site-packages/sklearn/base.py:329: UserWarning: Trying to unpickle estimator GaussianMixture from version 0.21.3 when using version 0.23.1. This might lead to breaking code or invalid results. Use at your own risk.\n",
      "  warnings.warn(\n"
     ]
    },
    {
     "name": "stdout",
     "output_type": "stream",
     "text": [
      "/g/data/hj10/admin/opol/level_1/in2019_v01/20190124/9776HUB-PPIVol-20190124-003312-0000.hdf\n"
     ]
    },
    {
     "name": "stderr",
     "output_type": "stream",
     "text": [
      "/g/data/en0/jss548/miniconda3/envs/radar-dev/lib/python3.8/site-packages/pyart/aux_io/odim_h5.py:295: DeprecationWarning: an integer is required (got type numpy.float32).  Implicit conversion to integers using __int__ is deprecated, and may be removed in a future version of Python.\n",
      "  start_time = datetime.datetime.utcfromtimestamp(start_epoch)\n",
      "/g/data/en0/jss548/miniconda3/envs/radar-dev/lib/python3.8/site-packages/sklearn/base.py:329: UserWarning: Trying to unpickle estimator GaussianMixture from version 0.21.3 when using version 0.23.1. This might lead to breaking code or invalid results. Use at your own risk.\n",
      "  warnings.warn(\n"
     ]
    },
    {
     "name": "stdout",
     "output_type": "stream",
     "text": [
      "/g/data/hj10/admin/opol/level_1/in2019_v01/20190124/9776HUB-PPIVol-20190124-003427-0000.hdf\n"
     ]
    },
    {
     "name": "stderr",
     "output_type": "stream",
     "text": [
      "/g/data/en0/jss548/miniconda3/envs/radar-dev/lib/python3.8/site-packages/pyart/aux_io/odim_h5.py:295: DeprecationWarning: an integer is required (got type numpy.float32).  Implicit conversion to integers using __int__ is deprecated, and may be removed in a future version of Python.\n",
      "  start_time = datetime.datetime.utcfromtimestamp(start_epoch)\n",
      "/g/data/en0/jss548/miniconda3/envs/radar-dev/lib/python3.8/site-packages/sklearn/base.py:329: UserWarning: Trying to unpickle estimator GaussianMixture from version 0.21.3 when using version 0.23.1. This might lead to breaking code or invalid results. Use at your own risk.\n",
      "  warnings.warn(\n"
     ]
    },
    {
     "name": "stdout",
     "output_type": "stream",
     "text": [
      "/g/data/hj10/admin/opol/level_1/in2019_v01/20190124/9776HUB-PPIVol-20190124-003959-0000.hdf\n"
     ]
    },
    {
     "name": "stderr",
     "output_type": "stream",
     "text": [
      "/g/data/en0/jss548/miniconda3/envs/radar-dev/lib/python3.8/site-packages/pyart/aux_io/odim_h5.py:295: DeprecationWarning: an integer is required (got type numpy.float32).  Implicit conversion to integers using __int__ is deprecated, and may be removed in a future version of Python.\n",
      "  start_time = datetime.datetime.utcfromtimestamp(start_epoch)\n",
      "/g/data/en0/jss548/miniconda3/envs/radar-dev/lib/python3.8/site-packages/sklearn/base.py:329: UserWarning: Trying to unpickle estimator GaussianMixture from version 0.21.3 when using version 0.23.1. This might lead to breaking code or invalid results. Use at your own risk.\n",
      "  warnings.warn(\n"
     ]
    },
    {
     "name": "stdout",
     "output_type": "stream",
     "text": [
      "/g/data/hj10/admin/opol/level_1/in2019_v01/20190124/9776HUB-PPIVol-20190124-004113-0000.hdf\n"
     ]
    },
    {
     "name": "stderr",
     "output_type": "stream",
     "text": [
      "/g/data/en0/jss548/miniconda3/envs/radar-dev/lib/python3.8/site-packages/pyart/aux_io/odim_h5.py:295: DeprecationWarning: an integer is required (got type numpy.float32).  Implicit conversion to integers using __int__ is deprecated, and may be removed in a future version of Python.\n",
      "  start_time = datetime.datetime.utcfromtimestamp(start_epoch)\n",
      "/g/data/en0/jss548/miniconda3/envs/radar-dev/lib/python3.8/site-packages/sklearn/base.py:329: UserWarning: Trying to unpickle estimator GaussianMixture from version 0.21.3 when using version 0.23.1. This might lead to breaking code or invalid results. Use at your own risk.\n",
      "  warnings.warn(\n"
     ]
    },
    {
     "name": "stdout",
     "output_type": "stream",
     "text": [
      "/g/data/hj10/admin/opol/level_1/in2019_v01/20190124/9776HUB-PPIVol-20190124-004645-0000.hdf\n"
     ]
    },
    {
     "name": "stderr",
     "output_type": "stream",
     "text": [
      "/g/data/en0/jss548/miniconda3/envs/radar-dev/lib/python3.8/site-packages/pyart/aux_io/odim_h5.py:295: DeprecationWarning: an integer is required (got type numpy.float32).  Implicit conversion to integers using __int__ is deprecated, and may be removed in a future version of Python.\n",
      "  start_time = datetime.datetime.utcfromtimestamp(start_epoch)\n",
      "/g/data/en0/jss548/miniconda3/envs/radar-dev/lib/python3.8/site-packages/sklearn/base.py:329: UserWarning: Trying to unpickle estimator GaussianMixture from version 0.21.3 when using version 0.23.1. This might lead to breaking code or invalid results. Use at your own risk.\n",
      "  warnings.warn(\n"
     ]
    },
    {
     "name": "stdout",
     "output_type": "stream",
     "text": [
      "/g/data/hj10/admin/opol/level_1/in2019_v01/20190124/9776HUB-PPIVol-20190124-004800-0000.hdf\n"
     ]
    },
    {
     "name": "stderr",
     "output_type": "stream",
     "text": [
      "/g/data/en0/jss548/miniconda3/envs/radar-dev/lib/python3.8/site-packages/pyart/aux_io/odim_h5.py:295: DeprecationWarning: an integer is required (got type numpy.float32).  Implicit conversion to integers using __int__ is deprecated, and may be removed in a future version of Python.\n",
      "  start_time = datetime.datetime.utcfromtimestamp(start_epoch)\n",
      "/g/data/en0/jss548/miniconda3/envs/radar-dev/lib/python3.8/site-packages/sklearn/base.py:329: UserWarning: Trying to unpickle estimator GaussianMixture from version 0.21.3 when using version 0.23.1. This might lead to breaking code or invalid results. Use at your own risk.\n",
      "  warnings.warn(\n"
     ]
    },
    {
     "name": "stdout",
     "output_type": "stream",
     "text": [
      "/g/data/hj10/admin/opol/level_1/in2019_v01/20190124/9776HUB-PPIVol-20190124-005331-0000.hdf\n"
     ]
    },
    {
     "name": "stderr",
     "output_type": "stream",
     "text": [
      "/g/data/en0/jss548/miniconda3/envs/radar-dev/lib/python3.8/site-packages/pyart/aux_io/odim_h5.py:295: DeprecationWarning: an integer is required (got type numpy.float32).  Implicit conversion to integers using __int__ is deprecated, and may be removed in a future version of Python.\n",
      "  start_time = datetime.datetime.utcfromtimestamp(start_epoch)\n",
      "/g/data/en0/jss548/miniconda3/envs/radar-dev/lib/python3.8/site-packages/sklearn/base.py:329: UserWarning: Trying to unpickle estimator GaussianMixture from version 0.21.3 when using version 0.23.1. This might lead to breaking code or invalid results. Use at your own risk.\n",
      "  warnings.warn(\n"
     ]
    },
    {
     "name": "stdout",
     "output_type": "stream",
     "text": [
      "/g/data/hj10/admin/opol/level_1/in2019_v01/20190124/9776HUB-PPIVol-20190124-005446-0000.hdf\n"
     ]
    },
    {
     "name": "stderr",
     "output_type": "stream",
     "text": [
      "/g/data/en0/jss548/miniconda3/envs/radar-dev/lib/python3.8/site-packages/pyart/aux_io/odim_h5.py:295: DeprecationWarning: an integer is required (got type numpy.float32).  Implicit conversion to integers using __int__ is deprecated, and may be removed in a future version of Python.\n",
      "  start_time = datetime.datetime.utcfromtimestamp(start_epoch)\n",
      "/g/data/en0/jss548/miniconda3/envs/radar-dev/lib/python3.8/site-packages/sklearn/base.py:329: UserWarning: Trying to unpickle estimator GaussianMixture from version 0.21.3 when using version 0.23.1. This might lead to breaking code or invalid results. Use at your own risk.\n",
      "  warnings.warn(\n"
     ]
    },
    {
     "name": "stdout",
     "output_type": "stream",
     "text": [
      "/g/data/hj10/admin/opol/level_1/in2019_v01/20190124/9776HUB-PPIVol-20190124-010018-0000.hdf\n"
     ]
    },
    {
     "name": "stderr",
     "output_type": "stream",
     "text": [
      "/g/data/en0/jss548/miniconda3/envs/radar-dev/lib/python3.8/site-packages/pyart/aux_io/odim_h5.py:295: DeprecationWarning: an integer is required (got type numpy.float32).  Implicit conversion to integers using __int__ is deprecated, and may be removed in a future version of Python.\n",
      "  start_time = datetime.datetime.utcfromtimestamp(start_epoch)\n",
      "/g/data/en0/jss548/miniconda3/envs/radar-dev/lib/python3.8/site-packages/sklearn/base.py:329: UserWarning: Trying to unpickle estimator GaussianMixture from version 0.21.3 when using version 0.23.1. This might lead to breaking code or invalid results. Use at your own risk.\n",
      "  warnings.warn(\n"
     ]
    },
    {
     "name": "stdout",
     "output_type": "stream",
     "text": [
      "/g/data/hj10/admin/opol/level_1/in2019_v01/20190124/9776HUB-PPIVol-20190124-010133-0000.hdf\n"
     ]
    },
    {
     "name": "stderr",
     "output_type": "stream",
     "text": [
      "/g/data/en0/jss548/miniconda3/envs/radar-dev/lib/python3.8/site-packages/pyart/aux_io/odim_h5.py:295: DeprecationWarning: an integer is required (got type numpy.float32).  Implicit conversion to integers using __int__ is deprecated, and may be removed in a future version of Python.\n",
      "  start_time = datetime.datetime.utcfromtimestamp(start_epoch)\n",
      "/g/data/en0/jss548/miniconda3/envs/radar-dev/lib/python3.8/site-packages/sklearn/base.py:329: UserWarning: Trying to unpickle estimator GaussianMixture from version 0.21.3 when using version 0.23.1. This might lead to breaking code or invalid results. Use at your own risk.\n",
      "  warnings.warn(\n"
     ]
    },
    {
     "name": "stdout",
     "output_type": "stream",
     "text": [
      "/g/data/hj10/admin/opol/level_1/in2019_v01/20190124/9776HUB-PPIVol-20190124-010704-0000.hdf\n"
     ]
    },
    {
     "name": "stderr",
     "output_type": "stream",
     "text": [
      "/g/data/en0/jss548/miniconda3/envs/radar-dev/lib/python3.8/site-packages/pyart/aux_io/odim_h5.py:295: DeprecationWarning: an integer is required (got type numpy.float32).  Implicit conversion to integers using __int__ is deprecated, and may be removed in a future version of Python.\n",
      "  start_time = datetime.datetime.utcfromtimestamp(start_epoch)\n",
      "/g/data/en0/jss548/miniconda3/envs/radar-dev/lib/python3.8/site-packages/sklearn/base.py:329: UserWarning: Trying to unpickle estimator GaussianMixture from version 0.21.3 when using version 0.23.1. This might lead to breaking code or invalid results. Use at your own risk.\n",
      "  warnings.warn(\n"
     ]
    },
    {
     "name": "stdout",
     "output_type": "stream",
     "text": [
      "/g/data/hj10/admin/opol/level_1/in2019_v01/20190124/9776HUB-PPIVol-20190124-010819-0000.hdf\n"
     ]
    },
    {
     "name": "stderr",
     "output_type": "stream",
     "text": [
      "/g/data/en0/jss548/miniconda3/envs/radar-dev/lib/python3.8/site-packages/pyart/aux_io/odim_h5.py:295: DeprecationWarning: an integer is required (got type numpy.float32).  Implicit conversion to integers using __int__ is deprecated, and may be removed in a future version of Python.\n",
      "  start_time = datetime.datetime.utcfromtimestamp(start_epoch)\n",
      "/g/data/en0/jss548/miniconda3/envs/radar-dev/lib/python3.8/site-packages/sklearn/base.py:329: UserWarning: Trying to unpickle estimator GaussianMixture from version 0.21.3 when using version 0.23.1. This might lead to breaking code or invalid results. Use at your own risk.\n",
      "  warnings.warn(\n"
     ]
    },
    {
     "name": "stdout",
     "output_type": "stream",
     "text": [
      "/g/data/hj10/admin/opol/level_1/in2019_v01/20190124/9776HUB-PPIVol-20190124-011351-0000.hdf\n"
     ]
    },
    {
     "name": "stderr",
     "output_type": "stream",
     "text": [
      "/g/data/en0/jss548/miniconda3/envs/radar-dev/lib/python3.8/site-packages/pyart/aux_io/odim_h5.py:295: DeprecationWarning: an integer is required (got type numpy.float32).  Implicit conversion to integers using __int__ is deprecated, and may be removed in a future version of Python.\n",
      "  start_time = datetime.datetime.utcfromtimestamp(start_epoch)\n",
      "/g/data/en0/jss548/miniconda3/envs/radar-dev/lib/python3.8/site-packages/sklearn/base.py:329: UserWarning: Trying to unpickle estimator GaussianMixture from version 0.21.3 when using version 0.23.1. This might lead to breaking code or invalid results. Use at your own risk.\n",
      "  warnings.warn(\n"
     ]
    },
    {
     "name": "stdout",
     "output_type": "stream",
     "text": [
      "/g/data/hj10/admin/opol/level_1/in2019_v01/20190124/9776HUB-PPIVol-20190124-011506-0000.hdf\n"
     ]
    },
    {
     "name": "stderr",
     "output_type": "stream",
     "text": [
      "/g/data/en0/jss548/miniconda3/envs/radar-dev/lib/python3.8/site-packages/pyart/aux_io/odim_h5.py:295: DeprecationWarning: an integer is required (got type numpy.float32).  Implicit conversion to integers using __int__ is deprecated, and may be removed in a future version of Python.\n",
      "  start_time = datetime.datetime.utcfromtimestamp(start_epoch)\n",
      "/g/data/en0/jss548/miniconda3/envs/radar-dev/lib/python3.8/site-packages/sklearn/base.py:329: UserWarning: Trying to unpickle estimator GaussianMixture from version 0.21.3 when using version 0.23.1. This might lead to breaking code or invalid results. Use at your own risk.\n",
      "  warnings.warn(\n"
     ]
    },
    {
     "name": "stdout",
     "output_type": "stream",
     "text": [
      "/g/data/hj10/admin/opol/level_1/in2019_v01/20190124/9776HUB-PPIVol-20190124-012037-0000.hdf\n"
     ]
    },
    {
     "name": "stderr",
     "output_type": "stream",
     "text": [
      "/g/data/en0/jss548/miniconda3/envs/radar-dev/lib/python3.8/site-packages/pyart/aux_io/odim_h5.py:295: DeprecationWarning: an integer is required (got type numpy.float32).  Implicit conversion to integers using __int__ is deprecated, and may be removed in a future version of Python.\n",
      "  start_time = datetime.datetime.utcfromtimestamp(start_epoch)\n",
      "/g/data/en0/jss548/miniconda3/envs/radar-dev/lib/python3.8/site-packages/sklearn/base.py:329: UserWarning: Trying to unpickle estimator GaussianMixture from version 0.21.3 when using version 0.23.1. This might lead to breaking code or invalid results. Use at your own risk.\n",
      "  warnings.warn(\n"
     ]
    },
    {
     "name": "stdout",
     "output_type": "stream",
     "text": [
      "/g/data/hj10/admin/opol/level_1/in2019_v01/20190124/9776HUB-PPIVol-20190124-012152-0000.hdf\n"
     ]
    },
    {
     "name": "stderr",
     "output_type": "stream",
     "text": [
      "/g/data/en0/jss548/miniconda3/envs/radar-dev/lib/python3.8/site-packages/pyart/aux_io/odim_h5.py:295: DeprecationWarning: an integer is required (got type numpy.float32).  Implicit conversion to integers using __int__ is deprecated, and may be removed in a future version of Python.\n",
      "  start_time = datetime.datetime.utcfromtimestamp(start_epoch)\n",
      "/g/data/en0/jss548/miniconda3/envs/radar-dev/lib/python3.8/site-packages/sklearn/base.py:329: UserWarning: Trying to unpickle estimator GaussianMixture from version 0.21.3 when using version 0.23.1. This might lead to breaking code or invalid results. Use at your own risk.\n",
      "  warnings.warn(\n"
     ]
    },
    {
     "name": "stdout",
     "output_type": "stream",
     "text": [
      "/g/data/hj10/admin/opol/level_1/in2019_v01/20190124/9776HUB-PPIVol-20190124-012724-0000.hdf\n"
     ]
    },
    {
     "name": "stderr",
     "output_type": "stream",
     "text": [
      "/g/data/en0/jss548/miniconda3/envs/radar-dev/lib/python3.8/site-packages/pyart/aux_io/odim_h5.py:295: DeprecationWarning: an integer is required (got type numpy.float32).  Implicit conversion to integers using __int__ is deprecated, and may be removed in a future version of Python.\n",
      "  start_time = datetime.datetime.utcfromtimestamp(start_epoch)\n",
      "/g/data/en0/jss548/miniconda3/envs/radar-dev/lib/python3.8/site-packages/sklearn/base.py:329: UserWarning: Trying to unpickle estimator GaussianMixture from version 0.21.3 when using version 0.23.1. This might lead to breaking code or invalid results. Use at your own risk.\n",
      "  warnings.warn(\n"
     ]
    },
    {
     "name": "stdout",
     "output_type": "stream",
     "text": [
      "/g/data/hj10/admin/opol/level_1/in2019_v01/20190124/9776HUB-PPIVol-20190124-012838-0000.hdf\n"
     ]
    },
    {
     "name": "stderr",
     "output_type": "stream",
     "text": [
      "/g/data/en0/jss548/miniconda3/envs/radar-dev/lib/python3.8/site-packages/pyart/aux_io/odim_h5.py:295: DeprecationWarning: an integer is required (got type numpy.float32).  Implicit conversion to integers using __int__ is deprecated, and may be removed in a future version of Python.\n",
      "  start_time = datetime.datetime.utcfromtimestamp(start_epoch)\n",
      "/g/data/en0/jss548/miniconda3/envs/radar-dev/lib/python3.8/site-packages/sklearn/base.py:329: UserWarning: Trying to unpickle estimator GaussianMixture from version 0.21.3 when using version 0.23.1. This might lead to breaking code or invalid results. Use at your own risk.\n",
      "  warnings.warn(\n"
     ]
    },
    {
     "name": "stdout",
     "output_type": "stream",
     "text": [
      "/g/data/hj10/admin/opol/level_1/in2019_v01/20190124/9776HUB-PPIVol-20190124-013410-0000.hdf\n"
     ]
    },
    {
     "name": "stderr",
     "output_type": "stream",
     "text": [
      "/g/data/en0/jss548/miniconda3/envs/radar-dev/lib/python3.8/site-packages/pyart/aux_io/odim_h5.py:295: DeprecationWarning: an integer is required (got type numpy.float32).  Implicit conversion to integers using __int__ is deprecated, and may be removed in a future version of Python.\n",
      "  start_time = datetime.datetime.utcfromtimestamp(start_epoch)\n",
      "/g/data/en0/jss548/miniconda3/envs/radar-dev/lib/python3.8/site-packages/sklearn/base.py:329: UserWarning: Trying to unpickle estimator GaussianMixture from version 0.21.3 when using version 0.23.1. This might lead to breaking code or invalid results. Use at your own risk.\n",
      "  warnings.warn(\n"
     ]
    },
    {
     "name": "stdout",
     "output_type": "stream",
     "text": [
      "/g/data/hj10/admin/opol/level_1/in2019_v01/20190124/9776HUB-PPIVol-20190124-013525-0000.hdf\n"
     ]
    },
    {
     "name": "stderr",
     "output_type": "stream",
     "text": [
      "/g/data/en0/jss548/miniconda3/envs/radar-dev/lib/python3.8/site-packages/pyart/aux_io/odim_h5.py:295: DeprecationWarning: an integer is required (got type numpy.float32).  Implicit conversion to integers using __int__ is deprecated, and may be removed in a future version of Python.\n",
      "  start_time = datetime.datetime.utcfromtimestamp(start_epoch)\n",
      "/g/data/en0/jss548/miniconda3/envs/radar-dev/lib/python3.8/site-packages/sklearn/base.py:329: UserWarning: Trying to unpickle estimator GaussianMixture from version 0.21.3 when using version 0.23.1. This might lead to breaking code or invalid results. Use at your own risk.\n",
      "  warnings.warn(\n"
     ]
    },
    {
     "name": "stdout",
     "output_type": "stream",
     "text": [
      "/g/data/hj10/admin/opol/level_1/in2019_v01/20190124/9776HUB-PPIVol-20190124-014057-0000.hdf\n"
     ]
    },
    {
     "name": "stderr",
     "output_type": "stream",
     "text": [
      "/g/data/en0/jss548/miniconda3/envs/radar-dev/lib/python3.8/site-packages/pyart/aux_io/odim_h5.py:295: DeprecationWarning: an integer is required (got type numpy.float32).  Implicit conversion to integers using __int__ is deprecated, and may be removed in a future version of Python.\n",
      "  start_time = datetime.datetime.utcfromtimestamp(start_epoch)\n",
      "/g/data/en0/jss548/miniconda3/envs/radar-dev/lib/python3.8/site-packages/sklearn/base.py:329: UserWarning: Trying to unpickle estimator GaussianMixture from version 0.21.3 when using version 0.23.1. This might lead to breaking code or invalid results. Use at your own risk.\n",
      "  warnings.warn(\n"
     ]
    },
    {
     "name": "stdout",
     "output_type": "stream",
     "text": [
      "/g/data/hj10/admin/opol/level_1/in2019_v01/20190124/9776HUB-PPIVol-20190124-014211-0000.hdf\n"
     ]
    },
    {
     "name": "stderr",
     "output_type": "stream",
     "text": [
      "/g/data/en0/jss548/miniconda3/envs/radar-dev/lib/python3.8/site-packages/pyart/aux_io/odim_h5.py:295: DeprecationWarning: an integer is required (got type numpy.float32).  Implicit conversion to integers using __int__ is deprecated, and may be removed in a future version of Python.\n",
      "  start_time = datetime.datetime.utcfromtimestamp(start_epoch)\n",
      "/g/data/en0/jss548/miniconda3/envs/radar-dev/lib/python3.8/site-packages/sklearn/base.py:329: UserWarning: Trying to unpickle estimator GaussianMixture from version 0.21.3 when using version 0.23.1. This might lead to breaking code or invalid results. Use at your own risk.\n",
      "  warnings.warn(\n"
     ]
    },
    {
     "name": "stdout",
     "output_type": "stream",
     "text": [
      "/g/data/hj10/admin/opol/level_1/in2019_v01/20190124/9776HUB-PPIVol-20190124-014743-0000.hdf\n"
     ]
    },
    {
     "name": "stderr",
     "output_type": "stream",
     "text": [
      "/g/data/en0/jss548/miniconda3/envs/radar-dev/lib/python3.8/site-packages/pyart/aux_io/odim_h5.py:295: DeprecationWarning: an integer is required (got type numpy.float32).  Implicit conversion to integers using __int__ is deprecated, and may be removed in a future version of Python.\n",
      "  start_time = datetime.datetime.utcfromtimestamp(start_epoch)\n",
      "/g/data/en0/jss548/miniconda3/envs/radar-dev/lib/python3.8/site-packages/sklearn/base.py:329: UserWarning: Trying to unpickle estimator GaussianMixture from version 0.21.3 when using version 0.23.1. This might lead to breaking code or invalid results. Use at your own risk.\n",
      "  warnings.warn(\n"
     ]
    },
    {
     "name": "stdout",
     "output_type": "stream",
     "text": [
      "/g/data/hj10/admin/opol/level_1/in2019_v01/20190124/9776HUB-PPIVol-20190124-014858-0000.hdf\n"
     ]
    },
    {
     "name": "stderr",
     "output_type": "stream",
     "text": [
      "/g/data/en0/jss548/miniconda3/envs/radar-dev/lib/python3.8/site-packages/pyart/aux_io/odim_h5.py:295: DeprecationWarning: an integer is required (got type numpy.float32).  Implicit conversion to integers using __int__ is deprecated, and may be removed in a future version of Python.\n",
      "  start_time = datetime.datetime.utcfromtimestamp(start_epoch)\n",
      "/g/data/en0/jss548/miniconda3/envs/radar-dev/lib/python3.8/site-packages/sklearn/base.py:329: UserWarning: Trying to unpickle estimator GaussianMixture from version 0.21.3 when using version 0.23.1. This might lead to breaking code or invalid results. Use at your own risk.\n",
      "  warnings.warn(\n"
     ]
    },
    {
     "name": "stdout",
     "output_type": "stream",
     "text": [
      "/g/data/hj10/admin/opol/level_1/in2019_v01/20190124/9776HUB-PPIVol-20190124-015430-0000.hdf\n"
     ]
    },
    {
     "name": "stderr",
     "output_type": "stream",
     "text": [
      "/g/data/en0/jss548/miniconda3/envs/radar-dev/lib/python3.8/site-packages/pyart/aux_io/odim_h5.py:295: DeprecationWarning: an integer is required (got type numpy.float32).  Implicit conversion to integers using __int__ is deprecated, and may be removed in a future version of Python.\n",
      "  start_time = datetime.datetime.utcfromtimestamp(start_epoch)\n",
      "/g/data/en0/jss548/miniconda3/envs/radar-dev/lib/python3.8/site-packages/sklearn/base.py:329: UserWarning: Trying to unpickle estimator GaussianMixture from version 0.21.3 when using version 0.23.1. This might lead to breaking code or invalid results. Use at your own risk.\n",
      "  warnings.warn(\n"
     ]
    },
    {
     "name": "stdout",
     "output_type": "stream",
     "text": [
      "/g/data/hj10/admin/opol/level_1/in2019_v01/20190124/9776HUB-PPIVol-20190124-015544-0000.hdf\n"
     ]
    },
    {
     "name": "stderr",
     "output_type": "stream",
     "text": [
      "/g/data/en0/jss548/miniconda3/envs/radar-dev/lib/python3.8/site-packages/pyart/aux_io/odim_h5.py:295: DeprecationWarning: an integer is required (got type numpy.float32).  Implicit conversion to integers using __int__ is deprecated, and may be removed in a future version of Python.\n",
      "  start_time = datetime.datetime.utcfromtimestamp(start_epoch)\n",
      "/g/data/en0/jss548/miniconda3/envs/radar-dev/lib/python3.8/site-packages/sklearn/base.py:329: UserWarning: Trying to unpickle estimator GaussianMixture from version 0.21.3 when using version 0.23.1. This might lead to breaking code or invalid results. Use at your own risk.\n",
      "  warnings.warn(\n"
     ]
    },
    {
     "name": "stdout",
     "output_type": "stream",
     "text": [
      "/g/data/hj10/admin/opol/level_1/in2019_v01/20190124/9776HUB-PPIVol-20190124-020116-0000.hdf\n"
     ]
    },
    {
     "name": "stderr",
     "output_type": "stream",
     "text": [
      "/g/data/en0/jss548/miniconda3/envs/radar-dev/lib/python3.8/site-packages/pyart/aux_io/odim_h5.py:295: DeprecationWarning: an integer is required (got type numpy.float32).  Implicit conversion to integers using __int__ is deprecated, and may be removed in a future version of Python.\n",
      "  start_time = datetime.datetime.utcfromtimestamp(start_epoch)\n",
      "/g/data/en0/jss548/miniconda3/envs/radar-dev/lib/python3.8/site-packages/sklearn/base.py:329: UserWarning: Trying to unpickle estimator GaussianMixture from version 0.21.3 when using version 0.23.1. This might lead to breaking code or invalid results. Use at your own risk.\n",
      "  warnings.warn(\n"
     ]
    },
    {
     "name": "stdout",
     "output_type": "stream",
     "text": [
      "/g/data/hj10/admin/opol/level_1/in2019_v01/20190124/9776HUB-PPIVol-20190124-020231-0000.hdf\n"
     ]
    },
    {
     "name": "stderr",
     "output_type": "stream",
     "text": [
      "/g/data/en0/jss548/miniconda3/envs/radar-dev/lib/python3.8/site-packages/pyart/aux_io/odim_h5.py:295: DeprecationWarning: an integer is required (got type numpy.float32).  Implicit conversion to integers using __int__ is deprecated, and may be removed in a future version of Python.\n",
      "  start_time = datetime.datetime.utcfromtimestamp(start_epoch)\n",
      "/g/data/en0/jss548/miniconda3/envs/radar-dev/lib/python3.8/site-packages/sklearn/base.py:329: UserWarning: Trying to unpickle estimator GaussianMixture from version 0.21.3 when using version 0.23.1. This might lead to breaking code or invalid results. Use at your own risk.\n",
      "  warnings.warn(\n"
     ]
    },
    {
     "name": "stdout",
     "output_type": "stream",
     "text": [
      "/g/data/hj10/admin/opol/level_1/in2019_v01/20190124/9776HUB-PPIVol-20190124-020803-0000.hdf\n"
     ]
    },
    {
     "name": "stderr",
     "output_type": "stream",
     "text": [
      "/g/data/en0/jss548/miniconda3/envs/radar-dev/lib/python3.8/site-packages/pyart/aux_io/odim_h5.py:295: DeprecationWarning: an integer is required (got type numpy.float32).  Implicit conversion to integers using __int__ is deprecated, and may be removed in a future version of Python.\n",
      "  start_time = datetime.datetime.utcfromtimestamp(start_epoch)\n",
      "/g/data/en0/jss548/miniconda3/envs/radar-dev/lib/python3.8/site-packages/sklearn/base.py:329: UserWarning: Trying to unpickle estimator GaussianMixture from version 0.21.3 when using version 0.23.1. This might lead to breaking code or invalid results. Use at your own risk.\n",
      "  warnings.warn(\n"
     ]
    },
    {
     "name": "stdout",
     "output_type": "stream",
     "text": [
      "/g/data/hj10/admin/opol/level_1/in2019_v01/20190124/9776HUB-PPIVol-20190124-020917-0000.hdf\n"
     ]
    },
    {
     "name": "stderr",
     "output_type": "stream",
     "text": [
      "/g/data/en0/jss548/miniconda3/envs/radar-dev/lib/python3.8/site-packages/pyart/aux_io/odim_h5.py:295: DeprecationWarning: an integer is required (got type numpy.float32).  Implicit conversion to integers using __int__ is deprecated, and may be removed in a future version of Python.\n",
      "  start_time = datetime.datetime.utcfromtimestamp(start_epoch)\n",
      "/g/data/en0/jss548/miniconda3/envs/radar-dev/lib/python3.8/site-packages/sklearn/base.py:329: UserWarning: Trying to unpickle estimator GaussianMixture from version 0.21.3 when using version 0.23.1. This might lead to breaking code or invalid results. Use at your own risk.\n",
      "  warnings.warn(\n"
     ]
    },
    {
     "name": "stdout",
     "output_type": "stream",
     "text": [
      "/g/data/hj10/admin/opol/level_1/in2019_v01/20190124/9776HUB-PPIVol-20190124-021449-0000.hdf\n"
     ]
    },
    {
     "name": "stderr",
     "output_type": "stream",
     "text": [
      "/g/data/en0/jss548/miniconda3/envs/radar-dev/lib/python3.8/site-packages/pyart/aux_io/odim_h5.py:295: DeprecationWarning: an integer is required (got type numpy.float32).  Implicit conversion to integers using __int__ is deprecated, and may be removed in a future version of Python.\n",
      "  start_time = datetime.datetime.utcfromtimestamp(start_epoch)\n",
      "/g/data/en0/jss548/miniconda3/envs/radar-dev/lib/python3.8/site-packages/sklearn/base.py:329: UserWarning: Trying to unpickle estimator GaussianMixture from version 0.21.3 when using version 0.23.1. This might lead to breaking code or invalid results. Use at your own risk.\n",
      "  warnings.warn(\n"
     ]
    },
    {
     "name": "stdout",
     "output_type": "stream",
     "text": [
      "/g/data/hj10/admin/opol/level_1/in2019_v01/20190124/9776HUB-PPIVol-20190124-021604-0000.hdf\n"
     ]
    },
    {
     "name": "stderr",
     "output_type": "stream",
     "text": [
      "/g/data/en0/jss548/miniconda3/envs/radar-dev/lib/python3.8/site-packages/pyart/aux_io/odim_h5.py:295: DeprecationWarning: an integer is required (got type numpy.float32).  Implicit conversion to integers using __int__ is deprecated, and may be removed in a future version of Python.\n",
      "  start_time = datetime.datetime.utcfromtimestamp(start_epoch)\n",
      "/g/data/en0/jss548/miniconda3/envs/radar-dev/lib/python3.8/site-packages/sklearn/base.py:329: UserWarning: Trying to unpickle estimator GaussianMixture from version 0.21.3 when using version 0.23.1. This might lead to breaking code or invalid results. Use at your own risk.\n",
      "  warnings.warn(\n"
     ]
    },
    {
     "name": "stdout",
     "output_type": "stream",
     "text": [
      "/g/data/hj10/admin/opol/level_1/in2019_v01/20190124/9776HUB-PPIVol-20190124-022135-0000.hdf\n"
     ]
    },
    {
     "name": "stderr",
     "output_type": "stream",
     "text": [
      "/g/data/en0/jss548/miniconda3/envs/radar-dev/lib/python3.8/site-packages/pyart/aux_io/odim_h5.py:295: DeprecationWarning: an integer is required (got type numpy.float32).  Implicit conversion to integers using __int__ is deprecated, and may be removed in a future version of Python.\n",
      "  start_time = datetime.datetime.utcfromtimestamp(start_epoch)\n",
      "/g/data/en0/jss548/miniconda3/envs/radar-dev/lib/python3.8/site-packages/sklearn/base.py:329: UserWarning: Trying to unpickle estimator GaussianMixture from version 0.21.3 when using version 0.23.1. This might lead to breaking code or invalid results. Use at your own risk.\n",
      "  warnings.warn(\n"
     ]
    },
    {
     "name": "stdout",
     "output_type": "stream",
     "text": [
      "/g/data/hj10/admin/opol/level_1/in2019_v01/20190124/9776HUB-PPIVol-20190124-022250-0000.hdf\n"
     ]
    },
    {
     "name": "stderr",
     "output_type": "stream",
     "text": [
      "/g/data/en0/jss548/miniconda3/envs/radar-dev/lib/python3.8/site-packages/pyart/aux_io/odim_h5.py:295: DeprecationWarning: an integer is required (got type numpy.float32).  Implicit conversion to integers using __int__ is deprecated, and may be removed in a future version of Python.\n",
      "  start_time = datetime.datetime.utcfromtimestamp(start_epoch)\n",
      "/g/data/en0/jss548/miniconda3/envs/radar-dev/lib/python3.8/site-packages/sklearn/base.py:329: UserWarning: Trying to unpickle estimator GaussianMixture from version 0.21.3 when using version 0.23.1. This might lead to breaking code or invalid results. Use at your own risk.\n",
      "  warnings.warn(\n"
     ]
    },
    {
     "name": "stdout",
     "output_type": "stream",
     "text": [
      "/g/data/hj10/admin/opol/level_1/in2019_v01/20190124/9776HUB-PPIVol-20190124-022822-0000.hdf\n"
     ]
    },
    {
     "name": "stderr",
     "output_type": "stream",
     "text": [
      "/g/data/en0/jss548/miniconda3/envs/radar-dev/lib/python3.8/site-packages/pyart/aux_io/odim_h5.py:295: DeprecationWarning: an integer is required (got type numpy.float32).  Implicit conversion to integers using __int__ is deprecated, and may be removed in a future version of Python.\n",
      "  start_time = datetime.datetime.utcfromtimestamp(start_epoch)\n",
      "/g/data/en0/jss548/miniconda3/envs/radar-dev/lib/python3.8/site-packages/sklearn/base.py:329: UserWarning: Trying to unpickle estimator GaussianMixture from version 0.21.3 when using version 0.23.1. This might lead to breaking code or invalid results. Use at your own risk.\n",
      "  warnings.warn(\n"
     ]
    },
    {
     "name": "stdout",
     "output_type": "stream",
     "text": [
      "/g/data/hj10/admin/opol/level_1/in2019_v01/20190124/9776HUB-PPIVol-20190124-022937-0000.hdf\n"
     ]
    },
    {
     "name": "stderr",
     "output_type": "stream",
     "text": [
      "/g/data/en0/jss548/miniconda3/envs/radar-dev/lib/python3.8/site-packages/pyart/aux_io/odim_h5.py:295: DeprecationWarning: an integer is required (got type numpy.float32).  Implicit conversion to integers using __int__ is deprecated, and may be removed in a future version of Python.\n",
      "  start_time = datetime.datetime.utcfromtimestamp(start_epoch)\n",
      "/g/data/en0/jss548/miniconda3/envs/radar-dev/lib/python3.8/site-packages/sklearn/base.py:329: UserWarning: Trying to unpickle estimator GaussianMixture from version 0.21.3 when using version 0.23.1. This might lead to breaking code or invalid results. Use at your own risk.\n",
      "  warnings.warn(\n"
     ]
    },
    {
     "name": "stdout",
     "output_type": "stream",
     "text": [
      "/g/data/hj10/admin/opol/level_1/in2019_v01/20190124/9776HUB-PPIVol-20190124-023508-0000.hdf\n"
     ]
    },
    {
     "name": "stderr",
     "output_type": "stream",
     "text": [
      "/g/data/en0/jss548/miniconda3/envs/radar-dev/lib/python3.8/site-packages/pyart/aux_io/odim_h5.py:295: DeprecationWarning: an integer is required (got type numpy.float32).  Implicit conversion to integers using __int__ is deprecated, and may be removed in a future version of Python.\n",
      "  start_time = datetime.datetime.utcfromtimestamp(start_epoch)\n",
      "/g/data/en0/jss548/miniconda3/envs/radar-dev/lib/python3.8/site-packages/sklearn/base.py:329: UserWarning: Trying to unpickle estimator GaussianMixture from version 0.21.3 when using version 0.23.1. This might lead to breaking code or invalid results. Use at your own risk.\n",
      "  warnings.warn(\n"
     ]
    },
    {
     "name": "stdout",
     "output_type": "stream",
     "text": [
      "/g/data/hj10/admin/opol/level_1/in2019_v01/20190124/9776HUB-PPIVol-20190124-023623-0000.hdf\n"
     ]
    },
    {
     "name": "stderr",
     "output_type": "stream",
     "text": [
      "/g/data/en0/jss548/miniconda3/envs/radar-dev/lib/python3.8/site-packages/pyart/aux_io/odim_h5.py:295: DeprecationWarning: an integer is required (got type numpy.float32).  Implicit conversion to integers using __int__ is deprecated, and may be removed in a future version of Python.\n",
      "  start_time = datetime.datetime.utcfromtimestamp(start_epoch)\n",
      "/g/data/en0/jss548/miniconda3/envs/radar-dev/lib/python3.8/site-packages/sklearn/base.py:329: UserWarning: Trying to unpickle estimator GaussianMixture from version 0.21.3 when using version 0.23.1. This might lead to breaking code or invalid results. Use at your own risk.\n",
      "  warnings.warn(\n"
     ]
    },
    {
     "name": "stdout",
     "output_type": "stream",
     "text": [
      "/g/data/hj10/admin/opol/level_1/in2019_v01/20190124/9776HUB-PPIVol-20190124-024155-0000.hdf\n"
     ]
    },
    {
     "name": "stderr",
     "output_type": "stream",
     "text": [
      "/g/data/en0/jss548/miniconda3/envs/radar-dev/lib/python3.8/site-packages/pyart/aux_io/odim_h5.py:295: DeprecationWarning: an integer is required (got type numpy.float32).  Implicit conversion to integers using __int__ is deprecated, and may be removed in a future version of Python.\n",
      "  start_time = datetime.datetime.utcfromtimestamp(start_epoch)\n",
      "/g/data/en0/jss548/miniconda3/envs/radar-dev/lib/python3.8/site-packages/sklearn/base.py:329: UserWarning: Trying to unpickle estimator GaussianMixture from version 0.21.3 when using version 0.23.1. This might lead to breaking code or invalid results. Use at your own risk.\n",
      "  warnings.warn(\n"
     ]
    },
    {
     "name": "stdout",
     "output_type": "stream",
     "text": [
      "/g/data/hj10/admin/opol/level_1/in2019_v01/20190124/9776HUB-PPIVol-20190124-024309-0000.hdf\n"
     ]
    },
    {
     "name": "stderr",
     "output_type": "stream",
     "text": [
      "/g/data/en0/jss548/miniconda3/envs/radar-dev/lib/python3.8/site-packages/pyart/aux_io/odim_h5.py:295: DeprecationWarning: an integer is required (got type numpy.float32).  Implicit conversion to integers using __int__ is deprecated, and may be removed in a future version of Python.\n",
      "  start_time = datetime.datetime.utcfromtimestamp(start_epoch)\n",
      "/g/data/en0/jss548/miniconda3/envs/radar-dev/lib/python3.8/site-packages/sklearn/base.py:329: UserWarning: Trying to unpickle estimator GaussianMixture from version 0.21.3 when using version 0.23.1. This might lead to breaking code or invalid results. Use at your own risk.\n",
      "  warnings.warn(\n"
     ]
    },
    {
     "name": "stdout",
     "output_type": "stream",
     "text": [
      "/g/data/hj10/admin/opol/level_1/in2019_v01/20190124/9776HUB-PPIVol-20190124-024841-0000.hdf\n"
     ]
    },
    {
     "name": "stderr",
     "output_type": "stream",
     "text": [
      "/g/data/en0/jss548/miniconda3/envs/radar-dev/lib/python3.8/site-packages/pyart/aux_io/odim_h5.py:295: DeprecationWarning: an integer is required (got type numpy.float32).  Implicit conversion to integers using __int__ is deprecated, and may be removed in a future version of Python.\n",
      "  start_time = datetime.datetime.utcfromtimestamp(start_epoch)\n",
      "/g/data/en0/jss548/miniconda3/envs/radar-dev/lib/python3.8/site-packages/sklearn/base.py:329: UserWarning: Trying to unpickle estimator GaussianMixture from version 0.21.3 when using version 0.23.1. This might lead to breaking code or invalid results. Use at your own risk.\n",
      "  warnings.warn(\n"
     ]
    },
    {
     "name": "stdout",
     "output_type": "stream",
     "text": [
      "/g/data/hj10/admin/opol/level_1/in2019_v01/20190124/9776HUB-PPIVol-20190124-024956-0000.hdf\n"
     ]
    },
    {
     "name": "stderr",
     "output_type": "stream",
     "text": [
      "/g/data/en0/jss548/miniconda3/envs/radar-dev/lib/python3.8/site-packages/pyart/aux_io/odim_h5.py:295: DeprecationWarning: an integer is required (got type numpy.float32).  Implicit conversion to integers using __int__ is deprecated, and may be removed in a future version of Python.\n",
      "  start_time = datetime.datetime.utcfromtimestamp(start_epoch)\n",
      "/g/data/en0/jss548/miniconda3/envs/radar-dev/lib/python3.8/site-packages/sklearn/base.py:329: UserWarning: Trying to unpickle estimator GaussianMixture from version 0.21.3 when using version 0.23.1. This might lead to breaking code or invalid results. Use at your own risk.\n",
      "  warnings.warn(\n"
     ]
    },
    {
     "name": "stdout",
     "output_type": "stream",
     "text": [
      "/g/data/hj10/admin/opol/level_1/in2019_v01/20190124/9776HUB-PPIVol-20190124-025528-0000.hdf\n"
     ]
    },
    {
     "name": "stderr",
     "output_type": "stream",
     "text": [
      "/g/data/en0/jss548/miniconda3/envs/radar-dev/lib/python3.8/site-packages/pyart/aux_io/odim_h5.py:295: DeprecationWarning: an integer is required (got type numpy.float32).  Implicit conversion to integers using __int__ is deprecated, and may be removed in a future version of Python.\n",
      "  start_time = datetime.datetime.utcfromtimestamp(start_epoch)\n",
      "/g/data/en0/jss548/miniconda3/envs/radar-dev/lib/python3.8/site-packages/sklearn/base.py:329: UserWarning: Trying to unpickle estimator GaussianMixture from version 0.21.3 when using version 0.23.1. This might lead to breaking code or invalid results. Use at your own risk.\n",
      "  warnings.warn(\n"
     ]
    },
    {
     "name": "stdout",
     "output_type": "stream",
     "text": [
      "/g/data/hj10/admin/opol/level_1/in2019_v01/20190124/9776HUB-PPIVol-20190124-025642-0000.hdf\n"
     ]
    },
    {
     "name": "stderr",
     "output_type": "stream",
     "text": [
      "/g/data/en0/jss548/miniconda3/envs/radar-dev/lib/python3.8/site-packages/pyart/aux_io/odim_h5.py:295: DeprecationWarning: an integer is required (got type numpy.float32).  Implicit conversion to integers using __int__ is deprecated, and may be removed in a future version of Python.\n",
      "  start_time = datetime.datetime.utcfromtimestamp(start_epoch)\n",
      "/g/data/en0/jss548/miniconda3/envs/radar-dev/lib/python3.8/site-packages/sklearn/base.py:329: UserWarning: Trying to unpickle estimator GaussianMixture from version 0.21.3 when using version 0.23.1. This might lead to breaking code or invalid results. Use at your own risk.\n",
      "  warnings.warn(\n"
     ]
    },
    {
     "name": "stdout",
     "output_type": "stream",
     "text": [
      "/g/data/hj10/admin/opol/level_1/in2019_v01/20190124/9776HUB-PPIVol-20190124-030214-0000.hdf\n"
     ]
    },
    {
     "name": "stderr",
     "output_type": "stream",
     "text": [
      "/g/data/en0/jss548/miniconda3/envs/radar-dev/lib/python3.8/site-packages/pyart/aux_io/odim_h5.py:295: DeprecationWarning: an integer is required (got type numpy.float32).  Implicit conversion to integers using __int__ is deprecated, and may be removed in a future version of Python.\n",
      "  start_time = datetime.datetime.utcfromtimestamp(start_epoch)\n",
      "/g/data/en0/jss548/miniconda3/envs/radar-dev/lib/python3.8/site-packages/sklearn/base.py:329: UserWarning: Trying to unpickle estimator GaussianMixture from version 0.21.3 when using version 0.23.1. This might lead to breaking code or invalid results. Use at your own risk.\n",
      "  warnings.warn(\n"
     ]
    },
    {
     "name": "stdout",
     "output_type": "stream",
     "text": [
      "/g/data/hj10/admin/opol/level_1/in2019_v01/20190124/9776HUB-PPIVol-20190124-030329-0000.hdf\n"
     ]
    },
    {
     "name": "stderr",
     "output_type": "stream",
     "text": [
      "/g/data/en0/jss548/miniconda3/envs/radar-dev/lib/python3.8/site-packages/pyart/aux_io/odim_h5.py:295: DeprecationWarning: an integer is required (got type numpy.float32).  Implicit conversion to integers using __int__ is deprecated, and may be removed in a future version of Python.\n",
      "  start_time = datetime.datetime.utcfromtimestamp(start_epoch)\n",
      "/g/data/en0/jss548/miniconda3/envs/radar-dev/lib/python3.8/site-packages/sklearn/base.py:329: UserWarning: Trying to unpickle estimator GaussianMixture from version 0.21.3 when using version 0.23.1. This might lead to breaking code or invalid results. Use at your own risk.\n",
      "  warnings.warn(\n"
     ]
    },
    {
     "name": "stdout",
     "output_type": "stream",
     "text": [
      "/g/data/hj10/admin/opol/level_1/in2019_v01/20190124/9776HUB-PPIVol-20190124-030901-0000.hdf\n"
     ]
    },
    {
     "name": "stderr",
     "output_type": "stream",
     "text": [
      "/g/data/en0/jss548/miniconda3/envs/radar-dev/lib/python3.8/site-packages/pyart/aux_io/odim_h5.py:295: DeprecationWarning: an integer is required (got type numpy.float32).  Implicit conversion to integers using __int__ is deprecated, and may be removed in a future version of Python.\n",
      "  start_time = datetime.datetime.utcfromtimestamp(start_epoch)\n",
      "/g/data/en0/jss548/miniconda3/envs/radar-dev/lib/python3.8/site-packages/sklearn/base.py:329: UserWarning: Trying to unpickle estimator GaussianMixture from version 0.21.3 when using version 0.23.1. This might lead to breaking code or invalid results. Use at your own risk.\n",
      "  warnings.warn(\n"
     ]
    },
    {
     "name": "stdout",
     "output_type": "stream",
     "text": [
      "/g/data/hj10/admin/opol/level_1/in2019_v01/20190124/9776HUB-PPIVol-20190124-031015-0000.hdf\n"
     ]
    },
    {
     "name": "stderr",
     "output_type": "stream",
     "text": [
      "/g/data/en0/jss548/miniconda3/envs/radar-dev/lib/python3.8/site-packages/pyart/aux_io/odim_h5.py:295: DeprecationWarning: an integer is required (got type numpy.float32).  Implicit conversion to integers using __int__ is deprecated, and may be removed in a future version of Python.\n",
      "  start_time = datetime.datetime.utcfromtimestamp(start_epoch)\n",
      "/g/data/en0/jss548/miniconda3/envs/radar-dev/lib/python3.8/site-packages/sklearn/base.py:329: UserWarning: Trying to unpickle estimator GaussianMixture from version 0.21.3 when using version 0.23.1. This might lead to breaking code or invalid results. Use at your own risk.\n",
      "  warnings.warn(\n"
     ]
    },
    {
     "name": "stdout",
     "output_type": "stream",
     "text": [
      "/g/data/hj10/admin/opol/level_1/in2019_v01/20190124/9776HUB-PPIVol-20190124-031547-0000.hdf\n"
     ]
    },
    {
     "name": "stderr",
     "output_type": "stream",
     "text": [
      "/g/data/en0/jss548/miniconda3/envs/radar-dev/lib/python3.8/site-packages/pyart/aux_io/odim_h5.py:295: DeprecationWarning: an integer is required (got type numpy.float32).  Implicit conversion to integers using __int__ is deprecated, and may be removed in a future version of Python.\n",
      "  start_time = datetime.datetime.utcfromtimestamp(start_epoch)\n",
      "/g/data/en0/jss548/miniconda3/envs/radar-dev/lib/python3.8/site-packages/sklearn/base.py:329: UserWarning: Trying to unpickle estimator GaussianMixture from version 0.21.3 when using version 0.23.1. This might lead to breaking code or invalid results. Use at your own risk.\n",
      "  warnings.warn(\n"
     ]
    },
    {
     "name": "stdout",
     "output_type": "stream",
     "text": [
      "/g/data/hj10/admin/opol/level_1/in2019_v01/20190124/9776HUB-PPIVol-20190124-031702-0000.hdf\n"
     ]
    },
    {
     "name": "stderr",
     "output_type": "stream",
     "text": [
      "/g/data/en0/jss548/miniconda3/envs/radar-dev/lib/python3.8/site-packages/pyart/aux_io/odim_h5.py:295: DeprecationWarning: an integer is required (got type numpy.float32).  Implicit conversion to integers using __int__ is deprecated, and may be removed in a future version of Python.\n",
      "  start_time = datetime.datetime.utcfromtimestamp(start_epoch)\n",
      "/g/data/en0/jss548/miniconda3/envs/radar-dev/lib/python3.8/site-packages/sklearn/base.py:329: UserWarning: Trying to unpickle estimator GaussianMixture from version 0.21.3 when using version 0.23.1. This might lead to breaking code or invalid results. Use at your own risk.\n",
      "  warnings.warn(\n"
     ]
    },
    {
     "name": "stdout",
     "output_type": "stream",
     "text": [
      "/g/data/hj10/admin/opol/level_1/in2019_v01/20190124/9776HUB-PPIVol-20190124-032233-0000.hdf\n"
     ]
    },
    {
     "name": "stderr",
     "output_type": "stream",
     "text": [
      "/g/data/en0/jss548/miniconda3/envs/radar-dev/lib/python3.8/site-packages/pyart/aux_io/odim_h5.py:295: DeprecationWarning: an integer is required (got type numpy.float32).  Implicit conversion to integers using __int__ is deprecated, and may be removed in a future version of Python.\n",
      "  start_time = datetime.datetime.utcfromtimestamp(start_epoch)\n",
      "/g/data/en0/jss548/miniconda3/envs/radar-dev/lib/python3.8/site-packages/sklearn/base.py:329: UserWarning: Trying to unpickle estimator GaussianMixture from version 0.21.3 when using version 0.23.1. This might lead to breaking code or invalid results. Use at your own risk.\n",
      "  warnings.warn(\n"
     ]
    },
    {
     "name": "stdout",
     "output_type": "stream",
     "text": [
      "/g/data/hj10/admin/opol/level_1/in2019_v01/20190124/9776HUB-PPIVol-20190124-032348-0000.hdf\n"
     ]
    },
    {
     "name": "stderr",
     "output_type": "stream",
     "text": [
      "/g/data/en0/jss548/miniconda3/envs/radar-dev/lib/python3.8/site-packages/pyart/aux_io/odim_h5.py:295: DeprecationWarning: an integer is required (got type numpy.float32).  Implicit conversion to integers using __int__ is deprecated, and may be removed in a future version of Python.\n",
      "  start_time = datetime.datetime.utcfromtimestamp(start_epoch)\n",
      "/g/data/en0/jss548/miniconda3/envs/radar-dev/lib/python3.8/site-packages/sklearn/base.py:329: UserWarning: Trying to unpickle estimator GaussianMixture from version 0.21.3 when using version 0.23.1. This might lead to breaking code or invalid results. Use at your own risk.\n",
      "  warnings.warn(\n"
     ]
    },
    {
     "name": "stdout",
     "output_type": "stream",
     "text": [
      "/g/data/hj10/admin/opol/level_1/in2019_v01/20190124/9776HUB-PPIVol-20190124-032920-0000.hdf\n"
     ]
    },
    {
     "name": "stderr",
     "output_type": "stream",
     "text": [
      "/g/data/en0/jss548/miniconda3/envs/radar-dev/lib/python3.8/site-packages/pyart/aux_io/odim_h5.py:295: DeprecationWarning: an integer is required (got type numpy.float32).  Implicit conversion to integers using __int__ is deprecated, and may be removed in a future version of Python.\n",
      "  start_time = datetime.datetime.utcfromtimestamp(start_epoch)\n",
      "/g/data/en0/jss548/miniconda3/envs/radar-dev/lib/python3.8/site-packages/sklearn/base.py:329: UserWarning: Trying to unpickle estimator GaussianMixture from version 0.21.3 when using version 0.23.1. This might lead to breaking code or invalid results. Use at your own risk.\n",
      "  warnings.warn(\n"
     ]
    },
    {
     "name": "stdout",
     "output_type": "stream",
     "text": [
      "/g/data/hj10/admin/opol/level_1/in2019_v01/20190124/9776HUB-PPIVol-20190124-033035-0000.hdf\n"
     ]
    },
    {
     "name": "stderr",
     "output_type": "stream",
     "text": [
      "/g/data/en0/jss548/miniconda3/envs/radar-dev/lib/python3.8/site-packages/pyart/aux_io/odim_h5.py:295: DeprecationWarning: an integer is required (got type numpy.float32).  Implicit conversion to integers using __int__ is deprecated, and may be removed in a future version of Python.\n",
      "  start_time = datetime.datetime.utcfromtimestamp(start_epoch)\n",
      "/g/data/en0/jss548/miniconda3/envs/radar-dev/lib/python3.8/site-packages/sklearn/base.py:329: UserWarning: Trying to unpickle estimator GaussianMixture from version 0.21.3 when using version 0.23.1. This might lead to breaking code or invalid results. Use at your own risk.\n",
      "  warnings.warn(\n"
     ]
    },
    {
     "name": "stdout",
     "output_type": "stream",
     "text": [
      "/g/data/hj10/admin/opol/level_1/in2019_v01/20190124/9776HUB-PPIVol-20190124-033607-0000.hdf\n"
     ]
    },
    {
     "name": "stderr",
     "output_type": "stream",
     "text": [
      "/g/data/en0/jss548/miniconda3/envs/radar-dev/lib/python3.8/site-packages/pyart/aux_io/odim_h5.py:295: DeprecationWarning: an integer is required (got type numpy.float32).  Implicit conversion to integers using __int__ is deprecated, and may be removed in a future version of Python.\n",
      "  start_time = datetime.datetime.utcfromtimestamp(start_epoch)\n",
      "/g/data/en0/jss548/miniconda3/envs/radar-dev/lib/python3.8/site-packages/sklearn/base.py:329: UserWarning: Trying to unpickle estimator GaussianMixture from version 0.21.3 when using version 0.23.1. This might lead to breaking code or invalid results. Use at your own risk.\n",
      "  warnings.warn(\n"
     ]
    },
    {
     "name": "stdout",
     "output_type": "stream",
     "text": [
      "/g/data/hj10/admin/opol/level_1/in2019_v01/20190124/9776HUB-PPIVol-20190124-033721-0000.hdf\n"
     ]
    },
    {
     "name": "stderr",
     "output_type": "stream",
     "text": [
      "/g/data/en0/jss548/miniconda3/envs/radar-dev/lib/python3.8/site-packages/pyart/aux_io/odim_h5.py:295: DeprecationWarning: an integer is required (got type numpy.float32).  Implicit conversion to integers using __int__ is deprecated, and may be removed in a future version of Python.\n",
      "  start_time = datetime.datetime.utcfromtimestamp(start_epoch)\n",
      "/g/data/en0/jss548/miniconda3/envs/radar-dev/lib/python3.8/site-packages/sklearn/base.py:329: UserWarning: Trying to unpickle estimator GaussianMixture from version 0.21.3 when using version 0.23.1. This might lead to breaking code or invalid results. Use at your own risk.\n",
      "  warnings.warn(\n"
     ]
    },
    {
     "name": "stdout",
     "output_type": "stream",
     "text": [
      "/g/data/hj10/admin/opol/level_1/in2019_v01/20190124/9776HUB-PPIVol-20190124-034253-0000.hdf\n"
     ]
    },
    {
     "name": "stderr",
     "output_type": "stream",
     "text": [
      "/g/data/en0/jss548/miniconda3/envs/radar-dev/lib/python3.8/site-packages/pyart/aux_io/odim_h5.py:295: DeprecationWarning: an integer is required (got type numpy.float32).  Implicit conversion to integers using __int__ is deprecated, and may be removed in a future version of Python.\n",
      "  start_time = datetime.datetime.utcfromtimestamp(start_epoch)\n",
      "/g/data/en0/jss548/miniconda3/envs/radar-dev/lib/python3.8/site-packages/sklearn/base.py:329: UserWarning: Trying to unpickle estimator GaussianMixture from version 0.21.3 when using version 0.23.1. This might lead to breaking code or invalid results. Use at your own risk.\n",
      "  warnings.warn(\n"
     ]
    },
    {
     "name": "stdout",
     "output_type": "stream",
     "text": [
      "/g/data/hj10/admin/opol/level_1/in2019_v01/20190124/9776HUB-PPIVol-20190124-034408-0000.hdf\n"
     ]
    },
    {
     "name": "stderr",
     "output_type": "stream",
     "text": [
      "/g/data/en0/jss548/miniconda3/envs/radar-dev/lib/python3.8/site-packages/pyart/aux_io/odim_h5.py:295: DeprecationWarning: an integer is required (got type numpy.float32).  Implicit conversion to integers using __int__ is deprecated, and may be removed in a future version of Python.\n",
      "  start_time = datetime.datetime.utcfromtimestamp(start_epoch)\n",
      "/g/data/en0/jss548/miniconda3/envs/radar-dev/lib/python3.8/site-packages/sklearn/base.py:329: UserWarning: Trying to unpickle estimator GaussianMixture from version 0.21.3 when using version 0.23.1. This might lead to breaking code or invalid results. Use at your own risk.\n",
      "  warnings.warn(\n"
     ]
    },
    {
     "name": "stdout",
     "output_type": "stream",
     "text": [
      "/g/data/hj10/admin/opol/level_1/in2019_v01/20190124/9776HUB-PPIVol-20190124-034939-0000.hdf\n"
     ]
    },
    {
     "name": "stderr",
     "output_type": "stream",
     "text": [
      "/g/data/en0/jss548/miniconda3/envs/radar-dev/lib/python3.8/site-packages/pyart/aux_io/odim_h5.py:295: DeprecationWarning: an integer is required (got type numpy.float32).  Implicit conversion to integers using __int__ is deprecated, and may be removed in a future version of Python.\n",
      "  start_time = datetime.datetime.utcfromtimestamp(start_epoch)\n",
      "/g/data/en0/jss548/miniconda3/envs/radar-dev/lib/python3.8/site-packages/sklearn/base.py:329: UserWarning: Trying to unpickle estimator GaussianMixture from version 0.21.3 when using version 0.23.1. This might lead to breaking code or invalid results. Use at your own risk.\n",
      "  warnings.warn(\n"
     ]
    },
    {
     "name": "stdout",
     "output_type": "stream",
     "text": [
      "/g/data/hj10/admin/opol/level_1/in2019_v01/20190124/9776HUB-PPIVol-20190124-035054-0000.hdf\n"
     ]
    },
    {
     "name": "stderr",
     "output_type": "stream",
     "text": [
      "/g/data/en0/jss548/miniconda3/envs/radar-dev/lib/python3.8/site-packages/pyart/aux_io/odim_h5.py:295: DeprecationWarning: an integer is required (got type numpy.float32).  Implicit conversion to integers using __int__ is deprecated, and may be removed in a future version of Python.\n",
      "  start_time = datetime.datetime.utcfromtimestamp(start_epoch)\n",
      "/g/data/en0/jss548/miniconda3/envs/radar-dev/lib/python3.8/site-packages/sklearn/base.py:329: UserWarning: Trying to unpickle estimator GaussianMixture from version 0.21.3 when using version 0.23.1. This might lead to breaking code or invalid results. Use at your own risk.\n",
      "  warnings.warn(\n"
     ]
    },
    {
     "name": "stdout",
     "output_type": "stream",
     "text": [
      "/g/data/hj10/admin/opol/level_1/in2019_v01/20190124/9776HUB-PPIVol-20190124-035626-0000.hdf\n"
     ]
    },
    {
     "name": "stderr",
     "output_type": "stream",
     "text": [
      "/g/data/en0/jss548/miniconda3/envs/radar-dev/lib/python3.8/site-packages/pyart/aux_io/odim_h5.py:295: DeprecationWarning: an integer is required (got type numpy.float32).  Implicit conversion to integers using __int__ is deprecated, and may be removed in a future version of Python.\n",
      "  start_time = datetime.datetime.utcfromtimestamp(start_epoch)\n",
      "/g/data/en0/jss548/miniconda3/envs/radar-dev/lib/python3.8/site-packages/sklearn/base.py:329: UserWarning: Trying to unpickle estimator GaussianMixture from version 0.21.3 when using version 0.23.1. This might lead to breaking code or invalid results. Use at your own risk.\n",
      "  warnings.warn(\n"
     ]
    },
    {
     "name": "stdout",
     "output_type": "stream",
     "text": [
      "/g/data/hj10/admin/opol/level_1/in2019_v01/20190124/9776HUB-PPIVol-20190124-035741-0000.hdf\n"
     ]
    },
    {
     "name": "stderr",
     "output_type": "stream",
     "text": [
      "/g/data/en0/jss548/miniconda3/envs/radar-dev/lib/python3.8/site-packages/pyart/aux_io/odim_h5.py:295: DeprecationWarning: an integer is required (got type numpy.float32).  Implicit conversion to integers using __int__ is deprecated, and may be removed in a future version of Python.\n",
      "  start_time = datetime.datetime.utcfromtimestamp(start_epoch)\n",
      "/g/data/en0/jss548/miniconda3/envs/radar-dev/lib/python3.8/site-packages/sklearn/base.py:329: UserWarning: Trying to unpickle estimator GaussianMixture from version 0.21.3 when using version 0.23.1. This might lead to breaking code or invalid results. Use at your own risk.\n",
      "  warnings.warn(\n"
     ]
    },
    {
     "name": "stdout",
     "output_type": "stream",
     "text": [
      "/g/data/hj10/admin/opol/level_1/in2019_v01/20190124/9776HUB-PPIVol-20190124-040312-0000.hdf\n"
     ]
    },
    {
     "name": "stderr",
     "output_type": "stream",
     "text": [
      "/g/data/en0/jss548/miniconda3/envs/radar-dev/lib/python3.8/site-packages/pyart/aux_io/odim_h5.py:295: DeprecationWarning: an integer is required (got type numpy.float32).  Implicit conversion to integers using __int__ is deprecated, and may be removed in a future version of Python.\n",
      "  start_time = datetime.datetime.utcfromtimestamp(start_epoch)\n",
      "/g/data/en0/jss548/miniconda3/envs/radar-dev/lib/python3.8/site-packages/sklearn/base.py:329: UserWarning: Trying to unpickle estimator GaussianMixture from version 0.21.3 when using version 0.23.1. This might lead to breaking code or invalid results. Use at your own risk.\n",
      "  warnings.warn(\n"
     ]
    },
    {
     "name": "stdout",
     "output_type": "stream",
     "text": [
      "/g/data/hj10/admin/opol/level_1/in2019_v01/20190124/9776HUB-PPIVol-20190124-040427-0000.hdf\n"
     ]
    },
    {
     "name": "stderr",
     "output_type": "stream",
     "text": [
      "/g/data/en0/jss548/miniconda3/envs/radar-dev/lib/python3.8/site-packages/pyart/aux_io/odim_h5.py:295: DeprecationWarning: an integer is required (got type numpy.float32).  Implicit conversion to integers using __int__ is deprecated, and may be removed in a future version of Python.\n",
      "  start_time = datetime.datetime.utcfromtimestamp(start_epoch)\n",
      "/g/data/en0/jss548/miniconda3/envs/radar-dev/lib/python3.8/site-packages/sklearn/base.py:329: UserWarning: Trying to unpickle estimator GaussianMixture from version 0.21.3 when using version 0.23.1. This might lead to breaking code or invalid results. Use at your own risk.\n",
      "  warnings.warn(\n"
     ]
    },
    {
     "name": "stdout",
     "output_type": "stream",
     "text": [
      "/g/data/hj10/admin/opol/level_1/in2019_v01/20190124/9776HUB-PPIVol-20190124-040959-0000.hdf\n"
     ]
    },
    {
     "name": "stderr",
     "output_type": "stream",
     "text": [
      "/g/data/en0/jss548/miniconda3/envs/radar-dev/lib/python3.8/site-packages/pyart/aux_io/odim_h5.py:295: DeprecationWarning: an integer is required (got type numpy.float32).  Implicit conversion to integers using __int__ is deprecated, and may be removed in a future version of Python.\n",
      "  start_time = datetime.datetime.utcfromtimestamp(start_epoch)\n",
      "/g/data/en0/jss548/miniconda3/envs/radar-dev/lib/python3.8/site-packages/sklearn/base.py:329: UserWarning: Trying to unpickle estimator GaussianMixture from version 0.21.3 when using version 0.23.1. This might lead to breaking code or invalid results. Use at your own risk.\n",
      "  warnings.warn(\n"
     ]
    },
    {
     "name": "stdout",
     "output_type": "stream",
     "text": [
      "/g/data/hj10/admin/opol/level_1/in2019_v01/20190124/9776HUB-PPIVol-20190124-041114-0000.hdf\n"
     ]
    },
    {
     "name": "stderr",
     "output_type": "stream",
     "text": [
      "/g/data/en0/jss548/miniconda3/envs/radar-dev/lib/python3.8/site-packages/pyart/aux_io/odim_h5.py:295: DeprecationWarning: an integer is required (got type numpy.float32).  Implicit conversion to integers using __int__ is deprecated, and may be removed in a future version of Python.\n",
      "  start_time = datetime.datetime.utcfromtimestamp(start_epoch)\n",
      "/g/data/en0/jss548/miniconda3/envs/radar-dev/lib/python3.8/site-packages/sklearn/base.py:329: UserWarning: Trying to unpickle estimator GaussianMixture from version 0.21.3 when using version 0.23.1. This might lead to breaking code or invalid results. Use at your own risk.\n",
      "  warnings.warn(\n"
     ]
    },
    {
     "name": "stdout",
     "output_type": "stream",
     "text": [
      "/g/data/hj10/admin/opol/level_1/in2019_v01/20190124/9776HUB-PPIVol-20190124-041645-0000.hdf\n"
     ]
    },
    {
     "name": "stderr",
     "output_type": "stream",
     "text": [
      "/g/data/en0/jss548/miniconda3/envs/radar-dev/lib/python3.8/site-packages/pyart/aux_io/odim_h5.py:295: DeprecationWarning: an integer is required (got type numpy.float32).  Implicit conversion to integers using __int__ is deprecated, and may be removed in a future version of Python.\n",
      "  start_time = datetime.datetime.utcfromtimestamp(start_epoch)\n",
      "/g/data/en0/jss548/miniconda3/envs/radar-dev/lib/python3.8/site-packages/sklearn/base.py:329: UserWarning: Trying to unpickle estimator GaussianMixture from version 0.21.3 when using version 0.23.1. This might lead to breaking code or invalid results. Use at your own risk.\n",
      "  warnings.warn(\n"
     ]
    },
    {
     "name": "stdout",
     "output_type": "stream",
     "text": [
      "/g/data/hj10/admin/opol/level_1/in2019_v01/20190124/9776HUB-PPIVol-20190124-041800-0000.hdf\n"
     ]
    },
    {
     "name": "stderr",
     "output_type": "stream",
     "text": [
      "/g/data/en0/jss548/miniconda3/envs/radar-dev/lib/python3.8/site-packages/pyart/aux_io/odim_h5.py:295: DeprecationWarning: an integer is required (got type numpy.float32).  Implicit conversion to integers using __int__ is deprecated, and may be removed in a future version of Python.\n",
      "  start_time = datetime.datetime.utcfromtimestamp(start_epoch)\n",
      "/g/data/en0/jss548/miniconda3/envs/radar-dev/lib/python3.8/site-packages/sklearn/base.py:329: UserWarning: Trying to unpickle estimator GaussianMixture from version 0.21.3 when using version 0.23.1. This might lead to breaking code or invalid results. Use at your own risk.\n",
      "  warnings.warn(\n"
     ]
    },
    {
     "name": "stdout",
     "output_type": "stream",
     "text": [
      "/g/data/hj10/admin/opol/level_1/in2019_v01/20190124/9776HUB-PPIVol-20190124-042332-0000.hdf\n"
     ]
    },
    {
     "name": "stderr",
     "output_type": "stream",
     "text": [
      "/g/data/en0/jss548/miniconda3/envs/radar-dev/lib/python3.8/site-packages/pyart/aux_io/odim_h5.py:295: DeprecationWarning: an integer is required (got type numpy.float32).  Implicit conversion to integers using __int__ is deprecated, and may be removed in a future version of Python.\n",
      "  start_time = datetime.datetime.utcfromtimestamp(start_epoch)\n",
      "/g/data/en0/jss548/miniconda3/envs/radar-dev/lib/python3.8/site-packages/sklearn/base.py:329: UserWarning: Trying to unpickle estimator GaussianMixture from version 0.21.3 when using version 0.23.1. This might lead to breaking code or invalid results. Use at your own risk.\n",
      "  warnings.warn(\n"
     ]
    },
    {
     "name": "stdout",
     "output_type": "stream",
     "text": [
      "/g/data/hj10/admin/opol/level_1/in2019_v01/20190124/9776HUB-PPIVol-20190124-042447-0000.hdf\n"
     ]
    },
    {
     "name": "stderr",
     "output_type": "stream",
     "text": [
      "/g/data/en0/jss548/miniconda3/envs/radar-dev/lib/python3.8/site-packages/pyart/aux_io/odim_h5.py:295: DeprecationWarning: an integer is required (got type numpy.float32).  Implicit conversion to integers using __int__ is deprecated, and may be removed in a future version of Python.\n",
      "  start_time = datetime.datetime.utcfromtimestamp(start_epoch)\n",
      "/g/data/en0/jss548/miniconda3/envs/radar-dev/lib/python3.8/site-packages/sklearn/base.py:329: UserWarning: Trying to unpickle estimator GaussianMixture from version 0.21.3 when using version 0.23.1. This might lead to breaking code or invalid results. Use at your own risk.\n",
      "  warnings.warn(\n"
     ]
    },
    {
     "name": "stdout",
     "output_type": "stream",
     "text": [
      "/g/data/hj10/admin/opol/level_1/in2019_v01/20190124/9776HUB-PPIVol-20190124-043018-0000.hdf\n"
     ]
    },
    {
     "name": "stderr",
     "output_type": "stream",
     "text": [
      "/g/data/en0/jss548/miniconda3/envs/radar-dev/lib/python3.8/site-packages/pyart/aux_io/odim_h5.py:295: DeprecationWarning: an integer is required (got type numpy.float32).  Implicit conversion to integers using __int__ is deprecated, and may be removed in a future version of Python.\n",
      "  start_time = datetime.datetime.utcfromtimestamp(start_epoch)\n",
      "/g/data/en0/jss548/miniconda3/envs/radar-dev/lib/python3.8/site-packages/sklearn/base.py:329: UserWarning: Trying to unpickle estimator GaussianMixture from version 0.21.3 when using version 0.23.1. This might lead to breaking code or invalid results. Use at your own risk.\n",
      "  warnings.warn(\n"
     ]
    },
    {
     "name": "stdout",
     "output_type": "stream",
     "text": [
      "/g/data/hj10/admin/opol/level_1/in2019_v01/20190124/9776HUB-PPIVol-20190124-043133-0000.hdf\n"
     ]
    },
    {
     "name": "stderr",
     "output_type": "stream",
     "text": [
      "/g/data/en0/jss548/miniconda3/envs/radar-dev/lib/python3.8/site-packages/pyart/aux_io/odim_h5.py:295: DeprecationWarning: an integer is required (got type numpy.float32).  Implicit conversion to integers using __int__ is deprecated, and may be removed in a future version of Python.\n",
      "  start_time = datetime.datetime.utcfromtimestamp(start_epoch)\n",
      "/g/data/en0/jss548/miniconda3/envs/radar-dev/lib/python3.8/site-packages/sklearn/base.py:329: UserWarning: Trying to unpickle estimator GaussianMixture from version 0.21.3 when using version 0.23.1. This might lead to breaking code or invalid results. Use at your own risk.\n",
      "  warnings.warn(\n"
     ]
    },
    {
     "name": "stdout",
     "output_type": "stream",
     "text": [
      "/g/data/hj10/admin/opol/level_1/in2019_v01/20190124/9776HUB-PPIVol-20190124-043705-0000.hdf\n"
     ]
    },
    {
     "name": "stderr",
     "output_type": "stream",
     "text": [
      "/g/data/en0/jss548/miniconda3/envs/radar-dev/lib/python3.8/site-packages/pyart/aux_io/odim_h5.py:295: DeprecationWarning: an integer is required (got type numpy.float32).  Implicit conversion to integers using __int__ is deprecated, and may be removed in a future version of Python.\n",
      "  start_time = datetime.datetime.utcfromtimestamp(start_epoch)\n",
      "/g/data/en0/jss548/miniconda3/envs/radar-dev/lib/python3.8/site-packages/sklearn/base.py:329: UserWarning: Trying to unpickle estimator GaussianMixture from version 0.21.3 when using version 0.23.1. This might lead to breaking code or invalid results. Use at your own risk.\n",
      "  warnings.warn(\n"
     ]
    },
    {
     "name": "stdout",
     "output_type": "stream",
     "text": [
      "/g/data/hj10/admin/opol/level_1/in2019_v01/20190124/9776HUB-PPIVol-20190124-043819-0000.hdf\n"
     ]
    },
    {
     "name": "stderr",
     "output_type": "stream",
     "text": [
      "/g/data/en0/jss548/miniconda3/envs/radar-dev/lib/python3.8/site-packages/pyart/aux_io/odim_h5.py:295: DeprecationWarning: an integer is required (got type numpy.float32).  Implicit conversion to integers using __int__ is deprecated, and may be removed in a future version of Python.\n",
      "  start_time = datetime.datetime.utcfromtimestamp(start_epoch)\n",
      "/g/data/en0/jss548/miniconda3/envs/radar-dev/lib/python3.8/site-packages/sklearn/base.py:329: UserWarning: Trying to unpickle estimator GaussianMixture from version 0.21.3 when using version 0.23.1. This might lead to breaking code or invalid results. Use at your own risk.\n",
      "  warnings.warn(\n"
     ]
    },
    {
     "name": "stdout",
     "output_type": "stream",
     "text": [
      "/g/data/hj10/admin/opol/level_1/in2019_v01/20190124/9776HUB-PPIVol-20190124-044351-0000.hdf\n"
     ]
    },
    {
     "name": "stderr",
     "output_type": "stream",
     "text": [
      "/g/data/en0/jss548/miniconda3/envs/radar-dev/lib/python3.8/site-packages/pyart/aux_io/odim_h5.py:295: DeprecationWarning: an integer is required (got type numpy.float32).  Implicit conversion to integers using __int__ is deprecated, and may be removed in a future version of Python.\n",
      "  start_time = datetime.datetime.utcfromtimestamp(start_epoch)\n",
      "/g/data/en0/jss548/miniconda3/envs/radar-dev/lib/python3.8/site-packages/sklearn/base.py:329: UserWarning: Trying to unpickle estimator GaussianMixture from version 0.21.3 when using version 0.23.1. This might lead to breaking code or invalid results. Use at your own risk.\n",
      "  warnings.warn(\n"
     ]
    },
    {
     "name": "stdout",
     "output_type": "stream",
     "text": [
      "/g/data/hj10/admin/opol/level_1/in2019_v01/20190124/9776HUB-PPIVol-20190124-044506-0000.hdf\n"
     ]
    },
    {
     "name": "stderr",
     "output_type": "stream",
     "text": [
      "/g/data/en0/jss548/miniconda3/envs/radar-dev/lib/python3.8/site-packages/pyart/aux_io/odim_h5.py:295: DeprecationWarning: an integer is required (got type numpy.float32).  Implicit conversion to integers using __int__ is deprecated, and may be removed in a future version of Python.\n",
      "  start_time = datetime.datetime.utcfromtimestamp(start_epoch)\n",
      "/g/data/en0/jss548/miniconda3/envs/radar-dev/lib/python3.8/site-packages/sklearn/base.py:329: UserWarning: Trying to unpickle estimator GaussianMixture from version 0.21.3 when using version 0.23.1. This might lead to breaking code or invalid results. Use at your own risk.\n",
      "  warnings.warn(\n"
     ]
    },
    {
     "name": "stdout",
     "output_type": "stream",
     "text": [
      "/g/data/hj10/admin/opol/level_1/in2019_v01/20190124/9776HUB-PPIVol-20190124-045037-0000.hdf\n"
     ]
    },
    {
     "name": "stderr",
     "output_type": "stream",
     "text": [
      "/g/data/en0/jss548/miniconda3/envs/radar-dev/lib/python3.8/site-packages/pyart/aux_io/odim_h5.py:295: DeprecationWarning: an integer is required (got type numpy.float32).  Implicit conversion to integers using __int__ is deprecated, and may be removed in a future version of Python.\n",
      "  start_time = datetime.datetime.utcfromtimestamp(start_epoch)\n",
      "/g/data/en0/jss548/miniconda3/envs/radar-dev/lib/python3.8/site-packages/sklearn/base.py:329: UserWarning: Trying to unpickle estimator GaussianMixture from version 0.21.3 when using version 0.23.1. This might lead to breaking code or invalid results. Use at your own risk.\n",
      "  warnings.warn(\n"
     ]
    },
    {
     "name": "stdout",
     "output_type": "stream",
     "text": [
      "/g/data/hj10/admin/opol/level_1/in2019_v01/20190124/9776HUB-PPIVol-20190124-045152-0000.hdf\n"
     ]
    },
    {
     "name": "stderr",
     "output_type": "stream",
     "text": [
      "/g/data/en0/jss548/miniconda3/envs/radar-dev/lib/python3.8/site-packages/pyart/aux_io/odim_h5.py:295: DeprecationWarning: an integer is required (got type numpy.float32).  Implicit conversion to integers using __int__ is deprecated, and may be removed in a future version of Python.\n",
      "  start_time = datetime.datetime.utcfromtimestamp(start_epoch)\n",
      "/g/data/en0/jss548/miniconda3/envs/radar-dev/lib/python3.8/site-packages/sklearn/base.py:329: UserWarning: Trying to unpickle estimator GaussianMixture from version 0.21.3 when using version 0.23.1. This might lead to breaking code or invalid results. Use at your own risk.\n",
      "  warnings.warn(\n"
     ]
    },
    {
     "name": "stdout",
     "output_type": "stream",
     "text": [
      "/g/data/hj10/admin/opol/level_1/in2019_v01/20190124/9776HUB-PPIVol-20190124-045724-0000.hdf\n"
     ]
    },
    {
     "name": "stderr",
     "output_type": "stream",
     "text": [
      "/g/data/en0/jss548/miniconda3/envs/radar-dev/lib/python3.8/site-packages/pyart/aux_io/odim_h5.py:295: DeprecationWarning: an integer is required (got type numpy.float32).  Implicit conversion to integers using __int__ is deprecated, and may be removed in a future version of Python.\n",
      "  start_time = datetime.datetime.utcfromtimestamp(start_epoch)\n",
      "/g/data/en0/jss548/miniconda3/envs/radar-dev/lib/python3.8/site-packages/sklearn/base.py:329: UserWarning: Trying to unpickle estimator GaussianMixture from version 0.21.3 when using version 0.23.1. This might lead to breaking code or invalid results. Use at your own risk.\n",
      "  warnings.warn(\n"
     ]
    },
    {
     "name": "stdout",
     "output_type": "stream",
     "text": [
      "/g/data/hj10/admin/opol/level_1/in2019_v01/20190124/9776HUB-PPIVol-20190124-045839-0000.hdf\n"
     ]
    },
    {
     "name": "stderr",
     "output_type": "stream",
     "text": [
      "/g/data/en0/jss548/miniconda3/envs/radar-dev/lib/python3.8/site-packages/pyart/aux_io/odim_h5.py:295: DeprecationWarning: an integer is required (got type numpy.float32).  Implicit conversion to integers using __int__ is deprecated, and may be removed in a future version of Python.\n",
      "  start_time = datetime.datetime.utcfromtimestamp(start_epoch)\n",
      "/g/data/en0/jss548/miniconda3/envs/radar-dev/lib/python3.8/site-packages/sklearn/base.py:329: UserWarning: Trying to unpickle estimator GaussianMixture from version 0.21.3 when using version 0.23.1. This might lead to breaking code or invalid results. Use at your own risk.\n",
      "  warnings.warn(\n"
     ]
    },
    {
     "name": "stdout",
     "output_type": "stream",
     "text": [
      "/g/data/hj10/admin/opol/level_1/in2019_v01/20190124/9776HUB-PPIVol-20190124-050410-0000.hdf\n"
     ]
    },
    {
     "name": "stderr",
     "output_type": "stream",
     "text": [
      "/g/data/en0/jss548/miniconda3/envs/radar-dev/lib/python3.8/site-packages/pyart/aux_io/odim_h5.py:295: DeprecationWarning: an integer is required (got type numpy.float32).  Implicit conversion to integers using __int__ is deprecated, and may be removed in a future version of Python.\n",
      "  start_time = datetime.datetime.utcfromtimestamp(start_epoch)\n",
      "/g/data/en0/jss548/miniconda3/envs/radar-dev/lib/python3.8/site-packages/sklearn/base.py:329: UserWarning: Trying to unpickle estimator GaussianMixture from version 0.21.3 when using version 0.23.1. This might lead to breaking code or invalid results. Use at your own risk.\n",
      "  warnings.warn(\n"
     ]
    },
    {
     "name": "stdout",
     "output_type": "stream",
     "text": [
      "/g/data/hj10/admin/opol/level_1/in2019_v01/20190124/9776HUB-PPIVol-20190124-050525-0000.hdf\n"
     ]
    },
    {
     "name": "stderr",
     "output_type": "stream",
     "text": [
      "/g/data/en0/jss548/miniconda3/envs/radar-dev/lib/python3.8/site-packages/pyart/aux_io/odim_h5.py:295: DeprecationWarning: an integer is required (got type numpy.float32).  Implicit conversion to integers using __int__ is deprecated, and may be removed in a future version of Python.\n",
      "  start_time = datetime.datetime.utcfromtimestamp(start_epoch)\n",
      "/g/data/en0/jss548/miniconda3/envs/radar-dev/lib/python3.8/site-packages/sklearn/base.py:329: UserWarning: Trying to unpickle estimator GaussianMixture from version 0.21.3 when using version 0.23.1. This might lead to breaking code or invalid results. Use at your own risk.\n",
      "  warnings.warn(\n"
     ]
    },
    {
     "name": "stdout",
     "output_type": "stream",
     "text": [
      "/g/data/hj10/admin/opol/level_1/in2019_v01/20190124/9776HUB-PPIVol-20190124-051057-0000.hdf\n"
     ]
    },
    {
     "name": "stderr",
     "output_type": "stream",
     "text": [
      "/g/data/en0/jss548/miniconda3/envs/radar-dev/lib/python3.8/site-packages/pyart/aux_io/odim_h5.py:295: DeprecationWarning: an integer is required (got type numpy.float32).  Implicit conversion to integers using __int__ is deprecated, and may be removed in a future version of Python.\n",
      "  start_time = datetime.datetime.utcfromtimestamp(start_epoch)\n",
      "/g/data/en0/jss548/miniconda3/envs/radar-dev/lib/python3.8/site-packages/sklearn/base.py:329: UserWarning: Trying to unpickle estimator GaussianMixture from version 0.21.3 when using version 0.23.1. This might lead to breaking code or invalid results. Use at your own risk.\n",
      "  warnings.warn(\n"
     ]
    },
    {
     "name": "stdout",
     "output_type": "stream",
     "text": [
      "/g/data/hj10/admin/opol/level_1/in2019_v01/20190124/9776HUB-PPIVol-20190124-051211-0000.hdf\n"
     ]
    },
    {
     "name": "stderr",
     "output_type": "stream",
     "text": [
      "/g/data/en0/jss548/miniconda3/envs/radar-dev/lib/python3.8/site-packages/pyart/aux_io/odim_h5.py:295: DeprecationWarning: an integer is required (got type numpy.float32).  Implicit conversion to integers using __int__ is deprecated, and may be removed in a future version of Python.\n",
      "  start_time = datetime.datetime.utcfromtimestamp(start_epoch)\n",
      "/g/data/en0/jss548/miniconda3/envs/radar-dev/lib/python3.8/site-packages/sklearn/base.py:329: UserWarning: Trying to unpickle estimator GaussianMixture from version 0.21.3 when using version 0.23.1. This might lead to breaking code or invalid results. Use at your own risk.\n",
      "  warnings.warn(\n"
     ]
    },
    {
     "name": "stdout",
     "output_type": "stream",
     "text": [
      "/g/data/hj10/admin/opol/level_1/in2019_v01/20190124/9776HUB-PPIVol-20190124-051743-0000.hdf\n"
     ]
    },
    {
     "name": "stderr",
     "output_type": "stream",
     "text": [
      "/g/data/en0/jss548/miniconda3/envs/radar-dev/lib/python3.8/site-packages/pyart/aux_io/odim_h5.py:295: DeprecationWarning: an integer is required (got type numpy.float32).  Implicit conversion to integers using __int__ is deprecated, and may be removed in a future version of Python.\n",
      "  start_time = datetime.datetime.utcfromtimestamp(start_epoch)\n",
      "/g/data/en0/jss548/miniconda3/envs/radar-dev/lib/python3.8/site-packages/sklearn/base.py:329: UserWarning: Trying to unpickle estimator GaussianMixture from version 0.21.3 when using version 0.23.1. This might lead to breaking code or invalid results. Use at your own risk.\n",
      "  warnings.warn(\n"
     ]
    },
    {
     "name": "stdout",
     "output_type": "stream",
     "text": [
      "/g/data/hj10/admin/opol/level_1/in2019_v01/20190124/9776HUB-PPIVol-20190124-051858-0000.hdf\n"
     ]
    },
    {
     "name": "stderr",
     "output_type": "stream",
     "text": [
      "/g/data/en0/jss548/miniconda3/envs/radar-dev/lib/python3.8/site-packages/pyart/aux_io/odim_h5.py:295: DeprecationWarning: an integer is required (got type numpy.float32).  Implicit conversion to integers using __int__ is deprecated, and may be removed in a future version of Python.\n",
      "  start_time = datetime.datetime.utcfromtimestamp(start_epoch)\n",
      "/g/data/en0/jss548/miniconda3/envs/radar-dev/lib/python3.8/site-packages/sklearn/base.py:329: UserWarning: Trying to unpickle estimator GaussianMixture from version 0.21.3 when using version 0.23.1. This might lead to breaking code or invalid results. Use at your own risk.\n",
      "  warnings.warn(\n"
     ]
    },
    {
     "name": "stdout",
     "output_type": "stream",
     "text": [
      "/g/data/hj10/admin/opol/level_1/in2019_v01/20190124/9776HUB-PPIVol-20190124-052430-0000.hdf\n"
     ]
    },
    {
     "name": "stderr",
     "output_type": "stream",
     "text": [
      "/g/data/en0/jss548/miniconda3/envs/radar-dev/lib/python3.8/site-packages/pyart/aux_io/odim_h5.py:295: DeprecationWarning: an integer is required (got type numpy.float32).  Implicit conversion to integers using __int__ is deprecated, and may be removed in a future version of Python.\n",
      "  start_time = datetime.datetime.utcfromtimestamp(start_epoch)\n",
      "/g/data/en0/jss548/miniconda3/envs/radar-dev/lib/python3.8/site-packages/sklearn/base.py:329: UserWarning: Trying to unpickle estimator GaussianMixture from version 0.21.3 when using version 0.23.1. This might lead to breaking code or invalid results. Use at your own risk.\n",
      "  warnings.warn(\n"
     ]
    },
    {
     "name": "stdout",
     "output_type": "stream",
     "text": [
      "/g/data/hj10/admin/opol/level_1/in2019_v01/20190124/9776HUB-PPIVol-20190124-052544-0000.hdf\n"
     ]
    },
    {
     "name": "stderr",
     "output_type": "stream",
     "text": [
      "/g/data/en0/jss548/miniconda3/envs/radar-dev/lib/python3.8/site-packages/pyart/aux_io/odim_h5.py:295: DeprecationWarning: an integer is required (got type numpy.float32).  Implicit conversion to integers using __int__ is deprecated, and may be removed in a future version of Python.\n",
      "  start_time = datetime.datetime.utcfromtimestamp(start_epoch)\n",
      "/g/data/en0/jss548/miniconda3/envs/radar-dev/lib/python3.8/site-packages/sklearn/base.py:329: UserWarning: Trying to unpickle estimator GaussianMixture from version 0.21.3 when using version 0.23.1. This might lead to breaking code or invalid results. Use at your own risk.\n",
      "  warnings.warn(\n"
     ]
    },
    {
     "name": "stdout",
     "output_type": "stream",
     "text": [
      "/g/data/hj10/admin/opol/level_1/in2019_v01/20190124/9776HUB-PPIVol-20190124-053116-0000.hdf\n"
     ]
    },
    {
     "name": "stderr",
     "output_type": "stream",
     "text": [
      "/g/data/en0/jss548/miniconda3/envs/radar-dev/lib/python3.8/site-packages/pyart/aux_io/odim_h5.py:295: DeprecationWarning: an integer is required (got type numpy.float32).  Implicit conversion to integers using __int__ is deprecated, and may be removed in a future version of Python.\n",
      "  start_time = datetime.datetime.utcfromtimestamp(start_epoch)\n",
      "/g/data/en0/jss548/miniconda3/envs/radar-dev/lib/python3.8/site-packages/sklearn/base.py:329: UserWarning: Trying to unpickle estimator GaussianMixture from version 0.21.3 when using version 0.23.1. This might lead to breaking code or invalid results. Use at your own risk.\n",
      "  warnings.warn(\n"
     ]
    },
    {
     "name": "stdout",
     "output_type": "stream",
     "text": [
      "/g/data/hj10/admin/opol/level_1/in2019_v01/20190124/9776HUB-PPIVol-20190124-053231-0000.hdf\n"
     ]
    },
    {
     "name": "stderr",
     "output_type": "stream",
     "text": [
      "/g/data/en0/jss548/miniconda3/envs/radar-dev/lib/python3.8/site-packages/pyart/aux_io/odim_h5.py:295: DeprecationWarning: an integer is required (got type numpy.float32).  Implicit conversion to integers using __int__ is deprecated, and may be removed in a future version of Python.\n",
      "  start_time = datetime.datetime.utcfromtimestamp(start_epoch)\n",
      "/g/data/en0/jss548/miniconda3/envs/radar-dev/lib/python3.8/site-packages/sklearn/base.py:329: UserWarning: Trying to unpickle estimator GaussianMixture from version 0.21.3 when using version 0.23.1. This might lead to breaking code or invalid results. Use at your own risk.\n",
      "  warnings.warn(\n"
     ]
    },
    {
     "name": "stdout",
     "output_type": "stream",
     "text": [
      "/g/data/hj10/admin/opol/level_1/in2019_v01/20190124/9776HUB-PPIVol-20190124-053802-0000.hdf\n"
     ]
    },
    {
     "name": "stderr",
     "output_type": "stream",
     "text": [
      "/g/data/en0/jss548/miniconda3/envs/radar-dev/lib/python3.8/site-packages/pyart/aux_io/odim_h5.py:295: DeprecationWarning: an integer is required (got type numpy.float32).  Implicit conversion to integers using __int__ is deprecated, and may be removed in a future version of Python.\n",
      "  start_time = datetime.datetime.utcfromtimestamp(start_epoch)\n",
      "/g/data/en0/jss548/miniconda3/envs/radar-dev/lib/python3.8/site-packages/sklearn/base.py:329: UserWarning: Trying to unpickle estimator GaussianMixture from version 0.21.3 when using version 0.23.1. This might lead to breaking code or invalid results. Use at your own risk.\n",
      "  warnings.warn(\n"
     ]
    },
    {
     "name": "stdout",
     "output_type": "stream",
     "text": [
      "/g/data/hj10/admin/opol/level_1/in2019_v01/20190124/9776HUB-PPIVol-20190124-053917-0000.hdf\n"
     ]
    },
    {
     "name": "stderr",
     "output_type": "stream",
     "text": [
      "/g/data/en0/jss548/miniconda3/envs/radar-dev/lib/python3.8/site-packages/pyart/aux_io/odim_h5.py:295: DeprecationWarning: an integer is required (got type numpy.float32).  Implicit conversion to integers using __int__ is deprecated, and may be removed in a future version of Python.\n",
      "  start_time = datetime.datetime.utcfromtimestamp(start_epoch)\n",
      "/g/data/en0/jss548/miniconda3/envs/radar-dev/lib/python3.8/site-packages/sklearn/base.py:329: UserWarning: Trying to unpickle estimator GaussianMixture from version 0.21.3 when using version 0.23.1. This might lead to breaking code or invalid results. Use at your own risk.\n",
      "  warnings.warn(\n"
     ]
    },
    {
     "name": "stdout",
     "output_type": "stream",
     "text": [
      "/g/data/hj10/admin/opol/level_1/in2019_v01/20190124/9776HUB-PPIVol-20190124-054449-0000.hdf\n"
     ]
    },
    {
     "name": "stderr",
     "output_type": "stream",
     "text": [
      "/g/data/en0/jss548/miniconda3/envs/radar-dev/lib/python3.8/site-packages/pyart/aux_io/odim_h5.py:295: DeprecationWarning: an integer is required (got type numpy.float32).  Implicit conversion to integers using __int__ is deprecated, and may be removed in a future version of Python.\n",
      "  start_time = datetime.datetime.utcfromtimestamp(start_epoch)\n",
      "/g/data/en0/jss548/miniconda3/envs/radar-dev/lib/python3.8/site-packages/sklearn/base.py:329: UserWarning: Trying to unpickle estimator GaussianMixture from version 0.21.3 when using version 0.23.1. This might lead to breaking code or invalid results. Use at your own risk.\n",
      "  warnings.warn(\n"
     ]
    },
    {
     "name": "stdout",
     "output_type": "stream",
     "text": [
      "/g/data/hj10/admin/opol/level_1/in2019_v01/20190124/9776HUB-PPIVol-20190124-054604-0000.hdf\n"
     ]
    },
    {
     "name": "stderr",
     "output_type": "stream",
     "text": [
      "/g/data/en0/jss548/miniconda3/envs/radar-dev/lib/python3.8/site-packages/pyart/aux_io/odim_h5.py:295: DeprecationWarning: an integer is required (got type numpy.float32).  Implicit conversion to integers using __int__ is deprecated, and may be removed in a future version of Python.\n",
      "  start_time = datetime.datetime.utcfromtimestamp(start_epoch)\n",
      "/g/data/en0/jss548/miniconda3/envs/radar-dev/lib/python3.8/site-packages/sklearn/base.py:329: UserWarning: Trying to unpickle estimator GaussianMixture from version 0.21.3 when using version 0.23.1. This might lead to breaking code or invalid results. Use at your own risk.\n",
      "  warnings.warn(\n"
     ]
    },
    {
     "name": "stdout",
     "output_type": "stream",
     "text": [
      "/g/data/hj10/admin/opol/level_1/in2019_v01/20190124/9776HUB-PPIVol-20190124-055135-0000.hdf\n"
     ]
    },
    {
     "name": "stderr",
     "output_type": "stream",
     "text": [
      "/g/data/en0/jss548/miniconda3/envs/radar-dev/lib/python3.8/site-packages/pyart/aux_io/odim_h5.py:295: DeprecationWarning: an integer is required (got type numpy.float32).  Implicit conversion to integers using __int__ is deprecated, and may be removed in a future version of Python.\n",
      "  start_time = datetime.datetime.utcfromtimestamp(start_epoch)\n",
      "/g/data/en0/jss548/miniconda3/envs/radar-dev/lib/python3.8/site-packages/sklearn/base.py:329: UserWarning: Trying to unpickle estimator GaussianMixture from version 0.21.3 when using version 0.23.1. This might lead to breaking code or invalid results. Use at your own risk.\n",
      "  warnings.warn(\n"
     ]
    },
    {
     "name": "stdout",
     "output_type": "stream",
     "text": [
      "/g/data/hj10/admin/opol/level_1/in2019_v01/20190124/9776HUB-PPIVol-20190124-055250-0000.hdf\n"
     ]
    },
    {
     "name": "stderr",
     "output_type": "stream",
     "text": [
      "/g/data/en0/jss548/miniconda3/envs/radar-dev/lib/python3.8/site-packages/pyart/aux_io/odim_h5.py:295: DeprecationWarning: an integer is required (got type numpy.float32).  Implicit conversion to integers using __int__ is deprecated, and may be removed in a future version of Python.\n",
      "  start_time = datetime.datetime.utcfromtimestamp(start_epoch)\n",
      "/g/data/en0/jss548/miniconda3/envs/radar-dev/lib/python3.8/site-packages/sklearn/base.py:329: UserWarning: Trying to unpickle estimator GaussianMixture from version 0.21.3 when using version 0.23.1. This might lead to breaking code or invalid results. Use at your own risk.\n",
      "  warnings.warn(\n"
     ]
    },
    {
     "name": "stdout",
     "output_type": "stream",
     "text": [
      "/g/data/hj10/admin/opol/level_1/in2019_v01/20190124/9776HUB-PPIVol-20190124-055822-0000.hdf\n"
     ]
    },
    {
     "name": "stderr",
     "output_type": "stream",
     "text": [
      "/g/data/en0/jss548/miniconda3/envs/radar-dev/lib/python3.8/site-packages/pyart/aux_io/odim_h5.py:295: DeprecationWarning: an integer is required (got type numpy.float32).  Implicit conversion to integers using __int__ is deprecated, and may be removed in a future version of Python.\n",
      "  start_time = datetime.datetime.utcfromtimestamp(start_epoch)\n",
      "/g/data/en0/jss548/miniconda3/envs/radar-dev/lib/python3.8/site-packages/sklearn/base.py:329: UserWarning: Trying to unpickle estimator GaussianMixture from version 0.21.3 when using version 0.23.1. This might lead to breaking code or invalid results. Use at your own risk.\n",
      "  warnings.warn(\n"
     ]
    },
    {
     "name": "stdout",
     "output_type": "stream",
     "text": [
      "/g/data/hj10/admin/opol/level_1/in2019_v01/20190124/9776HUB-PPIVol-20190124-055936-0000.hdf\n"
     ]
    },
    {
     "name": "stderr",
     "output_type": "stream",
     "text": [
      "/g/data/en0/jss548/miniconda3/envs/radar-dev/lib/python3.8/site-packages/pyart/aux_io/odim_h5.py:295: DeprecationWarning: an integer is required (got type numpy.float32).  Implicit conversion to integers using __int__ is deprecated, and may be removed in a future version of Python.\n",
      "  start_time = datetime.datetime.utcfromtimestamp(start_epoch)\n",
      "/g/data/en0/jss548/miniconda3/envs/radar-dev/lib/python3.8/site-packages/sklearn/base.py:329: UserWarning: Trying to unpickle estimator GaussianMixture from version 0.21.3 when using version 0.23.1. This might lead to breaking code or invalid results. Use at your own risk.\n",
      "  warnings.warn(\n"
     ]
    },
    {
     "name": "stdout",
     "output_type": "stream",
     "text": [
      "/g/data/hj10/admin/opol/level_1/in2019_v01/20190124/9776HUB-PPIVol-20190124-060508-0000.hdf\n"
     ]
    },
    {
     "name": "stderr",
     "output_type": "stream",
     "text": [
      "/g/data/en0/jss548/miniconda3/envs/radar-dev/lib/python3.8/site-packages/pyart/aux_io/odim_h5.py:295: DeprecationWarning: an integer is required (got type numpy.float32).  Implicit conversion to integers using __int__ is deprecated, and may be removed in a future version of Python.\n",
      "  start_time = datetime.datetime.utcfromtimestamp(start_epoch)\n",
      "/g/data/en0/jss548/miniconda3/envs/radar-dev/lib/python3.8/site-packages/sklearn/base.py:329: UserWarning: Trying to unpickle estimator GaussianMixture from version 0.21.3 when using version 0.23.1. This might lead to breaking code or invalid results. Use at your own risk.\n",
      "  warnings.warn(\n"
     ]
    },
    {
     "name": "stdout",
     "output_type": "stream",
     "text": [
      "/g/data/hj10/admin/opol/level_1/in2019_v01/20190124/9776HUB-PPIVol-20190124-060623-0000.hdf\n"
     ]
    },
    {
     "name": "stderr",
     "output_type": "stream",
     "text": [
      "/g/data/en0/jss548/miniconda3/envs/radar-dev/lib/python3.8/site-packages/pyart/aux_io/odim_h5.py:295: DeprecationWarning: an integer is required (got type numpy.float32).  Implicit conversion to integers using __int__ is deprecated, and may be removed in a future version of Python.\n",
      "  start_time = datetime.datetime.utcfromtimestamp(start_epoch)\n",
      "/g/data/en0/jss548/miniconda3/envs/radar-dev/lib/python3.8/site-packages/sklearn/base.py:329: UserWarning: Trying to unpickle estimator GaussianMixture from version 0.21.3 when using version 0.23.1. This might lead to breaking code or invalid results. Use at your own risk.\n",
      "  warnings.warn(\n"
     ]
    },
    {
     "name": "stdout",
     "output_type": "stream",
     "text": [
      "/g/data/hj10/admin/opol/level_1/in2019_v01/20190124/9776HUB-PPIVol-20190124-061155-0000.hdf\n"
     ]
    },
    {
     "name": "stderr",
     "output_type": "stream",
     "text": [
      "/g/data/en0/jss548/miniconda3/envs/radar-dev/lib/python3.8/site-packages/pyart/aux_io/odim_h5.py:295: DeprecationWarning: an integer is required (got type numpy.float32).  Implicit conversion to integers using __int__ is deprecated, and may be removed in a future version of Python.\n",
      "  start_time = datetime.datetime.utcfromtimestamp(start_epoch)\n",
      "/g/data/en0/jss548/miniconda3/envs/radar-dev/lib/python3.8/site-packages/sklearn/base.py:329: UserWarning: Trying to unpickle estimator GaussianMixture from version 0.21.3 when using version 0.23.1. This might lead to breaking code or invalid results. Use at your own risk.\n",
      "  warnings.warn(\n"
     ]
    },
    {
     "name": "stdout",
     "output_type": "stream",
     "text": [
      "/g/data/hj10/admin/opol/level_1/in2019_v01/20190124/9776HUB-PPIVol-20190124-061309-0000.hdf\n"
     ]
    },
    {
     "name": "stderr",
     "output_type": "stream",
     "text": [
      "/g/data/en0/jss548/miniconda3/envs/radar-dev/lib/python3.8/site-packages/pyart/aux_io/odim_h5.py:295: DeprecationWarning: an integer is required (got type numpy.float32).  Implicit conversion to integers using __int__ is deprecated, and may be removed in a future version of Python.\n",
      "  start_time = datetime.datetime.utcfromtimestamp(start_epoch)\n",
      "/g/data/en0/jss548/miniconda3/envs/radar-dev/lib/python3.8/site-packages/sklearn/base.py:329: UserWarning: Trying to unpickle estimator GaussianMixture from version 0.21.3 when using version 0.23.1. This might lead to breaking code or invalid results. Use at your own risk.\n",
      "  warnings.warn(\n"
     ]
    },
    {
     "name": "stdout",
     "output_type": "stream",
     "text": [
      "/g/data/hj10/admin/opol/level_1/in2019_v01/20190124/9776HUB-PPIVol-20190124-061841-0000.hdf\n"
     ]
    },
    {
     "name": "stderr",
     "output_type": "stream",
     "text": [
      "/g/data/en0/jss548/miniconda3/envs/radar-dev/lib/python3.8/site-packages/pyart/aux_io/odim_h5.py:295: DeprecationWarning: an integer is required (got type numpy.float32).  Implicit conversion to integers using __int__ is deprecated, and may be removed in a future version of Python.\n",
      "  start_time = datetime.datetime.utcfromtimestamp(start_epoch)\n",
      "/g/data/en0/jss548/miniconda3/envs/radar-dev/lib/python3.8/site-packages/sklearn/base.py:329: UserWarning: Trying to unpickle estimator GaussianMixture from version 0.21.3 when using version 0.23.1. This might lead to breaking code or invalid results. Use at your own risk.\n",
      "  warnings.warn(\n"
     ]
    },
    {
     "name": "stdout",
     "output_type": "stream",
     "text": [
      "/g/data/hj10/admin/opol/level_1/in2019_v01/20190124/9776HUB-PPIVol-20190124-061956-0000.hdf\n"
     ]
    },
    {
     "name": "stderr",
     "output_type": "stream",
     "text": [
      "/g/data/en0/jss548/miniconda3/envs/radar-dev/lib/python3.8/site-packages/pyart/aux_io/odim_h5.py:295: DeprecationWarning: an integer is required (got type numpy.float32).  Implicit conversion to integers using __int__ is deprecated, and may be removed in a future version of Python.\n",
      "  start_time = datetime.datetime.utcfromtimestamp(start_epoch)\n",
      "/g/data/en0/jss548/miniconda3/envs/radar-dev/lib/python3.8/site-packages/sklearn/base.py:329: UserWarning: Trying to unpickle estimator GaussianMixture from version 0.21.3 when using version 0.23.1. This might lead to breaking code or invalid results. Use at your own risk.\n",
      "  warnings.warn(\n"
     ]
    },
    {
     "name": "stdout",
     "output_type": "stream",
     "text": [
      "/g/data/hj10/admin/opol/level_1/in2019_v01/20190124/9776HUB-PPIVol-20190124-062528-0000.hdf\n"
     ]
    },
    {
     "name": "stderr",
     "output_type": "stream",
     "text": [
      "/g/data/en0/jss548/miniconda3/envs/radar-dev/lib/python3.8/site-packages/pyart/aux_io/odim_h5.py:295: DeprecationWarning: an integer is required (got type numpy.float32).  Implicit conversion to integers using __int__ is deprecated, and may be removed in a future version of Python.\n",
      "  start_time = datetime.datetime.utcfromtimestamp(start_epoch)\n",
      "/g/data/en0/jss548/miniconda3/envs/radar-dev/lib/python3.8/site-packages/sklearn/base.py:329: UserWarning: Trying to unpickle estimator GaussianMixture from version 0.21.3 when using version 0.23.1. This might lead to breaking code or invalid results. Use at your own risk.\n",
      "  warnings.warn(\n"
     ]
    },
    {
     "name": "stdout",
     "output_type": "stream",
     "text": [
      "/g/data/hj10/admin/opol/level_1/in2019_v01/20190124/9776HUB-PPIVol-20190124-062642-0000.hdf\n"
     ]
    },
    {
     "name": "stderr",
     "output_type": "stream",
     "text": [
      "/g/data/en0/jss548/miniconda3/envs/radar-dev/lib/python3.8/site-packages/pyart/aux_io/odim_h5.py:295: DeprecationWarning: an integer is required (got type numpy.float32).  Implicit conversion to integers using __int__ is deprecated, and may be removed in a future version of Python.\n",
      "  start_time = datetime.datetime.utcfromtimestamp(start_epoch)\n",
      "/g/data/en0/jss548/miniconda3/envs/radar-dev/lib/python3.8/site-packages/sklearn/base.py:329: UserWarning: Trying to unpickle estimator GaussianMixture from version 0.21.3 when using version 0.23.1. This might lead to breaking code or invalid results. Use at your own risk.\n",
      "  warnings.warn(\n"
     ]
    },
    {
     "name": "stdout",
     "output_type": "stream",
     "text": [
      "/g/data/hj10/admin/opol/level_1/in2019_v01/20190124/9776HUB-PPIVol-20190124-063214-0000.hdf\n"
     ]
    },
    {
     "name": "stderr",
     "output_type": "stream",
     "text": [
      "/g/data/en0/jss548/miniconda3/envs/radar-dev/lib/python3.8/site-packages/pyart/aux_io/odim_h5.py:295: DeprecationWarning: an integer is required (got type numpy.float32).  Implicit conversion to integers using __int__ is deprecated, and may be removed in a future version of Python.\n",
      "  start_time = datetime.datetime.utcfromtimestamp(start_epoch)\n",
      "/g/data/en0/jss548/miniconda3/envs/radar-dev/lib/python3.8/site-packages/sklearn/base.py:329: UserWarning: Trying to unpickle estimator GaussianMixture from version 0.21.3 when using version 0.23.1. This might lead to breaking code or invalid results. Use at your own risk.\n",
      "  warnings.warn(\n"
     ]
    },
    {
     "name": "stdout",
     "output_type": "stream",
     "text": [
      "/g/data/hj10/admin/opol/level_1/in2019_v01/20190124/9776HUB-PPIVol-20190124-063329-0000.hdf\n"
     ]
    },
    {
     "name": "stderr",
     "output_type": "stream",
     "text": [
      "/g/data/en0/jss548/miniconda3/envs/radar-dev/lib/python3.8/site-packages/pyart/aux_io/odim_h5.py:295: DeprecationWarning: an integer is required (got type numpy.float32).  Implicit conversion to integers using __int__ is deprecated, and may be removed in a future version of Python.\n",
      "  start_time = datetime.datetime.utcfromtimestamp(start_epoch)\n",
      "/g/data/en0/jss548/miniconda3/envs/radar-dev/lib/python3.8/site-packages/sklearn/base.py:329: UserWarning: Trying to unpickle estimator GaussianMixture from version 0.21.3 when using version 0.23.1. This might lead to breaking code or invalid results. Use at your own risk.\n",
      "  warnings.warn(\n"
     ]
    },
    {
     "name": "stdout",
     "output_type": "stream",
     "text": [
      "/g/data/hj10/admin/opol/level_1/in2019_v01/20190124/9776HUB-PPIVol-20190124-063900-0000.hdf\n"
     ]
    },
    {
     "name": "stderr",
     "output_type": "stream",
     "text": [
      "/g/data/en0/jss548/miniconda3/envs/radar-dev/lib/python3.8/site-packages/pyart/aux_io/odim_h5.py:295: DeprecationWarning: an integer is required (got type numpy.float32).  Implicit conversion to integers using __int__ is deprecated, and may be removed in a future version of Python.\n",
      "  start_time = datetime.datetime.utcfromtimestamp(start_epoch)\n",
      "/g/data/en0/jss548/miniconda3/envs/radar-dev/lib/python3.8/site-packages/sklearn/base.py:329: UserWarning: Trying to unpickle estimator GaussianMixture from version 0.21.3 when using version 0.23.1. This might lead to breaking code or invalid results. Use at your own risk.\n",
      "  warnings.warn(\n"
     ]
    },
    {
     "name": "stdout",
     "output_type": "stream",
     "text": [
      "/g/data/hj10/admin/opol/level_1/in2019_v01/20190124/9776HUB-PPIVol-20190124-064015-0000.hdf\n"
     ]
    },
    {
     "name": "stderr",
     "output_type": "stream",
     "text": [
      "/g/data/en0/jss548/miniconda3/envs/radar-dev/lib/python3.8/site-packages/pyart/aux_io/odim_h5.py:295: DeprecationWarning: an integer is required (got type numpy.float32).  Implicit conversion to integers using __int__ is deprecated, and may be removed in a future version of Python.\n",
      "  start_time = datetime.datetime.utcfromtimestamp(start_epoch)\n",
      "/g/data/en0/jss548/miniconda3/envs/radar-dev/lib/python3.8/site-packages/sklearn/base.py:329: UserWarning: Trying to unpickle estimator GaussianMixture from version 0.21.3 when using version 0.23.1. This might lead to breaking code or invalid results. Use at your own risk.\n",
      "  warnings.warn(\n"
     ]
    },
    {
     "name": "stdout",
     "output_type": "stream",
     "text": [
      "/g/data/hj10/admin/opol/level_1/in2019_v01/20190124/9776HUB-PPIVol-20190124-064547-0000.hdf\n"
     ]
    },
    {
     "name": "stderr",
     "output_type": "stream",
     "text": [
      "/g/data/en0/jss548/miniconda3/envs/radar-dev/lib/python3.8/site-packages/pyart/aux_io/odim_h5.py:295: DeprecationWarning: an integer is required (got type numpy.float32).  Implicit conversion to integers using __int__ is deprecated, and may be removed in a future version of Python.\n",
      "  start_time = datetime.datetime.utcfromtimestamp(start_epoch)\n",
      "/g/data/en0/jss548/miniconda3/envs/radar-dev/lib/python3.8/site-packages/sklearn/base.py:329: UserWarning: Trying to unpickle estimator GaussianMixture from version 0.21.3 when using version 0.23.1. This might lead to breaking code or invalid results. Use at your own risk.\n",
      "  warnings.warn(\n"
     ]
    },
    {
     "name": "stdout",
     "output_type": "stream",
     "text": [
      "/g/data/hj10/admin/opol/level_1/in2019_v01/20190124/9776HUB-PPIVol-20190124-064702-0000.hdf\n"
     ]
    },
    {
     "name": "stderr",
     "output_type": "stream",
     "text": [
      "/g/data/en0/jss548/miniconda3/envs/radar-dev/lib/python3.8/site-packages/pyart/aux_io/odim_h5.py:295: DeprecationWarning: an integer is required (got type numpy.float32).  Implicit conversion to integers using __int__ is deprecated, and may be removed in a future version of Python.\n",
      "  start_time = datetime.datetime.utcfromtimestamp(start_epoch)\n",
      "/g/data/en0/jss548/miniconda3/envs/radar-dev/lib/python3.8/site-packages/sklearn/base.py:329: UserWarning: Trying to unpickle estimator GaussianMixture from version 0.21.3 when using version 0.23.1. This might lead to breaking code or invalid results. Use at your own risk.\n",
      "  warnings.warn(\n"
     ]
    },
    {
     "name": "stdout",
     "output_type": "stream",
     "text": [
      "/g/data/hj10/admin/opol/level_1/in2019_v01/20190124/9776HUB-PPIVol-20190124-065233-0000.hdf\n"
     ]
    },
    {
     "name": "stderr",
     "output_type": "stream",
     "text": [
      "/g/data/en0/jss548/miniconda3/envs/radar-dev/lib/python3.8/site-packages/pyart/aux_io/odim_h5.py:295: DeprecationWarning: an integer is required (got type numpy.float32).  Implicit conversion to integers using __int__ is deprecated, and may be removed in a future version of Python.\n",
      "  start_time = datetime.datetime.utcfromtimestamp(start_epoch)\n",
      "/g/data/en0/jss548/miniconda3/envs/radar-dev/lib/python3.8/site-packages/sklearn/base.py:329: UserWarning: Trying to unpickle estimator GaussianMixture from version 0.21.3 when using version 0.23.1. This might lead to breaking code or invalid results. Use at your own risk.\n",
      "  warnings.warn(\n"
     ]
    },
    {
     "name": "stdout",
     "output_type": "stream",
     "text": [
      "/g/data/hj10/admin/opol/level_1/in2019_v01/20190124/9776HUB-PPIVol-20190124-065348-0000.hdf\n"
     ]
    },
    {
     "name": "stderr",
     "output_type": "stream",
     "text": [
      "/g/data/en0/jss548/miniconda3/envs/radar-dev/lib/python3.8/site-packages/pyart/aux_io/odim_h5.py:295: DeprecationWarning: an integer is required (got type numpy.float32).  Implicit conversion to integers using __int__ is deprecated, and may be removed in a future version of Python.\n",
      "  start_time = datetime.datetime.utcfromtimestamp(start_epoch)\n",
      "/g/data/en0/jss548/miniconda3/envs/radar-dev/lib/python3.8/site-packages/sklearn/base.py:329: UserWarning: Trying to unpickle estimator GaussianMixture from version 0.21.3 when using version 0.23.1. This might lead to breaking code or invalid results. Use at your own risk.\n",
      "  warnings.warn(\n"
     ]
    },
    {
     "name": "stdout",
     "output_type": "stream",
     "text": [
      "/g/data/hj10/admin/opol/level_1/in2019_v01/20190124/9776HUB-PPIVol-20190124-065920-0000.hdf\n"
     ]
    },
    {
     "name": "stderr",
     "output_type": "stream",
     "text": [
      "/g/data/en0/jss548/miniconda3/envs/radar-dev/lib/python3.8/site-packages/pyart/aux_io/odim_h5.py:295: DeprecationWarning: an integer is required (got type numpy.float32).  Implicit conversion to integers using __int__ is deprecated, and may be removed in a future version of Python.\n",
      "  start_time = datetime.datetime.utcfromtimestamp(start_epoch)\n",
      "/g/data/en0/jss548/miniconda3/envs/radar-dev/lib/python3.8/site-packages/sklearn/base.py:329: UserWarning: Trying to unpickle estimator GaussianMixture from version 0.21.3 when using version 0.23.1. This might lead to breaking code or invalid results. Use at your own risk.\n",
      "  warnings.warn(\n"
     ]
    },
    {
     "name": "stdout",
     "output_type": "stream",
     "text": [
      "/g/data/hj10/admin/opol/level_1/in2019_v01/20190124/9776HUB-PPIVol-20190124-070035-0000.hdf\n"
     ]
    },
    {
     "name": "stderr",
     "output_type": "stream",
     "text": [
      "/g/data/en0/jss548/miniconda3/envs/radar-dev/lib/python3.8/site-packages/pyart/aux_io/odim_h5.py:295: DeprecationWarning: an integer is required (got type numpy.float32).  Implicit conversion to integers using __int__ is deprecated, and may be removed in a future version of Python.\n",
      "  start_time = datetime.datetime.utcfromtimestamp(start_epoch)\n",
      "/g/data/en0/jss548/miniconda3/envs/radar-dev/lib/python3.8/site-packages/sklearn/base.py:329: UserWarning: Trying to unpickle estimator GaussianMixture from version 0.21.3 when using version 0.23.1. This might lead to breaking code or invalid results. Use at your own risk.\n",
      "  warnings.warn(\n"
     ]
    },
    {
     "name": "stdout",
     "output_type": "stream",
     "text": [
      "/g/data/hj10/admin/opol/level_1/in2019_v01/20190124/9776HUB-PPIVol-20190124-070606-0000.hdf\n"
     ]
    },
    {
     "name": "stderr",
     "output_type": "stream",
     "text": [
      "/g/data/en0/jss548/miniconda3/envs/radar-dev/lib/python3.8/site-packages/pyart/aux_io/odim_h5.py:295: DeprecationWarning: an integer is required (got type numpy.float32).  Implicit conversion to integers using __int__ is deprecated, and may be removed in a future version of Python.\n",
      "  start_time = datetime.datetime.utcfromtimestamp(start_epoch)\n",
      "/g/data/en0/jss548/miniconda3/envs/radar-dev/lib/python3.8/site-packages/sklearn/base.py:329: UserWarning: Trying to unpickle estimator GaussianMixture from version 0.21.3 when using version 0.23.1. This might lead to breaking code or invalid results. Use at your own risk.\n",
      "  warnings.warn(\n"
     ]
    },
    {
     "name": "stdout",
     "output_type": "stream",
     "text": [
      "/g/data/hj10/admin/opol/level_1/in2019_v01/20190124/9776HUB-PPIVol-20190124-070721-0000.hdf\n"
     ]
    },
    {
     "name": "stderr",
     "output_type": "stream",
     "text": [
      "/g/data/en0/jss548/miniconda3/envs/radar-dev/lib/python3.8/site-packages/pyart/aux_io/odim_h5.py:295: DeprecationWarning: an integer is required (got type numpy.float32).  Implicit conversion to integers using __int__ is deprecated, and may be removed in a future version of Python.\n",
      "  start_time = datetime.datetime.utcfromtimestamp(start_epoch)\n",
      "/g/data/en0/jss548/miniconda3/envs/radar-dev/lib/python3.8/site-packages/sklearn/base.py:329: UserWarning: Trying to unpickle estimator GaussianMixture from version 0.21.3 when using version 0.23.1. This might lead to breaking code or invalid results. Use at your own risk.\n",
      "  warnings.warn(\n"
     ]
    },
    {
     "name": "stdout",
     "output_type": "stream",
     "text": [
      "/g/data/hj10/admin/opol/level_1/in2019_v01/20190124/9776HUB-PPIVol-20190124-071253-0000.hdf\n"
     ]
    },
    {
     "name": "stderr",
     "output_type": "stream",
     "text": [
      "/g/data/en0/jss548/miniconda3/envs/radar-dev/lib/python3.8/site-packages/pyart/aux_io/odim_h5.py:295: DeprecationWarning: an integer is required (got type numpy.float32).  Implicit conversion to integers using __int__ is deprecated, and may be removed in a future version of Python.\n",
      "  start_time = datetime.datetime.utcfromtimestamp(start_epoch)\n",
      "/g/data/en0/jss548/miniconda3/envs/radar-dev/lib/python3.8/site-packages/sklearn/base.py:329: UserWarning: Trying to unpickle estimator GaussianMixture from version 0.21.3 when using version 0.23.1. This might lead to breaking code or invalid results. Use at your own risk.\n",
      "  warnings.warn(\n"
     ]
    },
    {
     "name": "stdout",
     "output_type": "stream",
     "text": [
      "/g/data/hj10/admin/opol/level_1/in2019_v01/20190124/9776HUB-PPIVol-20190124-071407-0000.hdf\n"
     ]
    },
    {
     "name": "stderr",
     "output_type": "stream",
     "text": [
      "/g/data/en0/jss548/miniconda3/envs/radar-dev/lib/python3.8/site-packages/pyart/aux_io/odim_h5.py:295: DeprecationWarning: an integer is required (got type numpy.float32).  Implicit conversion to integers using __int__ is deprecated, and may be removed in a future version of Python.\n",
      "  start_time = datetime.datetime.utcfromtimestamp(start_epoch)\n",
      "/g/data/en0/jss548/miniconda3/envs/radar-dev/lib/python3.8/site-packages/sklearn/base.py:329: UserWarning: Trying to unpickle estimator GaussianMixture from version 0.21.3 when using version 0.23.1. This might lead to breaking code or invalid results. Use at your own risk.\n",
      "  warnings.warn(\n"
     ]
    },
    {
     "name": "stdout",
     "output_type": "stream",
     "text": [
      "/g/data/hj10/admin/opol/level_1/in2019_v01/20190124/9776HUB-PPIVol-20190124-071939-0000.hdf\n"
     ]
    },
    {
     "name": "stderr",
     "output_type": "stream",
     "text": [
      "/g/data/en0/jss548/miniconda3/envs/radar-dev/lib/python3.8/site-packages/pyart/aux_io/odim_h5.py:295: DeprecationWarning: an integer is required (got type numpy.float32).  Implicit conversion to integers using __int__ is deprecated, and may be removed in a future version of Python.\n",
      "  start_time = datetime.datetime.utcfromtimestamp(start_epoch)\n",
      "/g/data/en0/jss548/miniconda3/envs/radar-dev/lib/python3.8/site-packages/sklearn/base.py:329: UserWarning: Trying to unpickle estimator GaussianMixture from version 0.21.3 when using version 0.23.1. This might lead to breaking code or invalid results. Use at your own risk.\n",
      "  warnings.warn(\n"
     ]
    },
    {
     "name": "stdout",
     "output_type": "stream",
     "text": [
      "/g/data/hj10/admin/opol/level_1/in2019_v01/20190124/9776HUB-PPIVol-20190124-072054-0000.hdf\n"
     ]
    },
    {
     "name": "stderr",
     "output_type": "stream",
     "text": [
      "/g/data/en0/jss548/miniconda3/envs/radar-dev/lib/python3.8/site-packages/pyart/aux_io/odim_h5.py:295: DeprecationWarning: an integer is required (got type numpy.float32).  Implicit conversion to integers using __int__ is deprecated, and may be removed in a future version of Python.\n",
      "  start_time = datetime.datetime.utcfromtimestamp(start_epoch)\n",
      "/g/data/en0/jss548/miniconda3/envs/radar-dev/lib/python3.8/site-packages/sklearn/base.py:329: UserWarning: Trying to unpickle estimator GaussianMixture from version 0.21.3 when using version 0.23.1. This might lead to breaking code or invalid results. Use at your own risk.\n",
      "  warnings.warn(\n"
     ]
    },
    {
     "name": "stdout",
     "output_type": "stream",
     "text": [
      "/g/data/hj10/admin/opol/level_1/in2019_v01/20190124/9776HUB-PPIVol-20190124-072626-0000.hdf\n"
     ]
    },
    {
     "name": "stderr",
     "output_type": "stream",
     "text": [
      "/g/data/en0/jss548/miniconda3/envs/radar-dev/lib/python3.8/site-packages/pyart/aux_io/odim_h5.py:295: DeprecationWarning: an integer is required (got type numpy.float32).  Implicit conversion to integers using __int__ is deprecated, and may be removed in a future version of Python.\n",
      "  start_time = datetime.datetime.utcfromtimestamp(start_epoch)\n",
      "/g/data/en0/jss548/miniconda3/envs/radar-dev/lib/python3.8/site-packages/sklearn/base.py:329: UserWarning: Trying to unpickle estimator GaussianMixture from version 0.21.3 when using version 0.23.1. This might lead to breaking code or invalid results. Use at your own risk.\n",
      "  warnings.warn(\n"
     ]
    },
    {
     "name": "stdout",
     "output_type": "stream",
     "text": [
      "/g/data/hj10/admin/opol/level_1/in2019_v01/20190124/9776HUB-PPIVol-20190124-072740-0000.hdf\n"
     ]
    },
    {
     "name": "stderr",
     "output_type": "stream",
     "text": [
      "/g/data/en0/jss548/miniconda3/envs/radar-dev/lib/python3.8/site-packages/pyart/aux_io/odim_h5.py:295: DeprecationWarning: an integer is required (got type numpy.float32).  Implicit conversion to integers using __int__ is deprecated, and may be removed in a future version of Python.\n",
      "  start_time = datetime.datetime.utcfromtimestamp(start_epoch)\n",
      "/g/data/en0/jss548/miniconda3/envs/radar-dev/lib/python3.8/site-packages/sklearn/base.py:329: UserWarning: Trying to unpickle estimator GaussianMixture from version 0.21.3 when using version 0.23.1. This might lead to breaking code or invalid results. Use at your own risk.\n",
      "  warnings.warn(\n"
     ]
    },
    {
     "name": "stdout",
     "output_type": "stream",
     "text": [
      "/g/data/hj10/admin/opol/level_1/in2019_v01/20190124/9776HUB-PPIVol-20190124-073312-0000.hdf\n"
     ]
    },
    {
     "name": "stderr",
     "output_type": "stream",
     "text": [
      "/g/data/en0/jss548/miniconda3/envs/radar-dev/lib/python3.8/site-packages/pyart/aux_io/odim_h5.py:295: DeprecationWarning: an integer is required (got type numpy.float32).  Implicit conversion to integers using __int__ is deprecated, and may be removed in a future version of Python.\n",
      "  start_time = datetime.datetime.utcfromtimestamp(start_epoch)\n",
      "/g/data/en0/jss548/miniconda3/envs/radar-dev/lib/python3.8/site-packages/sklearn/base.py:329: UserWarning: Trying to unpickle estimator GaussianMixture from version 0.21.3 when using version 0.23.1. This might lead to breaking code or invalid results. Use at your own risk.\n",
      "  warnings.warn(\n"
     ]
    },
    {
     "name": "stdout",
     "output_type": "stream",
     "text": [
      "/g/data/hj10/admin/opol/level_1/in2019_v01/20190124/9776HUB-PPIVol-20190124-073427-0000.hdf\n"
     ]
    },
    {
     "name": "stderr",
     "output_type": "stream",
     "text": [
      "/g/data/en0/jss548/miniconda3/envs/radar-dev/lib/python3.8/site-packages/pyart/aux_io/odim_h5.py:295: DeprecationWarning: an integer is required (got type numpy.float32).  Implicit conversion to integers using __int__ is deprecated, and may be removed in a future version of Python.\n",
      "  start_time = datetime.datetime.utcfromtimestamp(start_epoch)\n",
      "/g/data/en0/jss548/miniconda3/envs/radar-dev/lib/python3.8/site-packages/sklearn/base.py:329: UserWarning: Trying to unpickle estimator GaussianMixture from version 0.21.3 when using version 0.23.1. This might lead to breaking code or invalid results. Use at your own risk.\n",
      "  warnings.warn(\n"
     ]
    },
    {
     "name": "stdout",
     "output_type": "stream",
     "text": [
      "/g/data/hj10/admin/opol/level_1/in2019_v01/20190124/9776HUB-PPIVol-20190124-073959-0000.hdf\n"
     ]
    },
    {
     "name": "stderr",
     "output_type": "stream",
     "text": [
      "/g/data/en0/jss548/miniconda3/envs/radar-dev/lib/python3.8/site-packages/pyart/aux_io/odim_h5.py:295: DeprecationWarning: an integer is required (got type numpy.float32).  Implicit conversion to integers using __int__ is deprecated, and may be removed in a future version of Python.\n",
      "  start_time = datetime.datetime.utcfromtimestamp(start_epoch)\n",
      "/g/data/en0/jss548/miniconda3/envs/radar-dev/lib/python3.8/site-packages/sklearn/base.py:329: UserWarning: Trying to unpickle estimator GaussianMixture from version 0.21.3 when using version 0.23.1. This might lead to breaking code or invalid results. Use at your own risk.\n",
      "  warnings.warn(\n"
     ]
    },
    {
     "name": "stdout",
     "output_type": "stream",
     "text": [
      "/g/data/hj10/admin/opol/level_1/in2019_v01/20190124/9776HUB-PPIVol-20190124-074113-0000.hdf\n"
     ]
    },
    {
     "name": "stderr",
     "output_type": "stream",
     "text": [
      "/g/data/en0/jss548/miniconda3/envs/radar-dev/lib/python3.8/site-packages/pyart/aux_io/odim_h5.py:295: DeprecationWarning: an integer is required (got type numpy.float32).  Implicit conversion to integers using __int__ is deprecated, and may be removed in a future version of Python.\n",
      "  start_time = datetime.datetime.utcfromtimestamp(start_epoch)\n",
      "/g/data/en0/jss548/miniconda3/envs/radar-dev/lib/python3.8/site-packages/sklearn/base.py:329: UserWarning: Trying to unpickle estimator GaussianMixture from version 0.21.3 when using version 0.23.1. This might lead to breaking code or invalid results. Use at your own risk.\n",
      "  warnings.warn(\n"
     ]
    },
    {
     "name": "stdout",
     "output_type": "stream",
     "text": [
      "/g/data/hj10/admin/opol/level_1/in2019_v01/20190124/9776HUB-PPIVol-20190124-074645-0000.hdf\n"
     ]
    },
    {
     "name": "stderr",
     "output_type": "stream",
     "text": [
      "/g/data/en0/jss548/miniconda3/envs/radar-dev/lib/python3.8/site-packages/pyart/aux_io/odim_h5.py:295: DeprecationWarning: an integer is required (got type numpy.float32).  Implicit conversion to integers using __int__ is deprecated, and may be removed in a future version of Python.\n",
      "  start_time = datetime.datetime.utcfromtimestamp(start_epoch)\n",
      "/g/data/en0/jss548/miniconda3/envs/radar-dev/lib/python3.8/site-packages/sklearn/base.py:329: UserWarning: Trying to unpickle estimator GaussianMixture from version 0.21.3 when using version 0.23.1. This might lead to breaking code or invalid results. Use at your own risk.\n",
      "  warnings.warn(\n"
     ]
    },
    {
     "name": "stdout",
     "output_type": "stream",
     "text": [
      "/g/data/hj10/admin/opol/level_1/in2019_v01/20190124/9776HUB-PPIVol-20190124-074800-0000.hdf\n"
     ]
    },
    {
     "name": "stderr",
     "output_type": "stream",
     "text": [
      "/g/data/en0/jss548/miniconda3/envs/radar-dev/lib/python3.8/site-packages/pyart/aux_io/odim_h5.py:295: DeprecationWarning: an integer is required (got type numpy.float32).  Implicit conversion to integers using __int__ is deprecated, and may be removed in a future version of Python.\n",
      "  start_time = datetime.datetime.utcfromtimestamp(start_epoch)\n",
      "/g/data/en0/jss548/miniconda3/envs/radar-dev/lib/python3.8/site-packages/sklearn/base.py:329: UserWarning: Trying to unpickle estimator GaussianMixture from version 0.21.3 when using version 0.23.1. This might lead to breaking code or invalid results. Use at your own risk.\n",
      "  warnings.warn(\n"
     ]
    },
    {
     "name": "stdout",
     "output_type": "stream",
     "text": [
      "/g/data/hj10/admin/opol/level_1/in2019_v01/20190124/9776HUB-PPIVol-20190124-075332-0000.hdf\n"
     ]
    },
    {
     "name": "stderr",
     "output_type": "stream",
     "text": [
      "/g/data/en0/jss548/miniconda3/envs/radar-dev/lib/python3.8/site-packages/pyart/aux_io/odim_h5.py:295: DeprecationWarning: an integer is required (got type numpy.float32).  Implicit conversion to integers using __int__ is deprecated, and may be removed in a future version of Python.\n",
      "  start_time = datetime.datetime.utcfromtimestamp(start_epoch)\n",
      "/g/data/en0/jss548/miniconda3/envs/radar-dev/lib/python3.8/site-packages/sklearn/base.py:329: UserWarning: Trying to unpickle estimator GaussianMixture from version 0.21.3 when using version 0.23.1. This might lead to breaking code or invalid results. Use at your own risk.\n",
      "  warnings.warn(\n"
     ]
    },
    {
     "name": "stdout",
     "output_type": "stream",
     "text": [
      "/g/data/hj10/admin/opol/level_1/in2019_v01/20190124/9776HUB-PPIVol-20190124-075446-0000.hdf\n"
     ]
    },
    {
     "name": "stderr",
     "output_type": "stream",
     "text": [
      "/g/data/en0/jss548/miniconda3/envs/radar-dev/lib/python3.8/site-packages/pyart/aux_io/odim_h5.py:295: DeprecationWarning: an integer is required (got type numpy.float32).  Implicit conversion to integers using __int__ is deprecated, and may be removed in a future version of Python.\n",
      "  start_time = datetime.datetime.utcfromtimestamp(start_epoch)\n",
      "/g/data/en0/jss548/miniconda3/envs/radar-dev/lib/python3.8/site-packages/sklearn/base.py:329: UserWarning: Trying to unpickle estimator GaussianMixture from version 0.21.3 when using version 0.23.1. This might lead to breaking code or invalid results. Use at your own risk.\n",
      "  warnings.warn(\n"
     ]
    },
    {
     "name": "stdout",
     "output_type": "stream",
     "text": [
      "/g/data/hj10/admin/opol/level_1/in2019_v01/20190124/9776HUB-PPIVol-20190124-080018-0000.hdf\n"
     ]
    },
    {
     "name": "stderr",
     "output_type": "stream",
     "text": [
      "/g/data/en0/jss548/miniconda3/envs/radar-dev/lib/python3.8/site-packages/pyart/aux_io/odim_h5.py:295: DeprecationWarning: an integer is required (got type numpy.float32).  Implicit conversion to integers using __int__ is deprecated, and may be removed in a future version of Python.\n",
      "  start_time = datetime.datetime.utcfromtimestamp(start_epoch)\n",
      "/g/data/en0/jss548/miniconda3/envs/radar-dev/lib/python3.8/site-packages/sklearn/base.py:329: UserWarning: Trying to unpickle estimator GaussianMixture from version 0.21.3 when using version 0.23.1. This might lead to breaking code or invalid results. Use at your own risk.\n",
      "  warnings.warn(\n"
     ]
    },
    {
     "name": "stdout",
     "output_type": "stream",
     "text": [
      "/g/data/hj10/admin/opol/level_1/in2019_v01/20190124/9776HUB-PPIVol-20190124-080133-0000.hdf\n"
     ]
    },
    {
     "name": "stderr",
     "output_type": "stream",
     "text": [
      "/g/data/en0/jss548/miniconda3/envs/radar-dev/lib/python3.8/site-packages/pyart/aux_io/odim_h5.py:295: DeprecationWarning: an integer is required (got type numpy.float32).  Implicit conversion to integers using __int__ is deprecated, and may be removed in a future version of Python.\n",
      "  start_time = datetime.datetime.utcfromtimestamp(start_epoch)\n",
      "/g/data/en0/jss548/miniconda3/envs/radar-dev/lib/python3.8/site-packages/sklearn/base.py:329: UserWarning: Trying to unpickle estimator GaussianMixture from version 0.21.3 when using version 0.23.1. This might lead to breaking code or invalid results. Use at your own risk.\n",
      "  warnings.warn(\n"
     ]
    },
    {
     "name": "stdout",
     "output_type": "stream",
     "text": [
      "/g/data/hj10/admin/opol/level_1/in2019_v01/20190124/9776HUB-PPIVol-20190124-080705-0000.hdf\n"
     ]
    },
    {
     "name": "stderr",
     "output_type": "stream",
     "text": [
      "/g/data/en0/jss548/miniconda3/envs/radar-dev/lib/python3.8/site-packages/pyart/aux_io/odim_h5.py:295: DeprecationWarning: an integer is required (got type numpy.float32).  Implicit conversion to integers using __int__ is deprecated, and may be removed in a future version of Python.\n",
      "  start_time = datetime.datetime.utcfromtimestamp(start_epoch)\n",
      "/g/data/en0/jss548/miniconda3/envs/radar-dev/lib/python3.8/site-packages/sklearn/base.py:329: UserWarning: Trying to unpickle estimator GaussianMixture from version 0.21.3 when using version 0.23.1. This might lead to breaking code or invalid results. Use at your own risk.\n",
      "  warnings.warn(\n"
     ]
    },
    {
     "name": "stdout",
     "output_type": "stream",
     "text": [
      "/g/data/hj10/admin/opol/level_1/in2019_v01/20190124/9776HUB-PPIVol-20190124-080819-0000.hdf\n"
     ]
    },
    {
     "name": "stderr",
     "output_type": "stream",
     "text": [
      "/g/data/en0/jss548/miniconda3/envs/radar-dev/lib/python3.8/site-packages/pyart/aux_io/odim_h5.py:295: DeprecationWarning: an integer is required (got type numpy.float32).  Implicit conversion to integers using __int__ is deprecated, and may be removed in a future version of Python.\n",
      "  start_time = datetime.datetime.utcfromtimestamp(start_epoch)\n",
      "/g/data/en0/jss548/miniconda3/envs/radar-dev/lib/python3.8/site-packages/sklearn/base.py:329: UserWarning: Trying to unpickle estimator GaussianMixture from version 0.21.3 when using version 0.23.1. This might lead to breaking code or invalid results. Use at your own risk.\n",
      "  warnings.warn(\n"
     ]
    },
    {
     "name": "stdout",
     "output_type": "stream",
     "text": [
      "/g/data/hj10/admin/opol/level_1/in2019_v01/20190124/9776HUB-PPIVol-20190124-081351-0000.hdf\n"
     ]
    },
    {
     "name": "stderr",
     "output_type": "stream",
     "text": [
      "/g/data/en0/jss548/miniconda3/envs/radar-dev/lib/python3.8/site-packages/pyart/aux_io/odim_h5.py:295: DeprecationWarning: an integer is required (got type numpy.float32).  Implicit conversion to integers using __int__ is deprecated, and may be removed in a future version of Python.\n",
      "  start_time = datetime.datetime.utcfromtimestamp(start_epoch)\n",
      "/g/data/en0/jss548/miniconda3/envs/radar-dev/lib/python3.8/site-packages/sklearn/base.py:329: UserWarning: Trying to unpickle estimator GaussianMixture from version 0.21.3 when using version 0.23.1. This might lead to breaking code or invalid results. Use at your own risk.\n",
      "  warnings.warn(\n"
     ]
    },
    {
     "name": "stdout",
     "output_type": "stream",
     "text": [
      "/g/data/hj10/admin/opol/level_1/in2019_v01/20190124/9776HUB-PPIVol-20190124-081506-0000.hdf\n"
     ]
    },
    {
     "name": "stderr",
     "output_type": "stream",
     "text": [
      "/g/data/en0/jss548/miniconda3/envs/radar-dev/lib/python3.8/site-packages/pyart/aux_io/odim_h5.py:295: DeprecationWarning: an integer is required (got type numpy.float32).  Implicit conversion to integers using __int__ is deprecated, and may be removed in a future version of Python.\n",
      "  start_time = datetime.datetime.utcfromtimestamp(start_epoch)\n",
      "/g/data/en0/jss548/miniconda3/envs/radar-dev/lib/python3.8/site-packages/sklearn/base.py:329: UserWarning: Trying to unpickle estimator GaussianMixture from version 0.21.3 when using version 0.23.1. This might lead to breaking code or invalid results. Use at your own risk.\n",
      "  warnings.warn(\n"
     ]
    },
    {
     "name": "stdout",
     "output_type": "stream",
     "text": [
      "/g/data/hj10/admin/opol/level_1/in2019_v01/20190124/9776HUB-PPIVol-20190124-082037-0000.hdf\n"
     ]
    },
    {
     "name": "stderr",
     "output_type": "stream",
     "text": [
      "/g/data/en0/jss548/miniconda3/envs/radar-dev/lib/python3.8/site-packages/pyart/aux_io/odim_h5.py:295: DeprecationWarning: an integer is required (got type numpy.float32).  Implicit conversion to integers using __int__ is deprecated, and may be removed in a future version of Python.\n",
      "  start_time = datetime.datetime.utcfromtimestamp(start_epoch)\n",
      "/g/data/en0/jss548/miniconda3/envs/radar-dev/lib/python3.8/site-packages/sklearn/base.py:329: UserWarning: Trying to unpickle estimator GaussianMixture from version 0.21.3 when using version 0.23.1. This might lead to breaking code or invalid results. Use at your own risk.\n",
      "  warnings.warn(\n"
     ]
    },
    {
     "name": "stdout",
     "output_type": "stream",
     "text": [
      "/g/data/hj10/admin/opol/level_1/in2019_v01/20190124/9776HUB-PPIVol-20190124-082152-0000.hdf\n"
     ]
    },
    {
     "name": "stderr",
     "output_type": "stream",
     "text": [
      "/g/data/en0/jss548/miniconda3/envs/radar-dev/lib/python3.8/site-packages/pyart/aux_io/odim_h5.py:295: DeprecationWarning: an integer is required (got type numpy.float32).  Implicit conversion to integers using __int__ is deprecated, and may be removed in a future version of Python.\n",
      "  start_time = datetime.datetime.utcfromtimestamp(start_epoch)\n",
      "/g/data/en0/jss548/miniconda3/envs/radar-dev/lib/python3.8/site-packages/sklearn/base.py:329: UserWarning: Trying to unpickle estimator GaussianMixture from version 0.21.3 when using version 0.23.1. This might lead to breaking code or invalid results. Use at your own risk.\n",
      "  warnings.warn(\n"
     ]
    },
    {
     "name": "stdout",
     "output_type": "stream",
     "text": [
      "/g/data/hj10/admin/opol/level_1/in2019_v01/20190124/9776HUB-PPIVol-20190124-082724-0000.hdf\n"
     ]
    },
    {
     "name": "stderr",
     "output_type": "stream",
     "text": [
      "/g/data/en0/jss548/miniconda3/envs/radar-dev/lib/python3.8/site-packages/pyart/aux_io/odim_h5.py:295: DeprecationWarning: an integer is required (got type numpy.float32).  Implicit conversion to integers using __int__ is deprecated, and may be removed in a future version of Python.\n",
      "  start_time = datetime.datetime.utcfromtimestamp(start_epoch)\n",
      "/g/data/en0/jss548/miniconda3/envs/radar-dev/lib/python3.8/site-packages/sklearn/base.py:329: UserWarning: Trying to unpickle estimator GaussianMixture from version 0.21.3 when using version 0.23.1. This might lead to breaking code or invalid results. Use at your own risk.\n",
      "  warnings.warn(\n"
     ]
    },
    {
     "name": "stdout",
     "output_type": "stream",
     "text": [
      "/g/data/hj10/admin/opol/level_1/in2019_v01/20190124/9776HUB-PPIVol-20190124-082839-0000.hdf\n"
     ]
    },
    {
     "name": "stderr",
     "output_type": "stream",
     "text": [
      "/g/data/en0/jss548/miniconda3/envs/radar-dev/lib/python3.8/site-packages/pyart/aux_io/odim_h5.py:295: DeprecationWarning: an integer is required (got type numpy.float32).  Implicit conversion to integers using __int__ is deprecated, and may be removed in a future version of Python.\n",
      "  start_time = datetime.datetime.utcfromtimestamp(start_epoch)\n",
      "/g/data/en0/jss548/miniconda3/envs/radar-dev/lib/python3.8/site-packages/sklearn/base.py:329: UserWarning: Trying to unpickle estimator GaussianMixture from version 0.21.3 when using version 0.23.1. This might lead to breaking code or invalid results. Use at your own risk.\n",
      "  warnings.warn(\n"
     ]
    },
    {
     "name": "stdout",
     "output_type": "stream",
     "text": [
      "/g/data/hj10/admin/opol/level_1/in2019_v01/20190124/9776HUB-PPIVol-20190124-083410-0000.hdf\n"
     ]
    },
    {
     "name": "stderr",
     "output_type": "stream",
     "text": [
      "/g/data/en0/jss548/miniconda3/envs/radar-dev/lib/python3.8/site-packages/pyart/aux_io/odim_h5.py:295: DeprecationWarning: an integer is required (got type numpy.float32).  Implicit conversion to integers using __int__ is deprecated, and may be removed in a future version of Python.\n",
      "  start_time = datetime.datetime.utcfromtimestamp(start_epoch)\n",
      "/g/data/en0/jss548/miniconda3/envs/radar-dev/lib/python3.8/site-packages/sklearn/base.py:329: UserWarning: Trying to unpickle estimator GaussianMixture from version 0.21.3 when using version 0.23.1. This might lead to breaking code or invalid results. Use at your own risk.\n",
      "  warnings.warn(\n"
     ]
    },
    {
     "name": "stdout",
     "output_type": "stream",
     "text": [
      "/g/data/hj10/admin/opol/level_1/in2019_v01/20190124/9776HUB-PPIVol-20190124-083525-0000.hdf\n"
     ]
    },
    {
     "name": "stderr",
     "output_type": "stream",
     "text": [
      "/g/data/en0/jss548/miniconda3/envs/radar-dev/lib/python3.8/site-packages/pyart/aux_io/odim_h5.py:295: DeprecationWarning: an integer is required (got type numpy.float32).  Implicit conversion to integers using __int__ is deprecated, and may be removed in a future version of Python.\n",
      "  start_time = datetime.datetime.utcfromtimestamp(start_epoch)\n",
      "/g/data/en0/jss548/miniconda3/envs/radar-dev/lib/python3.8/site-packages/sklearn/base.py:329: UserWarning: Trying to unpickle estimator GaussianMixture from version 0.21.3 when using version 0.23.1. This might lead to breaking code or invalid results. Use at your own risk.\n",
      "  warnings.warn(\n"
     ]
    },
    {
     "name": "stdout",
     "output_type": "stream",
     "text": [
      "/g/data/hj10/admin/opol/level_1/in2019_v01/20190124/9776HUB-PPIVol-20190124-084057-0000.hdf\n"
     ]
    },
    {
     "name": "stderr",
     "output_type": "stream",
     "text": [
      "/g/data/en0/jss548/miniconda3/envs/radar-dev/lib/python3.8/site-packages/pyart/aux_io/odim_h5.py:295: DeprecationWarning: an integer is required (got type numpy.float32).  Implicit conversion to integers using __int__ is deprecated, and may be removed in a future version of Python.\n",
      "  start_time = datetime.datetime.utcfromtimestamp(start_epoch)\n",
      "/g/data/en0/jss548/miniconda3/envs/radar-dev/lib/python3.8/site-packages/sklearn/base.py:329: UserWarning: Trying to unpickle estimator GaussianMixture from version 0.21.3 when using version 0.23.1. This might lead to breaking code or invalid results. Use at your own risk.\n",
      "  warnings.warn(\n"
     ]
    },
    {
     "name": "stdout",
     "output_type": "stream",
     "text": [
      "/g/data/hj10/admin/opol/level_1/in2019_v01/20190124/9776HUB-PPIVol-20190124-084211-0000.hdf\n"
     ]
    },
    {
     "name": "stderr",
     "output_type": "stream",
     "text": [
      "/g/data/en0/jss548/miniconda3/envs/radar-dev/lib/python3.8/site-packages/pyart/aux_io/odim_h5.py:295: DeprecationWarning: an integer is required (got type numpy.float32).  Implicit conversion to integers using __int__ is deprecated, and may be removed in a future version of Python.\n",
      "  start_time = datetime.datetime.utcfromtimestamp(start_epoch)\n",
      "/g/data/en0/jss548/miniconda3/envs/radar-dev/lib/python3.8/site-packages/sklearn/base.py:329: UserWarning: Trying to unpickle estimator GaussianMixture from version 0.21.3 when using version 0.23.1. This might lead to breaking code or invalid results. Use at your own risk.\n",
      "  warnings.warn(\n"
     ]
    },
    {
     "name": "stdout",
     "output_type": "stream",
     "text": [
      "/g/data/hj10/admin/opol/level_1/in2019_v01/20190124/9776HUB-PPIVol-20190124-084743-0000.hdf\n"
     ]
    },
    {
     "name": "stderr",
     "output_type": "stream",
     "text": [
      "/g/data/en0/jss548/miniconda3/envs/radar-dev/lib/python3.8/site-packages/pyart/aux_io/odim_h5.py:295: DeprecationWarning: an integer is required (got type numpy.float32).  Implicit conversion to integers using __int__ is deprecated, and may be removed in a future version of Python.\n",
      "  start_time = datetime.datetime.utcfromtimestamp(start_epoch)\n",
      "/g/data/en0/jss548/miniconda3/envs/radar-dev/lib/python3.8/site-packages/sklearn/base.py:329: UserWarning: Trying to unpickle estimator GaussianMixture from version 0.21.3 when using version 0.23.1. This might lead to breaking code or invalid results. Use at your own risk.\n",
      "  warnings.warn(\n"
     ]
    },
    {
     "name": "stdout",
     "output_type": "stream",
     "text": [
      "/g/data/hj10/admin/opol/level_1/in2019_v01/20190124/9776HUB-PPIVol-20190124-084858-0000.hdf\n"
     ]
    },
    {
     "name": "stderr",
     "output_type": "stream",
     "text": [
      "/g/data/en0/jss548/miniconda3/envs/radar-dev/lib/python3.8/site-packages/pyart/aux_io/odim_h5.py:295: DeprecationWarning: an integer is required (got type numpy.float32).  Implicit conversion to integers using __int__ is deprecated, and may be removed in a future version of Python.\n",
      "  start_time = datetime.datetime.utcfromtimestamp(start_epoch)\n",
      "/g/data/en0/jss548/miniconda3/envs/radar-dev/lib/python3.8/site-packages/sklearn/base.py:329: UserWarning: Trying to unpickle estimator GaussianMixture from version 0.21.3 when using version 0.23.1. This might lead to breaking code or invalid results. Use at your own risk.\n",
      "  warnings.warn(\n"
     ]
    },
    {
     "name": "stdout",
     "output_type": "stream",
     "text": [
      "/g/data/hj10/admin/opol/level_1/in2019_v01/20190124/9776HUB-PPIVol-20190124-085430-0000.hdf\n"
     ]
    },
    {
     "name": "stderr",
     "output_type": "stream",
     "text": [
      "/g/data/en0/jss548/miniconda3/envs/radar-dev/lib/python3.8/site-packages/pyart/aux_io/odim_h5.py:295: DeprecationWarning: an integer is required (got type numpy.float32).  Implicit conversion to integers using __int__ is deprecated, and may be removed in a future version of Python.\n",
      "  start_time = datetime.datetime.utcfromtimestamp(start_epoch)\n",
      "/g/data/en0/jss548/miniconda3/envs/radar-dev/lib/python3.8/site-packages/sklearn/base.py:329: UserWarning: Trying to unpickle estimator GaussianMixture from version 0.21.3 when using version 0.23.1. This might lead to breaking code or invalid results. Use at your own risk.\n",
      "  warnings.warn(\n"
     ]
    },
    {
     "name": "stdout",
     "output_type": "stream",
     "text": [
      "/g/data/hj10/admin/opol/level_1/in2019_v01/20190124/9776HUB-PPIVol-20190124-085544-0000.hdf\n"
     ]
    },
    {
     "name": "stderr",
     "output_type": "stream",
     "text": [
      "/g/data/en0/jss548/miniconda3/envs/radar-dev/lib/python3.8/site-packages/pyart/aux_io/odim_h5.py:295: DeprecationWarning: an integer is required (got type numpy.float32).  Implicit conversion to integers using __int__ is deprecated, and may be removed in a future version of Python.\n",
      "  start_time = datetime.datetime.utcfromtimestamp(start_epoch)\n",
      "/g/data/en0/jss548/miniconda3/envs/radar-dev/lib/python3.8/site-packages/sklearn/base.py:329: UserWarning: Trying to unpickle estimator GaussianMixture from version 0.21.3 when using version 0.23.1. This might lead to breaking code or invalid results. Use at your own risk.\n",
      "  warnings.warn(\n"
     ]
    },
    {
     "name": "stdout",
     "output_type": "stream",
     "text": [
      "/g/data/hj10/admin/opol/level_1/in2019_v01/20190124/9776HUB-PPIVol-20190124-090116-0000.hdf\n"
     ]
    },
    {
     "name": "stderr",
     "output_type": "stream",
     "text": [
      "/g/data/en0/jss548/miniconda3/envs/radar-dev/lib/python3.8/site-packages/pyart/aux_io/odim_h5.py:295: DeprecationWarning: an integer is required (got type numpy.float32).  Implicit conversion to integers using __int__ is deprecated, and may be removed in a future version of Python.\n",
      "  start_time = datetime.datetime.utcfromtimestamp(start_epoch)\n",
      "/g/data/en0/jss548/miniconda3/envs/radar-dev/lib/python3.8/site-packages/sklearn/base.py:329: UserWarning: Trying to unpickle estimator GaussianMixture from version 0.21.3 when using version 0.23.1. This might lead to breaking code or invalid results. Use at your own risk.\n",
      "  warnings.warn(\n"
     ]
    },
    {
     "name": "stdout",
     "output_type": "stream",
     "text": [
      "/g/data/hj10/admin/opol/level_1/in2019_v01/20190124/9776HUB-PPIVol-20190124-090231-0000.hdf\n"
     ]
    },
    {
     "name": "stderr",
     "output_type": "stream",
     "text": [
      "/g/data/en0/jss548/miniconda3/envs/radar-dev/lib/python3.8/site-packages/pyart/aux_io/odim_h5.py:295: DeprecationWarning: an integer is required (got type numpy.float32).  Implicit conversion to integers using __int__ is deprecated, and may be removed in a future version of Python.\n",
      "  start_time = datetime.datetime.utcfromtimestamp(start_epoch)\n",
      "/g/data/en0/jss548/miniconda3/envs/radar-dev/lib/python3.8/site-packages/sklearn/base.py:329: UserWarning: Trying to unpickle estimator GaussianMixture from version 0.21.3 when using version 0.23.1. This might lead to breaking code or invalid results. Use at your own risk.\n",
      "  warnings.warn(\n"
     ]
    },
    {
     "name": "stdout",
     "output_type": "stream",
     "text": [
      "/g/data/hj10/admin/opol/level_1/in2019_v01/20190124/9776HUB-PPIVol-20190124-090802-0000.hdf\n"
     ]
    },
    {
     "name": "stderr",
     "output_type": "stream",
     "text": [
      "/g/data/en0/jss548/miniconda3/envs/radar-dev/lib/python3.8/site-packages/pyart/aux_io/odim_h5.py:295: DeprecationWarning: an integer is required (got type numpy.float32).  Implicit conversion to integers using __int__ is deprecated, and may be removed in a future version of Python.\n",
      "  start_time = datetime.datetime.utcfromtimestamp(start_epoch)\n",
      "/g/data/en0/jss548/miniconda3/envs/radar-dev/lib/python3.8/site-packages/sklearn/base.py:329: UserWarning: Trying to unpickle estimator GaussianMixture from version 0.21.3 when using version 0.23.1. This might lead to breaking code or invalid results. Use at your own risk.\n",
      "  warnings.warn(\n"
     ]
    },
    {
     "name": "stdout",
     "output_type": "stream",
     "text": [
      "/g/data/hj10/admin/opol/level_1/in2019_v01/20190124/9776HUB-PPIVol-20190124-090917-0000.hdf\n"
     ]
    },
    {
     "name": "stderr",
     "output_type": "stream",
     "text": [
      "/g/data/en0/jss548/miniconda3/envs/radar-dev/lib/python3.8/site-packages/pyart/aux_io/odim_h5.py:295: DeprecationWarning: an integer is required (got type numpy.float32).  Implicit conversion to integers using __int__ is deprecated, and may be removed in a future version of Python.\n",
      "  start_time = datetime.datetime.utcfromtimestamp(start_epoch)\n",
      "/g/data/en0/jss548/miniconda3/envs/radar-dev/lib/python3.8/site-packages/sklearn/base.py:329: UserWarning: Trying to unpickle estimator GaussianMixture from version 0.21.3 when using version 0.23.1. This might lead to breaking code or invalid results. Use at your own risk.\n",
      "  warnings.warn(\n"
     ]
    },
    {
     "name": "stdout",
     "output_type": "stream",
     "text": [
      "/g/data/hj10/admin/opol/level_1/in2019_v01/20190124/9776HUB-PPIVol-20190124-091449-0000.hdf\n"
     ]
    },
    {
     "name": "stderr",
     "output_type": "stream",
     "text": [
      "/g/data/en0/jss548/miniconda3/envs/radar-dev/lib/python3.8/site-packages/pyart/aux_io/odim_h5.py:295: DeprecationWarning: an integer is required (got type numpy.float32).  Implicit conversion to integers using __int__ is deprecated, and may be removed in a future version of Python.\n",
      "  start_time = datetime.datetime.utcfromtimestamp(start_epoch)\n",
      "/g/data/en0/jss548/miniconda3/envs/radar-dev/lib/python3.8/site-packages/sklearn/base.py:329: UserWarning: Trying to unpickle estimator GaussianMixture from version 0.21.3 when using version 0.23.1. This might lead to breaking code or invalid results. Use at your own risk.\n",
      "  warnings.warn(\n"
     ]
    },
    {
     "name": "stdout",
     "output_type": "stream",
     "text": [
      "/g/data/hj10/admin/opol/level_1/in2019_v01/20190124/9776HUB-PPIVol-20190124-091604-0000.hdf\n"
     ]
    },
    {
     "name": "stderr",
     "output_type": "stream",
     "text": [
      "/g/data/en0/jss548/miniconda3/envs/radar-dev/lib/python3.8/site-packages/pyart/aux_io/odim_h5.py:295: DeprecationWarning: an integer is required (got type numpy.float32).  Implicit conversion to integers using __int__ is deprecated, and may be removed in a future version of Python.\n",
      "  start_time = datetime.datetime.utcfromtimestamp(start_epoch)\n",
      "/g/data/en0/jss548/miniconda3/envs/radar-dev/lib/python3.8/site-packages/sklearn/base.py:329: UserWarning: Trying to unpickle estimator GaussianMixture from version 0.21.3 when using version 0.23.1. This might lead to breaking code or invalid results. Use at your own risk.\n",
      "  warnings.warn(\n"
     ]
    },
    {
     "name": "stdout",
     "output_type": "stream",
     "text": [
      "/g/data/hj10/admin/opol/level_1/in2019_v01/20190124/9776HUB-PPIVol-20190124-092135-0000.hdf\n"
     ]
    },
    {
     "name": "stderr",
     "output_type": "stream",
     "text": [
      "/g/data/en0/jss548/miniconda3/envs/radar-dev/lib/python3.8/site-packages/pyart/aux_io/odim_h5.py:295: DeprecationWarning: an integer is required (got type numpy.float32).  Implicit conversion to integers using __int__ is deprecated, and may be removed in a future version of Python.\n",
      "  start_time = datetime.datetime.utcfromtimestamp(start_epoch)\n",
      "/g/data/en0/jss548/miniconda3/envs/radar-dev/lib/python3.8/site-packages/sklearn/base.py:329: UserWarning: Trying to unpickle estimator GaussianMixture from version 0.21.3 when using version 0.23.1. This might lead to breaking code or invalid results. Use at your own risk.\n",
      "  warnings.warn(\n"
     ]
    },
    {
     "name": "stdout",
     "output_type": "stream",
     "text": [
      "/g/data/hj10/admin/opol/level_1/in2019_v01/20190124/9776HUB-PPIVol-20190124-092250-0000.hdf\n"
     ]
    },
    {
     "name": "stderr",
     "output_type": "stream",
     "text": [
      "/g/data/en0/jss548/miniconda3/envs/radar-dev/lib/python3.8/site-packages/pyart/aux_io/odim_h5.py:295: DeprecationWarning: an integer is required (got type numpy.float32).  Implicit conversion to integers using __int__ is deprecated, and may be removed in a future version of Python.\n",
      "  start_time = datetime.datetime.utcfromtimestamp(start_epoch)\n",
      "/g/data/en0/jss548/miniconda3/envs/radar-dev/lib/python3.8/site-packages/sklearn/base.py:329: UserWarning: Trying to unpickle estimator GaussianMixture from version 0.21.3 when using version 0.23.1. This might lead to breaking code or invalid results. Use at your own risk.\n",
      "  warnings.warn(\n"
     ]
    },
    {
     "name": "stdout",
     "output_type": "stream",
     "text": [
      "/g/data/hj10/admin/opol/level_1/in2019_v01/20190124/9776HUB-PPIVol-20190124-092822-0000.hdf\n"
     ]
    },
    {
     "name": "stderr",
     "output_type": "stream",
     "text": [
      "/g/data/en0/jss548/miniconda3/envs/radar-dev/lib/python3.8/site-packages/pyart/aux_io/odim_h5.py:295: DeprecationWarning: an integer is required (got type numpy.float32).  Implicit conversion to integers using __int__ is deprecated, and may be removed in a future version of Python.\n",
      "  start_time = datetime.datetime.utcfromtimestamp(start_epoch)\n",
      "/g/data/en0/jss548/miniconda3/envs/radar-dev/lib/python3.8/site-packages/sklearn/base.py:329: UserWarning: Trying to unpickle estimator GaussianMixture from version 0.21.3 when using version 0.23.1. This might lead to breaking code or invalid results. Use at your own risk.\n",
      "  warnings.warn(\n"
     ]
    },
    {
     "name": "stdout",
     "output_type": "stream",
     "text": [
      "/g/data/hj10/admin/opol/level_1/in2019_v01/20190124/9776HUB-PPIVol-20190124-092936-0000.hdf\n"
     ]
    },
    {
     "name": "stderr",
     "output_type": "stream",
     "text": [
      "/g/data/en0/jss548/miniconda3/envs/radar-dev/lib/python3.8/site-packages/pyart/aux_io/odim_h5.py:295: DeprecationWarning: an integer is required (got type numpy.float32).  Implicit conversion to integers using __int__ is deprecated, and may be removed in a future version of Python.\n",
      "  start_time = datetime.datetime.utcfromtimestamp(start_epoch)\n",
      "/g/data/en0/jss548/miniconda3/envs/radar-dev/lib/python3.8/site-packages/sklearn/base.py:329: UserWarning: Trying to unpickle estimator GaussianMixture from version 0.21.3 when using version 0.23.1. This might lead to breaking code or invalid results. Use at your own risk.\n",
      "  warnings.warn(\n"
     ]
    },
    {
     "name": "stdout",
     "output_type": "stream",
     "text": [
      "/g/data/hj10/admin/opol/level_1/in2019_v01/20190124/9776HUB-PPIVol-20190124-093508-0000.hdf\n"
     ]
    },
    {
     "name": "stderr",
     "output_type": "stream",
     "text": [
      "/g/data/en0/jss548/miniconda3/envs/radar-dev/lib/python3.8/site-packages/pyart/aux_io/odim_h5.py:295: DeprecationWarning: an integer is required (got type numpy.float32).  Implicit conversion to integers using __int__ is deprecated, and may be removed in a future version of Python.\n",
      "  start_time = datetime.datetime.utcfromtimestamp(start_epoch)\n",
      "/g/data/en0/jss548/miniconda3/envs/radar-dev/lib/python3.8/site-packages/sklearn/base.py:329: UserWarning: Trying to unpickle estimator GaussianMixture from version 0.21.3 when using version 0.23.1. This might lead to breaking code or invalid results. Use at your own risk.\n",
      "  warnings.warn(\n"
     ]
    },
    {
     "name": "stdout",
     "output_type": "stream",
     "text": [
      "/g/data/hj10/admin/opol/level_1/in2019_v01/20190124/9776HUB-PPIVol-20190124-093623-0000.hdf\n"
     ]
    },
    {
     "name": "stderr",
     "output_type": "stream",
     "text": [
      "/g/data/en0/jss548/miniconda3/envs/radar-dev/lib/python3.8/site-packages/pyart/aux_io/odim_h5.py:295: DeprecationWarning: an integer is required (got type numpy.float32).  Implicit conversion to integers using __int__ is deprecated, and may be removed in a future version of Python.\n",
      "  start_time = datetime.datetime.utcfromtimestamp(start_epoch)\n",
      "/g/data/en0/jss548/miniconda3/envs/radar-dev/lib/python3.8/site-packages/sklearn/base.py:329: UserWarning: Trying to unpickle estimator GaussianMixture from version 0.21.3 when using version 0.23.1. This might lead to breaking code or invalid results. Use at your own risk.\n",
      "  warnings.warn(\n"
     ]
    },
    {
     "name": "stdout",
     "output_type": "stream",
     "text": [
      "/g/data/hj10/admin/opol/level_1/in2019_v01/20190124/9776HUB-PPIVol-20190124-094155-0000.hdf\n"
     ]
    },
    {
     "name": "stderr",
     "output_type": "stream",
     "text": [
      "/g/data/en0/jss548/miniconda3/envs/radar-dev/lib/python3.8/site-packages/pyart/aux_io/odim_h5.py:295: DeprecationWarning: an integer is required (got type numpy.float32).  Implicit conversion to integers using __int__ is deprecated, and may be removed in a future version of Python.\n",
      "  start_time = datetime.datetime.utcfromtimestamp(start_epoch)\n",
      "/g/data/en0/jss548/miniconda3/envs/radar-dev/lib/python3.8/site-packages/sklearn/base.py:329: UserWarning: Trying to unpickle estimator GaussianMixture from version 0.21.3 when using version 0.23.1. This might lead to breaking code or invalid results. Use at your own risk.\n",
      "  warnings.warn(\n"
     ]
    },
    {
     "name": "stdout",
     "output_type": "stream",
     "text": [
      "/g/data/hj10/admin/opol/level_1/in2019_v01/20190124/9776HUB-PPIVol-20190124-094309-0000.hdf\n"
     ]
    },
    {
     "name": "stderr",
     "output_type": "stream",
     "text": [
      "/g/data/en0/jss548/miniconda3/envs/radar-dev/lib/python3.8/site-packages/pyart/aux_io/odim_h5.py:295: DeprecationWarning: an integer is required (got type numpy.float32).  Implicit conversion to integers using __int__ is deprecated, and may be removed in a future version of Python.\n",
      "  start_time = datetime.datetime.utcfromtimestamp(start_epoch)\n",
      "/g/data/en0/jss548/miniconda3/envs/radar-dev/lib/python3.8/site-packages/sklearn/base.py:329: UserWarning: Trying to unpickle estimator GaussianMixture from version 0.21.3 when using version 0.23.1. This might lead to breaking code or invalid results. Use at your own risk.\n",
      "  warnings.warn(\n"
     ]
    },
    {
     "name": "stdout",
     "output_type": "stream",
     "text": [
      "/g/data/hj10/admin/opol/level_1/in2019_v01/20190124/9776HUB-PPIVol-20190124-094841-0000.hdf\n"
     ]
    },
    {
     "name": "stderr",
     "output_type": "stream",
     "text": [
      "/g/data/en0/jss548/miniconda3/envs/radar-dev/lib/python3.8/site-packages/pyart/aux_io/odim_h5.py:295: DeprecationWarning: an integer is required (got type numpy.float32).  Implicit conversion to integers using __int__ is deprecated, and may be removed in a future version of Python.\n",
      "  start_time = datetime.datetime.utcfromtimestamp(start_epoch)\n",
      "/g/data/en0/jss548/miniconda3/envs/radar-dev/lib/python3.8/site-packages/sklearn/base.py:329: UserWarning: Trying to unpickle estimator GaussianMixture from version 0.21.3 when using version 0.23.1. This might lead to breaking code or invalid results. Use at your own risk.\n",
      "  warnings.warn(\n"
     ]
    },
    {
     "name": "stdout",
     "output_type": "stream",
     "text": [
      "/g/data/hj10/admin/opol/level_1/in2019_v01/20190124/9776HUB-PPIVol-20190124-094956-0000.hdf\n"
     ]
    },
    {
     "name": "stderr",
     "output_type": "stream",
     "text": [
      "/g/data/en0/jss548/miniconda3/envs/radar-dev/lib/python3.8/site-packages/pyart/aux_io/odim_h5.py:295: DeprecationWarning: an integer is required (got type numpy.float32).  Implicit conversion to integers using __int__ is deprecated, and may be removed in a future version of Python.\n",
      "  start_time = datetime.datetime.utcfromtimestamp(start_epoch)\n",
      "/g/data/en0/jss548/miniconda3/envs/radar-dev/lib/python3.8/site-packages/sklearn/base.py:329: UserWarning: Trying to unpickle estimator GaussianMixture from version 0.21.3 when using version 0.23.1. This might lead to breaking code or invalid results. Use at your own risk.\n",
      "  warnings.warn(\n"
     ]
    },
    {
     "name": "stdout",
     "output_type": "stream",
     "text": [
      "/g/data/hj10/admin/opol/level_1/in2019_v01/20190124/9776HUB-PPIVol-20190124-095528-0000.hdf\n"
     ]
    },
    {
     "name": "stderr",
     "output_type": "stream",
     "text": [
      "/g/data/en0/jss548/miniconda3/envs/radar-dev/lib/python3.8/site-packages/pyart/aux_io/odim_h5.py:295: DeprecationWarning: an integer is required (got type numpy.float32).  Implicit conversion to integers using __int__ is deprecated, and may be removed in a future version of Python.\n",
      "  start_time = datetime.datetime.utcfromtimestamp(start_epoch)\n",
      "/g/data/en0/jss548/miniconda3/envs/radar-dev/lib/python3.8/site-packages/sklearn/base.py:329: UserWarning: Trying to unpickle estimator GaussianMixture from version 0.21.3 when using version 0.23.1. This might lead to breaking code or invalid results. Use at your own risk.\n",
      "  warnings.warn(\n"
     ]
    },
    {
     "name": "stdout",
     "output_type": "stream",
     "text": [
      "/g/data/hj10/admin/opol/level_1/in2019_v01/20190124/9776HUB-PPIVol-20190124-095642-0000.hdf\n"
     ]
    },
    {
     "name": "stderr",
     "output_type": "stream",
     "text": [
      "/g/data/en0/jss548/miniconda3/envs/radar-dev/lib/python3.8/site-packages/pyart/aux_io/odim_h5.py:295: DeprecationWarning: an integer is required (got type numpy.float32).  Implicit conversion to integers using __int__ is deprecated, and may be removed in a future version of Python.\n",
      "  start_time = datetime.datetime.utcfromtimestamp(start_epoch)\n",
      "/g/data/en0/jss548/miniconda3/envs/radar-dev/lib/python3.8/site-packages/sklearn/base.py:329: UserWarning: Trying to unpickle estimator GaussianMixture from version 0.21.3 when using version 0.23.1. This might lead to breaking code or invalid results. Use at your own risk.\n",
      "  warnings.warn(\n"
     ]
    },
    {
     "name": "stdout",
     "output_type": "stream",
     "text": [
      "/g/data/hj10/admin/opol/level_1/in2019_v01/20190124/9776HUB-PPIVol-20190124-100214-0000.hdf\n"
     ]
    },
    {
     "name": "stderr",
     "output_type": "stream",
     "text": [
      "/g/data/en0/jss548/miniconda3/envs/radar-dev/lib/python3.8/site-packages/pyart/aux_io/odim_h5.py:295: DeprecationWarning: an integer is required (got type numpy.float32).  Implicit conversion to integers using __int__ is deprecated, and may be removed in a future version of Python.\n",
      "  start_time = datetime.datetime.utcfromtimestamp(start_epoch)\n",
      "/g/data/en0/jss548/miniconda3/envs/radar-dev/lib/python3.8/site-packages/sklearn/base.py:329: UserWarning: Trying to unpickle estimator GaussianMixture from version 0.21.3 when using version 0.23.1. This might lead to breaking code or invalid results. Use at your own risk.\n",
      "  warnings.warn(\n"
     ]
    },
    {
     "name": "stdout",
     "output_type": "stream",
     "text": [
      "/g/data/hj10/admin/opol/level_1/in2019_v01/20190124/9776HUB-PPIVol-20190124-100329-0000.hdf\n"
     ]
    },
    {
     "name": "stderr",
     "output_type": "stream",
     "text": [
      "/g/data/en0/jss548/miniconda3/envs/radar-dev/lib/python3.8/site-packages/pyart/aux_io/odim_h5.py:295: DeprecationWarning: an integer is required (got type numpy.float32).  Implicit conversion to integers using __int__ is deprecated, and may be removed in a future version of Python.\n",
      "  start_time = datetime.datetime.utcfromtimestamp(start_epoch)\n",
      "/g/data/en0/jss548/miniconda3/envs/radar-dev/lib/python3.8/site-packages/sklearn/base.py:329: UserWarning: Trying to unpickle estimator GaussianMixture from version 0.21.3 when using version 0.23.1. This might lead to breaking code or invalid results. Use at your own risk.\n",
      "  warnings.warn(\n"
     ]
    },
    {
     "name": "stdout",
     "output_type": "stream",
     "text": [
      "/g/data/hj10/admin/opol/level_1/in2019_v01/20190124/9776HUB-PPIVol-20190124-100900-0000.hdf\n"
     ]
    },
    {
     "name": "stderr",
     "output_type": "stream",
     "text": [
      "/g/data/en0/jss548/miniconda3/envs/radar-dev/lib/python3.8/site-packages/pyart/aux_io/odim_h5.py:295: DeprecationWarning: an integer is required (got type numpy.float32).  Implicit conversion to integers using __int__ is deprecated, and may be removed in a future version of Python.\n",
      "  start_time = datetime.datetime.utcfromtimestamp(start_epoch)\n",
      "/g/data/en0/jss548/miniconda3/envs/radar-dev/lib/python3.8/site-packages/sklearn/base.py:329: UserWarning: Trying to unpickle estimator GaussianMixture from version 0.21.3 when using version 0.23.1. This might lead to breaking code or invalid results. Use at your own risk.\n",
      "  warnings.warn(\n"
     ]
    },
    {
     "name": "stdout",
     "output_type": "stream",
     "text": [
      "/g/data/hj10/admin/opol/level_1/in2019_v01/20190124/9776HUB-PPIVol-20190124-101015-0000.hdf\n"
     ]
    },
    {
     "name": "stderr",
     "output_type": "stream",
     "text": [
      "/g/data/en0/jss548/miniconda3/envs/radar-dev/lib/python3.8/site-packages/pyart/aux_io/odim_h5.py:295: DeprecationWarning: an integer is required (got type numpy.float32).  Implicit conversion to integers using __int__ is deprecated, and may be removed in a future version of Python.\n",
      "  start_time = datetime.datetime.utcfromtimestamp(start_epoch)\n",
      "/g/data/en0/jss548/miniconda3/envs/radar-dev/lib/python3.8/site-packages/sklearn/base.py:329: UserWarning: Trying to unpickle estimator GaussianMixture from version 0.21.3 when using version 0.23.1. This might lead to breaking code or invalid results. Use at your own risk.\n",
      "  warnings.warn(\n"
     ]
    },
    {
     "name": "stdout",
     "output_type": "stream",
     "text": [
      "/g/data/hj10/admin/opol/level_1/in2019_v01/20190124/9776HUB-PPIVol-20190124-101547-0000.hdf\n"
     ]
    },
    {
     "name": "stderr",
     "output_type": "stream",
     "text": [
      "/g/data/en0/jss548/miniconda3/envs/radar-dev/lib/python3.8/site-packages/pyart/aux_io/odim_h5.py:295: DeprecationWarning: an integer is required (got type numpy.float32).  Implicit conversion to integers using __int__ is deprecated, and may be removed in a future version of Python.\n",
      "  start_time = datetime.datetime.utcfromtimestamp(start_epoch)\n",
      "/g/data/en0/jss548/miniconda3/envs/radar-dev/lib/python3.8/site-packages/sklearn/base.py:329: UserWarning: Trying to unpickle estimator GaussianMixture from version 0.21.3 when using version 0.23.1. This might lead to breaking code or invalid results. Use at your own risk.\n",
      "  warnings.warn(\n"
     ]
    },
    {
     "name": "stdout",
     "output_type": "stream",
     "text": [
      "/g/data/hj10/admin/opol/level_1/in2019_v01/20190124/9776HUB-PPIVol-20190124-101702-0000.hdf\n"
     ]
    },
    {
     "name": "stderr",
     "output_type": "stream",
     "text": [
      "/g/data/en0/jss548/miniconda3/envs/radar-dev/lib/python3.8/site-packages/pyart/aux_io/odim_h5.py:295: DeprecationWarning: an integer is required (got type numpy.float32).  Implicit conversion to integers using __int__ is deprecated, and may be removed in a future version of Python.\n",
      "  start_time = datetime.datetime.utcfromtimestamp(start_epoch)\n",
      "/g/data/en0/jss548/miniconda3/envs/radar-dev/lib/python3.8/site-packages/sklearn/base.py:329: UserWarning: Trying to unpickle estimator GaussianMixture from version 0.21.3 when using version 0.23.1. This might lead to breaking code or invalid results. Use at your own risk.\n",
      "  warnings.warn(\n"
     ]
    },
    {
     "name": "stdout",
     "output_type": "stream",
     "text": [
      "/g/data/hj10/admin/opol/level_1/in2019_v01/20190124/9776HUB-PPIVol-20190124-102233-0000.hdf\n"
     ]
    },
    {
     "name": "stderr",
     "output_type": "stream",
     "text": [
      "/g/data/en0/jss548/miniconda3/envs/radar-dev/lib/python3.8/site-packages/pyart/aux_io/odim_h5.py:295: DeprecationWarning: an integer is required (got type numpy.float32).  Implicit conversion to integers using __int__ is deprecated, and may be removed in a future version of Python.\n",
      "  start_time = datetime.datetime.utcfromtimestamp(start_epoch)\n",
      "/g/data/en0/jss548/miniconda3/envs/radar-dev/lib/python3.8/site-packages/sklearn/base.py:329: UserWarning: Trying to unpickle estimator GaussianMixture from version 0.21.3 when using version 0.23.1. This might lead to breaking code or invalid results. Use at your own risk.\n",
      "  warnings.warn(\n"
     ]
    },
    {
     "name": "stdout",
     "output_type": "stream",
     "text": [
      "/g/data/hj10/admin/opol/level_1/in2019_v01/20190124/9776HUB-PPIVol-20190124-102348-0000.hdf\n"
     ]
    },
    {
     "name": "stderr",
     "output_type": "stream",
     "text": [
      "/g/data/en0/jss548/miniconda3/envs/radar-dev/lib/python3.8/site-packages/pyart/aux_io/odim_h5.py:295: DeprecationWarning: an integer is required (got type numpy.float32).  Implicit conversion to integers using __int__ is deprecated, and may be removed in a future version of Python.\n",
      "  start_time = datetime.datetime.utcfromtimestamp(start_epoch)\n",
      "/g/data/en0/jss548/miniconda3/envs/radar-dev/lib/python3.8/site-packages/sklearn/base.py:329: UserWarning: Trying to unpickle estimator GaussianMixture from version 0.21.3 when using version 0.23.1. This might lead to breaking code or invalid results. Use at your own risk.\n",
      "  warnings.warn(\n"
     ]
    },
    {
     "name": "stdout",
     "output_type": "stream",
     "text": [
      "/g/data/hj10/admin/opol/level_1/in2019_v01/20190124/9776HUB-PPIVol-20190124-102920-0000.hdf\n"
     ]
    },
    {
     "name": "stderr",
     "output_type": "stream",
     "text": [
      "/g/data/en0/jss548/miniconda3/envs/radar-dev/lib/python3.8/site-packages/pyart/aux_io/odim_h5.py:295: DeprecationWarning: an integer is required (got type numpy.float32).  Implicit conversion to integers using __int__ is deprecated, and may be removed in a future version of Python.\n",
      "  start_time = datetime.datetime.utcfromtimestamp(start_epoch)\n",
      "/g/data/en0/jss548/miniconda3/envs/radar-dev/lib/python3.8/site-packages/sklearn/base.py:329: UserWarning: Trying to unpickle estimator GaussianMixture from version 0.21.3 when using version 0.23.1. This might lead to breaking code or invalid results. Use at your own risk.\n",
      "  warnings.warn(\n"
     ]
    },
    {
     "name": "stdout",
     "output_type": "stream",
     "text": [
      "/g/data/hj10/admin/opol/level_1/in2019_v01/20190124/9776HUB-PPIVol-20190124-103035-0000.hdf\n"
     ]
    },
    {
     "name": "stderr",
     "output_type": "stream",
     "text": [
      "/g/data/en0/jss548/miniconda3/envs/radar-dev/lib/python3.8/site-packages/pyart/aux_io/odim_h5.py:295: DeprecationWarning: an integer is required (got type numpy.float32).  Implicit conversion to integers using __int__ is deprecated, and may be removed in a future version of Python.\n",
      "  start_time = datetime.datetime.utcfromtimestamp(start_epoch)\n",
      "/g/data/en0/jss548/miniconda3/envs/radar-dev/lib/python3.8/site-packages/sklearn/base.py:329: UserWarning: Trying to unpickle estimator GaussianMixture from version 0.21.3 when using version 0.23.1. This might lead to breaking code or invalid results. Use at your own risk.\n",
      "  warnings.warn(\n"
     ]
    },
    {
     "name": "stdout",
     "output_type": "stream",
     "text": [
      "/g/data/hj10/admin/opol/level_1/in2019_v01/20190124/9776HUB-PPIVol-20190124-103606-0000.hdf\n"
     ]
    },
    {
     "name": "stderr",
     "output_type": "stream",
     "text": [
      "/g/data/en0/jss548/miniconda3/envs/radar-dev/lib/python3.8/site-packages/pyart/aux_io/odim_h5.py:295: DeprecationWarning: an integer is required (got type numpy.float32).  Implicit conversion to integers using __int__ is deprecated, and may be removed in a future version of Python.\n",
      "  start_time = datetime.datetime.utcfromtimestamp(start_epoch)\n",
      "/g/data/en0/jss548/miniconda3/envs/radar-dev/lib/python3.8/site-packages/sklearn/base.py:329: UserWarning: Trying to unpickle estimator GaussianMixture from version 0.21.3 when using version 0.23.1. This might lead to breaking code or invalid results. Use at your own risk.\n",
      "  warnings.warn(\n"
     ]
    },
    {
     "name": "stdout",
     "output_type": "stream",
     "text": [
      "/g/data/hj10/admin/opol/level_1/in2019_v01/20190124/9776HUB-PPIVol-20190124-103721-0000.hdf\n"
     ]
    },
    {
     "name": "stderr",
     "output_type": "stream",
     "text": [
      "/g/data/en0/jss548/miniconda3/envs/radar-dev/lib/python3.8/site-packages/pyart/aux_io/odim_h5.py:295: DeprecationWarning: an integer is required (got type numpy.float32).  Implicit conversion to integers using __int__ is deprecated, and may be removed in a future version of Python.\n",
      "  start_time = datetime.datetime.utcfromtimestamp(start_epoch)\n",
      "/g/data/en0/jss548/miniconda3/envs/radar-dev/lib/python3.8/site-packages/sklearn/base.py:329: UserWarning: Trying to unpickle estimator GaussianMixture from version 0.21.3 when using version 0.23.1. This might lead to breaking code or invalid results. Use at your own risk.\n",
      "  warnings.warn(\n"
     ]
    },
    {
     "name": "stdout",
     "output_type": "stream",
     "text": [
      "/g/data/hj10/admin/opol/level_1/in2019_v01/20190124/9776HUB-PPIVol-20190124-104253-0000.hdf\n"
     ]
    },
    {
     "name": "stderr",
     "output_type": "stream",
     "text": [
      "/g/data/en0/jss548/miniconda3/envs/radar-dev/lib/python3.8/site-packages/pyart/aux_io/odim_h5.py:295: DeprecationWarning: an integer is required (got type numpy.float32).  Implicit conversion to integers using __int__ is deprecated, and may be removed in a future version of Python.\n",
      "  start_time = datetime.datetime.utcfromtimestamp(start_epoch)\n",
      "/g/data/en0/jss548/miniconda3/envs/radar-dev/lib/python3.8/site-packages/sklearn/base.py:329: UserWarning: Trying to unpickle estimator GaussianMixture from version 0.21.3 when using version 0.23.1. This might lead to breaking code or invalid results. Use at your own risk.\n",
      "  warnings.warn(\n"
     ]
    },
    {
     "name": "stdout",
     "output_type": "stream",
     "text": [
      "/g/data/hj10/admin/opol/level_1/in2019_v01/20190124/9776HUB-PPIVol-20190124-104408-0000.hdf\n"
     ]
    },
    {
     "name": "stderr",
     "output_type": "stream",
     "text": [
      "/g/data/en0/jss548/miniconda3/envs/radar-dev/lib/python3.8/site-packages/pyart/aux_io/odim_h5.py:295: DeprecationWarning: an integer is required (got type numpy.float32).  Implicit conversion to integers using __int__ is deprecated, and may be removed in a future version of Python.\n",
      "  start_time = datetime.datetime.utcfromtimestamp(start_epoch)\n",
      "/g/data/en0/jss548/miniconda3/envs/radar-dev/lib/python3.8/site-packages/sklearn/base.py:329: UserWarning: Trying to unpickle estimator GaussianMixture from version 0.21.3 when using version 0.23.1. This might lead to breaking code or invalid results. Use at your own risk.\n",
      "  warnings.warn(\n"
     ]
    },
    {
     "name": "stdout",
     "output_type": "stream",
     "text": [
      "/g/data/hj10/admin/opol/level_1/in2019_v01/20190124/9776HUB-PPIVol-20190124-104939-0000.hdf\n"
     ]
    },
    {
     "name": "stderr",
     "output_type": "stream",
     "text": [
      "/g/data/en0/jss548/miniconda3/envs/radar-dev/lib/python3.8/site-packages/pyart/aux_io/odim_h5.py:295: DeprecationWarning: an integer is required (got type numpy.float32).  Implicit conversion to integers using __int__ is deprecated, and may be removed in a future version of Python.\n",
      "  start_time = datetime.datetime.utcfromtimestamp(start_epoch)\n",
      "/g/data/en0/jss548/miniconda3/envs/radar-dev/lib/python3.8/site-packages/sklearn/base.py:329: UserWarning: Trying to unpickle estimator GaussianMixture from version 0.21.3 when using version 0.23.1. This might lead to breaking code or invalid results. Use at your own risk.\n",
      "  warnings.warn(\n"
     ]
    },
    {
     "name": "stdout",
     "output_type": "stream",
     "text": [
      "/g/data/hj10/admin/opol/level_1/in2019_v01/20190124/9776HUB-PPIVol-20190124-105054-0000.hdf\n"
     ]
    },
    {
     "name": "stderr",
     "output_type": "stream",
     "text": [
      "/g/data/en0/jss548/miniconda3/envs/radar-dev/lib/python3.8/site-packages/pyart/aux_io/odim_h5.py:295: DeprecationWarning: an integer is required (got type numpy.float32).  Implicit conversion to integers using __int__ is deprecated, and may be removed in a future version of Python.\n",
      "  start_time = datetime.datetime.utcfromtimestamp(start_epoch)\n",
      "/g/data/en0/jss548/miniconda3/envs/radar-dev/lib/python3.8/site-packages/sklearn/base.py:329: UserWarning: Trying to unpickle estimator GaussianMixture from version 0.21.3 when using version 0.23.1. This might lead to breaking code or invalid results. Use at your own risk.\n",
      "  warnings.warn(\n"
     ]
    },
    {
     "name": "stdout",
     "output_type": "stream",
     "text": [
      "/g/data/hj10/admin/opol/level_1/in2019_v01/20190124/9776HUB-PPIVol-20190124-105626-0000.hdf\n"
     ]
    },
    {
     "name": "stderr",
     "output_type": "stream",
     "text": [
      "/g/data/en0/jss548/miniconda3/envs/radar-dev/lib/python3.8/site-packages/pyart/aux_io/odim_h5.py:295: DeprecationWarning: an integer is required (got type numpy.float32).  Implicit conversion to integers using __int__ is deprecated, and may be removed in a future version of Python.\n",
      "  start_time = datetime.datetime.utcfromtimestamp(start_epoch)\n",
      "/g/data/en0/jss548/miniconda3/envs/radar-dev/lib/python3.8/site-packages/sklearn/base.py:329: UserWarning: Trying to unpickle estimator GaussianMixture from version 0.21.3 when using version 0.23.1. This might lead to breaking code or invalid results. Use at your own risk.\n",
      "  warnings.warn(\n"
     ]
    },
    {
     "name": "stdout",
     "output_type": "stream",
     "text": [
      "/g/data/hj10/admin/opol/level_1/in2019_v01/20190124/9776HUB-PPIVol-20190124-105740-0000.hdf\n"
     ]
    },
    {
     "name": "stderr",
     "output_type": "stream",
     "text": [
      "/g/data/en0/jss548/miniconda3/envs/radar-dev/lib/python3.8/site-packages/pyart/aux_io/odim_h5.py:295: DeprecationWarning: an integer is required (got type numpy.float32).  Implicit conversion to integers using __int__ is deprecated, and may be removed in a future version of Python.\n",
      "  start_time = datetime.datetime.utcfromtimestamp(start_epoch)\n",
      "/g/data/en0/jss548/miniconda3/envs/radar-dev/lib/python3.8/site-packages/sklearn/base.py:329: UserWarning: Trying to unpickle estimator GaussianMixture from version 0.21.3 when using version 0.23.1. This might lead to breaking code or invalid results. Use at your own risk.\n",
      "  warnings.warn(\n"
     ]
    },
    {
     "name": "stdout",
     "output_type": "stream",
     "text": [
      "/g/data/hj10/admin/opol/level_1/in2019_v01/20190124/9776HUB-PPIVol-20190124-110312-0000.hdf\n"
     ]
    },
    {
     "name": "stderr",
     "output_type": "stream",
     "text": [
      "/g/data/en0/jss548/miniconda3/envs/radar-dev/lib/python3.8/site-packages/pyart/aux_io/odim_h5.py:295: DeprecationWarning: an integer is required (got type numpy.float32).  Implicit conversion to integers using __int__ is deprecated, and may be removed in a future version of Python.\n",
      "  start_time = datetime.datetime.utcfromtimestamp(start_epoch)\n",
      "/g/data/en0/jss548/miniconda3/envs/radar-dev/lib/python3.8/site-packages/sklearn/base.py:329: UserWarning: Trying to unpickle estimator GaussianMixture from version 0.21.3 when using version 0.23.1. This might lead to breaking code or invalid results. Use at your own risk.\n",
      "  warnings.warn(\n"
     ]
    },
    {
     "name": "stdout",
     "output_type": "stream",
     "text": [
      "/g/data/hj10/admin/opol/level_1/in2019_v01/20190124/9776HUB-PPIVol-20190124-110427-0000.hdf\n"
     ]
    },
    {
     "name": "stderr",
     "output_type": "stream",
     "text": [
      "/g/data/en0/jss548/miniconda3/envs/radar-dev/lib/python3.8/site-packages/pyart/aux_io/odim_h5.py:295: DeprecationWarning: an integer is required (got type numpy.float32).  Implicit conversion to integers using __int__ is deprecated, and may be removed in a future version of Python.\n",
      "  start_time = datetime.datetime.utcfromtimestamp(start_epoch)\n",
      "/g/data/en0/jss548/miniconda3/envs/radar-dev/lib/python3.8/site-packages/sklearn/base.py:329: UserWarning: Trying to unpickle estimator GaussianMixture from version 0.21.3 when using version 0.23.1. This might lead to breaking code or invalid results. Use at your own risk.\n",
      "  warnings.warn(\n"
     ]
    },
    {
     "name": "stdout",
     "output_type": "stream",
     "text": [
      "/g/data/hj10/admin/opol/level_1/in2019_v01/20190124/9776HUB-PPIVol-20190124-110959-0000.hdf\n"
     ]
    },
    {
     "name": "stderr",
     "output_type": "stream",
     "text": [
      "/g/data/en0/jss548/miniconda3/envs/radar-dev/lib/python3.8/site-packages/pyart/aux_io/odim_h5.py:295: DeprecationWarning: an integer is required (got type numpy.float32).  Implicit conversion to integers using __int__ is deprecated, and may be removed in a future version of Python.\n",
      "  start_time = datetime.datetime.utcfromtimestamp(start_epoch)\n",
      "/g/data/en0/jss548/miniconda3/envs/radar-dev/lib/python3.8/site-packages/sklearn/base.py:329: UserWarning: Trying to unpickle estimator GaussianMixture from version 0.21.3 when using version 0.23.1. This might lead to breaking code or invalid results. Use at your own risk.\n",
      "  warnings.warn(\n"
     ]
    },
    {
     "name": "stdout",
     "output_type": "stream",
     "text": [
      "/g/data/hj10/admin/opol/level_1/in2019_v01/20190124/9776HUB-PPIVol-20190124-111113-0000.hdf\n"
     ]
    },
    {
     "name": "stderr",
     "output_type": "stream",
     "text": [
      "/g/data/en0/jss548/miniconda3/envs/radar-dev/lib/python3.8/site-packages/pyart/aux_io/odim_h5.py:295: DeprecationWarning: an integer is required (got type numpy.float32).  Implicit conversion to integers using __int__ is deprecated, and may be removed in a future version of Python.\n",
      "  start_time = datetime.datetime.utcfromtimestamp(start_epoch)\n",
      "/g/data/en0/jss548/miniconda3/envs/radar-dev/lib/python3.8/site-packages/sklearn/base.py:329: UserWarning: Trying to unpickle estimator GaussianMixture from version 0.21.3 when using version 0.23.1. This might lead to breaking code or invalid results. Use at your own risk.\n",
      "  warnings.warn(\n"
     ]
    },
    {
     "name": "stdout",
     "output_type": "stream",
     "text": [
      "/g/data/hj10/admin/opol/level_1/in2019_v01/20190124/9776HUB-PPIVol-20190124-111645-0000.hdf\n"
     ]
    },
    {
     "name": "stderr",
     "output_type": "stream",
     "text": [
      "/g/data/en0/jss548/miniconda3/envs/radar-dev/lib/python3.8/site-packages/pyart/aux_io/odim_h5.py:295: DeprecationWarning: an integer is required (got type numpy.float32).  Implicit conversion to integers using __int__ is deprecated, and may be removed in a future version of Python.\n",
      "  start_time = datetime.datetime.utcfromtimestamp(start_epoch)\n",
      "/g/data/en0/jss548/miniconda3/envs/radar-dev/lib/python3.8/site-packages/sklearn/base.py:329: UserWarning: Trying to unpickle estimator GaussianMixture from version 0.21.3 when using version 0.23.1. This might lead to breaking code or invalid results. Use at your own risk.\n",
      "  warnings.warn(\n"
     ]
    },
    {
     "name": "stdout",
     "output_type": "stream",
     "text": [
      "/g/data/hj10/admin/opol/level_1/in2019_v01/20190124/9776HUB-PPIVol-20190124-111800-0000.hdf\n"
     ]
    },
    {
     "name": "stderr",
     "output_type": "stream",
     "text": [
      "/g/data/en0/jss548/miniconda3/envs/radar-dev/lib/python3.8/site-packages/pyart/aux_io/odim_h5.py:295: DeprecationWarning: an integer is required (got type numpy.float32).  Implicit conversion to integers using __int__ is deprecated, and may be removed in a future version of Python.\n",
      "  start_time = datetime.datetime.utcfromtimestamp(start_epoch)\n",
      "/g/data/en0/jss548/miniconda3/envs/radar-dev/lib/python3.8/site-packages/sklearn/base.py:329: UserWarning: Trying to unpickle estimator GaussianMixture from version 0.21.3 when using version 0.23.1. This might lead to breaking code or invalid results. Use at your own risk.\n",
      "  warnings.warn(\n"
     ]
    },
    {
     "name": "stdout",
     "output_type": "stream",
     "text": [
      "/g/data/hj10/admin/opol/level_1/in2019_v01/20190124/9776HUB-PPIVol-20190124-112331-0000.hdf\n"
     ]
    },
    {
     "name": "stderr",
     "output_type": "stream",
     "text": [
      "/g/data/en0/jss548/miniconda3/envs/radar-dev/lib/python3.8/site-packages/pyart/aux_io/odim_h5.py:295: DeprecationWarning: an integer is required (got type numpy.float32).  Implicit conversion to integers using __int__ is deprecated, and may be removed in a future version of Python.\n",
      "  start_time = datetime.datetime.utcfromtimestamp(start_epoch)\n",
      "/g/data/en0/jss548/miniconda3/envs/radar-dev/lib/python3.8/site-packages/sklearn/base.py:329: UserWarning: Trying to unpickle estimator GaussianMixture from version 0.21.3 when using version 0.23.1. This might lead to breaking code or invalid results. Use at your own risk.\n",
      "  warnings.warn(\n"
     ]
    },
    {
     "name": "stdout",
     "output_type": "stream",
     "text": [
      "/g/data/hj10/admin/opol/level_1/in2019_v01/20190124/9776HUB-PPIVol-20190124-112446-0000.hdf\n"
     ]
    },
    {
     "name": "stderr",
     "output_type": "stream",
     "text": [
      "/g/data/en0/jss548/miniconda3/envs/radar-dev/lib/python3.8/site-packages/pyart/aux_io/odim_h5.py:295: DeprecationWarning: an integer is required (got type numpy.float32).  Implicit conversion to integers using __int__ is deprecated, and may be removed in a future version of Python.\n",
      "  start_time = datetime.datetime.utcfromtimestamp(start_epoch)\n",
      "/g/data/en0/jss548/miniconda3/envs/radar-dev/lib/python3.8/site-packages/sklearn/base.py:329: UserWarning: Trying to unpickle estimator GaussianMixture from version 0.21.3 when using version 0.23.1. This might lead to breaking code or invalid results. Use at your own risk.\n",
      "  warnings.warn(\n"
     ]
    },
    {
     "name": "stdout",
     "output_type": "stream",
     "text": [
      "/g/data/hj10/admin/opol/level_1/in2019_v01/20190124/9776HUB-PPIVol-20190124-113018-0000.hdf\n"
     ]
    },
    {
     "name": "stderr",
     "output_type": "stream",
     "text": [
      "/g/data/en0/jss548/miniconda3/envs/radar-dev/lib/python3.8/site-packages/pyart/aux_io/odim_h5.py:295: DeprecationWarning: an integer is required (got type numpy.float32).  Implicit conversion to integers using __int__ is deprecated, and may be removed in a future version of Python.\n",
      "  start_time = datetime.datetime.utcfromtimestamp(start_epoch)\n",
      "/g/data/en0/jss548/miniconda3/envs/radar-dev/lib/python3.8/site-packages/sklearn/base.py:329: UserWarning: Trying to unpickle estimator GaussianMixture from version 0.21.3 when using version 0.23.1. This might lead to breaking code or invalid results. Use at your own risk.\n",
      "  warnings.warn(\n"
     ]
    },
    {
     "name": "stdout",
     "output_type": "stream",
     "text": [
      "/g/data/hj10/admin/opol/level_1/in2019_v01/20190124/9776HUB-PPIVol-20190124-113133-0000.hdf\n"
     ]
    },
    {
     "name": "stderr",
     "output_type": "stream",
     "text": [
      "/g/data/en0/jss548/miniconda3/envs/radar-dev/lib/python3.8/site-packages/pyart/aux_io/odim_h5.py:295: DeprecationWarning: an integer is required (got type numpy.float32).  Implicit conversion to integers using __int__ is deprecated, and may be removed in a future version of Python.\n",
      "  start_time = datetime.datetime.utcfromtimestamp(start_epoch)\n",
      "/g/data/en0/jss548/miniconda3/envs/radar-dev/lib/python3.8/site-packages/sklearn/base.py:329: UserWarning: Trying to unpickle estimator GaussianMixture from version 0.21.3 when using version 0.23.1. This might lead to breaking code or invalid results. Use at your own risk.\n",
      "  warnings.warn(\n"
     ]
    },
    {
     "name": "stdout",
     "output_type": "stream",
     "text": [
      "/g/data/hj10/admin/opol/level_1/in2019_v01/20190124/9776HUB-PPIVol-20190124-113704-0000.hdf\n"
     ]
    },
    {
     "name": "stderr",
     "output_type": "stream",
     "text": [
      "/g/data/en0/jss548/miniconda3/envs/radar-dev/lib/python3.8/site-packages/pyart/aux_io/odim_h5.py:295: DeprecationWarning: an integer is required (got type numpy.float32).  Implicit conversion to integers using __int__ is deprecated, and may be removed in a future version of Python.\n",
      "  start_time = datetime.datetime.utcfromtimestamp(start_epoch)\n",
      "/g/data/en0/jss548/miniconda3/envs/radar-dev/lib/python3.8/site-packages/sklearn/base.py:329: UserWarning: Trying to unpickle estimator GaussianMixture from version 0.21.3 when using version 0.23.1. This might lead to breaking code or invalid results. Use at your own risk.\n",
      "  warnings.warn(\n"
     ]
    },
    {
     "name": "stdout",
     "output_type": "stream",
     "text": [
      "/g/data/hj10/admin/opol/level_1/in2019_v01/20190124/9776HUB-PPIVol-20190124-113819-0000.hdf\n"
     ]
    },
    {
     "name": "stderr",
     "output_type": "stream",
     "text": [
      "/g/data/en0/jss548/miniconda3/envs/radar-dev/lib/python3.8/site-packages/pyart/aux_io/odim_h5.py:295: DeprecationWarning: an integer is required (got type numpy.float32).  Implicit conversion to integers using __int__ is deprecated, and may be removed in a future version of Python.\n",
      "  start_time = datetime.datetime.utcfromtimestamp(start_epoch)\n",
      "/g/data/en0/jss548/miniconda3/envs/radar-dev/lib/python3.8/site-packages/sklearn/base.py:329: UserWarning: Trying to unpickle estimator GaussianMixture from version 0.21.3 when using version 0.23.1. This might lead to breaking code or invalid results. Use at your own risk.\n",
      "  warnings.warn(\n"
     ]
    },
    {
     "name": "stdout",
     "output_type": "stream",
     "text": [
      "/g/data/hj10/admin/opol/level_1/in2019_v01/20190124/9776HUB-PPIVol-20190124-114351-0000.hdf\n"
     ]
    },
    {
     "name": "stderr",
     "output_type": "stream",
     "text": [
      "/g/data/en0/jss548/miniconda3/envs/radar-dev/lib/python3.8/site-packages/pyart/aux_io/odim_h5.py:295: DeprecationWarning: an integer is required (got type numpy.float32).  Implicit conversion to integers using __int__ is deprecated, and may be removed in a future version of Python.\n",
      "  start_time = datetime.datetime.utcfromtimestamp(start_epoch)\n",
      "/g/data/en0/jss548/miniconda3/envs/radar-dev/lib/python3.8/site-packages/sklearn/base.py:329: UserWarning: Trying to unpickle estimator GaussianMixture from version 0.21.3 when using version 0.23.1. This might lead to breaking code or invalid results. Use at your own risk.\n",
      "  warnings.warn(\n"
     ]
    },
    {
     "name": "stdout",
     "output_type": "stream",
     "text": [
      "/g/data/hj10/admin/opol/level_1/in2019_v01/20190124/9776HUB-PPIVol-20190124-114506-0000.hdf\n"
     ]
    },
    {
     "name": "stderr",
     "output_type": "stream",
     "text": [
      "/g/data/en0/jss548/miniconda3/envs/radar-dev/lib/python3.8/site-packages/pyart/aux_io/odim_h5.py:295: DeprecationWarning: an integer is required (got type numpy.float32).  Implicit conversion to integers using __int__ is deprecated, and may be removed in a future version of Python.\n",
      "  start_time = datetime.datetime.utcfromtimestamp(start_epoch)\n",
      "/g/data/en0/jss548/miniconda3/envs/radar-dev/lib/python3.8/site-packages/sklearn/base.py:329: UserWarning: Trying to unpickle estimator GaussianMixture from version 0.21.3 when using version 0.23.1. This might lead to breaking code or invalid results. Use at your own risk.\n",
      "  warnings.warn(\n"
     ]
    },
    {
     "name": "stdout",
     "output_type": "stream",
     "text": [
      "/g/data/hj10/admin/opol/level_1/in2019_v01/20190124/9776HUB-PPIVol-20190124-115037-0000.hdf\n"
     ]
    },
    {
     "name": "stderr",
     "output_type": "stream",
     "text": [
      "/g/data/en0/jss548/miniconda3/envs/radar-dev/lib/python3.8/site-packages/pyart/aux_io/odim_h5.py:295: DeprecationWarning: an integer is required (got type numpy.float32).  Implicit conversion to integers using __int__ is deprecated, and may be removed in a future version of Python.\n",
      "  start_time = datetime.datetime.utcfromtimestamp(start_epoch)\n",
      "/g/data/en0/jss548/miniconda3/envs/radar-dev/lib/python3.8/site-packages/sklearn/base.py:329: UserWarning: Trying to unpickle estimator GaussianMixture from version 0.21.3 when using version 0.23.1. This might lead to breaking code or invalid results. Use at your own risk.\n",
      "  warnings.warn(\n"
     ]
    },
    {
     "name": "stdout",
     "output_type": "stream",
     "text": [
      "/g/data/hj10/admin/opol/level_1/in2019_v01/20190124/9776HUB-PPIVol-20190124-115152-0000.hdf\n"
     ]
    },
    {
     "name": "stderr",
     "output_type": "stream",
     "text": [
      "/g/data/en0/jss548/miniconda3/envs/radar-dev/lib/python3.8/site-packages/pyart/aux_io/odim_h5.py:295: DeprecationWarning: an integer is required (got type numpy.float32).  Implicit conversion to integers using __int__ is deprecated, and may be removed in a future version of Python.\n",
      "  start_time = datetime.datetime.utcfromtimestamp(start_epoch)\n",
      "/g/data/en0/jss548/miniconda3/envs/radar-dev/lib/python3.8/site-packages/sklearn/base.py:329: UserWarning: Trying to unpickle estimator GaussianMixture from version 0.21.3 when using version 0.23.1. This might lead to breaking code or invalid results. Use at your own risk.\n",
      "  warnings.warn(\n"
     ]
    },
    {
     "name": "stdout",
     "output_type": "stream",
     "text": [
      "/g/data/hj10/admin/opol/level_1/in2019_v01/20190124/9776HUB-PPIVol-20190124-115724-0000.hdf\n"
     ]
    },
    {
     "name": "stderr",
     "output_type": "stream",
     "text": [
      "/g/data/en0/jss548/miniconda3/envs/radar-dev/lib/python3.8/site-packages/pyart/aux_io/odim_h5.py:295: DeprecationWarning: an integer is required (got type numpy.float32).  Implicit conversion to integers using __int__ is deprecated, and may be removed in a future version of Python.\n",
      "  start_time = datetime.datetime.utcfromtimestamp(start_epoch)\n",
      "/g/data/en0/jss548/miniconda3/envs/radar-dev/lib/python3.8/site-packages/sklearn/base.py:329: UserWarning: Trying to unpickle estimator GaussianMixture from version 0.21.3 when using version 0.23.1. This might lead to breaking code or invalid results. Use at your own risk.\n",
      "  warnings.warn(\n"
     ]
    },
    {
     "name": "stdout",
     "output_type": "stream",
     "text": [
      "/g/data/hj10/admin/opol/level_1/in2019_v01/20190124/9776HUB-PPIVol-20190124-115838-0000.hdf\n"
     ]
    },
    {
     "name": "stderr",
     "output_type": "stream",
     "text": [
      "/g/data/en0/jss548/miniconda3/envs/radar-dev/lib/python3.8/site-packages/pyart/aux_io/odim_h5.py:295: DeprecationWarning: an integer is required (got type numpy.float32).  Implicit conversion to integers using __int__ is deprecated, and may be removed in a future version of Python.\n",
      "  start_time = datetime.datetime.utcfromtimestamp(start_epoch)\n",
      "/g/data/en0/jss548/miniconda3/envs/radar-dev/lib/python3.8/site-packages/sklearn/base.py:329: UserWarning: Trying to unpickle estimator GaussianMixture from version 0.21.3 when using version 0.23.1. This might lead to breaking code or invalid results. Use at your own risk.\n",
      "  warnings.warn(\n"
     ]
    },
    {
     "name": "stdout",
     "output_type": "stream",
     "text": [
      "/g/data/hj10/admin/opol/level_1/in2019_v01/20190124/9776HUB-PPIVol-20190124-120410-0000.hdf\n"
     ]
    },
    {
     "name": "stderr",
     "output_type": "stream",
     "text": [
      "/g/data/en0/jss548/miniconda3/envs/radar-dev/lib/python3.8/site-packages/pyart/aux_io/odim_h5.py:295: DeprecationWarning: an integer is required (got type numpy.float32).  Implicit conversion to integers using __int__ is deprecated, and may be removed in a future version of Python.\n",
      "  start_time = datetime.datetime.utcfromtimestamp(start_epoch)\n",
      "/g/data/en0/jss548/miniconda3/envs/radar-dev/lib/python3.8/site-packages/sklearn/base.py:329: UserWarning: Trying to unpickle estimator GaussianMixture from version 0.21.3 when using version 0.23.1. This might lead to breaking code or invalid results. Use at your own risk.\n",
      "  warnings.warn(\n"
     ]
    },
    {
     "name": "stdout",
     "output_type": "stream",
     "text": [
      "/g/data/hj10/admin/opol/level_1/in2019_v01/20190124/9776HUB-PPIVol-20190124-120525-0000.hdf\n"
     ]
    },
    {
     "name": "stderr",
     "output_type": "stream",
     "text": [
      "/g/data/en0/jss548/miniconda3/envs/radar-dev/lib/python3.8/site-packages/pyart/aux_io/odim_h5.py:295: DeprecationWarning: an integer is required (got type numpy.float32).  Implicit conversion to integers using __int__ is deprecated, and may be removed in a future version of Python.\n",
      "  start_time = datetime.datetime.utcfromtimestamp(start_epoch)\n",
      "/g/data/en0/jss548/miniconda3/envs/radar-dev/lib/python3.8/site-packages/sklearn/base.py:329: UserWarning: Trying to unpickle estimator GaussianMixture from version 0.21.3 when using version 0.23.1. This might lead to breaking code or invalid results. Use at your own risk.\n",
      "  warnings.warn(\n"
     ]
    },
    {
     "name": "stdout",
     "output_type": "stream",
     "text": [
      "/g/data/hj10/admin/opol/level_1/in2019_v01/20190124/9776HUB-PPIVol-20190124-121057-0000.hdf\n"
     ]
    },
    {
     "name": "stderr",
     "output_type": "stream",
     "text": [
      "/g/data/en0/jss548/miniconda3/envs/radar-dev/lib/python3.8/site-packages/pyart/aux_io/odim_h5.py:295: DeprecationWarning: an integer is required (got type numpy.float32).  Implicit conversion to integers using __int__ is deprecated, and may be removed in a future version of Python.\n",
      "  start_time = datetime.datetime.utcfromtimestamp(start_epoch)\n",
      "/g/data/en0/jss548/miniconda3/envs/radar-dev/lib/python3.8/site-packages/sklearn/base.py:329: UserWarning: Trying to unpickle estimator GaussianMixture from version 0.21.3 when using version 0.23.1. This might lead to breaking code or invalid results. Use at your own risk.\n",
      "  warnings.warn(\n"
     ]
    },
    {
     "name": "stdout",
     "output_type": "stream",
     "text": [
      "/g/data/hj10/admin/opol/level_1/in2019_v01/20190124/9776HUB-PPIVol-20190124-121211-0000.hdf\n"
     ]
    },
    {
     "name": "stderr",
     "output_type": "stream",
     "text": [
      "/g/data/en0/jss548/miniconda3/envs/radar-dev/lib/python3.8/site-packages/pyart/aux_io/odim_h5.py:295: DeprecationWarning: an integer is required (got type numpy.float32).  Implicit conversion to integers using __int__ is deprecated, and may be removed in a future version of Python.\n",
      "  start_time = datetime.datetime.utcfromtimestamp(start_epoch)\n",
      "/g/data/en0/jss548/miniconda3/envs/radar-dev/lib/python3.8/site-packages/sklearn/base.py:329: UserWarning: Trying to unpickle estimator GaussianMixture from version 0.21.3 when using version 0.23.1. This might lead to breaking code or invalid results. Use at your own risk.\n",
      "  warnings.warn(\n"
     ]
    },
    {
     "name": "stdout",
     "output_type": "stream",
     "text": [
      "/g/data/hj10/admin/opol/level_1/in2019_v01/20190124/9776HUB-PPIVol-20190124-121743-0000.hdf\n"
     ]
    },
    {
     "name": "stderr",
     "output_type": "stream",
     "text": [
      "/g/data/en0/jss548/miniconda3/envs/radar-dev/lib/python3.8/site-packages/pyart/aux_io/odim_h5.py:295: DeprecationWarning: an integer is required (got type numpy.float32).  Implicit conversion to integers using __int__ is deprecated, and may be removed in a future version of Python.\n",
      "  start_time = datetime.datetime.utcfromtimestamp(start_epoch)\n",
      "/g/data/en0/jss548/miniconda3/envs/radar-dev/lib/python3.8/site-packages/sklearn/base.py:329: UserWarning: Trying to unpickle estimator GaussianMixture from version 0.21.3 when using version 0.23.1. This might lead to breaking code or invalid results. Use at your own risk.\n",
      "  warnings.warn(\n"
     ]
    },
    {
     "name": "stdout",
     "output_type": "stream",
     "text": [
      "/g/data/hj10/admin/opol/level_1/in2019_v01/20190124/9776HUB-PPIVol-20190124-121858-0000.hdf\n"
     ]
    },
    {
     "name": "stderr",
     "output_type": "stream",
     "text": [
      "/g/data/en0/jss548/miniconda3/envs/radar-dev/lib/python3.8/site-packages/pyart/aux_io/odim_h5.py:295: DeprecationWarning: an integer is required (got type numpy.float32).  Implicit conversion to integers using __int__ is deprecated, and may be removed in a future version of Python.\n",
      "  start_time = datetime.datetime.utcfromtimestamp(start_epoch)\n",
      "/g/data/en0/jss548/miniconda3/envs/radar-dev/lib/python3.8/site-packages/sklearn/base.py:329: UserWarning: Trying to unpickle estimator GaussianMixture from version 0.21.3 when using version 0.23.1. This might lead to breaking code or invalid results. Use at your own risk.\n",
      "  warnings.warn(\n"
     ]
    },
    {
     "name": "stdout",
     "output_type": "stream",
     "text": [
      "/g/data/hj10/admin/opol/level_1/in2019_v01/20190124/9776HUB-PPIVol-20190124-122430-0000.hdf\n"
     ]
    },
    {
     "name": "stderr",
     "output_type": "stream",
     "text": [
      "/g/data/en0/jss548/miniconda3/envs/radar-dev/lib/python3.8/site-packages/pyart/aux_io/odim_h5.py:295: DeprecationWarning: an integer is required (got type numpy.float32).  Implicit conversion to integers using __int__ is deprecated, and may be removed in a future version of Python.\n",
      "  start_time = datetime.datetime.utcfromtimestamp(start_epoch)\n",
      "/g/data/en0/jss548/miniconda3/envs/radar-dev/lib/python3.8/site-packages/sklearn/base.py:329: UserWarning: Trying to unpickle estimator GaussianMixture from version 0.21.3 when using version 0.23.1. This might lead to breaking code or invalid results. Use at your own risk.\n",
      "  warnings.warn(\n"
     ]
    },
    {
     "name": "stdout",
     "output_type": "stream",
     "text": [
      "/g/data/hj10/admin/opol/level_1/in2019_v01/20190124/9776HUB-PPIVol-20190124-122544-0000.hdf\n"
     ]
    },
    {
     "name": "stderr",
     "output_type": "stream",
     "text": [
      "/g/data/en0/jss548/miniconda3/envs/radar-dev/lib/python3.8/site-packages/pyart/aux_io/odim_h5.py:295: DeprecationWarning: an integer is required (got type numpy.float32).  Implicit conversion to integers using __int__ is deprecated, and may be removed in a future version of Python.\n",
      "  start_time = datetime.datetime.utcfromtimestamp(start_epoch)\n",
      "/g/data/en0/jss548/miniconda3/envs/radar-dev/lib/python3.8/site-packages/sklearn/base.py:329: UserWarning: Trying to unpickle estimator GaussianMixture from version 0.21.3 when using version 0.23.1. This might lead to breaking code or invalid results. Use at your own risk.\n",
      "  warnings.warn(\n"
     ]
    },
    {
     "name": "stdout",
     "output_type": "stream",
     "text": [
      "/g/data/hj10/admin/opol/level_1/in2019_v01/20190124/9776HUB-PPIVol-20190124-123116-0000.hdf\n"
     ]
    },
    {
     "name": "stderr",
     "output_type": "stream",
     "text": [
      "/g/data/en0/jss548/miniconda3/envs/radar-dev/lib/python3.8/site-packages/pyart/aux_io/odim_h5.py:295: DeprecationWarning: an integer is required (got type numpy.float32).  Implicit conversion to integers using __int__ is deprecated, and may be removed in a future version of Python.\n",
      "  start_time = datetime.datetime.utcfromtimestamp(start_epoch)\n",
      "/g/data/en0/jss548/miniconda3/envs/radar-dev/lib/python3.8/site-packages/sklearn/base.py:329: UserWarning: Trying to unpickle estimator GaussianMixture from version 0.21.3 when using version 0.23.1. This might lead to breaking code or invalid results. Use at your own risk.\n",
      "  warnings.warn(\n"
     ]
    },
    {
     "name": "stdout",
     "output_type": "stream",
     "text": [
      "/g/data/hj10/admin/opol/level_1/in2019_v01/20190124/9776HUB-PPIVol-20190124-123231-0000.hdf\n"
     ]
    },
    {
     "name": "stderr",
     "output_type": "stream",
     "text": [
      "/g/data/en0/jss548/miniconda3/envs/radar-dev/lib/python3.8/site-packages/pyart/aux_io/odim_h5.py:295: DeprecationWarning: an integer is required (got type numpy.float32).  Implicit conversion to integers using __int__ is deprecated, and may be removed in a future version of Python.\n",
      "  start_time = datetime.datetime.utcfromtimestamp(start_epoch)\n",
      "/g/data/en0/jss548/miniconda3/envs/radar-dev/lib/python3.8/site-packages/sklearn/base.py:329: UserWarning: Trying to unpickle estimator GaussianMixture from version 0.21.3 when using version 0.23.1. This might lead to breaking code or invalid results. Use at your own risk.\n",
      "  warnings.warn(\n"
     ]
    },
    {
     "name": "stdout",
     "output_type": "stream",
     "text": [
      "/g/data/hj10/admin/opol/level_1/in2019_v01/20190124/9776HUB-PPIVol-20190124-123803-0000.hdf\n"
     ]
    },
    {
     "name": "stderr",
     "output_type": "stream",
     "text": [
      "/g/data/en0/jss548/miniconda3/envs/radar-dev/lib/python3.8/site-packages/pyart/aux_io/odim_h5.py:295: DeprecationWarning: an integer is required (got type numpy.float32).  Implicit conversion to integers using __int__ is deprecated, and may be removed in a future version of Python.\n",
      "  start_time = datetime.datetime.utcfromtimestamp(start_epoch)\n",
      "/g/data/en0/jss548/miniconda3/envs/radar-dev/lib/python3.8/site-packages/sklearn/base.py:329: UserWarning: Trying to unpickle estimator GaussianMixture from version 0.21.3 when using version 0.23.1. This might lead to breaking code or invalid results. Use at your own risk.\n",
      "  warnings.warn(\n"
     ]
    },
    {
     "name": "stdout",
     "output_type": "stream",
     "text": [
      "/g/data/hj10/admin/opol/level_1/in2019_v01/20190124/9776HUB-PPIVol-20190124-123917-0000.hdf\n"
     ]
    },
    {
     "name": "stderr",
     "output_type": "stream",
     "text": [
      "/g/data/en0/jss548/miniconda3/envs/radar-dev/lib/python3.8/site-packages/pyart/aux_io/odim_h5.py:295: DeprecationWarning: an integer is required (got type numpy.float32).  Implicit conversion to integers using __int__ is deprecated, and may be removed in a future version of Python.\n",
      "  start_time = datetime.datetime.utcfromtimestamp(start_epoch)\n",
      "/g/data/en0/jss548/miniconda3/envs/radar-dev/lib/python3.8/site-packages/sklearn/base.py:329: UserWarning: Trying to unpickle estimator GaussianMixture from version 0.21.3 when using version 0.23.1. This might lead to breaking code or invalid results. Use at your own risk.\n",
      "  warnings.warn(\n"
     ]
    },
    {
     "name": "stdout",
     "output_type": "stream",
     "text": [
      "/g/data/hj10/admin/opol/level_1/in2019_v01/20190124/9776HUB-PPIVol-20190124-124449-0000.hdf\n"
     ]
    },
    {
     "name": "stderr",
     "output_type": "stream",
     "text": [
      "/g/data/en0/jss548/miniconda3/envs/radar-dev/lib/python3.8/site-packages/pyart/aux_io/odim_h5.py:295: DeprecationWarning: an integer is required (got type numpy.float32).  Implicit conversion to integers using __int__ is deprecated, and may be removed in a future version of Python.\n",
      "  start_time = datetime.datetime.utcfromtimestamp(start_epoch)\n",
      "/g/data/en0/jss548/miniconda3/envs/radar-dev/lib/python3.8/site-packages/sklearn/base.py:329: UserWarning: Trying to unpickle estimator GaussianMixture from version 0.21.3 when using version 0.23.1. This might lead to breaking code or invalid results. Use at your own risk.\n",
      "  warnings.warn(\n"
     ]
    },
    {
     "name": "stdout",
     "output_type": "stream",
     "text": [
      "/g/data/hj10/admin/opol/level_1/in2019_v01/20190124/9776HUB-PPIVol-20190124-124604-0000.hdf\n"
     ]
    },
    {
     "name": "stderr",
     "output_type": "stream",
     "text": [
      "/g/data/en0/jss548/miniconda3/envs/radar-dev/lib/python3.8/site-packages/pyart/aux_io/odim_h5.py:295: DeprecationWarning: an integer is required (got type numpy.float32).  Implicit conversion to integers using __int__ is deprecated, and may be removed in a future version of Python.\n",
      "  start_time = datetime.datetime.utcfromtimestamp(start_epoch)\n",
      "/g/data/en0/jss548/miniconda3/envs/radar-dev/lib/python3.8/site-packages/sklearn/base.py:329: UserWarning: Trying to unpickle estimator GaussianMixture from version 0.21.3 when using version 0.23.1. This might lead to breaking code or invalid results. Use at your own risk.\n",
      "  warnings.warn(\n"
     ]
    },
    {
     "name": "stdout",
     "output_type": "stream",
     "text": [
      "/g/data/hj10/admin/opol/level_1/in2019_v01/20190124/9776HUB-PPIVol-20190124-125135-0000.hdf\n"
     ]
    },
    {
     "name": "stderr",
     "output_type": "stream",
     "text": [
      "/g/data/en0/jss548/miniconda3/envs/radar-dev/lib/python3.8/site-packages/pyart/aux_io/odim_h5.py:295: DeprecationWarning: an integer is required (got type numpy.float32).  Implicit conversion to integers using __int__ is deprecated, and may be removed in a future version of Python.\n",
      "  start_time = datetime.datetime.utcfromtimestamp(start_epoch)\n",
      "/g/data/en0/jss548/miniconda3/envs/radar-dev/lib/python3.8/site-packages/sklearn/base.py:329: UserWarning: Trying to unpickle estimator GaussianMixture from version 0.21.3 when using version 0.23.1. This might lead to breaking code or invalid results. Use at your own risk.\n",
      "  warnings.warn(\n"
     ]
    },
    {
     "name": "stdout",
     "output_type": "stream",
     "text": [
      "/g/data/hj10/admin/opol/level_1/in2019_v01/20190124/9776HUB-PPIVol-20190124-125250-0000.hdf\n"
     ]
    },
    {
     "name": "stderr",
     "output_type": "stream",
     "text": [
      "/g/data/en0/jss548/miniconda3/envs/radar-dev/lib/python3.8/site-packages/pyart/aux_io/odim_h5.py:295: DeprecationWarning: an integer is required (got type numpy.float32).  Implicit conversion to integers using __int__ is deprecated, and may be removed in a future version of Python.\n",
      "  start_time = datetime.datetime.utcfromtimestamp(start_epoch)\n",
      "/g/data/en0/jss548/miniconda3/envs/radar-dev/lib/python3.8/site-packages/sklearn/base.py:329: UserWarning: Trying to unpickle estimator GaussianMixture from version 0.21.3 when using version 0.23.1. This might lead to breaking code or invalid results. Use at your own risk.\n",
      "  warnings.warn(\n"
     ]
    },
    {
     "name": "stdout",
     "output_type": "stream",
     "text": [
      "/g/data/hj10/admin/opol/level_1/in2019_v01/20190124/9776HUB-PPIVol-20190124-125822-0000.hdf\n"
     ]
    },
    {
     "name": "stderr",
     "output_type": "stream",
     "text": [
      "/g/data/en0/jss548/miniconda3/envs/radar-dev/lib/python3.8/site-packages/pyart/aux_io/odim_h5.py:295: DeprecationWarning: an integer is required (got type numpy.float32).  Implicit conversion to integers using __int__ is deprecated, and may be removed in a future version of Python.\n",
      "  start_time = datetime.datetime.utcfromtimestamp(start_epoch)\n",
      "/g/data/en0/jss548/miniconda3/envs/radar-dev/lib/python3.8/site-packages/sklearn/base.py:329: UserWarning: Trying to unpickle estimator GaussianMixture from version 0.21.3 when using version 0.23.1. This might lead to breaking code or invalid results. Use at your own risk.\n",
      "  warnings.warn(\n"
     ]
    },
    {
     "name": "stdout",
     "output_type": "stream",
     "text": [
      "/g/data/hj10/admin/opol/level_1/in2019_v01/20190124/9776HUB-PPIVol-20190124-125937-0000.hdf\n"
     ]
    },
    {
     "name": "stderr",
     "output_type": "stream",
     "text": [
      "/g/data/en0/jss548/miniconda3/envs/radar-dev/lib/python3.8/site-packages/pyart/aux_io/odim_h5.py:295: DeprecationWarning: an integer is required (got type numpy.float32).  Implicit conversion to integers using __int__ is deprecated, and may be removed in a future version of Python.\n",
      "  start_time = datetime.datetime.utcfromtimestamp(start_epoch)\n",
      "/g/data/en0/jss548/miniconda3/envs/radar-dev/lib/python3.8/site-packages/sklearn/base.py:329: UserWarning: Trying to unpickle estimator GaussianMixture from version 0.21.3 when using version 0.23.1. This might lead to breaking code or invalid results. Use at your own risk.\n",
      "  warnings.warn(\n"
     ]
    },
    {
     "name": "stdout",
     "output_type": "stream",
     "text": [
      "/g/data/hj10/admin/opol/level_1/in2019_v01/20190124/9776HUB-PPIVol-20190124-130508-0000.hdf\n"
     ]
    },
    {
     "name": "stderr",
     "output_type": "stream",
     "text": [
      "/g/data/en0/jss548/miniconda3/envs/radar-dev/lib/python3.8/site-packages/pyart/aux_io/odim_h5.py:295: DeprecationWarning: an integer is required (got type numpy.float32).  Implicit conversion to integers using __int__ is deprecated, and may be removed in a future version of Python.\n",
      "  start_time = datetime.datetime.utcfromtimestamp(start_epoch)\n",
      "/g/data/en0/jss548/miniconda3/envs/radar-dev/lib/python3.8/site-packages/sklearn/base.py:329: UserWarning: Trying to unpickle estimator GaussianMixture from version 0.21.3 when using version 0.23.1. This might lead to breaking code or invalid results. Use at your own risk.\n",
      "  warnings.warn(\n"
     ]
    },
    {
     "name": "stdout",
     "output_type": "stream",
     "text": [
      "/g/data/hj10/admin/opol/level_1/in2019_v01/20190124/9776HUB-PPIVol-20190124-130623-0000.hdf\n"
     ]
    },
    {
     "name": "stderr",
     "output_type": "stream",
     "text": [
      "/g/data/en0/jss548/miniconda3/envs/radar-dev/lib/python3.8/site-packages/pyart/aux_io/odim_h5.py:295: DeprecationWarning: an integer is required (got type numpy.float32).  Implicit conversion to integers using __int__ is deprecated, and may be removed in a future version of Python.\n",
      "  start_time = datetime.datetime.utcfromtimestamp(start_epoch)\n",
      "/g/data/en0/jss548/miniconda3/envs/radar-dev/lib/python3.8/site-packages/sklearn/base.py:329: UserWarning: Trying to unpickle estimator GaussianMixture from version 0.21.3 when using version 0.23.1. This might lead to breaking code or invalid results. Use at your own risk.\n",
      "  warnings.warn(\n"
     ]
    },
    {
     "name": "stdout",
     "output_type": "stream",
     "text": [
      "/g/data/hj10/admin/opol/level_1/in2019_v01/20190124/9776HUB-PPIVol-20190124-131155-0000.hdf\n"
     ]
    },
    {
     "name": "stderr",
     "output_type": "stream",
     "text": [
      "/g/data/en0/jss548/miniconda3/envs/radar-dev/lib/python3.8/site-packages/pyart/aux_io/odim_h5.py:295: DeprecationWarning: an integer is required (got type numpy.float32).  Implicit conversion to integers using __int__ is deprecated, and may be removed in a future version of Python.\n",
      "  start_time = datetime.datetime.utcfromtimestamp(start_epoch)\n",
      "/g/data/en0/jss548/miniconda3/envs/radar-dev/lib/python3.8/site-packages/sklearn/base.py:329: UserWarning: Trying to unpickle estimator GaussianMixture from version 0.21.3 when using version 0.23.1. This might lead to breaking code or invalid results. Use at your own risk.\n",
      "  warnings.warn(\n"
     ]
    },
    {
     "name": "stdout",
     "output_type": "stream",
     "text": [
      "/g/data/hj10/admin/opol/level_1/in2019_v01/20190124/9776HUB-PPIVol-20190124-131309-0000.hdf\n"
     ]
    },
    {
     "name": "stderr",
     "output_type": "stream",
     "text": [
      "/g/data/en0/jss548/miniconda3/envs/radar-dev/lib/python3.8/site-packages/pyart/aux_io/odim_h5.py:295: DeprecationWarning: an integer is required (got type numpy.float32).  Implicit conversion to integers using __int__ is deprecated, and may be removed in a future version of Python.\n",
      "  start_time = datetime.datetime.utcfromtimestamp(start_epoch)\n",
      "/g/data/en0/jss548/miniconda3/envs/radar-dev/lib/python3.8/site-packages/sklearn/base.py:329: UserWarning: Trying to unpickle estimator GaussianMixture from version 0.21.3 when using version 0.23.1. This might lead to breaking code or invalid results. Use at your own risk.\n",
      "  warnings.warn(\n"
     ]
    },
    {
     "name": "stdout",
     "output_type": "stream",
     "text": [
      "/g/data/hj10/admin/opol/level_1/in2019_v01/20190124/9776HUB-PPIVol-20190124-131841-0000.hdf\n"
     ]
    },
    {
     "name": "stderr",
     "output_type": "stream",
     "text": [
      "/g/data/en0/jss548/miniconda3/envs/radar-dev/lib/python3.8/site-packages/pyart/aux_io/odim_h5.py:295: DeprecationWarning: an integer is required (got type numpy.float32).  Implicit conversion to integers using __int__ is deprecated, and may be removed in a future version of Python.\n",
      "  start_time = datetime.datetime.utcfromtimestamp(start_epoch)\n",
      "/g/data/en0/jss548/miniconda3/envs/radar-dev/lib/python3.8/site-packages/sklearn/base.py:329: UserWarning: Trying to unpickle estimator GaussianMixture from version 0.21.3 when using version 0.23.1. This might lead to breaking code or invalid results. Use at your own risk.\n",
      "  warnings.warn(\n"
     ]
    },
    {
     "name": "stdout",
     "output_type": "stream",
     "text": [
      "/g/data/hj10/admin/opol/level_1/in2019_v01/20190124/9776HUB-PPIVol-20190124-131956-0000.hdf\n"
     ]
    },
    {
     "name": "stderr",
     "output_type": "stream",
     "text": [
      "/g/data/en0/jss548/miniconda3/envs/radar-dev/lib/python3.8/site-packages/pyart/aux_io/odim_h5.py:295: DeprecationWarning: an integer is required (got type numpy.float32).  Implicit conversion to integers using __int__ is deprecated, and may be removed in a future version of Python.\n",
      "  start_time = datetime.datetime.utcfromtimestamp(start_epoch)\n",
      "/g/data/en0/jss548/miniconda3/envs/radar-dev/lib/python3.8/site-packages/sklearn/base.py:329: UserWarning: Trying to unpickle estimator GaussianMixture from version 0.21.3 when using version 0.23.1. This might lead to breaking code or invalid results. Use at your own risk.\n",
      "  warnings.warn(\n"
     ]
    },
    {
     "name": "stdout",
     "output_type": "stream",
     "text": [
      "/g/data/hj10/admin/opol/level_1/in2019_v01/20190124/9776HUB-PPIVol-20190124-132528-0000.hdf\n"
     ]
    },
    {
     "name": "stderr",
     "output_type": "stream",
     "text": [
      "/g/data/en0/jss548/miniconda3/envs/radar-dev/lib/python3.8/site-packages/pyart/aux_io/odim_h5.py:295: DeprecationWarning: an integer is required (got type numpy.float32).  Implicit conversion to integers using __int__ is deprecated, and may be removed in a future version of Python.\n",
      "  start_time = datetime.datetime.utcfromtimestamp(start_epoch)\n",
      "/g/data/en0/jss548/miniconda3/envs/radar-dev/lib/python3.8/site-packages/sklearn/base.py:329: UserWarning: Trying to unpickle estimator GaussianMixture from version 0.21.3 when using version 0.23.1. This might lead to breaking code or invalid results. Use at your own risk.\n",
      "  warnings.warn(\n"
     ]
    },
    {
     "name": "stdout",
     "output_type": "stream",
     "text": [
      "/g/data/hj10/admin/opol/level_1/in2019_v01/20190124/9776HUB-PPIVol-20190124-132642-0000.hdf\n"
     ]
    },
    {
     "name": "stderr",
     "output_type": "stream",
     "text": [
      "/g/data/en0/jss548/miniconda3/envs/radar-dev/lib/python3.8/site-packages/pyart/aux_io/odim_h5.py:295: DeprecationWarning: an integer is required (got type numpy.float32).  Implicit conversion to integers using __int__ is deprecated, and may be removed in a future version of Python.\n",
      "  start_time = datetime.datetime.utcfromtimestamp(start_epoch)\n",
      "/g/data/en0/jss548/miniconda3/envs/radar-dev/lib/python3.8/site-packages/sklearn/base.py:329: UserWarning: Trying to unpickle estimator GaussianMixture from version 0.21.3 when using version 0.23.1. This might lead to breaking code or invalid results. Use at your own risk.\n",
      "  warnings.warn(\n"
     ]
    },
    {
     "name": "stdout",
     "output_type": "stream",
     "text": [
      "/g/data/hj10/admin/opol/level_1/in2019_v01/20190124/9776HUB-PPIVol-20190124-133214-0000.hdf\n"
     ]
    },
    {
     "name": "stderr",
     "output_type": "stream",
     "text": [
      "/g/data/en0/jss548/miniconda3/envs/radar-dev/lib/python3.8/site-packages/pyart/aux_io/odim_h5.py:295: DeprecationWarning: an integer is required (got type numpy.float32).  Implicit conversion to integers using __int__ is deprecated, and may be removed in a future version of Python.\n",
      "  start_time = datetime.datetime.utcfromtimestamp(start_epoch)\n",
      "/g/data/en0/jss548/miniconda3/envs/radar-dev/lib/python3.8/site-packages/sklearn/base.py:329: UserWarning: Trying to unpickle estimator GaussianMixture from version 0.21.3 when using version 0.23.1. This might lead to breaking code or invalid results. Use at your own risk.\n",
      "  warnings.warn(\n"
     ]
    },
    {
     "name": "stdout",
     "output_type": "stream",
     "text": [
      "/g/data/hj10/admin/opol/level_1/in2019_v01/20190124/9776HUB-PPIVol-20190124-133329-0000.hdf\n"
     ]
    },
    {
     "name": "stderr",
     "output_type": "stream",
     "text": [
      "/g/data/en0/jss548/miniconda3/envs/radar-dev/lib/python3.8/site-packages/pyart/aux_io/odim_h5.py:295: DeprecationWarning: an integer is required (got type numpy.float32).  Implicit conversion to integers using __int__ is deprecated, and may be removed in a future version of Python.\n",
      "  start_time = datetime.datetime.utcfromtimestamp(start_epoch)\n",
      "/g/data/en0/jss548/miniconda3/envs/radar-dev/lib/python3.8/site-packages/sklearn/base.py:329: UserWarning: Trying to unpickle estimator GaussianMixture from version 0.21.3 when using version 0.23.1. This might lead to breaking code or invalid results. Use at your own risk.\n",
      "  warnings.warn(\n"
     ]
    },
    {
     "name": "stdout",
     "output_type": "stream",
     "text": [
      "/g/data/hj10/admin/opol/level_1/in2019_v01/20190124/9776HUB-PPIVol-20190124-133901-0000.hdf\n"
     ]
    },
    {
     "name": "stderr",
     "output_type": "stream",
     "text": [
      "/g/data/en0/jss548/miniconda3/envs/radar-dev/lib/python3.8/site-packages/pyart/aux_io/odim_h5.py:295: DeprecationWarning: an integer is required (got type numpy.float32).  Implicit conversion to integers using __int__ is deprecated, and may be removed in a future version of Python.\n",
      "  start_time = datetime.datetime.utcfromtimestamp(start_epoch)\n",
      "/g/data/en0/jss548/miniconda3/envs/radar-dev/lib/python3.8/site-packages/sklearn/base.py:329: UserWarning: Trying to unpickle estimator GaussianMixture from version 0.21.3 when using version 0.23.1. This might lead to breaking code or invalid results. Use at your own risk.\n",
      "  warnings.warn(\n"
     ]
    },
    {
     "name": "stdout",
     "output_type": "stream",
     "text": [
      "/g/data/hj10/admin/opol/level_1/in2019_v01/20190124/9776HUB-PPIVol-20190124-134015-0000.hdf\n"
     ]
    },
    {
     "name": "stderr",
     "output_type": "stream",
     "text": [
      "/g/data/en0/jss548/miniconda3/envs/radar-dev/lib/python3.8/site-packages/pyart/aux_io/odim_h5.py:295: DeprecationWarning: an integer is required (got type numpy.float32).  Implicit conversion to integers using __int__ is deprecated, and may be removed in a future version of Python.\n",
      "  start_time = datetime.datetime.utcfromtimestamp(start_epoch)\n",
      "/g/data/en0/jss548/miniconda3/envs/radar-dev/lib/python3.8/site-packages/sklearn/base.py:329: UserWarning: Trying to unpickle estimator GaussianMixture from version 0.21.3 when using version 0.23.1. This might lead to breaking code or invalid results. Use at your own risk.\n",
      "  warnings.warn(\n"
     ]
    },
    {
     "name": "stdout",
     "output_type": "stream",
     "text": [
      "/g/data/hj10/admin/opol/level_1/in2019_v01/20190124/9776HUB-PPIVol-20190124-134547-0000.hdf\n"
     ]
    },
    {
     "name": "stderr",
     "output_type": "stream",
     "text": [
      "/g/data/en0/jss548/miniconda3/envs/radar-dev/lib/python3.8/site-packages/pyart/aux_io/odim_h5.py:295: DeprecationWarning: an integer is required (got type numpy.float32).  Implicit conversion to integers using __int__ is deprecated, and may be removed in a future version of Python.\n",
      "  start_time = datetime.datetime.utcfromtimestamp(start_epoch)\n",
      "/g/data/en0/jss548/miniconda3/envs/radar-dev/lib/python3.8/site-packages/sklearn/base.py:329: UserWarning: Trying to unpickle estimator GaussianMixture from version 0.21.3 when using version 0.23.1. This might lead to breaking code or invalid results. Use at your own risk.\n",
      "  warnings.warn(\n"
     ]
    },
    {
     "name": "stdout",
     "output_type": "stream",
     "text": [
      "/g/data/hj10/admin/opol/level_1/in2019_v01/20190124/9776HUB-PPIVol-20190124-134702-0000.hdf\n"
     ]
    },
    {
     "name": "stderr",
     "output_type": "stream",
     "text": [
      "/g/data/en0/jss548/miniconda3/envs/radar-dev/lib/python3.8/site-packages/pyart/aux_io/odim_h5.py:295: DeprecationWarning: an integer is required (got type numpy.float32).  Implicit conversion to integers using __int__ is deprecated, and may be removed in a future version of Python.\n",
      "  start_time = datetime.datetime.utcfromtimestamp(start_epoch)\n",
      "/g/data/en0/jss548/miniconda3/envs/radar-dev/lib/python3.8/site-packages/sklearn/base.py:329: UserWarning: Trying to unpickle estimator GaussianMixture from version 0.21.3 when using version 0.23.1. This might lead to breaking code or invalid results. Use at your own risk.\n",
      "  warnings.warn(\n"
     ]
    },
    {
     "name": "stdout",
     "output_type": "stream",
     "text": [
      "/g/data/hj10/admin/opol/level_1/in2019_v01/20190124/9776HUB-PPIVol-20190124-135234-0000.hdf\n"
     ]
    },
    {
     "name": "stderr",
     "output_type": "stream",
     "text": [
      "/g/data/en0/jss548/miniconda3/envs/radar-dev/lib/python3.8/site-packages/pyart/aux_io/odim_h5.py:295: DeprecationWarning: an integer is required (got type numpy.float32).  Implicit conversion to integers using __int__ is deprecated, and may be removed in a future version of Python.\n",
      "  start_time = datetime.datetime.utcfromtimestamp(start_epoch)\n",
      "/g/data/en0/jss548/miniconda3/envs/radar-dev/lib/python3.8/site-packages/sklearn/base.py:329: UserWarning: Trying to unpickle estimator GaussianMixture from version 0.21.3 when using version 0.23.1. This might lead to breaking code or invalid results. Use at your own risk.\n",
      "  warnings.warn(\n"
     ]
    },
    {
     "name": "stdout",
     "output_type": "stream",
     "text": [
      "/g/data/hj10/admin/opol/level_1/in2019_v01/20190124/9776HUB-PPIVol-20190124-135348-0000.hdf\n"
     ]
    },
    {
     "name": "stderr",
     "output_type": "stream",
     "text": [
      "/g/data/en0/jss548/miniconda3/envs/radar-dev/lib/python3.8/site-packages/pyart/aux_io/odim_h5.py:295: DeprecationWarning: an integer is required (got type numpy.float32).  Implicit conversion to integers using __int__ is deprecated, and may be removed in a future version of Python.\n",
      "  start_time = datetime.datetime.utcfromtimestamp(start_epoch)\n",
      "/g/data/en0/jss548/miniconda3/envs/radar-dev/lib/python3.8/site-packages/sklearn/base.py:329: UserWarning: Trying to unpickle estimator GaussianMixture from version 0.21.3 when using version 0.23.1. This might lead to breaking code or invalid results. Use at your own risk.\n",
      "  warnings.warn(\n"
     ]
    },
    {
     "name": "stdout",
     "output_type": "stream",
     "text": [
      "/g/data/hj10/admin/opol/level_1/in2019_v01/20190124/9776HUB-PPIVol-20190124-135920-0000.hdf\n"
     ]
    },
    {
     "name": "stderr",
     "output_type": "stream",
     "text": [
      "/g/data/en0/jss548/miniconda3/envs/radar-dev/lib/python3.8/site-packages/pyart/aux_io/odim_h5.py:295: DeprecationWarning: an integer is required (got type numpy.float32).  Implicit conversion to integers using __int__ is deprecated, and may be removed in a future version of Python.\n",
      "  start_time = datetime.datetime.utcfromtimestamp(start_epoch)\n",
      "/g/data/en0/jss548/miniconda3/envs/radar-dev/lib/python3.8/site-packages/sklearn/base.py:329: UserWarning: Trying to unpickle estimator GaussianMixture from version 0.21.3 when using version 0.23.1. This might lead to breaking code or invalid results. Use at your own risk.\n",
      "  warnings.warn(\n"
     ]
    },
    {
     "name": "stdout",
     "output_type": "stream",
     "text": [
      "/g/data/hj10/admin/opol/level_1/in2019_v01/20190124/9776HUB-PPIVol-20190124-140035-0000.hdf\n"
     ]
    },
    {
     "name": "stderr",
     "output_type": "stream",
     "text": [
      "/g/data/en0/jss548/miniconda3/envs/radar-dev/lib/python3.8/site-packages/pyart/aux_io/odim_h5.py:295: DeprecationWarning: an integer is required (got type numpy.float32).  Implicit conversion to integers using __int__ is deprecated, and may be removed in a future version of Python.\n",
      "  start_time = datetime.datetime.utcfromtimestamp(start_epoch)\n",
      "/g/data/en0/jss548/miniconda3/envs/radar-dev/lib/python3.8/site-packages/sklearn/base.py:329: UserWarning: Trying to unpickle estimator GaussianMixture from version 0.21.3 when using version 0.23.1. This might lead to breaking code or invalid results. Use at your own risk.\n",
      "  warnings.warn(\n"
     ]
    },
    {
     "name": "stdout",
     "output_type": "stream",
     "text": [
      "/g/data/hj10/admin/opol/level_1/in2019_v01/20190124/9776HUB-PPIVol-20190124-140606-0000.hdf\n"
     ]
    },
    {
     "name": "stderr",
     "output_type": "stream",
     "text": [
      "/g/data/en0/jss548/miniconda3/envs/radar-dev/lib/python3.8/site-packages/pyart/aux_io/odim_h5.py:295: DeprecationWarning: an integer is required (got type numpy.float32).  Implicit conversion to integers using __int__ is deprecated, and may be removed in a future version of Python.\n",
      "  start_time = datetime.datetime.utcfromtimestamp(start_epoch)\n",
      "/g/data/en0/jss548/miniconda3/envs/radar-dev/lib/python3.8/site-packages/sklearn/base.py:329: UserWarning: Trying to unpickle estimator GaussianMixture from version 0.21.3 when using version 0.23.1. This might lead to breaking code or invalid results. Use at your own risk.\n",
      "  warnings.warn(\n"
     ]
    },
    {
     "name": "stdout",
     "output_type": "stream",
     "text": [
      "/g/data/hj10/admin/opol/level_1/in2019_v01/20190124/9776HUB-PPIVol-20190124-140721-0000.hdf\n"
     ]
    },
    {
     "name": "stderr",
     "output_type": "stream",
     "text": [
      "/g/data/en0/jss548/miniconda3/envs/radar-dev/lib/python3.8/site-packages/pyart/aux_io/odim_h5.py:295: DeprecationWarning: an integer is required (got type numpy.float32).  Implicit conversion to integers using __int__ is deprecated, and may be removed in a future version of Python.\n",
      "  start_time = datetime.datetime.utcfromtimestamp(start_epoch)\n",
      "/g/data/en0/jss548/miniconda3/envs/radar-dev/lib/python3.8/site-packages/sklearn/base.py:329: UserWarning: Trying to unpickle estimator GaussianMixture from version 0.21.3 when using version 0.23.1. This might lead to breaking code or invalid results. Use at your own risk.\n",
      "  warnings.warn(\n"
     ]
    },
    {
     "name": "stdout",
     "output_type": "stream",
     "text": [
      "/g/data/hj10/admin/opol/level_1/in2019_v01/20190124/9776HUB-PPIVol-20190124-141253-0000.hdf\n"
     ]
    },
    {
     "name": "stderr",
     "output_type": "stream",
     "text": [
      "/g/data/en0/jss548/miniconda3/envs/radar-dev/lib/python3.8/site-packages/pyart/aux_io/odim_h5.py:295: DeprecationWarning: an integer is required (got type numpy.float32).  Implicit conversion to integers using __int__ is deprecated, and may be removed in a future version of Python.\n",
      "  start_time = datetime.datetime.utcfromtimestamp(start_epoch)\n",
      "/g/data/en0/jss548/miniconda3/envs/radar-dev/lib/python3.8/site-packages/sklearn/base.py:329: UserWarning: Trying to unpickle estimator GaussianMixture from version 0.21.3 when using version 0.23.1. This might lead to breaking code or invalid results. Use at your own risk.\n",
      "  warnings.warn(\n"
     ]
    },
    {
     "name": "stdout",
     "output_type": "stream",
     "text": [
      "/g/data/hj10/admin/opol/level_1/in2019_v01/20190124/9776HUB-PPIVol-20190124-141408-0000.hdf\n"
     ]
    },
    {
     "name": "stderr",
     "output_type": "stream",
     "text": [
      "/g/data/en0/jss548/miniconda3/envs/radar-dev/lib/python3.8/site-packages/pyart/aux_io/odim_h5.py:295: DeprecationWarning: an integer is required (got type numpy.float32).  Implicit conversion to integers using __int__ is deprecated, and may be removed in a future version of Python.\n",
      "  start_time = datetime.datetime.utcfromtimestamp(start_epoch)\n",
      "/g/data/en0/jss548/miniconda3/envs/radar-dev/lib/python3.8/site-packages/sklearn/base.py:329: UserWarning: Trying to unpickle estimator GaussianMixture from version 0.21.3 when using version 0.23.1. This might lead to breaking code or invalid results. Use at your own risk.\n",
      "  warnings.warn(\n"
     ]
    },
    {
     "name": "stdout",
     "output_type": "stream",
     "text": [
      "/g/data/hj10/admin/opol/level_1/in2019_v01/20190124/9776HUB-PPIVol-20190124-141939-0000.hdf\n"
     ]
    },
    {
     "name": "stderr",
     "output_type": "stream",
     "text": [
      "/g/data/en0/jss548/miniconda3/envs/radar-dev/lib/python3.8/site-packages/pyart/aux_io/odim_h5.py:295: DeprecationWarning: an integer is required (got type numpy.float32).  Implicit conversion to integers using __int__ is deprecated, and may be removed in a future version of Python.\n",
      "  start_time = datetime.datetime.utcfromtimestamp(start_epoch)\n",
      "/g/data/en0/jss548/miniconda3/envs/radar-dev/lib/python3.8/site-packages/sklearn/base.py:329: UserWarning: Trying to unpickle estimator GaussianMixture from version 0.21.3 when using version 0.23.1. This might lead to breaking code or invalid results. Use at your own risk.\n",
      "  warnings.warn(\n"
     ]
    },
    {
     "name": "stdout",
     "output_type": "stream",
     "text": [
      "/g/data/hj10/admin/opol/level_1/in2019_v01/20190124/9776HUB-PPIVol-20190124-142054-0000.hdf\n"
     ]
    },
    {
     "name": "stderr",
     "output_type": "stream",
     "text": [
      "/g/data/en0/jss548/miniconda3/envs/radar-dev/lib/python3.8/site-packages/pyart/aux_io/odim_h5.py:295: DeprecationWarning: an integer is required (got type numpy.float32).  Implicit conversion to integers using __int__ is deprecated, and may be removed in a future version of Python.\n",
      "  start_time = datetime.datetime.utcfromtimestamp(start_epoch)\n",
      "/g/data/en0/jss548/miniconda3/envs/radar-dev/lib/python3.8/site-packages/sklearn/base.py:329: UserWarning: Trying to unpickle estimator GaussianMixture from version 0.21.3 when using version 0.23.1. This might lead to breaking code or invalid results. Use at your own risk.\n",
      "  warnings.warn(\n"
     ]
    },
    {
     "name": "stdout",
     "output_type": "stream",
     "text": [
      "/g/data/hj10/admin/opol/level_1/in2019_v01/20190124/9776HUB-PPIVol-20190124-142626-0000.hdf\n"
     ]
    },
    {
     "name": "stderr",
     "output_type": "stream",
     "text": [
      "/g/data/en0/jss548/miniconda3/envs/radar-dev/lib/python3.8/site-packages/pyart/aux_io/odim_h5.py:295: DeprecationWarning: an integer is required (got type numpy.float32).  Implicit conversion to integers using __int__ is deprecated, and may be removed in a future version of Python.\n",
      "  start_time = datetime.datetime.utcfromtimestamp(start_epoch)\n",
      "/g/data/en0/jss548/miniconda3/envs/radar-dev/lib/python3.8/site-packages/sklearn/base.py:329: UserWarning: Trying to unpickle estimator GaussianMixture from version 0.21.3 when using version 0.23.1. This might lead to breaking code or invalid results. Use at your own risk.\n",
      "  warnings.warn(\n"
     ]
    },
    {
     "name": "stdout",
     "output_type": "stream",
     "text": [
      "/g/data/hj10/admin/opol/level_1/in2019_v01/20190124/9776HUB-PPIVol-20190124-142741-0000.hdf\n"
     ]
    },
    {
     "name": "stderr",
     "output_type": "stream",
     "text": [
      "/g/data/en0/jss548/miniconda3/envs/radar-dev/lib/python3.8/site-packages/pyart/aux_io/odim_h5.py:295: DeprecationWarning: an integer is required (got type numpy.float32).  Implicit conversion to integers using __int__ is deprecated, and may be removed in a future version of Python.\n",
      "  start_time = datetime.datetime.utcfromtimestamp(start_epoch)\n",
      "/g/data/en0/jss548/miniconda3/envs/radar-dev/lib/python3.8/site-packages/sklearn/base.py:329: UserWarning: Trying to unpickle estimator GaussianMixture from version 0.21.3 when using version 0.23.1. This might lead to breaking code or invalid results. Use at your own risk.\n",
      "  warnings.warn(\n"
     ]
    },
    {
     "name": "stdout",
     "output_type": "stream",
     "text": [
      "/g/data/hj10/admin/opol/level_1/in2019_v01/20190124/9776HUB-PPIVol-20190124-143312-0000.hdf\n"
     ]
    },
    {
     "name": "stderr",
     "output_type": "stream",
     "text": [
      "/g/data/en0/jss548/miniconda3/envs/radar-dev/lib/python3.8/site-packages/pyart/aux_io/odim_h5.py:295: DeprecationWarning: an integer is required (got type numpy.float32).  Implicit conversion to integers using __int__ is deprecated, and may be removed in a future version of Python.\n",
      "  start_time = datetime.datetime.utcfromtimestamp(start_epoch)\n",
      "/g/data/en0/jss548/miniconda3/envs/radar-dev/lib/python3.8/site-packages/sklearn/base.py:329: UserWarning: Trying to unpickle estimator GaussianMixture from version 0.21.3 when using version 0.23.1. This might lead to breaking code or invalid results. Use at your own risk.\n",
      "  warnings.warn(\n"
     ]
    },
    {
     "name": "stdout",
     "output_type": "stream",
     "text": [
      "/g/data/hj10/admin/opol/level_1/in2019_v01/20190124/9776HUB-PPIVol-20190124-143427-0000.hdf\n"
     ]
    },
    {
     "name": "stderr",
     "output_type": "stream",
     "text": [
      "/g/data/en0/jss548/miniconda3/envs/radar-dev/lib/python3.8/site-packages/pyart/aux_io/odim_h5.py:295: DeprecationWarning: an integer is required (got type numpy.float32).  Implicit conversion to integers using __int__ is deprecated, and may be removed in a future version of Python.\n",
      "  start_time = datetime.datetime.utcfromtimestamp(start_epoch)\n",
      "/g/data/en0/jss548/miniconda3/envs/radar-dev/lib/python3.8/site-packages/sklearn/base.py:329: UserWarning: Trying to unpickle estimator GaussianMixture from version 0.21.3 when using version 0.23.1. This might lead to breaking code or invalid results. Use at your own risk.\n",
      "  warnings.warn(\n"
     ]
    },
    {
     "name": "stdout",
     "output_type": "stream",
     "text": [
      "/g/data/hj10/admin/opol/level_1/in2019_v01/20190124/9776HUB-PPIVol-20190124-143959-0000.hdf\n"
     ]
    },
    {
     "name": "stderr",
     "output_type": "stream",
     "text": [
      "/g/data/en0/jss548/miniconda3/envs/radar-dev/lib/python3.8/site-packages/pyart/aux_io/odim_h5.py:295: DeprecationWarning: an integer is required (got type numpy.float32).  Implicit conversion to integers using __int__ is deprecated, and may be removed in a future version of Python.\n",
      "  start_time = datetime.datetime.utcfromtimestamp(start_epoch)\n",
      "/g/data/en0/jss548/miniconda3/envs/radar-dev/lib/python3.8/site-packages/sklearn/base.py:329: UserWarning: Trying to unpickle estimator GaussianMixture from version 0.21.3 when using version 0.23.1. This might lead to breaking code or invalid results. Use at your own risk.\n",
      "  warnings.warn(\n"
     ]
    },
    {
     "name": "stdout",
     "output_type": "stream",
     "text": [
      "/g/data/hj10/admin/opol/level_1/in2019_v01/20190124/9776HUB-PPIVol-20190124-144114-0000.hdf\n"
     ]
    },
    {
     "name": "stderr",
     "output_type": "stream",
     "text": [
      "/g/data/en0/jss548/miniconda3/envs/radar-dev/lib/python3.8/site-packages/pyart/aux_io/odim_h5.py:295: DeprecationWarning: an integer is required (got type numpy.float32).  Implicit conversion to integers using __int__ is deprecated, and may be removed in a future version of Python.\n",
      "  start_time = datetime.datetime.utcfromtimestamp(start_epoch)\n",
      "/g/data/en0/jss548/miniconda3/envs/radar-dev/lib/python3.8/site-packages/sklearn/base.py:329: UserWarning: Trying to unpickle estimator GaussianMixture from version 0.21.3 when using version 0.23.1. This might lead to breaking code or invalid results. Use at your own risk.\n",
      "  warnings.warn(\n"
     ]
    },
    {
     "name": "stdout",
     "output_type": "stream",
     "text": [
      "/g/data/hj10/admin/opol/level_1/in2019_v01/20190124/9776HUB-PPIVol-20190124-144645-0000.hdf\n"
     ]
    },
    {
     "name": "stderr",
     "output_type": "stream",
     "text": [
      "/g/data/en0/jss548/miniconda3/envs/radar-dev/lib/python3.8/site-packages/pyart/aux_io/odim_h5.py:295: DeprecationWarning: an integer is required (got type numpy.float32).  Implicit conversion to integers using __int__ is deprecated, and may be removed in a future version of Python.\n",
      "  start_time = datetime.datetime.utcfromtimestamp(start_epoch)\n",
      "/g/data/en0/jss548/miniconda3/envs/radar-dev/lib/python3.8/site-packages/sklearn/base.py:329: UserWarning: Trying to unpickle estimator GaussianMixture from version 0.21.3 when using version 0.23.1. This might lead to breaking code or invalid results. Use at your own risk.\n",
      "  warnings.warn(\n"
     ]
    },
    {
     "name": "stdout",
     "output_type": "stream",
     "text": [
      "/g/data/hj10/admin/opol/level_1/in2019_v01/20190124/9776HUB-PPIVol-20190124-144800-0000.hdf\n"
     ]
    },
    {
     "name": "stderr",
     "output_type": "stream",
     "text": [
      "/g/data/en0/jss548/miniconda3/envs/radar-dev/lib/python3.8/site-packages/pyart/aux_io/odim_h5.py:295: DeprecationWarning: an integer is required (got type numpy.float32).  Implicit conversion to integers using __int__ is deprecated, and may be removed in a future version of Python.\n",
      "  start_time = datetime.datetime.utcfromtimestamp(start_epoch)\n",
      "/g/data/en0/jss548/miniconda3/envs/radar-dev/lib/python3.8/site-packages/sklearn/base.py:329: UserWarning: Trying to unpickle estimator GaussianMixture from version 0.21.3 when using version 0.23.1. This might lead to breaking code or invalid results. Use at your own risk.\n",
      "  warnings.warn(\n"
     ]
    },
    {
     "name": "stdout",
     "output_type": "stream",
     "text": [
      "/g/data/hj10/admin/opol/level_1/in2019_v01/20190124/9776HUB-PPIVol-20190124-145332-0000.hdf\n"
     ]
    },
    {
     "name": "stderr",
     "output_type": "stream",
     "text": [
      "/g/data/en0/jss548/miniconda3/envs/radar-dev/lib/python3.8/site-packages/pyart/aux_io/odim_h5.py:295: DeprecationWarning: an integer is required (got type numpy.float32).  Implicit conversion to integers using __int__ is deprecated, and may be removed in a future version of Python.\n",
      "  start_time = datetime.datetime.utcfromtimestamp(start_epoch)\n",
      "/g/data/en0/jss548/miniconda3/envs/radar-dev/lib/python3.8/site-packages/sklearn/base.py:329: UserWarning: Trying to unpickle estimator GaussianMixture from version 0.21.3 when using version 0.23.1. This might lead to breaking code or invalid results. Use at your own risk.\n",
      "  warnings.warn(\n"
     ]
    },
    {
     "name": "stdout",
     "output_type": "stream",
     "text": [
      "/g/data/hj10/admin/opol/level_1/in2019_v01/20190124/9776HUB-PPIVol-20190124-145446-0000.hdf\n"
     ]
    },
    {
     "name": "stderr",
     "output_type": "stream",
     "text": [
      "/g/data/en0/jss548/miniconda3/envs/radar-dev/lib/python3.8/site-packages/pyart/aux_io/odim_h5.py:295: DeprecationWarning: an integer is required (got type numpy.float32).  Implicit conversion to integers using __int__ is deprecated, and may be removed in a future version of Python.\n",
      "  start_time = datetime.datetime.utcfromtimestamp(start_epoch)\n",
      "/g/data/en0/jss548/miniconda3/envs/radar-dev/lib/python3.8/site-packages/sklearn/base.py:329: UserWarning: Trying to unpickle estimator GaussianMixture from version 0.21.3 when using version 0.23.1. This might lead to breaking code or invalid results. Use at your own risk.\n",
      "  warnings.warn(\n"
     ]
    },
    {
     "name": "stdout",
     "output_type": "stream",
     "text": [
      "/g/data/hj10/admin/opol/level_1/in2019_v01/20190124/9776HUB-PPIVol-20190124-150018-0000.hdf\n"
     ]
    },
    {
     "name": "stderr",
     "output_type": "stream",
     "text": [
      "/g/data/en0/jss548/miniconda3/envs/radar-dev/lib/python3.8/site-packages/pyart/aux_io/odim_h5.py:295: DeprecationWarning: an integer is required (got type numpy.float32).  Implicit conversion to integers using __int__ is deprecated, and may be removed in a future version of Python.\n",
      "  start_time = datetime.datetime.utcfromtimestamp(start_epoch)\n",
      "/g/data/en0/jss548/miniconda3/envs/radar-dev/lib/python3.8/site-packages/sklearn/base.py:329: UserWarning: Trying to unpickle estimator GaussianMixture from version 0.21.3 when using version 0.23.1. This might lead to breaking code or invalid results. Use at your own risk.\n",
      "  warnings.warn(\n"
     ]
    },
    {
     "name": "stdout",
     "output_type": "stream",
     "text": [
      "/g/data/hj10/admin/opol/level_1/in2019_v01/20190124/9776HUB-PPIVol-20190124-150133-0000.hdf\n"
     ]
    },
    {
     "name": "stderr",
     "output_type": "stream",
     "text": [
      "/g/data/en0/jss548/miniconda3/envs/radar-dev/lib/python3.8/site-packages/pyart/aux_io/odim_h5.py:295: DeprecationWarning: an integer is required (got type numpy.float32).  Implicit conversion to integers using __int__ is deprecated, and may be removed in a future version of Python.\n",
      "  start_time = datetime.datetime.utcfromtimestamp(start_epoch)\n",
      "/g/data/en0/jss548/miniconda3/envs/radar-dev/lib/python3.8/site-packages/sklearn/base.py:329: UserWarning: Trying to unpickle estimator GaussianMixture from version 0.21.3 when using version 0.23.1. This might lead to breaking code or invalid results. Use at your own risk.\n",
      "  warnings.warn(\n"
     ]
    },
    {
     "name": "stdout",
     "output_type": "stream",
     "text": [
      "/g/data/hj10/admin/opol/level_1/in2019_v01/20190124/9776HUB-PPIVol-20190124-150705-0000.hdf\n"
     ]
    },
    {
     "name": "stderr",
     "output_type": "stream",
     "text": [
      "/g/data/en0/jss548/miniconda3/envs/radar-dev/lib/python3.8/site-packages/pyart/aux_io/odim_h5.py:295: DeprecationWarning: an integer is required (got type numpy.float32).  Implicit conversion to integers using __int__ is deprecated, and may be removed in a future version of Python.\n",
      "  start_time = datetime.datetime.utcfromtimestamp(start_epoch)\n",
      "/g/data/en0/jss548/miniconda3/envs/radar-dev/lib/python3.8/site-packages/sklearn/base.py:329: UserWarning: Trying to unpickle estimator GaussianMixture from version 0.21.3 when using version 0.23.1. This might lead to breaking code or invalid results. Use at your own risk.\n",
      "  warnings.warn(\n"
     ]
    },
    {
     "name": "stdout",
     "output_type": "stream",
     "text": [
      "/g/data/hj10/admin/opol/level_1/in2019_v01/20190124/9776HUB-PPIVol-20190124-150819-0000.hdf\n"
     ]
    },
    {
     "name": "stderr",
     "output_type": "stream",
     "text": [
      "/g/data/en0/jss548/miniconda3/envs/radar-dev/lib/python3.8/site-packages/pyart/aux_io/odim_h5.py:295: DeprecationWarning: an integer is required (got type numpy.float32).  Implicit conversion to integers using __int__ is deprecated, and may be removed in a future version of Python.\n",
      "  start_time = datetime.datetime.utcfromtimestamp(start_epoch)\n",
      "/g/data/en0/jss548/miniconda3/envs/radar-dev/lib/python3.8/site-packages/sklearn/base.py:329: UserWarning: Trying to unpickle estimator GaussianMixture from version 0.21.3 when using version 0.23.1. This might lead to breaking code or invalid results. Use at your own risk.\n",
      "  warnings.warn(\n"
     ]
    },
    {
     "name": "stdout",
     "output_type": "stream",
     "text": [
      "/g/data/hj10/admin/opol/level_1/in2019_v01/20190124/9776HUB-PPIVol-20190124-151351-0000.hdf\n"
     ]
    },
    {
     "name": "stderr",
     "output_type": "stream",
     "text": [
      "/g/data/en0/jss548/miniconda3/envs/radar-dev/lib/python3.8/site-packages/pyart/aux_io/odim_h5.py:295: DeprecationWarning: an integer is required (got type numpy.float32).  Implicit conversion to integers using __int__ is deprecated, and may be removed in a future version of Python.\n",
      "  start_time = datetime.datetime.utcfromtimestamp(start_epoch)\n",
      "/g/data/en0/jss548/miniconda3/envs/radar-dev/lib/python3.8/site-packages/sklearn/base.py:329: UserWarning: Trying to unpickle estimator GaussianMixture from version 0.21.3 when using version 0.23.1. This might lead to breaking code or invalid results. Use at your own risk.\n",
      "  warnings.warn(\n"
     ]
    },
    {
     "name": "stdout",
     "output_type": "stream",
     "text": [
      "/g/data/hj10/admin/opol/level_1/in2019_v01/20190124/9776HUB-PPIVol-20190124-151506-0000.hdf\n"
     ]
    },
    {
     "name": "stderr",
     "output_type": "stream",
     "text": [
      "/g/data/en0/jss548/miniconda3/envs/radar-dev/lib/python3.8/site-packages/pyart/aux_io/odim_h5.py:295: DeprecationWarning: an integer is required (got type numpy.float32).  Implicit conversion to integers using __int__ is deprecated, and may be removed in a future version of Python.\n",
      "  start_time = datetime.datetime.utcfromtimestamp(start_epoch)\n",
      "/g/data/en0/jss548/miniconda3/envs/radar-dev/lib/python3.8/site-packages/sklearn/base.py:329: UserWarning: Trying to unpickle estimator GaussianMixture from version 0.21.3 when using version 0.23.1. This might lead to breaking code or invalid results. Use at your own risk.\n",
      "  warnings.warn(\n"
     ]
    },
    {
     "name": "stdout",
     "output_type": "stream",
     "text": [
      "/g/data/hj10/admin/opol/level_1/in2019_v01/20190124/9776HUB-PPIVol-20190124-152037-0000.hdf\n"
     ]
    },
    {
     "name": "stderr",
     "output_type": "stream",
     "text": [
      "/g/data/en0/jss548/miniconda3/envs/radar-dev/lib/python3.8/site-packages/pyart/aux_io/odim_h5.py:295: DeprecationWarning: an integer is required (got type numpy.float32).  Implicit conversion to integers using __int__ is deprecated, and may be removed in a future version of Python.\n",
      "  start_time = datetime.datetime.utcfromtimestamp(start_epoch)\n",
      "/g/data/en0/jss548/miniconda3/envs/radar-dev/lib/python3.8/site-packages/sklearn/base.py:329: UserWarning: Trying to unpickle estimator GaussianMixture from version 0.21.3 when using version 0.23.1. This might lead to breaking code or invalid results. Use at your own risk.\n",
      "  warnings.warn(\n"
     ]
    },
    {
     "name": "stdout",
     "output_type": "stream",
     "text": [
      "/g/data/hj10/admin/opol/level_1/in2019_v01/20190124/9776HUB-PPIVol-20190124-152152-0000.hdf\n"
     ]
    },
    {
     "name": "stderr",
     "output_type": "stream",
     "text": [
      "/g/data/en0/jss548/miniconda3/envs/radar-dev/lib/python3.8/site-packages/pyart/aux_io/odim_h5.py:295: DeprecationWarning: an integer is required (got type numpy.float32).  Implicit conversion to integers using __int__ is deprecated, and may be removed in a future version of Python.\n",
      "  start_time = datetime.datetime.utcfromtimestamp(start_epoch)\n",
      "/g/data/en0/jss548/miniconda3/envs/radar-dev/lib/python3.8/site-packages/sklearn/base.py:329: UserWarning: Trying to unpickle estimator GaussianMixture from version 0.21.3 when using version 0.23.1. This might lead to breaking code or invalid results. Use at your own risk.\n",
      "  warnings.warn(\n"
     ]
    },
    {
     "name": "stdout",
     "output_type": "stream",
     "text": [
      "/g/data/hj10/admin/opol/level_1/in2019_v01/20190124/9776HUB-PPIVol-20190124-152724-0000.hdf\n"
     ]
    },
    {
     "name": "stderr",
     "output_type": "stream",
     "text": [
      "/g/data/en0/jss548/miniconda3/envs/radar-dev/lib/python3.8/site-packages/pyart/aux_io/odim_h5.py:295: DeprecationWarning: an integer is required (got type numpy.float32).  Implicit conversion to integers using __int__ is deprecated, and may be removed in a future version of Python.\n",
      "  start_time = datetime.datetime.utcfromtimestamp(start_epoch)\n",
      "/g/data/en0/jss548/miniconda3/envs/radar-dev/lib/python3.8/site-packages/sklearn/base.py:329: UserWarning: Trying to unpickle estimator GaussianMixture from version 0.21.3 when using version 0.23.1. This might lead to breaking code or invalid results. Use at your own risk.\n",
      "  warnings.warn(\n"
     ]
    },
    {
     "name": "stdout",
     "output_type": "stream",
     "text": [
      "/g/data/hj10/admin/opol/level_1/in2019_v01/20190124/9776HUB-PPIVol-20190124-152839-0000.hdf\n"
     ]
    },
    {
     "name": "stderr",
     "output_type": "stream",
     "text": [
      "/g/data/en0/jss548/miniconda3/envs/radar-dev/lib/python3.8/site-packages/pyart/aux_io/odim_h5.py:295: DeprecationWarning: an integer is required (got type numpy.float32).  Implicit conversion to integers using __int__ is deprecated, and may be removed in a future version of Python.\n",
      "  start_time = datetime.datetime.utcfromtimestamp(start_epoch)\n",
      "/g/data/en0/jss548/miniconda3/envs/radar-dev/lib/python3.8/site-packages/sklearn/base.py:329: UserWarning: Trying to unpickle estimator GaussianMixture from version 0.21.3 when using version 0.23.1. This might lead to breaking code or invalid results. Use at your own risk.\n",
      "  warnings.warn(\n"
     ]
    },
    {
     "name": "stdout",
     "output_type": "stream",
     "text": [
      "/g/data/hj10/admin/opol/level_1/in2019_v01/20190124/9776HUB-PPIVol-20190124-153410-0000.hdf\n"
     ]
    },
    {
     "name": "stderr",
     "output_type": "stream",
     "text": [
      "/g/data/en0/jss548/miniconda3/envs/radar-dev/lib/python3.8/site-packages/pyart/aux_io/odim_h5.py:295: DeprecationWarning: an integer is required (got type numpy.float32).  Implicit conversion to integers using __int__ is deprecated, and may be removed in a future version of Python.\n",
      "  start_time = datetime.datetime.utcfromtimestamp(start_epoch)\n",
      "/g/data/en0/jss548/miniconda3/envs/radar-dev/lib/python3.8/site-packages/sklearn/base.py:329: UserWarning: Trying to unpickle estimator GaussianMixture from version 0.21.3 when using version 0.23.1. This might lead to breaking code or invalid results. Use at your own risk.\n",
      "  warnings.warn(\n"
     ]
    },
    {
     "name": "stdout",
     "output_type": "stream",
     "text": [
      "/g/data/hj10/admin/opol/level_1/in2019_v01/20190124/9776HUB-PPIVol-20190124-153525-0000.hdf\n"
     ]
    },
    {
     "name": "stderr",
     "output_type": "stream",
     "text": [
      "/g/data/en0/jss548/miniconda3/envs/radar-dev/lib/python3.8/site-packages/pyart/aux_io/odim_h5.py:295: DeprecationWarning: an integer is required (got type numpy.float32).  Implicit conversion to integers using __int__ is deprecated, and may be removed in a future version of Python.\n",
      "  start_time = datetime.datetime.utcfromtimestamp(start_epoch)\n",
      "/g/data/en0/jss548/miniconda3/envs/radar-dev/lib/python3.8/site-packages/sklearn/base.py:329: UserWarning: Trying to unpickle estimator GaussianMixture from version 0.21.3 when using version 0.23.1. This might lead to breaking code or invalid results. Use at your own risk.\n",
      "  warnings.warn(\n"
     ]
    },
    {
     "name": "stdout",
     "output_type": "stream",
     "text": [
      "/g/data/hj10/admin/opol/level_1/in2019_v01/20190124/9776HUB-PPIVol-20190124-154057-0000.hdf\n"
     ]
    },
    {
     "name": "stderr",
     "output_type": "stream",
     "text": [
      "/g/data/en0/jss548/miniconda3/envs/radar-dev/lib/python3.8/site-packages/pyart/aux_io/odim_h5.py:295: DeprecationWarning: an integer is required (got type numpy.float32).  Implicit conversion to integers using __int__ is deprecated, and may be removed in a future version of Python.\n",
      "  start_time = datetime.datetime.utcfromtimestamp(start_epoch)\n",
      "/g/data/en0/jss548/miniconda3/envs/radar-dev/lib/python3.8/site-packages/sklearn/base.py:329: UserWarning: Trying to unpickle estimator GaussianMixture from version 0.21.3 when using version 0.23.1. This might lead to breaking code or invalid results. Use at your own risk.\n",
      "  warnings.warn(\n"
     ]
    },
    {
     "name": "stdout",
     "output_type": "stream",
     "text": [
      "/g/data/hj10/admin/opol/level_1/in2019_v01/20190124/9776HUB-PPIVol-20190124-154212-0000.hdf\n"
     ]
    },
    {
     "name": "stderr",
     "output_type": "stream",
     "text": [
      "/g/data/en0/jss548/miniconda3/envs/radar-dev/lib/python3.8/site-packages/pyart/aux_io/odim_h5.py:295: DeprecationWarning: an integer is required (got type numpy.float32).  Implicit conversion to integers using __int__ is deprecated, and may be removed in a future version of Python.\n",
      "  start_time = datetime.datetime.utcfromtimestamp(start_epoch)\n",
      "/g/data/en0/jss548/miniconda3/envs/radar-dev/lib/python3.8/site-packages/sklearn/base.py:329: UserWarning: Trying to unpickle estimator GaussianMixture from version 0.21.3 when using version 0.23.1. This might lead to breaking code or invalid results. Use at your own risk.\n",
      "  warnings.warn(\n"
     ]
    },
    {
     "name": "stdout",
     "output_type": "stream",
     "text": [
      "/g/data/hj10/admin/opol/level_1/in2019_v01/20190124/9776HUB-PPIVol-20190124-154743-0000.hdf\n"
     ]
    },
    {
     "name": "stderr",
     "output_type": "stream",
     "text": [
      "/g/data/en0/jss548/miniconda3/envs/radar-dev/lib/python3.8/site-packages/pyart/aux_io/odim_h5.py:295: DeprecationWarning: an integer is required (got type numpy.float32).  Implicit conversion to integers using __int__ is deprecated, and may be removed in a future version of Python.\n",
      "  start_time = datetime.datetime.utcfromtimestamp(start_epoch)\n",
      "/g/data/en0/jss548/miniconda3/envs/radar-dev/lib/python3.8/site-packages/sklearn/base.py:329: UserWarning: Trying to unpickle estimator GaussianMixture from version 0.21.3 when using version 0.23.1. This might lead to breaking code or invalid results. Use at your own risk.\n",
      "  warnings.warn(\n"
     ]
    },
    {
     "name": "stdout",
     "output_type": "stream",
     "text": [
      "/g/data/hj10/admin/opol/level_1/in2019_v01/20190124/9776HUB-PPIVol-20190124-154858-0000.hdf\n"
     ]
    },
    {
     "name": "stderr",
     "output_type": "stream",
     "text": [
      "/g/data/en0/jss548/miniconda3/envs/radar-dev/lib/python3.8/site-packages/pyart/aux_io/odim_h5.py:295: DeprecationWarning: an integer is required (got type numpy.float32).  Implicit conversion to integers using __int__ is deprecated, and may be removed in a future version of Python.\n",
      "  start_time = datetime.datetime.utcfromtimestamp(start_epoch)\n",
      "/g/data/en0/jss548/miniconda3/envs/radar-dev/lib/python3.8/site-packages/sklearn/base.py:329: UserWarning: Trying to unpickle estimator GaussianMixture from version 0.21.3 when using version 0.23.1. This might lead to breaking code or invalid results. Use at your own risk.\n",
      "  warnings.warn(\n"
     ]
    },
    {
     "name": "stdout",
     "output_type": "stream",
     "text": [
      "/g/data/hj10/admin/opol/level_1/in2019_v01/20190124/9776HUB-PPIVol-20190124-155430-0000.hdf\n"
     ]
    },
    {
     "name": "stderr",
     "output_type": "stream",
     "text": [
      "/g/data/en0/jss548/miniconda3/envs/radar-dev/lib/python3.8/site-packages/pyart/aux_io/odim_h5.py:295: DeprecationWarning: an integer is required (got type numpy.float32).  Implicit conversion to integers using __int__ is deprecated, and may be removed in a future version of Python.\n",
      "  start_time = datetime.datetime.utcfromtimestamp(start_epoch)\n",
      "/g/data/en0/jss548/miniconda3/envs/radar-dev/lib/python3.8/site-packages/sklearn/base.py:329: UserWarning: Trying to unpickle estimator GaussianMixture from version 0.21.3 when using version 0.23.1. This might lead to breaking code or invalid results. Use at your own risk.\n",
      "  warnings.warn(\n"
     ]
    },
    {
     "name": "stdout",
     "output_type": "stream",
     "text": [
      "/g/data/hj10/admin/opol/level_1/in2019_v01/20190124/9776HUB-PPIVol-20190124-155544-0000.hdf\n"
     ]
    },
    {
     "name": "stderr",
     "output_type": "stream",
     "text": [
      "/g/data/en0/jss548/miniconda3/envs/radar-dev/lib/python3.8/site-packages/pyart/aux_io/odim_h5.py:295: DeprecationWarning: an integer is required (got type numpy.float32).  Implicit conversion to integers using __int__ is deprecated, and may be removed in a future version of Python.\n",
      "  start_time = datetime.datetime.utcfromtimestamp(start_epoch)\n",
      "/g/data/en0/jss548/miniconda3/envs/radar-dev/lib/python3.8/site-packages/sklearn/base.py:329: UserWarning: Trying to unpickle estimator GaussianMixture from version 0.21.3 when using version 0.23.1. This might lead to breaking code or invalid results. Use at your own risk.\n",
      "  warnings.warn(\n"
     ]
    },
    {
     "name": "stdout",
     "output_type": "stream",
     "text": [
      "/g/data/hj10/admin/opol/level_1/in2019_v01/20190124/9776HUB-PPIVol-20190124-160116-0000.hdf\n"
     ]
    },
    {
     "name": "stderr",
     "output_type": "stream",
     "text": [
      "/g/data/en0/jss548/miniconda3/envs/radar-dev/lib/python3.8/site-packages/pyart/aux_io/odim_h5.py:295: DeprecationWarning: an integer is required (got type numpy.float32).  Implicit conversion to integers using __int__ is deprecated, and may be removed in a future version of Python.\n",
      "  start_time = datetime.datetime.utcfromtimestamp(start_epoch)\n",
      "/g/data/en0/jss548/miniconda3/envs/radar-dev/lib/python3.8/site-packages/sklearn/base.py:329: UserWarning: Trying to unpickle estimator GaussianMixture from version 0.21.3 when using version 0.23.1. This might lead to breaking code or invalid results. Use at your own risk.\n",
      "  warnings.warn(\n"
     ]
    },
    {
     "name": "stdout",
     "output_type": "stream",
     "text": [
      "/g/data/hj10/admin/opol/level_1/in2019_v01/20190124/9776HUB-PPIVol-20190124-160231-0000.hdf\n"
     ]
    },
    {
     "name": "stderr",
     "output_type": "stream",
     "text": [
      "/g/data/en0/jss548/miniconda3/envs/radar-dev/lib/python3.8/site-packages/pyart/aux_io/odim_h5.py:295: DeprecationWarning: an integer is required (got type numpy.float32).  Implicit conversion to integers using __int__ is deprecated, and may be removed in a future version of Python.\n",
      "  start_time = datetime.datetime.utcfromtimestamp(start_epoch)\n",
      "/g/data/en0/jss548/miniconda3/envs/radar-dev/lib/python3.8/site-packages/sklearn/base.py:329: UserWarning: Trying to unpickle estimator GaussianMixture from version 0.21.3 when using version 0.23.1. This might lead to breaking code or invalid results. Use at your own risk.\n",
      "  warnings.warn(\n"
     ]
    },
    {
     "name": "stdout",
     "output_type": "stream",
     "text": [
      "/g/data/hj10/admin/opol/level_1/in2019_v01/20190124/9776HUB-PPIVol-20190124-160803-0000.hdf\n"
     ]
    },
    {
     "name": "stderr",
     "output_type": "stream",
     "text": [
      "/g/data/en0/jss548/miniconda3/envs/radar-dev/lib/python3.8/site-packages/pyart/aux_io/odim_h5.py:295: DeprecationWarning: an integer is required (got type numpy.float32).  Implicit conversion to integers using __int__ is deprecated, and may be removed in a future version of Python.\n",
      "  start_time = datetime.datetime.utcfromtimestamp(start_epoch)\n",
      "/g/data/en0/jss548/miniconda3/envs/radar-dev/lib/python3.8/site-packages/sklearn/base.py:329: UserWarning: Trying to unpickle estimator GaussianMixture from version 0.21.3 when using version 0.23.1. This might lead to breaking code or invalid results. Use at your own risk.\n",
      "  warnings.warn(\n"
     ]
    },
    {
     "name": "stdout",
     "output_type": "stream",
     "text": [
      "/g/data/hj10/admin/opol/level_1/in2019_v01/20190124/9776HUB-PPIVol-20190124-160917-0000.hdf\n"
     ]
    },
    {
     "name": "stderr",
     "output_type": "stream",
     "text": [
      "/g/data/en0/jss548/miniconda3/envs/radar-dev/lib/python3.8/site-packages/pyart/aux_io/odim_h5.py:295: DeprecationWarning: an integer is required (got type numpy.float32).  Implicit conversion to integers using __int__ is deprecated, and may be removed in a future version of Python.\n",
      "  start_time = datetime.datetime.utcfromtimestamp(start_epoch)\n",
      "/g/data/en0/jss548/miniconda3/envs/radar-dev/lib/python3.8/site-packages/sklearn/base.py:329: UserWarning: Trying to unpickle estimator GaussianMixture from version 0.21.3 when using version 0.23.1. This might lead to breaking code or invalid results. Use at your own risk.\n",
      "  warnings.warn(\n"
     ]
    },
    {
     "name": "stdout",
     "output_type": "stream",
     "text": [
      "/g/data/hj10/admin/opol/level_1/in2019_v01/20190124/9776HUB-PPIVol-20190124-161449-0000.hdf\n"
     ]
    },
    {
     "name": "stderr",
     "output_type": "stream",
     "text": [
      "/g/data/en0/jss548/miniconda3/envs/radar-dev/lib/python3.8/site-packages/pyart/aux_io/odim_h5.py:295: DeprecationWarning: an integer is required (got type numpy.float32).  Implicit conversion to integers using __int__ is deprecated, and may be removed in a future version of Python.\n",
      "  start_time = datetime.datetime.utcfromtimestamp(start_epoch)\n",
      "/g/data/en0/jss548/miniconda3/envs/radar-dev/lib/python3.8/site-packages/sklearn/base.py:329: UserWarning: Trying to unpickle estimator GaussianMixture from version 0.21.3 when using version 0.23.1. This might lead to breaking code or invalid results. Use at your own risk.\n",
      "  warnings.warn(\n"
     ]
    },
    {
     "name": "stdout",
     "output_type": "stream",
     "text": [
      "/g/data/hj10/admin/opol/level_1/in2019_v01/20190124/9776HUB-PPIVol-20190124-161604-0000.hdf\n"
     ]
    },
    {
     "name": "stderr",
     "output_type": "stream",
     "text": [
      "/g/data/en0/jss548/miniconda3/envs/radar-dev/lib/python3.8/site-packages/pyart/aux_io/odim_h5.py:295: DeprecationWarning: an integer is required (got type numpy.float32).  Implicit conversion to integers using __int__ is deprecated, and may be removed in a future version of Python.\n",
      "  start_time = datetime.datetime.utcfromtimestamp(start_epoch)\n",
      "/g/data/en0/jss548/miniconda3/envs/radar-dev/lib/python3.8/site-packages/sklearn/base.py:329: UserWarning: Trying to unpickle estimator GaussianMixture from version 0.21.3 when using version 0.23.1. This might lead to breaking code or invalid results. Use at your own risk.\n",
      "  warnings.warn(\n"
     ]
    },
    {
     "name": "stdout",
     "output_type": "stream",
     "text": [
      "/g/data/hj10/admin/opol/level_1/in2019_v01/20190124/9776HUB-PPIVol-20190124-162136-0000.hdf\n"
     ]
    },
    {
     "name": "stderr",
     "output_type": "stream",
     "text": [
      "/g/data/en0/jss548/miniconda3/envs/radar-dev/lib/python3.8/site-packages/pyart/aux_io/odim_h5.py:295: DeprecationWarning: an integer is required (got type numpy.float32).  Implicit conversion to integers using __int__ is deprecated, and may be removed in a future version of Python.\n",
      "  start_time = datetime.datetime.utcfromtimestamp(start_epoch)\n",
      "/g/data/en0/jss548/miniconda3/envs/radar-dev/lib/python3.8/site-packages/sklearn/base.py:329: UserWarning: Trying to unpickle estimator GaussianMixture from version 0.21.3 when using version 0.23.1. This might lead to breaking code or invalid results. Use at your own risk.\n",
      "  warnings.warn(\n"
     ]
    },
    {
     "name": "stdout",
     "output_type": "stream",
     "text": [
      "/g/data/hj10/admin/opol/level_1/in2019_v01/20190124/9776HUB-PPIVol-20190124-162250-0000.hdf\n"
     ]
    },
    {
     "name": "stderr",
     "output_type": "stream",
     "text": [
      "/g/data/en0/jss548/miniconda3/envs/radar-dev/lib/python3.8/site-packages/pyart/aux_io/odim_h5.py:295: DeprecationWarning: an integer is required (got type numpy.float32).  Implicit conversion to integers using __int__ is deprecated, and may be removed in a future version of Python.\n",
      "  start_time = datetime.datetime.utcfromtimestamp(start_epoch)\n",
      "/g/data/en0/jss548/miniconda3/envs/radar-dev/lib/python3.8/site-packages/sklearn/base.py:329: UserWarning: Trying to unpickle estimator GaussianMixture from version 0.21.3 when using version 0.23.1. This might lead to breaking code or invalid results. Use at your own risk.\n",
      "  warnings.warn(\n"
     ]
    },
    {
     "name": "stdout",
     "output_type": "stream",
     "text": [
      "/g/data/hj10/admin/opol/level_1/in2019_v01/20190124/9776HUB-PPIVol-20190124-162822-0000.hdf\n"
     ]
    },
    {
     "name": "stderr",
     "output_type": "stream",
     "text": [
      "/g/data/en0/jss548/miniconda3/envs/radar-dev/lib/python3.8/site-packages/pyart/aux_io/odim_h5.py:295: DeprecationWarning: an integer is required (got type numpy.float32).  Implicit conversion to integers using __int__ is deprecated, and may be removed in a future version of Python.\n",
      "  start_time = datetime.datetime.utcfromtimestamp(start_epoch)\n",
      "/g/data/en0/jss548/miniconda3/envs/radar-dev/lib/python3.8/site-packages/sklearn/base.py:329: UserWarning: Trying to unpickle estimator GaussianMixture from version 0.21.3 when using version 0.23.1. This might lead to breaking code or invalid results. Use at your own risk.\n",
      "  warnings.warn(\n"
     ]
    },
    {
     "name": "stdout",
     "output_type": "stream",
     "text": [
      "/g/data/hj10/admin/opol/level_1/in2019_v01/20190124/9776HUB-PPIVol-20190124-162937-0000.hdf\n"
     ]
    },
    {
     "name": "stderr",
     "output_type": "stream",
     "text": [
      "/g/data/en0/jss548/miniconda3/envs/radar-dev/lib/python3.8/site-packages/pyart/aux_io/odim_h5.py:295: DeprecationWarning: an integer is required (got type numpy.float32).  Implicit conversion to integers using __int__ is deprecated, and may be removed in a future version of Python.\n",
      "  start_time = datetime.datetime.utcfromtimestamp(start_epoch)\n",
      "/g/data/en0/jss548/miniconda3/envs/radar-dev/lib/python3.8/site-packages/sklearn/base.py:329: UserWarning: Trying to unpickle estimator GaussianMixture from version 0.21.3 when using version 0.23.1. This might lead to breaking code or invalid results. Use at your own risk.\n",
      "  warnings.warn(\n"
     ]
    },
    {
     "name": "stdout",
     "output_type": "stream",
     "text": [
      "/g/data/hj10/admin/opol/level_1/in2019_v01/20190124/9776HUB-PPIVol-20190124-163509-0000.hdf\n"
     ]
    },
    {
     "name": "stderr",
     "output_type": "stream",
     "text": [
      "/g/data/en0/jss548/miniconda3/envs/radar-dev/lib/python3.8/site-packages/pyart/aux_io/odim_h5.py:295: DeprecationWarning: an integer is required (got type numpy.float32).  Implicit conversion to integers using __int__ is deprecated, and may be removed in a future version of Python.\n",
      "  start_time = datetime.datetime.utcfromtimestamp(start_epoch)\n",
      "/g/data/en0/jss548/miniconda3/envs/radar-dev/lib/python3.8/site-packages/sklearn/base.py:329: UserWarning: Trying to unpickle estimator GaussianMixture from version 0.21.3 when using version 0.23.1. This might lead to breaking code or invalid results. Use at your own risk.\n",
      "  warnings.warn(\n"
     ]
    },
    {
     "name": "stdout",
     "output_type": "stream",
     "text": [
      "/g/data/hj10/admin/opol/level_1/in2019_v01/20190124/9776HUB-PPIVol-20190124-163623-0000.hdf\n"
     ]
    },
    {
     "name": "stderr",
     "output_type": "stream",
     "text": [
      "/g/data/en0/jss548/miniconda3/envs/radar-dev/lib/python3.8/site-packages/pyart/aux_io/odim_h5.py:295: DeprecationWarning: an integer is required (got type numpy.float32).  Implicit conversion to integers using __int__ is deprecated, and may be removed in a future version of Python.\n",
      "  start_time = datetime.datetime.utcfromtimestamp(start_epoch)\n",
      "/g/data/en0/jss548/miniconda3/envs/radar-dev/lib/python3.8/site-packages/sklearn/base.py:329: UserWarning: Trying to unpickle estimator GaussianMixture from version 0.21.3 when using version 0.23.1. This might lead to breaking code or invalid results. Use at your own risk.\n",
      "  warnings.warn(\n"
     ]
    },
    {
     "name": "stdout",
     "output_type": "stream",
     "text": [
      "/g/data/hj10/admin/opol/level_1/in2019_v01/20190124/9776HUB-PPIVol-20190124-164155-0000.hdf\n"
     ]
    },
    {
     "name": "stderr",
     "output_type": "stream",
     "text": [
      "/g/data/en0/jss548/miniconda3/envs/radar-dev/lib/python3.8/site-packages/pyart/aux_io/odim_h5.py:295: DeprecationWarning: an integer is required (got type numpy.float32).  Implicit conversion to integers using __int__ is deprecated, and may be removed in a future version of Python.\n",
      "  start_time = datetime.datetime.utcfromtimestamp(start_epoch)\n",
      "/g/data/en0/jss548/miniconda3/envs/radar-dev/lib/python3.8/site-packages/sklearn/base.py:329: UserWarning: Trying to unpickle estimator GaussianMixture from version 0.21.3 when using version 0.23.1. This might lead to breaking code or invalid results. Use at your own risk.\n",
      "  warnings.warn(\n"
     ]
    },
    {
     "name": "stdout",
     "output_type": "stream",
     "text": [
      "/g/data/hj10/admin/opol/level_1/in2019_v01/20190124/9776HUB-PPIVol-20190124-164310-0000.hdf\n"
     ]
    },
    {
     "name": "stderr",
     "output_type": "stream",
     "text": [
      "/g/data/en0/jss548/miniconda3/envs/radar-dev/lib/python3.8/site-packages/pyart/aux_io/odim_h5.py:295: DeprecationWarning: an integer is required (got type numpy.float32).  Implicit conversion to integers using __int__ is deprecated, and may be removed in a future version of Python.\n",
      "  start_time = datetime.datetime.utcfromtimestamp(start_epoch)\n",
      "/g/data/en0/jss548/miniconda3/envs/radar-dev/lib/python3.8/site-packages/sklearn/base.py:329: UserWarning: Trying to unpickle estimator GaussianMixture from version 0.21.3 when using version 0.23.1. This might lead to breaking code or invalid results. Use at your own risk.\n",
      "  warnings.warn(\n"
     ]
    },
    {
     "name": "stdout",
     "output_type": "stream",
     "text": [
      "/g/data/hj10/admin/opol/level_1/in2019_v01/20190124/9776HUB-PPIVol-20190124-164841-0000.hdf\n"
     ]
    },
    {
     "name": "stderr",
     "output_type": "stream",
     "text": [
      "/g/data/en0/jss548/miniconda3/envs/radar-dev/lib/python3.8/site-packages/pyart/aux_io/odim_h5.py:295: DeprecationWarning: an integer is required (got type numpy.float32).  Implicit conversion to integers using __int__ is deprecated, and may be removed in a future version of Python.\n",
      "  start_time = datetime.datetime.utcfromtimestamp(start_epoch)\n",
      "/g/data/en0/jss548/miniconda3/envs/radar-dev/lib/python3.8/site-packages/sklearn/base.py:329: UserWarning: Trying to unpickle estimator GaussianMixture from version 0.21.3 when using version 0.23.1. This might lead to breaking code or invalid results. Use at your own risk.\n",
      "  warnings.warn(\n"
     ]
    },
    {
     "name": "stdout",
     "output_type": "stream",
     "text": [
      "/g/data/hj10/admin/opol/level_1/in2019_v01/20190124/9776HUB-PPIVol-20190124-164956-0000.hdf\n"
     ]
    },
    {
     "name": "stderr",
     "output_type": "stream",
     "text": [
      "/g/data/en0/jss548/miniconda3/envs/radar-dev/lib/python3.8/site-packages/pyart/aux_io/odim_h5.py:295: DeprecationWarning: an integer is required (got type numpy.float32).  Implicit conversion to integers using __int__ is deprecated, and may be removed in a future version of Python.\n",
      "  start_time = datetime.datetime.utcfromtimestamp(start_epoch)\n",
      "/g/data/en0/jss548/miniconda3/envs/radar-dev/lib/python3.8/site-packages/sklearn/base.py:329: UserWarning: Trying to unpickle estimator GaussianMixture from version 0.21.3 when using version 0.23.1. This might lead to breaking code or invalid results. Use at your own risk.\n",
      "  warnings.warn(\n"
     ]
    },
    {
     "name": "stdout",
     "output_type": "stream",
     "text": [
      "/g/data/hj10/admin/opol/level_1/in2019_v01/20190124/9776HUB-PPIVol-20190124-165528-0000.hdf\n"
     ]
    },
    {
     "name": "stderr",
     "output_type": "stream",
     "text": [
      "/g/data/en0/jss548/miniconda3/envs/radar-dev/lib/python3.8/site-packages/pyart/aux_io/odim_h5.py:295: DeprecationWarning: an integer is required (got type numpy.float32).  Implicit conversion to integers using __int__ is deprecated, and may be removed in a future version of Python.\n",
      "  start_time = datetime.datetime.utcfromtimestamp(start_epoch)\n",
      "/g/data/en0/jss548/miniconda3/envs/radar-dev/lib/python3.8/site-packages/sklearn/base.py:329: UserWarning: Trying to unpickle estimator GaussianMixture from version 0.21.3 when using version 0.23.1. This might lead to breaking code or invalid results. Use at your own risk.\n",
      "  warnings.warn(\n"
     ]
    },
    {
     "name": "stdout",
     "output_type": "stream",
     "text": [
      "/g/data/hj10/admin/opol/level_1/in2019_v01/20190124/9776HUB-PPIVol-20190124-165643-0000.hdf\n"
     ]
    },
    {
     "name": "stderr",
     "output_type": "stream",
     "text": [
      "/g/data/en0/jss548/miniconda3/envs/radar-dev/lib/python3.8/site-packages/pyart/aux_io/odim_h5.py:295: DeprecationWarning: an integer is required (got type numpy.float32).  Implicit conversion to integers using __int__ is deprecated, and may be removed in a future version of Python.\n",
      "  start_time = datetime.datetime.utcfromtimestamp(start_epoch)\n",
      "/g/data/en0/jss548/miniconda3/envs/radar-dev/lib/python3.8/site-packages/sklearn/base.py:329: UserWarning: Trying to unpickle estimator GaussianMixture from version 0.21.3 when using version 0.23.1. This might lead to breaking code or invalid results. Use at your own risk.\n",
      "  warnings.warn(\n"
     ]
    },
    {
     "name": "stdout",
     "output_type": "stream",
     "text": [
      "/g/data/hj10/admin/opol/level_1/in2019_v01/20190124/9776HUB-PPIVol-20190124-170214-0000.hdf\n"
     ]
    },
    {
     "name": "stderr",
     "output_type": "stream",
     "text": [
      "/g/data/en0/jss548/miniconda3/envs/radar-dev/lib/python3.8/site-packages/pyart/aux_io/odim_h5.py:295: DeprecationWarning: an integer is required (got type numpy.float32).  Implicit conversion to integers using __int__ is deprecated, and may be removed in a future version of Python.\n",
      "  start_time = datetime.datetime.utcfromtimestamp(start_epoch)\n",
      "/g/data/en0/jss548/miniconda3/envs/radar-dev/lib/python3.8/site-packages/sklearn/base.py:329: UserWarning: Trying to unpickle estimator GaussianMixture from version 0.21.3 when using version 0.23.1. This might lead to breaking code or invalid results. Use at your own risk.\n",
      "  warnings.warn(\n"
     ]
    },
    {
     "name": "stdout",
     "output_type": "stream",
     "text": [
      "/g/data/hj10/admin/opol/level_1/in2019_v01/20190124/9776HUB-PPIVol-20190124-170329-0000.hdf\n"
     ]
    },
    {
     "name": "stderr",
     "output_type": "stream",
     "text": [
      "/g/data/en0/jss548/miniconda3/envs/radar-dev/lib/python3.8/site-packages/pyart/aux_io/odim_h5.py:295: DeprecationWarning: an integer is required (got type numpy.float32).  Implicit conversion to integers using __int__ is deprecated, and may be removed in a future version of Python.\n",
      "  start_time = datetime.datetime.utcfromtimestamp(start_epoch)\n",
      "/g/data/en0/jss548/miniconda3/envs/radar-dev/lib/python3.8/site-packages/sklearn/base.py:329: UserWarning: Trying to unpickle estimator GaussianMixture from version 0.21.3 when using version 0.23.1. This might lead to breaking code or invalid results. Use at your own risk.\n",
      "  warnings.warn(\n"
     ]
    },
    {
     "name": "stdout",
     "output_type": "stream",
     "text": [
      "/g/data/hj10/admin/opol/level_1/in2019_v01/20190124/9776HUB-PPIVol-20190124-170901-0000.hdf\n"
     ]
    },
    {
     "name": "stderr",
     "output_type": "stream",
     "text": [
      "/g/data/en0/jss548/miniconda3/envs/radar-dev/lib/python3.8/site-packages/pyart/aux_io/odim_h5.py:295: DeprecationWarning: an integer is required (got type numpy.float32).  Implicit conversion to integers using __int__ is deprecated, and may be removed in a future version of Python.\n",
      "  start_time = datetime.datetime.utcfromtimestamp(start_epoch)\n",
      "/g/data/en0/jss548/miniconda3/envs/radar-dev/lib/python3.8/site-packages/sklearn/base.py:329: UserWarning: Trying to unpickle estimator GaussianMixture from version 0.21.3 when using version 0.23.1. This might lead to breaking code or invalid results. Use at your own risk.\n",
      "  warnings.warn(\n"
     ]
    },
    {
     "name": "stdout",
     "output_type": "stream",
     "text": [
      "/g/data/hj10/admin/opol/level_1/in2019_v01/20190124/9776HUB-PPIVol-20190124-171016-0000.hdf\n"
     ]
    },
    {
     "name": "stderr",
     "output_type": "stream",
     "text": [
      "/g/data/en0/jss548/miniconda3/envs/radar-dev/lib/python3.8/site-packages/pyart/aux_io/odim_h5.py:295: DeprecationWarning: an integer is required (got type numpy.float32).  Implicit conversion to integers using __int__ is deprecated, and may be removed in a future version of Python.\n",
      "  start_time = datetime.datetime.utcfromtimestamp(start_epoch)\n",
      "/g/data/en0/jss548/miniconda3/envs/radar-dev/lib/python3.8/site-packages/sklearn/base.py:329: UserWarning: Trying to unpickle estimator GaussianMixture from version 0.21.3 when using version 0.23.1. This might lead to breaking code or invalid results. Use at your own risk.\n",
      "  warnings.warn(\n"
     ]
    },
    {
     "name": "stdout",
     "output_type": "stream",
     "text": [
      "/g/data/hj10/admin/opol/level_1/in2019_v01/20190124/9776HUB-PPIVol-20190124-171547-0000.hdf\n"
     ]
    },
    {
     "name": "stderr",
     "output_type": "stream",
     "text": [
      "/g/data/en0/jss548/miniconda3/envs/radar-dev/lib/python3.8/site-packages/pyart/aux_io/odim_h5.py:295: DeprecationWarning: an integer is required (got type numpy.float32).  Implicit conversion to integers using __int__ is deprecated, and may be removed in a future version of Python.\n",
      "  start_time = datetime.datetime.utcfromtimestamp(start_epoch)\n",
      "/g/data/en0/jss548/miniconda3/envs/radar-dev/lib/python3.8/site-packages/sklearn/base.py:329: UserWarning: Trying to unpickle estimator GaussianMixture from version 0.21.3 when using version 0.23.1. This might lead to breaking code or invalid results. Use at your own risk.\n",
      "  warnings.warn(\n"
     ]
    },
    {
     "name": "stdout",
     "output_type": "stream",
     "text": [
      "/g/data/hj10/admin/opol/level_1/in2019_v01/20190124/9776HUB-PPIVol-20190124-171702-0000.hdf\n"
     ]
    },
    {
     "name": "stderr",
     "output_type": "stream",
     "text": [
      "/g/data/en0/jss548/miniconda3/envs/radar-dev/lib/python3.8/site-packages/pyart/aux_io/odim_h5.py:295: DeprecationWarning: an integer is required (got type numpy.float32).  Implicit conversion to integers using __int__ is deprecated, and may be removed in a future version of Python.\n",
      "  start_time = datetime.datetime.utcfromtimestamp(start_epoch)\n",
      "/g/data/en0/jss548/miniconda3/envs/radar-dev/lib/python3.8/site-packages/sklearn/base.py:329: UserWarning: Trying to unpickle estimator GaussianMixture from version 0.21.3 when using version 0.23.1. This might lead to breaking code or invalid results. Use at your own risk.\n",
      "  warnings.warn(\n"
     ]
    },
    {
     "name": "stdout",
     "output_type": "stream",
     "text": [
      "/g/data/hj10/admin/opol/level_1/in2019_v01/20190124/9776HUB-PPIVol-20190124-172234-0000.hdf\n"
     ]
    },
    {
     "name": "stderr",
     "output_type": "stream",
     "text": [
      "/g/data/en0/jss548/miniconda3/envs/radar-dev/lib/python3.8/site-packages/pyart/aux_io/odim_h5.py:295: DeprecationWarning: an integer is required (got type numpy.float32).  Implicit conversion to integers using __int__ is deprecated, and may be removed in a future version of Python.\n",
      "  start_time = datetime.datetime.utcfromtimestamp(start_epoch)\n",
      "/g/data/en0/jss548/miniconda3/envs/radar-dev/lib/python3.8/site-packages/sklearn/base.py:329: UserWarning: Trying to unpickle estimator GaussianMixture from version 0.21.3 when using version 0.23.1. This might lead to breaking code or invalid results. Use at your own risk.\n",
      "  warnings.warn(\n"
     ]
    },
    {
     "name": "stdout",
     "output_type": "stream",
     "text": [
      "/g/data/hj10/admin/opol/level_1/in2019_v01/20190124/9776HUB-PPIVol-20190124-172348-0000.hdf\n"
     ]
    },
    {
     "name": "stderr",
     "output_type": "stream",
     "text": [
      "/g/data/en0/jss548/miniconda3/envs/radar-dev/lib/python3.8/site-packages/pyart/aux_io/odim_h5.py:295: DeprecationWarning: an integer is required (got type numpy.float32).  Implicit conversion to integers using __int__ is deprecated, and may be removed in a future version of Python.\n",
      "  start_time = datetime.datetime.utcfromtimestamp(start_epoch)\n",
      "/g/data/en0/jss548/miniconda3/envs/radar-dev/lib/python3.8/site-packages/sklearn/base.py:329: UserWarning: Trying to unpickle estimator GaussianMixture from version 0.21.3 when using version 0.23.1. This might lead to breaking code or invalid results. Use at your own risk.\n",
      "  warnings.warn(\n"
     ]
    },
    {
     "name": "stdout",
     "output_type": "stream",
     "text": [
      "/g/data/hj10/admin/opol/level_1/in2019_v01/20190124/9776HUB-PPIVol-20190124-172920-0000.hdf\n"
     ]
    },
    {
     "name": "stderr",
     "output_type": "stream",
     "text": [
      "/g/data/en0/jss548/miniconda3/envs/radar-dev/lib/python3.8/site-packages/pyart/aux_io/odim_h5.py:295: DeprecationWarning: an integer is required (got type numpy.float32).  Implicit conversion to integers using __int__ is deprecated, and may be removed in a future version of Python.\n",
      "  start_time = datetime.datetime.utcfromtimestamp(start_epoch)\n",
      "/g/data/en0/jss548/miniconda3/envs/radar-dev/lib/python3.8/site-packages/sklearn/base.py:329: UserWarning: Trying to unpickle estimator GaussianMixture from version 0.21.3 when using version 0.23.1. This might lead to breaking code or invalid results. Use at your own risk.\n",
      "  warnings.warn(\n"
     ]
    },
    {
     "name": "stdout",
     "output_type": "stream",
     "text": [
      "/g/data/hj10/admin/opol/level_1/in2019_v01/20190124/9776HUB-PPIVol-20190124-173035-0000.hdf\n"
     ]
    },
    {
     "name": "stderr",
     "output_type": "stream",
     "text": [
      "/g/data/en0/jss548/miniconda3/envs/radar-dev/lib/python3.8/site-packages/pyart/aux_io/odim_h5.py:295: DeprecationWarning: an integer is required (got type numpy.float32).  Implicit conversion to integers using __int__ is deprecated, and may be removed in a future version of Python.\n",
      "  start_time = datetime.datetime.utcfromtimestamp(start_epoch)\n",
      "/g/data/en0/jss548/miniconda3/envs/radar-dev/lib/python3.8/site-packages/sklearn/base.py:329: UserWarning: Trying to unpickle estimator GaussianMixture from version 0.21.3 when using version 0.23.1. This might lead to breaking code or invalid results. Use at your own risk.\n",
      "  warnings.warn(\n"
     ]
    },
    {
     "name": "stdout",
     "output_type": "stream",
     "text": [
      "/g/data/hj10/admin/opol/level_1/in2019_v01/20190124/9776HUB-PPIVol-20190124-173607-0000.hdf\n"
     ]
    },
    {
     "name": "stderr",
     "output_type": "stream",
     "text": [
      "/g/data/en0/jss548/miniconda3/envs/radar-dev/lib/python3.8/site-packages/pyart/aux_io/odim_h5.py:295: DeprecationWarning: an integer is required (got type numpy.float32).  Implicit conversion to integers using __int__ is deprecated, and may be removed in a future version of Python.\n",
      "  start_time = datetime.datetime.utcfromtimestamp(start_epoch)\n",
      "/g/data/en0/jss548/miniconda3/envs/radar-dev/lib/python3.8/site-packages/sklearn/base.py:329: UserWarning: Trying to unpickle estimator GaussianMixture from version 0.21.3 when using version 0.23.1. This might lead to breaking code or invalid results. Use at your own risk.\n",
      "  warnings.warn(\n"
     ]
    },
    {
     "name": "stdout",
     "output_type": "stream",
     "text": [
      "/g/data/hj10/admin/opol/level_1/in2019_v01/20190124/9776HUB-PPIVol-20190124-173721-0000.hdf\n"
     ]
    },
    {
     "name": "stderr",
     "output_type": "stream",
     "text": [
      "/g/data/en0/jss548/miniconda3/envs/radar-dev/lib/python3.8/site-packages/pyart/aux_io/odim_h5.py:295: DeprecationWarning: an integer is required (got type numpy.float32).  Implicit conversion to integers using __int__ is deprecated, and may be removed in a future version of Python.\n",
      "  start_time = datetime.datetime.utcfromtimestamp(start_epoch)\n",
      "/g/data/en0/jss548/miniconda3/envs/radar-dev/lib/python3.8/site-packages/sklearn/base.py:329: UserWarning: Trying to unpickle estimator GaussianMixture from version 0.21.3 when using version 0.23.1. This might lead to breaking code or invalid results. Use at your own risk.\n",
      "  warnings.warn(\n"
     ]
    },
    {
     "name": "stdout",
     "output_type": "stream",
     "text": [
      "/g/data/hj10/admin/opol/level_1/in2019_v01/20190124/9776HUB-PPIVol-20190124-174253-0000.hdf\n"
     ]
    },
    {
     "name": "stderr",
     "output_type": "stream",
     "text": [
      "/g/data/en0/jss548/miniconda3/envs/radar-dev/lib/python3.8/site-packages/pyart/aux_io/odim_h5.py:295: DeprecationWarning: an integer is required (got type numpy.float32).  Implicit conversion to integers using __int__ is deprecated, and may be removed in a future version of Python.\n",
      "  start_time = datetime.datetime.utcfromtimestamp(start_epoch)\n",
      "/g/data/en0/jss548/miniconda3/envs/radar-dev/lib/python3.8/site-packages/sklearn/base.py:329: UserWarning: Trying to unpickle estimator GaussianMixture from version 0.21.3 when using version 0.23.1. This might lead to breaking code or invalid results. Use at your own risk.\n",
      "  warnings.warn(\n"
     ]
    },
    {
     "name": "stdout",
     "output_type": "stream",
     "text": [
      "/g/data/hj10/admin/opol/level_1/in2019_v01/20190124/9776HUB-PPIVol-20190124-174408-0000.hdf\n"
     ]
    },
    {
     "name": "stderr",
     "output_type": "stream",
     "text": [
      "/g/data/en0/jss548/miniconda3/envs/radar-dev/lib/python3.8/site-packages/pyart/aux_io/odim_h5.py:295: DeprecationWarning: an integer is required (got type numpy.float32).  Implicit conversion to integers using __int__ is deprecated, and may be removed in a future version of Python.\n",
      "  start_time = datetime.datetime.utcfromtimestamp(start_epoch)\n",
      "/g/data/en0/jss548/miniconda3/envs/radar-dev/lib/python3.8/site-packages/sklearn/base.py:329: UserWarning: Trying to unpickle estimator GaussianMixture from version 0.21.3 when using version 0.23.1. This might lead to breaking code or invalid results. Use at your own risk.\n",
      "  warnings.warn(\n"
     ]
    },
    {
     "name": "stdout",
     "output_type": "stream",
     "text": [
      "/g/data/hj10/admin/opol/level_1/in2019_v01/20190124/9776HUB-PPIVol-20190124-174940-0000.hdf\n"
     ]
    },
    {
     "name": "stderr",
     "output_type": "stream",
     "text": [
      "/g/data/en0/jss548/miniconda3/envs/radar-dev/lib/python3.8/site-packages/pyart/aux_io/odim_h5.py:295: DeprecationWarning: an integer is required (got type numpy.float32).  Implicit conversion to integers using __int__ is deprecated, and may be removed in a future version of Python.\n",
      "  start_time = datetime.datetime.utcfromtimestamp(start_epoch)\n",
      "/g/data/en0/jss548/miniconda3/envs/radar-dev/lib/python3.8/site-packages/sklearn/base.py:329: UserWarning: Trying to unpickle estimator GaussianMixture from version 0.21.3 when using version 0.23.1. This might lead to breaking code or invalid results. Use at your own risk.\n",
      "  warnings.warn(\n"
     ]
    },
    {
     "name": "stdout",
     "output_type": "stream",
     "text": [
      "/g/data/hj10/admin/opol/level_1/in2019_v01/20190124/9776HUB-PPIVol-20190124-175054-0000.hdf\n"
     ]
    },
    {
     "name": "stderr",
     "output_type": "stream",
     "text": [
      "/g/data/en0/jss548/miniconda3/envs/radar-dev/lib/python3.8/site-packages/pyart/aux_io/odim_h5.py:295: DeprecationWarning: an integer is required (got type numpy.float32).  Implicit conversion to integers using __int__ is deprecated, and may be removed in a future version of Python.\n",
      "  start_time = datetime.datetime.utcfromtimestamp(start_epoch)\n",
      "/g/data/en0/jss548/miniconda3/envs/radar-dev/lib/python3.8/site-packages/sklearn/base.py:329: UserWarning: Trying to unpickle estimator GaussianMixture from version 0.21.3 when using version 0.23.1. This might lead to breaking code or invalid results. Use at your own risk.\n",
      "  warnings.warn(\n"
     ]
    },
    {
     "name": "stdout",
     "output_type": "stream",
     "text": [
      "/g/data/hj10/admin/opol/level_1/in2019_v01/20190124/9776HUB-PPIVol-20190124-175626-0000.hdf\n"
     ]
    },
    {
     "name": "stderr",
     "output_type": "stream",
     "text": [
      "/g/data/en0/jss548/miniconda3/envs/radar-dev/lib/python3.8/site-packages/pyart/aux_io/odim_h5.py:295: DeprecationWarning: an integer is required (got type numpy.float32).  Implicit conversion to integers using __int__ is deprecated, and may be removed in a future version of Python.\n",
      "  start_time = datetime.datetime.utcfromtimestamp(start_epoch)\n",
      "/g/data/en0/jss548/miniconda3/envs/radar-dev/lib/python3.8/site-packages/sklearn/base.py:329: UserWarning: Trying to unpickle estimator GaussianMixture from version 0.21.3 when using version 0.23.1. This might lead to breaking code or invalid results. Use at your own risk.\n",
      "  warnings.warn(\n"
     ]
    },
    {
     "name": "stdout",
     "output_type": "stream",
     "text": [
      "/g/data/hj10/admin/opol/level_1/in2019_v01/20190124/9776HUB-PPIVol-20190124-175741-0000.hdf\n"
     ]
    },
    {
     "name": "stderr",
     "output_type": "stream",
     "text": [
      "/g/data/en0/jss548/miniconda3/envs/radar-dev/lib/python3.8/site-packages/pyart/aux_io/odim_h5.py:295: DeprecationWarning: an integer is required (got type numpy.float32).  Implicit conversion to integers using __int__ is deprecated, and may be removed in a future version of Python.\n",
      "  start_time = datetime.datetime.utcfromtimestamp(start_epoch)\n",
      "/g/data/en0/jss548/miniconda3/envs/radar-dev/lib/python3.8/site-packages/sklearn/base.py:329: UserWarning: Trying to unpickle estimator GaussianMixture from version 0.21.3 when using version 0.23.1. This might lead to breaking code or invalid results. Use at your own risk.\n",
      "  warnings.warn(\n"
     ]
    },
    {
     "name": "stdout",
     "output_type": "stream",
     "text": [
      "/g/data/hj10/admin/opol/level_1/in2019_v01/20190124/9776HUB-PPIVol-20190124-180313-0000.hdf\n"
     ]
    },
    {
     "name": "stderr",
     "output_type": "stream",
     "text": [
      "/g/data/en0/jss548/miniconda3/envs/radar-dev/lib/python3.8/site-packages/pyart/aux_io/odim_h5.py:295: DeprecationWarning: an integer is required (got type numpy.float32).  Implicit conversion to integers using __int__ is deprecated, and may be removed in a future version of Python.\n",
      "  start_time = datetime.datetime.utcfromtimestamp(start_epoch)\n",
      "/g/data/en0/jss548/miniconda3/envs/radar-dev/lib/python3.8/site-packages/sklearn/base.py:329: UserWarning: Trying to unpickle estimator GaussianMixture from version 0.21.3 when using version 0.23.1. This might lead to breaking code or invalid results. Use at your own risk.\n",
      "  warnings.warn(\n"
     ]
    },
    {
     "name": "stdout",
     "output_type": "stream",
     "text": [
      "/g/data/hj10/admin/opol/level_1/in2019_v01/20190124/9776HUB-PPIVol-20190124-180427-0000.hdf\n"
     ]
    },
    {
     "name": "stderr",
     "output_type": "stream",
     "text": [
      "/g/data/en0/jss548/miniconda3/envs/radar-dev/lib/python3.8/site-packages/pyart/aux_io/odim_h5.py:295: DeprecationWarning: an integer is required (got type numpy.float32).  Implicit conversion to integers using __int__ is deprecated, and may be removed in a future version of Python.\n",
      "  start_time = datetime.datetime.utcfromtimestamp(start_epoch)\n",
      "/g/data/en0/jss548/miniconda3/envs/radar-dev/lib/python3.8/site-packages/sklearn/base.py:329: UserWarning: Trying to unpickle estimator GaussianMixture from version 0.21.3 when using version 0.23.1. This might lead to breaking code or invalid results. Use at your own risk.\n",
      "  warnings.warn(\n"
     ]
    },
    {
     "name": "stdout",
     "output_type": "stream",
     "text": [
      "/g/data/hj10/admin/opol/level_1/in2019_v01/20190124/9776HUB-PPIVol-20190124-180959-0000.hdf\n"
     ]
    },
    {
     "name": "stderr",
     "output_type": "stream",
     "text": [
      "/g/data/en0/jss548/miniconda3/envs/radar-dev/lib/python3.8/site-packages/pyart/aux_io/odim_h5.py:295: DeprecationWarning: an integer is required (got type numpy.float32).  Implicit conversion to integers using __int__ is deprecated, and may be removed in a future version of Python.\n",
      "  start_time = datetime.datetime.utcfromtimestamp(start_epoch)\n",
      "/g/data/en0/jss548/miniconda3/envs/radar-dev/lib/python3.8/site-packages/sklearn/base.py:329: UserWarning: Trying to unpickle estimator GaussianMixture from version 0.21.3 when using version 0.23.1. This might lead to breaking code or invalid results. Use at your own risk.\n",
      "  warnings.warn(\n"
     ]
    },
    {
     "name": "stdout",
     "output_type": "stream",
     "text": [
      "/g/data/hj10/admin/opol/level_1/in2019_v01/20190124/9776HUB-PPIVol-20190124-181114-0000.hdf\n"
     ]
    },
    {
     "name": "stderr",
     "output_type": "stream",
     "text": [
      "/g/data/en0/jss548/miniconda3/envs/radar-dev/lib/python3.8/site-packages/pyart/aux_io/odim_h5.py:295: DeprecationWarning: an integer is required (got type numpy.float32).  Implicit conversion to integers using __int__ is deprecated, and may be removed in a future version of Python.\n",
      "  start_time = datetime.datetime.utcfromtimestamp(start_epoch)\n",
      "/g/data/en0/jss548/miniconda3/envs/radar-dev/lib/python3.8/site-packages/sklearn/base.py:329: UserWarning: Trying to unpickle estimator GaussianMixture from version 0.21.3 when using version 0.23.1. This might lead to breaking code or invalid results. Use at your own risk.\n",
      "  warnings.warn(\n"
     ]
    },
    {
     "name": "stdout",
     "output_type": "stream",
     "text": [
      "/g/data/hj10/admin/opol/level_1/in2019_v01/20190124/9776HUB-PPIVol-20190124-181645-0000.hdf\n"
     ]
    },
    {
     "name": "stderr",
     "output_type": "stream",
     "text": [
      "/g/data/en0/jss548/miniconda3/envs/radar-dev/lib/python3.8/site-packages/pyart/aux_io/odim_h5.py:295: DeprecationWarning: an integer is required (got type numpy.float32).  Implicit conversion to integers using __int__ is deprecated, and may be removed in a future version of Python.\n",
      "  start_time = datetime.datetime.utcfromtimestamp(start_epoch)\n",
      "/g/data/en0/jss548/miniconda3/envs/radar-dev/lib/python3.8/site-packages/sklearn/base.py:329: UserWarning: Trying to unpickle estimator GaussianMixture from version 0.21.3 when using version 0.23.1. This might lead to breaking code or invalid results. Use at your own risk.\n",
      "  warnings.warn(\n"
     ]
    },
    {
     "name": "stdout",
     "output_type": "stream",
     "text": [
      "/g/data/hj10/admin/opol/level_1/in2019_v01/20190124/9776HUB-PPIVol-20190124-181800-0000.hdf\n"
     ]
    },
    {
     "name": "stderr",
     "output_type": "stream",
     "text": [
      "/g/data/en0/jss548/miniconda3/envs/radar-dev/lib/python3.8/site-packages/pyart/aux_io/odim_h5.py:295: DeprecationWarning: an integer is required (got type numpy.float32).  Implicit conversion to integers using __int__ is deprecated, and may be removed in a future version of Python.\n",
      "  start_time = datetime.datetime.utcfromtimestamp(start_epoch)\n",
      "/g/data/en0/jss548/miniconda3/envs/radar-dev/lib/python3.8/site-packages/sklearn/base.py:329: UserWarning: Trying to unpickle estimator GaussianMixture from version 0.21.3 when using version 0.23.1. This might lead to breaking code or invalid results. Use at your own risk.\n",
      "  warnings.warn(\n"
     ]
    },
    {
     "name": "stdout",
     "output_type": "stream",
     "text": [
      "/g/data/hj10/admin/opol/level_1/in2019_v01/20190124/9776HUB-PPIVol-20190124-182332-0000.hdf\n"
     ]
    },
    {
     "name": "stderr",
     "output_type": "stream",
     "text": [
      "/g/data/en0/jss548/miniconda3/envs/radar-dev/lib/python3.8/site-packages/pyart/aux_io/odim_h5.py:295: DeprecationWarning: an integer is required (got type numpy.float32).  Implicit conversion to integers using __int__ is deprecated, and may be removed in a future version of Python.\n",
      "  start_time = datetime.datetime.utcfromtimestamp(start_epoch)\n",
      "/g/data/en0/jss548/miniconda3/envs/radar-dev/lib/python3.8/site-packages/sklearn/base.py:329: UserWarning: Trying to unpickle estimator GaussianMixture from version 0.21.3 when using version 0.23.1. This might lead to breaking code or invalid results. Use at your own risk.\n",
      "  warnings.warn(\n"
     ]
    },
    {
     "name": "stdout",
     "output_type": "stream",
     "text": [
      "/g/data/hj10/admin/opol/level_1/in2019_v01/20190124/9776HUB-PPIVol-20190124-182447-0000.hdf\n"
     ]
    },
    {
     "name": "stderr",
     "output_type": "stream",
     "text": [
      "/g/data/en0/jss548/miniconda3/envs/radar-dev/lib/python3.8/site-packages/pyart/aux_io/odim_h5.py:295: DeprecationWarning: an integer is required (got type numpy.float32).  Implicit conversion to integers using __int__ is deprecated, and may be removed in a future version of Python.\n",
      "  start_time = datetime.datetime.utcfromtimestamp(start_epoch)\n",
      "/g/data/en0/jss548/miniconda3/envs/radar-dev/lib/python3.8/site-packages/sklearn/base.py:329: UserWarning: Trying to unpickle estimator GaussianMixture from version 0.21.3 when using version 0.23.1. This might lead to breaking code or invalid results. Use at your own risk.\n",
      "  warnings.warn(\n"
     ]
    },
    {
     "name": "stdout",
     "output_type": "stream",
     "text": [
      "/g/data/hj10/admin/opol/level_1/in2019_v01/20190124/9776HUB-PPIVol-20190124-183018-0000.hdf\n"
     ]
    },
    {
     "name": "stderr",
     "output_type": "stream",
     "text": [
      "/g/data/en0/jss548/miniconda3/envs/radar-dev/lib/python3.8/site-packages/pyart/aux_io/odim_h5.py:295: DeprecationWarning: an integer is required (got type numpy.float32).  Implicit conversion to integers using __int__ is deprecated, and may be removed in a future version of Python.\n",
      "  start_time = datetime.datetime.utcfromtimestamp(start_epoch)\n",
      "/g/data/en0/jss548/miniconda3/envs/radar-dev/lib/python3.8/site-packages/sklearn/base.py:329: UserWarning: Trying to unpickle estimator GaussianMixture from version 0.21.3 when using version 0.23.1. This might lead to breaking code or invalid results. Use at your own risk.\n",
      "  warnings.warn(\n"
     ]
    },
    {
     "name": "stdout",
     "output_type": "stream",
     "text": [
      "/g/data/hj10/admin/opol/level_1/in2019_v01/20190124/9776HUB-PPIVol-20190124-183133-0000.hdf\n"
     ]
    },
    {
     "name": "stderr",
     "output_type": "stream",
     "text": [
      "/g/data/en0/jss548/miniconda3/envs/radar-dev/lib/python3.8/site-packages/pyart/aux_io/odim_h5.py:295: DeprecationWarning: an integer is required (got type numpy.float32).  Implicit conversion to integers using __int__ is deprecated, and may be removed in a future version of Python.\n",
      "  start_time = datetime.datetime.utcfromtimestamp(start_epoch)\n",
      "/g/data/en0/jss548/miniconda3/envs/radar-dev/lib/python3.8/site-packages/sklearn/base.py:329: UserWarning: Trying to unpickle estimator GaussianMixture from version 0.21.3 when using version 0.23.1. This might lead to breaking code or invalid results. Use at your own risk.\n",
      "  warnings.warn(\n"
     ]
    },
    {
     "name": "stdout",
     "output_type": "stream",
     "text": [
      "/g/data/hj10/admin/opol/level_1/in2019_v01/20190124/9776HUB-PPIVol-20190124-183705-0000.hdf\n"
     ]
    },
    {
     "name": "stderr",
     "output_type": "stream",
     "text": [
      "/g/data/en0/jss548/miniconda3/envs/radar-dev/lib/python3.8/site-packages/pyart/aux_io/odim_h5.py:295: DeprecationWarning: an integer is required (got type numpy.float32).  Implicit conversion to integers using __int__ is deprecated, and may be removed in a future version of Python.\n",
      "  start_time = datetime.datetime.utcfromtimestamp(start_epoch)\n",
      "/g/data/en0/jss548/miniconda3/envs/radar-dev/lib/python3.8/site-packages/sklearn/base.py:329: UserWarning: Trying to unpickle estimator GaussianMixture from version 0.21.3 when using version 0.23.1. This might lead to breaking code or invalid results. Use at your own risk.\n",
      "  warnings.warn(\n"
     ]
    },
    {
     "name": "stdout",
     "output_type": "stream",
     "text": [
      "/g/data/hj10/admin/opol/level_1/in2019_v01/20190124/9776HUB-PPIVol-20190124-183819-0000.hdf\n"
     ]
    },
    {
     "name": "stderr",
     "output_type": "stream",
     "text": [
      "/g/data/en0/jss548/miniconda3/envs/radar-dev/lib/python3.8/site-packages/pyart/aux_io/odim_h5.py:295: DeprecationWarning: an integer is required (got type numpy.float32).  Implicit conversion to integers using __int__ is deprecated, and may be removed in a future version of Python.\n",
      "  start_time = datetime.datetime.utcfromtimestamp(start_epoch)\n",
      "/g/data/en0/jss548/miniconda3/envs/radar-dev/lib/python3.8/site-packages/sklearn/base.py:329: UserWarning: Trying to unpickle estimator GaussianMixture from version 0.21.3 when using version 0.23.1. This might lead to breaking code or invalid results. Use at your own risk.\n",
      "  warnings.warn(\n"
     ]
    },
    {
     "name": "stdout",
     "output_type": "stream",
     "text": [
      "/g/data/hj10/admin/opol/level_1/in2019_v01/20190124/9776HUB-PPIVol-20190124-184351-0000.hdf\n"
     ]
    },
    {
     "name": "stderr",
     "output_type": "stream",
     "text": [
      "/g/data/en0/jss548/miniconda3/envs/radar-dev/lib/python3.8/site-packages/pyart/aux_io/odim_h5.py:295: DeprecationWarning: an integer is required (got type numpy.float32).  Implicit conversion to integers using __int__ is deprecated, and may be removed in a future version of Python.\n",
      "  start_time = datetime.datetime.utcfromtimestamp(start_epoch)\n",
      "/g/data/en0/jss548/miniconda3/envs/radar-dev/lib/python3.8/site-packages/sklearn/base.py:329: UserWarning: Trying to unpickle estimator GaussianMixture from version 0.21.3 when using version 0.23.1. This might lead to breaking code or invalid results. Use at your own risk.\n",
      "  warnings.warn(\n"
     ]
    },
    {
     "name": "stdout",
     "output_type": "stream",
     "text": [
      "/g/data/hj10/admin/opol/level_1/in2019_v01/20190124/9776HUB-PPIVol-20190124-184506-0000.hdf\n"
     ]
    },
    {
     "name": "stderr",
     "output_type": "stream",
     "text": [
      "/g/data/en0/jss548/miniconda3/envs/radar-dev/lib/python3.8/site-packages/pyart/aux_io/odim_h5.py:295: DeprecationWarning: an integer is required (got type numpy.float32).  Implicit conversion to integers using __int__ is deprecated, and may be removed in a future version of Python.\n",
      "  start_time = datetime.datetime.utcfromtimestamp(start_epoch)\n",
      "/g/data/en0/jss548/miniconda3/envs/radar-dev/lib/python3.8/site-packages/sklearn/base.py:329: UserWarning: Trying to unpickle estimator GaussianMixture from version 0.21.3 when using version 0.23.1. This might lead to breaking code or invalid results. Use at your own risk.\n",
      "  warnings.warn(\n"
     ]
    },
    {
     "name": "stdout",
     "output_type": "stream",
     "text": [
      "/g/data/hj10/admin/opol/level_1/in2019_v01/20190124/9776HUB-PPIVol-20190124-185038-0000.hdf\n"
     ]
    },
    {
     "name": "stderr",
     "output_type": "stream",
     "text": [
      "/g/data/en0/jss548/miniconda3/envs/radar-dev/lib/python3.8/site-packages/pyart/aux_io/odim_h5.py:295: DeprecationWarning: an integer is required (got type numpy.float32).  Implicit conversion to integers using __int__ is deprecated, and may be removed in a future version of Python.\n",
      "  start_time = datetime.datetime.utcfromtimestamp(start_epoch)\n",
      "/g/data/en0/jss548/miniconda3/envs/radar-dev/lib/python3.8/site-packages/sklearn/base.py:329: UserWarning: Trying to unpickle estimator GaussianMixture from version 0.21.3 when using version 0.23.1. This might lead to breaking code or invalid results. Use at your own risk.\n",
      "  warnings.warn(\n"
     ]
    },
    {
     "name": "stdout",
     "output_type": "stream",
     "text": [
      "/g/data/hj10/admin/opol/level_1/in2019_v01/20190124/9776HUB-PPIVol-20190124-185152-0000.hdf\n"
     ]
    },
    {
     "name": "stderr",
     "output_type": "stream",
     "text": [
      "/g/data/en0/jss548/miniconda3/envs/radar-dev/lib/python3.8/site-packages/pyart/aux_io/odim_h5.py:295: DeprecationWarning: an integer is required (got type numpy.float32).  Implicit conversion to integers using __int__ is deprecated, and may be removed in a future version of Python.\n",
      "  start_time = datetime.datetime.utcfromtimestamp(start_epoch)\n",
      "/g/data/en0/jss548/miniconda3/envs/radar-dev/lib/python3.8/site-packages/sklearn/base.py:329: UserWarning: Trying to unpickle estimator GaussianMixture from version 0.21.3 when using version 0.23.1. This might lead to breaking code or invalid results. Use at your own risk.\n",
      "  warnings.warn(\n"
     ]
    },
    {
     "name": "stdout",
     "output_type": "stream",
     "text": [
      "/g/data/hj10/admin/opol/level_1/in2019_v01/20190124/9776HUB-PPIVol-20190124-185724-0000.hdf\n"
     ]
    },
    {
     "name": "stderr",
     "output_type": "stream",
     "text": [
      "/g/data/en0/jss548/miniconda3/envs/radar-dev/lib/python3.8/site-packages/pyart/aux_io/odim_h5.py:295: DeprecationWarning: an integer is required (got type numpy.float32).  Implicit conversion to integers using __int__ is deprecated, and may be removed in a future version of Python.\n",
      "  start_time = datetime.datetime.utcfromtimestamp(start_epoch)\n",
      "/g/data/en0/jss548/miniconda3/envs/radar-dev/lib/python3.8/site-packages/sklearn/base.py:329: UserWarning: Trying to unpickle estimator GaussianMixture from version 0.21.3 when using version 0.23.1. This might lead to breaking code or invalid results. Use at your own risk.\n",
      "  warnings.warn(\n"
     ]
    },
    {
     "name": "stdout",
     "output_type": "stream",
     "text": [
      "/g/data/hj10/admin/opol/level_1/in2019_v01/20190124/9776HUB-PPIVol-20190124-185839-0000.hdf\n"
     ]
    },
    {
     "name": "stderr",
     "output_type": "stream",
     "text": [
      "/g/data/en0/jss548/miniconda3/envs/radar-dev/lib/python3.8/site-packages/pyart/aux_io/odim_h5.py:295: DeprecationWarning: an integer is required (got type numpy.float32).  Implicit conversion to integers using __int__ is deprecated, and may be removed in a future version of Python.\n",
      "  start_time = datetime.datetime.utcfromtimestamp(start_epoch)\n",
      "/g/data/en0/jss548/miniconda3/envs/radar-dev/lib/python3.8/site-packages/sklearn/base.py:329: UserWarning: Trying to unpickle estimator GaussianMixture from version 0.21.3 when using version 0.23.1. This might lead to breaking code or invalid results. Use at your own risk.\n",
      "  warnings.warn(\n"
     ]
    },
    {
     "name": "stdout",
     "output_type": "stream",
     "text": [
      "/g/data/hj10/admin/opol/level_1/in2019_v01/20190124/9776HUB-PPIVol-20190124-190410-0000.hdf\n"
     ]
    },
    {
     "name": "stderr",
     "output_type": "stream",
     "text": [
      "/g/data/en0/jss548/miniconda3/envs/radar-dev/lib/python3.8/site-packages/pyart/aux_io/odim_h5.py:295: DeprecationWarning: an integer is required (got type numpy.float32).  Implicit conversion to integers using __int__ is deprecated, and may be removed in a future version of Python.\n",
      "  start_time = datetime.datetime.utcfromtimestamp(start_epoch)\n",
      "/g/data/en0/jss548/miniconda3/envs/radar-dev/lib/python3.8/site-packages/sklearn/base.py:329: UserWarning: Trying to unpickle estimator GaussianMixture from version 0.21.3 when using version 0.23.1. This might lead to breaking code or invalid results. Use at your own risk.\n",
      "  warnings.warn(\n"
     ]
    },
    {
     "name": "stdout",
     "output_type": "stream",
     "text": [
      "/g/data/hj10/admin/opol/level_1/in2019_v01/20190124/9776HUB-PPIVol-20190124-190525-0000.hdf\n"
     ]
    },
    {
     "name": "stderr",
     "output_type": "stream",
     "text": [
      "/g/data/en0/jss548/miniconda3/envs/radar-dev/lib/python3.8/site-packages/pyart/aux_io/odim_h5.py:295: DeprecationWarning: an integer is required (got type numpy.float32).  Implicit conversion to integers using __int__ is deprecated, and may be removed in a future version of Python.\n",
      "  start_time = datetime.datetime.utcfromtimestamp(start_epoch)\n",
      "/g/data/en0/jss548/miniconda3/envs/radar-dev/lib/python3.8/site-packages/sklearn/base.py:329: UserWarning: Trying to unpickle estimator GaussianMixture from version 0.21.3 when using version 0.23.1. This might lead to breaking code or invalid results. Use at your own risk.\n",
      "  warnings.warn(\n"
     ]
    },
    {
     "name": "stdout",
     "output_type": "stream",
     "text": [
      "/g/data/hj10/admin/opol/level_1/in2019_v01/20190124/9776HUB-PPIVol-20190124-191057-0000.hdf\n"
     ]
    },
    {
     "name": "stderr",
     "output_type": "stream",
     "text": [
      "/g/data/en0/jss548/miniconda3/envs/radar-dev/lib/python3.8/site-packages/pyart/aux_io/odim_h5.py:295: DeprecationWarning: an integer is required (got type numpy.float32).  Implicit conversion to integers using __int__ is deprecated, and may be removed in a future version of Python.\n",
      "  start_time = datetime.datetime.utcfromtimestamp(start_epoch)\n",
      "/g/data/en0/jss548/miniconda3/envs/radar-dev/lib/python3.8/site-packages/sklearn/base.py:329: UserWarning: Trying to unpickle estimator GaussianMixture from version 0.21.3 when using version 0.23.1. This might lead to breaking code or invalid results. Use at your own risk.\n",
      "  warnings.warn(\n"
     ]
    },
    {
     "name": "stdout",
     "output_type": "stream",
     "text": [
      "/g/data/hj10/admin/opol/level_1/in2019_v01/20190124/9776HUB-PPIVol-20190124-191212-0000.hdf\n"
     ]
    },
    {
     "name": "stderr",
     "output_type": "stream",
     "text": [
      "/g/data/en0/jss548/miniconda3/envs/radar-dev/lib/python3.8/site-packages/pyart/aux_io/odim_h5.py:295: DeprecationWarning: an integer is required (got type numpy.float32).  Implicit conversion to integers using __int__ is deprecated, and may be removed in a future version of Python.\n",
      "  start_time = datetime.datetime.utcfromtimestamp(start_epoch)\n",
      "/g/data/en0/jss548/miniconda3/envs/radar-dev/lib/python3.8/site-packages/sklearn/base.py:329: UserWarning: Trying to unpickle estimator GaussianMixture from version 0.21.3 when using version 0.23.1. This might lead to breaking code or invalid results. Use at your own risk.\n",
      "  warnings.warn(\n"
     ]
    },
    {
     "name": "stdout",
     "output_type": "stream",
     "text": [
      "/g/data/hj10/admin/opol/level_1/in2019_v01/20190124/9776HUB-PPIVol-20190124-191743-0000.hdf\n"
     ]
    },
    {
     "name": "stderr",
     "output_type": "stream",
     "text": [
      "/g/data/en0/jss548/miniconda3/envs/radar-dev/lib/python3.8/site-packages/pyart/aux_io/odim_h5.py:295: DeprecationWarning: an integer is required (got type numpy.float32).  Implicit conversion to integers using __int__ is deprecated, and may be removed in a future version of Python.\n",
      "  start_time = datetime.datetime.utcfromtimestamp(start_epoch)\n",
      "/g/data/en0/jss548/miniconda3/envs/radar-dev/lib/python3.8/site-packages/sklearn/base.py:329: UserWarning: Trying to unpickle estimator GaussianMixture from version 0.21.3 when using version 0.23.1. This might lead to breaking code or invalid results. Use at your own risk.\n",
      "  warnings.warn(\n"
     ]
    },
    {
     "name": "stdout",
     "output_type": "stream",
     "text": [
      "/g/data/hj10/admin/opol/level_1/in2019_v01/20190124/9776HUB-PPIVol-20190124-191858-0000.hdf\n"
     ]
    },
    {
     "name": "stderr",
     "output_type": "stream",
     "text": [
      "/g/data/en0/jss548/miniconda3/envs/radar-dev/lib/python3.8/site-packages/pyart/aux_io/odim_h5.py:295: DeprecationWarning: an integer is required (got type numpy.float32).  Implicit conversion to integers using __int__ is deprecated, and may be removed in a future version of Python.\n",
      "  start_time = datetime.datetime.utcfromtimestamp(start_epoch)\n",
      "/g/data/en0/jss548/miniconda3/envs/radar-dev/lib/python3.8/site-packages/sklearn/base.py:329: UserWarning: Trying to unpickle estimator GaussianMixture from version 0.21.3 when using version 0.23.1. This might lead to breaking code or invalid results. Use at your own risk.\n",
      "  warnings.warn(\n"
     ]
    },
    {
     "name": "stdout",
     "output_type": "stream",
     "text": [
      "/g/data/hj10/admin/opol/level_1/in2019_v01/20190124/9776HUB-PPIVol-20190124-192430-0000.hdf\n"
     ]
    },
    {
     "name": "stderr",
     "output_type": "stream",
     "text": [
      "/g/data/en0/jss548/miniconda3/envs/radar-dev/lib/python3.8/site-packages/pyart/aux_io/odim_h5.py:295: DeprecationWarning: an integer is required (got type numpy.float32).  Implicit conversion to integers using __int__ is deprecated, and may be removed in a future version of Python.\n",
      "  start_time = datetime.datetime.utcfromtimestamp(start_epoch)\n",
      "/g/data/en0/jss548/miniconda3/envs/radar-dev/lib/python3.8/site-packages/sklearn/base.py:329: UserWarning: Trying to unpickle estimator GaussianMixture from version 0.21.3 when using version 0.23.1. This might lead to breaking code or invalid results. Use at your own risk.\n",
      "  warnings.warn(\n"
     ]
    },
    {
     "name": "stdout",
     "output_type": "stream",
     "text": [
      "/g/data/hj10/admin/opol/level_1/in2019_v01/20190124/9776HUB-PPIVol-20190124-192545-0000.hdf\n"
     ]
    },
    {
     "name": "stderr",
     "output_type": "stream",
     "text": [
      "/g/data/en0/jss548/miniconda3/envs/radar-dev/lib/python3.8/site-packages/pyart/aux_io/odim_h5.py:295: DeprecationWarning: an integer is required (got type numpy.float32).  Implicit conversion to integers using __int__ is deprecated, and may be removed in a future version of Python.\n",
      "  start_time = datetime.datetime.utcfromtimestamp(start_epoch)\n",
      "/g/data/en0/jss548/miniconda3/envs/radar-dev/lib/python3.8/site-packages/sklearn/base.py:329: UserWarning: Trying to unpickle estimator GaussianMixture from version 0.21.3 when using version 0.23.1. This might lead to breaking code or invalid results. Use at your own risk.\n",
      "  warnings.warn(\n"
     ]
    },
    {
     "name": "stdout",
     "output_type": "stream",
     "text": [
      "/g/data/hj10/admin/opol/level_1/in2019_v01/20190124/9776HUB-PPIVol-20190124-193116-0000.hdf\n"
     ]
    },
    {
     "name": "stderr",
     "output_type": "stream",
     "text": [
      "/g/data/en0/jss548/miniconda3/envs/radar-dev/lib/python3.8/site-packages/pyart/aux_io/odim_h5.py:295: DeprecationWarning: an integer is required (got type numpy.float32).  Implicit conversion to integers using __int__ is deprecated, and may be removed in a future version of Python.\n",
      "  start_time = datetime.datetime.utcfromtimestamp(start_epoch)\n",
      "/g/data/en0/jss548/miniconda3/envs/radar-dev/lib/python3.8/site-packages/sklearn/base.py:329: UserWarning: Trying to unpickle estimator GaussianMixture from version 0.21.3 when using version 0.23.1. This might lead to breaking code or invalid results. Use at your own risk.\n",
      "  warnings.warn(\n"
     ]
    },
    {
     "name": "stdout",
     "output_type": "stream",
     "text": [
      "/g/data/hj10/admin/opol/level_1/in2019_v01/20190124/9776HUB-PPIVol-20190124-193231-0000.hdf\n"
     ]
    },
    {
     "name": "stderr",
     "output_type": "stream",
     "text": [
      "/g/data/en0/jss548/miniconda3/envs/radar-dev/lib/python3.8/site-packages/pyart/aux_io/odim_h5.py:295: DeprecationWarning: an integer is required (got type numpy.float32).  Implicit conversion to integers using __int__ is deprecated, and may be removed in a future version of Python.\n",
      "  start_time = datetime.datetime.utcfromtimestamp(start_epoch)\n",
      "/g/data/en0/jss548/miniconda3/envs/radar-dev/lib/python3.8/site-packages/sklearn/base.py:329: UserWarning: Trying to unpickle estimator GaussianMixture from version 0.21.3 when using version 0.23.1. This might lead to breaking code or invalid results. Use at your own risk.\n",
      "  warnings.warn(\n"
     ]
    },
    {
     "name": "stdout",
     "output_type": "stream",
     "text": [
      "/g/data/hj10/admin/opol/level_1/in2019_v01/20190124/9776HUB-PPIVol-20190124-193803-0000.hdf\n"
     ]
    },
    {
     "name": "stderr",
     "output_type": "stream",
     "text": [
      "/g/data/en0/jss548/miniconda3/envs/radar-dev/lib/python3.8/site-packages/pyart/aux_io/odim_h5.py:295: DeprecationWarning: an integer is required (got type numpy.float32).  Implicit conversion to integers using __int__ is deprecated, and may be removed in a future version of Python.\n",
      "  start_time = datetime.datetime.utcfromtimestamp(start_epoch)\n",
      "/g/data/en0/jss548/miniconda3/envs/radar-dev/lib/python3.8/site-packages/sklearn/base.py:329: UserWarning: Trying to unpickle estimator GaussianMixture from version 0.21.3 when using version 0.23.1. This might lead to breaking code or invalid results. Use at your own risk.\n",
      "  warnings.warn(\n"
     ]
    },
    {
     "name": "stdout",
     "output_type": "stream",
     "text": [
      "/g/data/hj10/admin/opol/level_1/in2019_v01/20190124/9776HUB-PPIVol-20190124-193917-0000.hdf\n"
     ]
    },
    {
     "name": "stderr",
     "output_type": "stream",
     "text": [
      "/g/data/en0/jss548/miniconda3/envs/radar-dev/lib/python3.8/site-packages/pyart/aux_io/odim_h5.py:295: DeprecationWarning: an integer is required (got type numpy.float32).  Implicit conversion to integers using __int__ is deprecated, and may be removed in a future version of Python.\n",
      "  start_time = datetime.datetime.utcfromtimestamp(start_epoch)\n",
      "/g/data/en0/jss548/miniconda3/envs/radar-dev/lib/python3.8/site-packages/sklearn/base.py:329: UserWarning: Trying to unpickle estimator GaussianMixture from version 0.21.3 when using version 0.23.1. This might lead to breaking code or invalid results. Use at your own risk.\n",
      "  warnings.warn(\n"
     ]
    },
    {
     "name": "stdout",
     "output_type": "stream",
     "text": [
      "/g/data/hj10/admin/opol/level_1/in2019_v01/20190124/9776HUB-PPIVol-20190124-194449-0000.hdf\n"
     ]
    },
    {
     "name": "stderr",
     "output_type": "stream",
     "text": [
      "/g/data/en0/jss548/miniconda3/envs/radar-dev/lib/python3.8/site-packages/pyart/aux_io/odim_h5.py:295: DeprecationWarning: an integer is required (got type numpy.float32).  Implicit conversion to integers using __int__ is deprecated, and may be removed in a future version of Python.\n",
      "  start_time = datetime.datetime.utcfromtimestamp(start_epoch)\n",
      "/g/data/en0/jss548/miniconda3/envs/radar-dev/lib/python3.8/site-packages/sklearn/base.py:329: UserWarning: Trying to unpickle estimator GaussianMixture from version 0.21.3 when using version 0.23.1. This might lead to breaking code or invalid results. Use at your own risk.\n",
      "  warnings.warn(\n"
     ]
    },
    {
     "name": "stdout",
     "output_type": "stream",
     "text": [
      "/g/data/hj10/admin/opol/level_1/in2019_v01/20190124/9776HUB-PPIVol-20190124-194604-0000.hdf\n"
     ]
    },
    {
     "name": "stderr",
     "output_type": "stream",
     "text": [
      "/g/data/en0/jss548/miniconda3/envs/radar-dev/lib/python3.8/site-packages/pyart/aux_io/odim_h5.py:295: DeprecationWarning: an integer is required (got type numpy.float32).  Implicit conversion to integers using __int__ is deprecated, and may be removed in a future version of Python.\n",
      "  start_time = datetime.datetime.utcfromtimestamp(start_epoch)\n",
      "/g/data/en0/jss548/miniconda3/envs/radar-dev/lib/python3.8/site-packages/sklearn/base.py:329: UserWarning: Trying to unpickle estimator GaussianMixture from version 0.21.3 when using version 0.23.1. This might lead to breaking code or invalid results. Use at your own risk.\n",
      "  warnings.warn(\n"
     ]
    },
    {
     "name": "stdout",
     "output_type": "stream",
     "text": [
      "/g/data/hj10/admin/opol/level_1/in2019_v01/20190124/9776HUB-PPIVol-20190124-195136-0000.hdf\n"
     ]
    },
    {
     "name": "stderr",
     "output_type": "stream",
     "text": [
      "/g/data/en0/jss548/miniconda3/envs/radar-dev/lib/python3.8/site-packages/pyart/aux_io/odim_h5.py:295: DeprecationWarning: an integer is required (got type numpy.float32).  Implicit conversion to integers using __int__ is deprecated, and may be removed in a future version of Python.\n",
      "  start_time = datetime.datetime.utcfromtimestamp(start_epoch)\n",
      "/g/data/en0/jss548/miniconda3/envs/radar-dev/lib/python3.8/site-packages/sklearn/base.py:329: UserWarning: Trying to unpickle estimator GaussianMixture from version 0.21.3 when using version 0.23.1. This might lead to breaking code or invalid results. Use at your own risk.\n",
      "  warnings.warn(\n"
     ]
    },
    {
     "name": "stdout",
     "output_type": "stream",
     "text": [
      "/g/data/hj10/admin/opol/level_1/in2019_v01/20190124/9776HUB-PPIVol-20190124-195250-0000.hdf\n"
     ]
    },
    {
     "name": "stderr",
     "output_type": "stream",
     "text": [
      "/g/data/en0/jss548/miniconda3/envs/radar-dev/lib/python3.8/site-packages/pyart/aux_io/odim_h5.py:295: DeprecationWarning: an integer is required (got type numpy.float32).  Implicit conversion to integers using __int__ is deprecated, and may be removed in a future version of Python.\n",
      "  start_time = datetime.datetime.utcfromtimestamp(start_epoch)\n",
      "/g/data/en0/jss548/miniconda3/envs/radar-dev/lib/python3.8/site-packages/sklearn/base.py:329: UserWarning: Trying to unpickle estimator GaussianMixture from version 0.21.3 when using version 0.23.1. This might lead to breaking code or invalid results. Use at your own risk.\n",
      "  warnings.warn(\n"
     ]
    },
    {
     "name": "stdout",
     "output_type": "stream",
     "text": [
      "/g/data/hj10/admin/opol/level_1/in2019_v01/20190124/9776HUB-PPIVol-20190124-195822-0000.hdf\n"
     ]
    },
    {
     "name": "stderr",
     "output_type": "stream",
     "text": [
      "/g/data/en0/jss548/miniconda3/envs/radar-dev/lib/python3.8/site-packages/pyart/aux_io/odim_h5.py:295: DeprecationWarning: an integer is required (got type numpy.float32).  Implicit conversion to integers using __int__ is deprecated, and may be removed in a future version of Python.\n",
      "  start_time = datetime.datetime.utcfromtimestamp(start_epoch)\n",
      "/g/data/en0/jss548/miniconda3/envs/radar-dev/lib/python3.8/site-packages/sklearn/base.py:329: UserWarning: Trying to unpickle estimator GaussianMixture from version 0.21.3 when using version 0.23.1. This might lead to breaking code or invalid results. Use at your own risk.\n",
      "  warnings.warn(\n"
     ]
    },
    {
     "name": "stdout",
     "output_type": "stream",
     "text": [
      "/g/data/hj10/admin/opol/level_1/in2019_v01/20190124/9776HUB-PPIVol-20190124-195937-0000.hdf\n"
     ]
    },
    {
     "name": "stderr",
     "output_type": "stream",
     "text": [
      "/g/data/en0/jss548/miniconda3/envs/radar-dev/lib/python3.8/site-packages/pyart/aux_io/odim_h5.py:295: DeprecationWarning: an integer is required (got type numpy.float32).  Implicit conversion to integers using __int__ is deprecated, and may be removed in a future version of Python.\n",
      "  start_time = datetime.datetime.utcfromtimestamp(start_epoch)\n",
      "/g/data/en0/jss548/miniconda3/envs/radar-dev/lib/python3.8/site-packages/sklearn/base.py:329: UserWarning: Trying to unpickle estimator GaussianMixture from version 0.21.3 when using version 0.23.1. This might lead to breaking code or invalid results. Use at your own risk.\n",
      "  warnings.warn(\n"
     ]
    },
    {
     "name": "stdout",
     "output_type": "stream",
     "text": [
      "/g/data/hj10/admin/opol/level_1/in2019_v01/20190124/9776HUB-PPIVol-20190124-200509-0000.hdf\n"
     ]
    },
    {
     "name": "stderr",
     "output_type": "stream",
     "text": [
      "/g/data/en0/jss548/miniconda3/envs/radar-dev/lib/python3.8/site-packages/pyart/aux_io/odim_h5.py:295: DeprecationWarning: an integer is required (got type numpy.float32).  Implicit conversion to integers using __int__ is deprecated, and may be removed in a future version of Python.\n",
      "  start_time = datetime.datetime.utcfromtimestamp(start_epoch)\n",
      "/g/data/en0/jss548/miniconda3/envs/radar-dev/lib/python3.8/site-packages/sklearn/base.py:329: UserWarning: Trying to unpickle estimator GaussianMixture from version 0.21.3 when using version 0.23.1. This might lead to breaking code or invalid results. Use at your own risk.\n",
      "  warnings.warn(\n"
     ]
    },
    {
     "name": "stdout",
     "output_type": "stream",
     "text": [
      "/g/data/hj10/admin/opol/level_1/in2019_v01/20190124/9776HUB-PPIVol-20190124-200623-0000.hdf\n"
     ]
    },
    {
     "name": "stderr",
     "output_type": "stream",
     "text": [
      "/g/data/en0/jss548/miniconda3/envs/radar-dev/lib/python3.8/site-packages/pyart/aux_io/odim_h5.py:295: DeprecationWarning: an integer is required (got type numpy.float32).  Implicit conversion to integers using __int__ is deprecated, and may be removed in a future version of Python.\n",
      "  start_time = datetime.datetime.utcfromtimestamp(start_epoch)\n",
      "/g/data/en0/jss548/miniconda3/envs/radar-dev/lib/python3.8/site-packages/sklearn/base.py:329: UserWarning: Trying to unpickle estimator GaussianMixture from version 0.21.3 when using version 0.23.1. This might lead to breaking code or invalid results. Use at your own risk.\n",
      "  warnings.warn(\n"
     ]
    },
    {
     "name": "stdout",
     "output_type": "stream",
     "text": [
      "/g/data/hj10/admin/opol/level_1/in2019_v01/20190124/9776HUB-PPIVol-20190124-201155-0000.hdf\n"
     ]
    },
    {
     "name": "stderr",
     "output_type": "stream",
     "text": [
      "/g/data/en0/jss548/miniconda3/envs/radar-dev/lib/python3.8/site-packages/pyart/aux_io/odim_h5.py:295: DeprecationWarning: an integer is required (got type numpy.float32).  Implicit conversion to integers using __int__ is deprecated, and may be removed in a future version of Python.\n",
      "  start_time = datetime.datetime.utcfromtimestamp(start_epoch)\n",
      "/g/data/en0/jss548/miniconda3/envs/radar-dev/lib/python3.8/site-packages/sklearn/base.py:329: UserWarning: Trying to unpickle estimator GaussianMixture from version 0.21.3 when using version 0.23.1. This might lead to breaking code or invalid results. Use at your own risk.\n",
      "  warnings.warn(\n"
     ]
    },
    {
     "name": "stdout",
     "output_type": "stream",
     "text": [
      "/g/data/hj10/admin/opol/level_1/in2019_v01/20190124/9776HUB-PPIVol-20190124-201310-0000.hdf\n"
     ]
    },
    {
     "name": "stderr",
     "output_type": "stream",
     "text": [
      "/g/data/en0/jss548/miniconda3/envs/radar-dev/lib/python3.8/site-packages/pyart/aux_io/odim_h5.py:295: DeprecationWarning: an integer is required (got type numpy.float32).  Implicit conversion to integers using __int__ is deprecated, and may be removed in a future version of Python.\n",
      "  start_time = datetime.datetime.utcfromtimestamp(start_epoch)\n",
      "/g/data/en0/jss548/miniconda3/envs/radar-dev/lib/python3.8/site-packages/sklearn/base.py:329: UserWarning: Trying to unpickle estimator GaussianMixture from version 0.21.3 when using version 0.23.1. This might lead to breaking code or invalid results. Use at your own risk.\n",
      "  warnings.warn(\n"
     ]
    },
    {
     "name": "stdout",
     "output_type": "stream",
     "text": [
      "/g/data/hj10/admin/opol/level_1/in2019_v01/20190124/9776HUB-PPIVol-20190124-201842-0000.hdf\n"
     ]
    },
    {
     "name": "stderr",
     "output_type": "stream",
     "text": [
      "/g/data/en0/jss548/miniconda3/envs/radar-dev/lib/python3.8/site-packages/pyart/aux_io/odim_h5.py:295: DeprecationWarning: an integer is required (got type numpy.float32).  Implicit conversion to integers using __int__ is deprecated, and may be removed in a future version of Python.\n",
      "  start_time = datetime.datetime.utcfromtimestamp(start_epoch)\n",
      "/g/data/en0/jss548/miniconda3/envs/radar-dev/lib/python3.8/site-packages/sklearn/base.py:329: UserWarning: Trying to unpickle estimator GaussianMixture from version 0.21.3 when using version 0.23.1. This might lead to breaking code or invalid results. Use at your own risk.\n",
      "  warnings.warn(\n"
     ]
    },
    {
     "name": "stdout",
     "output_type": "stream",
     "text": [
      "/g/data/hj10/admin/opol/level_1/in2019_v01/20190124/9776HUB-PPIVol-20190124-201956-0000.hdf\n"
     ]
    },
    {
     "name": "stderr",
     "output_type": "stream",
     "text": [
      "/g/data/en0/jss548/miniconda3/envs/radar-dev/lib/python3.8/site-packages/pyart/aux_io/odim_h5.py:295: DeprecationWarning: an integer is required (got type numpy.float32).  Implicit conversion to integers using __int__ is deprecated, and may be removed in a future version of Python.\n",
      "  start_time = datetime.datetime.utcfromtimestamp(start_epoch)\n",
      "/g/data/en0/jss548/miniconda3/envs/radar-dev/lib/python3.8/site-packages/sklearn/base.py:329: UserWarning: Trying to unpickle estimator GaussianMixture from version 0.21.3 when using version 0.23.1. This might lead to breaking code or invalid results. Use at your own risk.\n",
      "  warnings.warn(\n"
     ]
    },
    {
     "name": "stdout",
     "output_type": "stream",
     "text": [
      "/g/data/hj10/admin/opol/level_1/in2019_v01/20190124/9776HUB-PPIVol-20190124-202528-0000.hdf\n"
     ]
    },
    {
     "name": "stderr",
     "output_type": "stream",
     "text": [
      "/g/data/en0/jss548/miniconda3/envs/radar-dev/lib/python3.8/site-packages/pyart/aux_io/odim_h5.py:295: DeprecationWarning: an integer is required (got type numpy.float32).  Implicit conversion to integers using __int__ is deprecated, and may be removed in a future version of Python.\n",
      "  start_time = datetime.datetime.utcfromtimestamp(start_epoch)\n",
      "/g/data/en0/jss548/miniconda3/envs/radar-dev/lib/python3.8/site-packages/sklearn/base.py:329: UserWarning: Trying to unpickle estimator GaussianMixture from version 0.21.3 when using version 0.23.1. This might lead to breaking code or invalid results. Use at your own risk.\n",
      "  warnings.warn(\n"
     ]
    },
    {
     "name": "stdout",
     "output_type": "stream",
     "text": [
      "/g/data/hj10/admin/opol/level_1/in2019_v01/20190124/9776HUB-PPIVol-20190124-202643-0000.hdf\n"
     ]
    },
    {
     "name": "stderr",
     "output_type": "stream",
     "text": [
      "/g/data/en0/jss548/miniconda3/envs/radar-dev/lib/python3.8/site-packages/pyart/aux_io/odim_h5.py:295: DeprecationWarning: an integer is required (got type numpy.float32).  Implicit conversion to integers using __int__ is deprecated, and may be removed in a future version of Python.\n",
      "  start_time = datetime.datetime.utcfromtimestamp(start_epoch)\n",
      "/g/data/en0/jss548/miniconda3/envs/radar-dev/lib/python3.8/site-packages/sklearn/base.py:329: UserWarning: Trying to unpickle estimator GaussianMixture from version 0.21.3 when using version 0.23.1. This might lead to breaking code or invalid results. Use at your own risk.\n",
      "  warnings.warn(\n"
     ]
    },
    {
     "name": "stdout",
     "output_type": "stream",
     "text": [
      "/g/data/hj10/admin/opol/level_1/in2019_v01/20190124/9776HUB-PPIVol-20190124-203215-0000.hdf\n"
     ]
    },
    {
     "name": "stderr",
     "output_type": "stream",
     "text": [
      "/g/data/en0/jss548/miniconda3/envs/radar-dev/lib/python3.8/site-packages/pyart/aux_io/odim_h5.py:295: DeprecationWarning: an integer is required (got type numpy.float32).  Implicit conversion to integers using __int__ is deprecated, and may be removed in a future version of Python.\n",
      "  start_time = datetime.datetime.utcfromtimestamp(start_epoch)\n",
      "/g/data/en0/jss548/miniconda3/envs/radar-dev/lib/python3.8/site-packages/sklearn/base.py:329: UserWarning: Trying to unpickle estimator GaussianMixture from version 0.21.3 when using version 0.23.1. This might lead to breaking code or invalid results. Use at your own risk.\n",
      "  warnings.warn(\n"
     ]
    },
    {
     "name": "stdout",
     "output_type": "stream",
     "text": [
      "/g/data/hj10/admin/opol/level_1/in2019_v01/20190124/9776HUB-PPIVol-20190124-203329-0000.hdf\n"
     ]
    },
    {
     "name": "stderr",
     "output_type": "stream",
     "text": [
      "/g/data/en0/jss548/miniconda3/envs/radar-dev/lib/python3.8/site-packages/pyart/aux_io/odim_h5.py:295: DeprecationWarning: an integer is required (got type numpy.float32).  Implicit conversion to integers using __int__ is deprecated, and may be removed in a future version of Python.\n",
      "  start_time = datetime.datetime.utcfromtimestamp(start_epoch)\n",
      "/g/data/en0/jss548/miniconda3/envs/radar-dev/lib/python3.8/site-packages/sklearn/base.py:329: UserWarning: Trying to unpickle estimator GaussianMixture from version 0.21.3 when using version 0.23.1. This might lead to breaking code or invalid results. Use at your own risk.\n",
      "  warnings.warn(\n"
     ]
    },
    {
     "name": "stdout",
     "output_type": "stream",
     "text": [
      "/g/data/hj10/admin/opol/level_1/in2019_v01/20190124/9776HUB-PPIVol-20190124-203901-0000.hdf\n"
     ]
    },
    {
     "name": "stderr",
     "output_type": "stream",
     "text": [
      "/g/data/en0/jss548/miniconda3/envs/radar-dev/lib/python3.8/site-packages/pyart/aux_io/odim_h5.py:295: DeprecationWarning: an integer is required (got type numpy.float32).  Implicit conversion to integers using __int__ is deprecated, and may be removed in a future version of Python.\n",
      "  start_time = datetime.datetime.utcfromtimestamp(start_epoch)\n",
      "/g/data/en0/jss548/miniconda3/envs/radar-dev/lib/python3.8/site-packages/sklearn/base.py:329: UserWarning: Trying to unpickle estimator GaussianMixture from version 0.21.3 when using version 0.23.1. This might lead to breaking code or invalid results. Use at your own risk.\n",
      "  warnings.warn(\n"
     ]
    },
    {
     "name": "stdout",
     "output_type": "stream",
     "text": [
      "/g/data/hj10/admin/opol/level_1/in2019_v01/20190124/9776HUB-PPIVol-20190124-204016-0000.hdf\n"
     ]
    },
    {
     "name": "stderr",
     "output_type": "stream",
     "text": [
      "/g/data/en0/jss548/miniconda3/envs/radar-dev/lib/python3.8/site-packages/pyart/aux_io/odim_h5.py:295: DeprecationWarning: an integer is required (got type numpy.float32).  Implicit conversion to integers using __int__ is deprecated, and may be removed in a future version of Python.\n",
      "  start_time = datetime.datetime.utcfromtimestamp(start_epoch)\n",
      "/g/data/en0/jss548/miniconda3/envs/radar-dev/lib/python3.8/site-packages/sklearn/base.py:329: UserWarning: Trying to unpickle estimator GaussianMixture from version 0.21.3 when using version 0.23.1. This might lead to breaking code or invalid results. Use at your own risk.\n",
      "  warnings.warn(\n"
     ]
    },
    {
     "name": "stdout",
     "output_type": "stream",
     "text": [
      "/g/data/hj10/admin/opol/level_1/in2019_v01/20190124/9776HUB-PPIVol-20190124-204547-0000.hdf\n"
     ]
    },
    {
     "name": "stderr",
     "output_type": "stream",
     "text": [
      "/g/data/en0/jss548/miniconda3/envs/radar-dev/lib/python3.8/site-packages/pyart/aux_io/odim_h5.py:295: DeprecationWarning: an integer is required (got type numpy.float32).  Implicit conversion to integers using __int__ is deprecated, and may be removed in a future version of Python.\n",
      "  start_time = datetime.datetime.utcfromtimestamp(start_epoch)\n",
      "/g/data/en0/jss548/miniconda3/envs/radar-dev/lib/python3.8/site-packages/sklearn/base.py:329: UserWarning: Trying to unpickle estimator GaussianMixture from version 0.21.3 when using version 0.23.1. This might lead to breaking code or invalid results. Use at your own risk.\n",
      "  warnings.warn(\n"
     ]
    },
    {
     "name": "stdout",
     "output_type": "stream",
     "text": [
      "/g/data/hj10/admin/opol/level_1/in2019_v01/20190124/9776HUB-PPIVol-20190124-204702-0000.hdf\n"
     ]
    },
    {
     "name": "stderr",
     "output_type": "stream",
     "text": [
      "/g/data/en0/jss548/miniconda3/envs/radar-dev/lib/python3.8/site-packages/pyart/aux_io/odim_h5.py:295: DeprecationWarning: an integer is required (got type numpy.float32).  Implicit conversion to integers using __int__ is deprecated, and may be removed in a future version of Python.\n",
      "  start_time = datetime.datetime.utcfromtimestamp(start_epoch)\n",
      "/g/data/en0/jss548/miniconda3/envs/radar-dev/lib/python3.8/site-packages/sklearn/base.py:329: UserWarning: Trying to unpickle estimator GaussianMixture from version 0.21.3 when using version 0.23.1. This might lead to breaking code or invalid results. Use at your own risk.\n",
      "  warnings.warn(\n"
     ]
    },
    {
     "name": "stdout",
     "output_type": "stream",
     "text": [
      "/g/data/hj10/admin/opol/level_1/in2019_v01/20190124/9776HUB-PPIVol-20190124-205234-0000.hdf\n"
     ]
    },
    {
     "name": "stderr",
     "output_type": "stream",
     "text": [
      "/g/data/en0/jss548/miniconda3/envs/radar-dev/lib/python3.8/site-packages/pyart/aux_io/odim_h5.py:295: DeprecationWarning: an integer is required (got type numpy.float32).  Implicit conversion to integers using __int__ is deprecated, and may be removed in a future version of Python.\n",
      "  start_time = datetime.datetime.utcfromtimestamp(start_epoch)\n",
      "/g/data/en0/jss548/miniconda3/envs/radar-dev/lib/python3.8/site-packages/sklearn/base.py:329: UserWarning: Trying to unpickle estimator GaussianMixture from version 0.21.3 when using version 0.23.1. This might lead to breaking code or invalid results. Use at your own risk.\n",
      "  warnings.warn(\n"
     ]
    },
    {
     "name": "stdout",
     "output_type": "stream",
     "text": [
      "/g/data/hj10/admin/opol/level_1/in2019_v01/20190124/9776HUB-PPIVol-20190124-205349-0000.hdf\n"
     ]
    },
    {
     "name": "stderr",
     "output_type": "stream",
     "text": [
      "/g/data/en0/jss548/miniconda3/envs/radar-dev/lib/python3.8/site-packages/pyart/aux_io/odim_h5.py:295: DeprecationWarning: an integer is required (got type numpy.float32).  Implicit conversion to integers using __int__ is deprecated, and may be removed in a future version of Python.\n",
      "  start_time = datetime.datetime.utcfromtimestamp(start_epoch)\n",
      "/g/data/en0/jss548/miniconda3/envs/radar-dev/lib/python3.8/site-packages/sklearn/base.py:329: UserWarning: Trying to unpickle estimator GaussianMixture from version 0.21.3 when using version 0.23.1. This might lead to breaking code or invalid results. Use at your own risk.\n",
      "  warnings.warn(\n"
     ]
    },
    {
     "name": "stdout",
     "output_type": "stream",
     "text": [
      "/g/data/hj10/admin/opol/level_1/in2019_v01/20190124/9776HUB-PPIVol-20190124-205920-0000.hdf\n"
     ]
    },
    {
     "name": "stderr",
     "output_type": "stream",
     "text": [
      "/g/data/en0/jss548/miniconda3/envs/radar-dev/lib/python3.8/site-packages/pyart/aux_io/odim_h5.py:295: DeprecationWarning: an integer is required (got type numpy.float32).  Implicit conversion to integers using __int__ is deprecated, and may be removed in a future version of Python.\n",
      "  start_time = datetime.datetime.utcfromtimestamp(start_epoch)\n",
      "/g/data/en0/jss548/miniconda3/envs/radar-dev/lib/python3.8/site-packages/sklearn/base.py:329: UserWarning: Trying to unpickle estimator GaussianMixture from version 0.21.3 when using version 0.23.1. This might lead to breaking code or invalid results. Use at your own risk.\n",
      "  warnings.warn(\n"
     ]
    },
    {
     "name": "stdout",
     "output_type": "stream",
     "text": [
      "/g/data/hj10/admin/opol/level_1/in2019_v01/20190124/9776HUB-PPIVol-20190124-210035-0000.hdf\n"
     ]
    },
    {
     "name": "stderr",
     "output_type": "stream",
     "text": [
      "/g/data/en0/jss548/miniconda3/envs/radar-dev/lib/python3.8/site-packages/pyart/aux_io/odim_h5.py:295: DeprecationWarning: an integer is required (got type numpy.float32).  Implicit conversion to integers using __int__ is deprecated, and may be removed in a future version of Python.\n",
      "  start_time = datetime.datetime.utcfromtimestamp(start_epoch)\n",
      "/g/data/en0/jss548/miniconda3/envs/radar-dev/lib/python3.8/site-packages/sklearn/base.py:329: UserWarning: Trying to unpickle estimator GaussianMixture from version 0.21.3 when using version 0.23.1. This might lead to breaking code or invalid results. Use at your own risk.\n",
      "  warnings.warn(\n"
     ]
    },
    {
     "name": "stdout",
     "output_type": "stream",
     "text": [
      "/g/data/hj10/admin/opol/level_1/in2019_v01/20190124/9776HUB-PPIVol-20190124-210607-0000.hdf\n"
     ]
    },
    {
     "name": "stderr",
     "output_type": "stream",
     "text": [
      "/g/data/en0/jss548/miniconda3/envs/radar-dev/lib/python3.8/site-packages/pyart/aux_io/odim_h5.py:295: DeprecationWarning: an integer is required (got type numpy.float32).  Implicit conversion to integers using __int__ is deprecated, and may be removed in a future version of Python.\n",
      "  start_time = datetime.datetime.utcfromtimestamp(start_epoch)\n",
      "/g/data/en0/jss548/miniconda3/envs/radar-dev/lib/python3.8/site-packages/sklearn/base.py:329: UserWarning: Trying to unpickle estimator GaussianMixture from version 0.21.3 when using version 0.23.1. This might lead to breaking code or invalid results. Use at your own risk.\n",
      "  warnings.warn(\n"
     ]
    },
    {
     "name": "stdout",
     "output_type": "stream",
     "text": [
      "/g/data/hj10/admin/opol/level_1/in2019_v01/20190124/9776HUB-PPIVol-20190124-210721-0000.hdf\n"
     ]
    },
    {
     "name": "stderr",
     "output_type": "stream",
     "text": [
      "/g/data/en0/jss548/miniconda3/envs/radar-dev/lib/python3.8/site-packages/pyart/aux_io/odim_h5.py:295: DeprecationWarning: an integer is required (got type numpy.float32).  Implicit conversion to integers using __int__ is deprecated, and may be removed in a future version of Python.\n",
      "  start_time = datetime.datetime.utcfromtimestamp(start_epoch)\n",
      "/g/data/en0/jss548/miniconda3/envs/radar-dev/lib/python3.8/site-packages/sklearn/base.py:329: UserWarning: Trying to unpickle estimator GaussianMixture from version 0.21.3 when using version 0.23.1. This might lead to breaking code or invalid results. Use at your own risk.\n",
      "  warnings.warn(\n"
     ]
    },
    {
     "name": "stdout",
     "output_type": "stream",
     "text": [
      "/g/data/hj10/admin/opol/level_1/in2019_v01/20190124/9776HUB-PPIVol-20190124-211253-0000.hdf\n"
     ]
    },
    {
     "name": "stderr",
     "output_type": "stream",
     "text": [
      "/g/data/en0/jss548/miniconda3/envs/radar-dev/lib/python3.8/site-packages/pyart/aux_io/odim_h5.py:295: DeprecationWarning: an integer is required (got type numpy.float32).  Implicit conversion to integers using __int__ is deprecated, and may be removed in a future version of Python.\n",
      "  start_time = datetime.datetime.utcfromtimestamp(start_epoch)\n",
      "/g/data/en0/jss548/miniconda3/envs/radar-dev/lib/python3.8/site-packages/sklearn/base.py:329: UserWarning: Trying to unpickle estimator GaussianMixture from version 0.21.3 when using version 0.23.1. This might lead to breaking code or invalid results. Use at your own risk.\n",
      "  warnings.warn(\n"
     ]
    },
    {
     "name": "stdout",
     "output_type": "stream",
     "text": [
      "/g/data/hj10/admin/opol/level_1/in2019_v01/20190124/9776HUB-PPIVol-20190124-211408-0000.hdf\n"
     ]
    },
    {
     "name": "stderr",
     "output_type": "stream",
     "text": [
      "/g/data/en0/jss548/miniconda3/envs/radar-dev/lib/python3.8/site-packages/pyart/aux_io/odim_h5.py:295: DeprecationWarning: an integer is required (got type numpy.float32).  Implicit conversion to integers using __int__ is deprecated, and may be removed in a future version of Python.\n",
      "  start_time = datetime.datetime.utcfromtimestamp(start_epoch)\n",
      "/g/data/en0/jss548/miniconda3/envs/radar-dev/lib/python3.8/site-packages/sklearn/base.py:329: UserWarning: Trying to unpickle estimator GaussianMixture from version 0.21.3 when using version 0.23.1. This might lead to breaking code or invalid results. Use at your own risk.\n",
      "  warnings.warn(\n"
     ]
    },
    {
     "name": "stdout",
     "output_type": "stream",
     "text": [
      "/g/data/hj10/admin/opol/level_1/in2019_v01/20190124/9776HUB-PPIVol-20190124-211940-0000.hdf\n"
     ]
    },
    {
     "name": "stderr",
     "output_type": "stream",
     "text": [
      "/g/data/en0/jss548/miniconda3/envs/radar-dev/lib/python3.8/site-packages/pyart/aux_io/odim_h5.py:295: DeprecationWarning: an integer is required (got type numpy.float32).  Implicit conversion to integers using __int__ is deprecated, and may be removed in a future version of Python.\n",
      "  start_time = datetime.datetime.utcfromtimestamp(start_epoch)\n",
      "/g/data/en0/jss548/miniconda3/envs/radar-dev/lib/python3.8/site-packages/sklearn/base.py:329: UserWarning: Trying to unpickle estimator GaussianMixture from version 0.21.3 when using version 0.23.1. This might lead to breaking code or invalid results. Use at your own risk.\n",
      "  warnings.warn(\n"
     ]
    },
    {
     "name": "stdout",
     "output_type": "stream",
     "text": [
      "/g/data/hj10/admin/opol/level_1/in2019_v01/20190124/9776HUB-PPIVol-20190124-212054-0000.hdf\n"
     ]
    },
    {
     "name": "stderr",
     "output_type": "stream",
     "text": [
      "/g/data/en0/jss548/miniconda3/envs/radar-dev/lib/python3.8/site-packages/pyart/aux_io/odim_h5.py:295: DeprecationWarning: an integer is required (got type numpy.float32).  Implicit conversion to integers using __int__ is deprecated, and may be removed in a future version of Python.\n",
      "  start_time = datetime.datetime.utcfromtimestamp(start_epoch)\n",
      "/g/data/en0/jss548/miniconda3/envs/radar-dev/lib/python3.8/site-packages/sklearn/base.py:329: UserWarning: Trying to unpickle estimator GaussianMixture from version 0.21.3 when using version 0.23.1. This might lead to breaking code or invalid results. Use at your own risk.\n",
      "  warnings.warn(\n"
     ]
    },
    {
     "name": "stdout",
     "output_type": "stream",
     "text": [
      "/g/data/hj10/admin/opol/level_1/in2019_v01/20190124/9776HUB-PPIVol-20190124-212626-0000.hdf\n"
     ]
    },
    {
     "name": "stderr",
     "output_type": "stream",
     "text": [
      "/g/data/en0/jss548/miniconda3/envs/radar-dev/lib/python3.8/site-packages/pyart/aux_io/odim_h5.py:295: DeprecationWarning: an integer is required (got type numpy.float32).  Implicit conversion to integers using __int__ is deprecated, and may be removed in a future version of Python.\n",
      "  start_time = datetime.datetime.utcfromtimestamp(start_epoch)\n",
      "/g/data/en0/jss548/miniconda3/envs/radar-dev/lib/python3.8/site-packages/sklearn/base.py:329: UserWarning: Trying to unpickle estimator GaussianMixture from version 0.21.3 when using version 0.23.1. This might lead to breaking code or invalid results. Use at your own risk.\n",
      "  warnings.warn(\n"
     ]
    },
    {
     "name": "stdout",
     "output_type": "stream",
     "text": [
      "/g/data/hj10/admin/opol/level_1/in2019_v01/20190124/9776HUB-PPIVol-20190124-212741-0000.hdf\n"
     ]
    },
    {
     "name": "stderr",
     "output_type": "stream",
     "text": [
      "/g/data/en0/jss548/miniconda3/envs/radar-dev/lib/python3.8/site-packages/pyart/aux_io/odim_h5.py:295: DeprecationWarning: an integer is required (got type numpy.float32).  Implicit conversion to integers using __int__ is deprecated, and may be removed in a future version of Python.\n",
      "  start_time = datetime.datetime.utcfromtimestamp(start_epoch)\n",
      "/g/data/en0/jss548/miniconda3/envs/radar-dev/lib/python3.8/site-packages/sklearn/base.py:329: UserWarning: Trying to unpickle estimator GaussianMixture from version 0.21.3 when using version 0.23.1. This might lead to breaking code or invalid results. Use at your own risk.\n",
      "  warnings.warn(\n"
     ]
    },
    {
     "name": "stdout",
     "output_type": "stream",
     "text": [
      "/g/data/hj10/admin/opol/level_1/in2019_v01/20190124/9776HUB-PPIVol-20190124-213312-0000.hdf\n"
     ]
    },
    {
     "name": "stderr",
     "output_type": "stream",
     "text": [
      "/g/data/en0/jss548/miniconda3/envs/radar-dev/lib/python3.8/site-packages/pyart/aux_io/odim_h5.py:295: DeprecationWarning: an integer is required (got type numpy.float32).  Implicit conversion to integers using __int__ is deprecated, and may be removed in a future version of Python.\n",
      "  start_time = datetime.datetime.utcfromtimestamp(start_epoch)\n",
      "/g/data/en0/jss548/miniconda3/envs/radar-dev/lib/python3.8/site-packages/sklearn/base.py:329: UserWarning: Trying to unpickle estimator GaussianMixture from version 0.21.3 when using version 0.23.1. This might lead to breaking code or invalid results. Use at your own risk.\n",
      "  warnings.warn(\n"
     ]
    },
    {
     "name": "stdout",
     "output_type": "stream",
     "text": [
      "/g/data/hj10/admin/opol/level_1/in2019_v01/20190124/9776HUB-PPIVol-20190124-213427-0000.hdf\n"
     ]
    },
    {
     "name": "stderr",
     "output_type": "stream",
     "text": [
      "/g/data/en0/jss548/miniconda3/envs/radar-dev/lib/python3.8/site-packages/pyart/aux_io/odim_h5.py:295: DeprecationWarning: an integer is required (got type numpy.float32).  Implicit conversion to integers using __int__ is deprecated, and may be removed in a future version of Python.\n",
      "  start_time = datetime.datetime.utcfromtimestamp(start_epoch)\n",
      "/g/data/en0/jss548/miniconda3/envs/radar-dev/lib/python3.8/site-packages/sklearn/base.py:329: UserWarning: Trying to unpickle estimator GaussianMixture from version 0.21.3 when using version 0.23.1. This might lead to breaking code or invalid results. Use at your own risk.\n",
      "  warnings.warn(\n"
     ]
    },
    {
     "name": "stdout",
     "output_type": "stream",
     "text": [
      "/g/data/hj10/admin/opol/level_1/in2019_v01/20190124/9776HUB-PPIVol-20190124-213959-0000.hdf\n"
     ]
    },
    {
     "name": "stderr",
     "output_type": "stream",
     "text": [
      "/g/data/en0/jss548/miniconda3/envs/radar-dev/lib/python3.8/site-packages/pyart/aux_io/odim_h5.py:295: DeprecationWarning: an integer is required (got type numpy.float32).  Implicit conversion to integers using __int__ is deprecated, and may be removed in a future version of Python.\n",
      "  start_time = datetime.datetime.utcfromtimestamp(start_epoch)\n",
      "/g/data/en0/jss548/miniconda3/envs/radar-dev/lib/python3.8/site-packages/sklearn/base.py:329: UserWarning: Trying to unpickle estimator GaussianMixture from version 0.21.3 when using version 0.23.1. This might lead to breaking code or invalid results. Use at your own risk.\n",
      "  warnings.warn(\n"
     ]
    },
    {
     "name": "stdout",
     "output_type": "stream",
     "text": [
      "/g/data/hj10/admin/opol/level_1/in2019_v01/20190124/9776HUB-PPIVol-20190124-214114-0000.hdf\n"
     ]
    },
    {
     "name": "stderr",
     "output_type": "stream",
     "text": [
      "/g/data/en0/jss548/miniconda3/envs/radar-dev/lib/python3.8/site-packages/pyart/aux_io/odim_h5.py:295: DeprecationWarning: an integer is required (got type numpy.float32).  Implicit conversion to integers using __int__ is deprecated, and may be removed in a future version of Python.\n",
      "  start_time = datetime.datetime.utcfromtimestamp(start_epoch)\n",
      "/g/data/en0/jss548/miniconda3/envs/radar-dev/lib/python3.8/site-packages/sklearn/base.py:329: UserWarning: Trying to unpickle estimator GaussianMixture from version 0.21.3 when using version 0.23.1. This might lead to breaking code or invalid results. Use at your own risk.\n",
      "  warnings.warn(\n"
     ]
    },
    {
     "name": "stdout",
     "output_type": "stream",
     "text": [
      "/g/data/hj10/admin/opol/level_1/in2019_v01/20190124/9776HUB-PPIVol-20190124-214645-0000.hdf\n"
     ]
    },
    {
     "name": "stderr",
     "output_type": "stream",
     "text": [
      "/g/data/en0/jss548/miniconda3/envs/radar-dev/lib/python3.8/site-packages/pyart/aux_io/odim_h5.py:295: DeprecationWarning: an integer is required (got type numpy.float32).  Implicit conversion to integers using __int__ is deprecated, and may be removed in a future version of Python.\n",
      "  start_time = datetime.datetime.utcfromtimestamp(start_epoch)\n",
      "/g/data/en0/jss548/miniconda3/envs/radar-dev/lib/python3.8/site-packages/sklearn/base.py:329: UserWarning: Trying to unpickle estimator GaussianMixture from version 0.21.3 when using version 0.23.1. This might lead to breaking code or invalid results. Use at your own risk.\n",
      "  warnings.warn(\n"
     ]
    },
    {
     "name": "stdout",
     "output_type": "stream",
     "text": [
      "/g/data/hj10/admin/opol/level_1/in2019_v01/20190124/9776HUB-PPIVol-20190124-214800-0000.hdf\n"
     ]
    },
    {
     "name": "stderr",
     "output_type": "stream",
     "text": [
      "/g/data/en0/jss548/miniconda3/envs/radar-dev/lib/python3.8/site-packages/pyart/aux_io/odim_h5.py:295: DeprecationWarning: an integer is required (got type numpy.float32).  Implicit conversion to integers using __int__ is deprecated, and may be removed in a future version of Python.\n",
      "  start_time = datetime.datetime.utcfromtimestamp(start_epoch)\n",
      "/g/data/en0/jss548/miniconda3/envs/radar-dev/lib/python3.8/site-packages/sklearn/base.py:329: UserWarning: Trying to unpickle estimator GaussianMixture from version 0.21.3 when using version 0.23.1. This might lead to breaking code or invalid results. Use at your own risk.\n",
      "  warnings.warn(\n"
     ]
    },
    {
     "name": "stdout",
     "output_type": "stream",
     "text": [
      "/g/data/hj10/admin/opol/level_1/in2019_v01/20190124/9776HUB-PPIVol-20190124-215332-0000.hdf\n"
     ]
    },
    {
     "name": "stderr",
     "output_type": "stream",
     "text": [
      "/g/data/en0/jss548/miniconda3/envs/radar-dev/lib/python3.8/site-packages/pyart/aux_io/odim_h5.py:295: DeprecationWarning: an integer is required (got type numpy.float32).  Implicit conversion to integers using __int__ is deprecated, and may be removed in a future version of Python.\n",
      "  start_time = datetime.datetime.utcfromtimestamp(start_epoch)\n",
      "/g/data/en0/jss548/miniconda3/envs/radar-dev/lib/python3.8/site-packages/sklearn/base.py:329: UserWarning: Trying to unpickle estimator GaussianMixture from version 0.21.3 when using version 0.23.1. This might lead to breaking code or invalid results. Use at your own risk.\n",
      "  warnings.warn(\n"
     ]
    },
    {
     "name": "stdout",
     "output_type": "stream",
     "text": [
      "/g/data/hj10/admin/opol/level_1/in2019_v01/20190124/9776HUB-PPIVol-20190124-215446-0000.hdf\n"
     ]
    },
    {
     "name": "stderr",
     "output_type": "stream",
     "text": [
      "/g/data/en0/jss548/miniconda3/envs/radar-dev/lib/python3.8/site-packages/pyart/aux_io/odim_h5.py:295: DeprecationWarning: an integer is required (got type numpy.float32).  Implicit conversion to integers using __int__ is deprecated, and may be removed in a future version of Python.\n",
      "  start_time = datetime.datetime.utcfromtimestamp(start_epoch)\n",
      "/g/data/en0/jss548/miniconda3/envs/radar-dev/lib/python3.8/site-packages/sklearn/base.py:329: UserWarning: Trying to unpickle estimator GaussianMixture from version 0.21.3 when using version 0.23.1. This might lead to breaking code or invalid results. Use at your own risk.\n",
      "  warnings.warn(\n"
     ]
    },
    {
     "name": "stdout",
     "output_type": "stream",
     "text": [
      "/g/data/hj10/admin/opol/level_1/in2019_v01/20190124/9776HUB-PPIVol-20190124-220018-0000.hdf\n"
     ]
    },
    {
     "name": "stderr",
     "output_type": "stream",
     "text": [
      "/g/data/en0/jss548/miniconda3/envs/radar-dev/lib/python3.8/site-packages/pyart/aux_io/odim_h5.py:295: DeprecationWarning: an integer is required (got type numpy.float32).  Implicit conversion to integers using __int__ is deprecated, and may be removed in a future version of Python.\n",
      "  start_time = datetime.datetime.utcfromtimestamp(start_epoch)\n",
      "/g/data/en0/jss548/miniconda3/envs/radar-dev/lib/python3.8/site-packages/sklearn/base.py:329: UserWarning: Trying to unpickle estimator GaussianMixture from version 0.21.3 when using version 0.23.1. This might lead to breaking code or invalid results. Use at your own risk.\n",
      "  warnings.warn(\n"
     ]
    },
    {
     "name": "stdout",
     "output_type": "stream",
     "text": [
      "/g/data/hj10/admin/opol/level_1/in2019_v01/20190124/9776HUB-PPIVol-20190124-220133-0000.hdf\n"
     ]
    },
    {
     "name": "stderr",
     "output_type": "stream",
     "text": [
      "/g/data/en0/jss548/miniconda3/envs/radar-dev/lib/python3.8/site-packages/pyart/aux_io/odim_h5.py:295: DeprecationWarning: an integer is required (got type numpy.float32).  Implicit conversion to integers using __int__ is deprecated, and may be removed in a future version of Python.\n",
      "  start_time = datetime.datetime.utcfromtimestamp(start_epoch)\n",
      "/g/data/en0/jss548/miniconda3/envs/radar-dev/lib/python3.8/site-packages/sklearn/base.py:329: UserWarning: Trying to unpickle estimator GaussianMixture from version 0.21.3 when using version 0.23.1. This might lead to breaking code or invalid results. Use at your own risk.\n",
      "  warnings.warn(\n"
     ]
    },
    {
     "name": "stdout",
     "output_type": "stream",
     "text": [
      "/g/data/hj10/admin/opol/level_1/in2019_v01/20190124/9776HUB-PPIVol-20190124-220705-0000.hdf\n"
     ]
    },
    {
     "name": "stderr",
     "output_type": "stream",
     "text": [
      "/g/data/en0/jss548/miniconda3/envs/radar-dev/lib/python3.8/site-packages/pyart/aux_io/odim_h5.py:295: DeprecationWarning: an integer is required (got type numpy.float32).  Implicit conversion to integers using __int__ is deprecated, and may be removed in a future version of Python.\n",
      "  start_time = datetime.datetime.utcfromtimestamp(start_epoch)\n",
      "/g/data/en0/jss548/miniconda3/envs/radar-dev/lib/python3.8/site-packages/sklearn/base.py:329: UserWarning: Trying to unpickle estimator GaussianMixture from version 0.21.3 when using version 0.23.1. This might lead to breaking code or invalid results. Use at your own risk.\n",
      "  warnings.warn(\n"
     ]
    },
    {
     "name": "stdout",
     "output_type": "stream",
     "text": [
      "/g/data/hj10/admin/opol/level_1/in2019_v01/20190124/9776HUB-PPIVol-20190124-220819-0000.hdf\n"
     ]
    },
    {
     "name": "stderr",
     "output_type": "stream",
     "text": [
      "/g/data/en0/jss548/miniconda3/envs/radar-dev/lib/python3.8/site-packages/pyart/aux_io/odim_h5.py:295: DeprecationWarning: an integer is required (got type numpy.float32).  Implicit conversion to integers using __int__ is deprecated, and may be removed in a future version of Python.\n",
      "  start_time = datetime.datetime.utcfromtimestamp(start_epoch)\n",
      "/g/data/en0/jss548/miniconda3/envs/radar-dev/lib/python3.8/site-packages/sklearn/base.py:329: UserWarning: Trying to unpickle estimator GaussianMixture from version 0.21.3 when using version 0.23.1. This might lead to breaking code or invalid results. Use at your own risk.\n",
      "  warnings.warn(\n"
     ]
    },
    {
     "name": "stdout",
     "output_type": "stream",
     "text": [
      "/g/data/hj10/admin/opol/level_1/in2019_v01/20190124/9776HUB-PPIVol-20190124-221351-0000.hdf\n"
     ]
    },
    {
     "name": "stderr",
     "output_type": "stream",
     "text": [
      "/g/data/en0/jss548/miniconda3/envs/radar-dev/lib/python3.8/site-packages/pyart/aux_io/odim_h5.py:295: DeprecationWarning: an integer is required (got type numpy.float32).  Implicit conversion to integers using __int__ is deprecated, and may be removed in a future version of Python.\n",
      "  start_time = datetime.datetime.utcfromtimestamp(start_epoch)\n",
      "/g/data/en0/jss548/miniconda3/envs/radar-dev/lib/python3.8/site-packages/sklearn/base.py:329: UserWarning: Trying to unpickle estimator GaussianMixture from version 0.21.3 when using version 0.23.1. This might lead to breaking code or invalid results. Use at your own risk.\n",
      "  warnings.warn(\n"
     ]
    },
    {
     "name": "stdout",
     "output_type": "stream",
     "text": [
      "/g/data/hj10/admin/opol/level_1/in2019_v01/20190124/9776HUB-PPIVol-20190124-221506-0000.hdf\n"
     ]
    },
    {
     "name": "stderr",
     "output_type": "stream",
     "text": [
      "/g/data/en0/jss548/miniconda3/envs/radar-dev/lib/python3.8/site-packages/pyart/aux_io/odim_h5.py:295: DeprecationWarning: an integer is required (got type numpy.float32).  Implicit conversion to integers using __int__ is deprecated, and may be removed in a future version of Python.\n",
      "  start_time = datetime.datetime.utcfromtimestamp(start_epoch)\n",
      "/g/data/en0/jss548/miniconda3/envs/radar-dev/lib/python3.8/site-packages/sklearn/base.py:329: UserWarning: Trying to unpickle estimator GaussianMixture from version 0.21.3 when using version 0.23.1. This might lead to breaking code or invalid results. Use at your own risk.\n",
      "  warnings.warn(\n"
     ]
    },
    {
     "name": "stdout",
     "output_type": "stream",
     "text": [
      "/g/data/hj10/admin/opol/level_1/in2019_v01/20190124/9776HUB-PPIVol-20190124-222038-0000.hdf\n"
     ]
    },
    {
     "name": "stderr",
     "output_type": "stream",
     "text": [
      "/g/data/en0/jss548/miniconda3/envs/radar-dev/lib/python3.8/site-packages/pyart/aux_io/odim_h5.py:295: DeprecationWarning: an integer is required (got type numpy.float32).  Implicit conversion to integers using __int__ is deprecated, and may be removed in a future version of Python.\n",
      "  start_time = datetime.datetime.utcfromtimestamp(start_epoch)\n",
      "/g/data/en0/jss548/miniconda3/envs/radar-dev/lib/python3.8/site-packages/sklearn/base.py:329: UserWarning: Trying to unpickle estimator GaussianMixture from version 0.21.3 when using version 0.23.1. This might lead to breaking code or invalid results. Use at your own risk.\n",
      "  warnings.warn(\n"
     ]
    },
    {
     "name": "stdout",
     "output_type": "stream",
     "text": [
      "/g/data/hj10/admin/opol/level_1/in2019_v01/20190124/9776HUB-PPIVol-20190124-222152-0000.hdf\n"
     ]
    },
    {
     "name": "stderr",
     "output_type": "stream",
     "text": [
      "/g/data/en0/jss548/miniconda3/envs/radar-dev/lib/python3.8/site-packages/pyart/aux_io/odim_h5.py:295: DeprecationWarning: an integer is required (got type numpy.float32).  Implicit conversion to integers using __int__ is deprecated, and may be removed in a future version of Python.\n",
      "  start_time = datetime.datetime.utcfromtimestamp(start_epoch)\n",
      "/g/data/en0/jss548/miniconda3/envs/radar-dev/lib/python3.8/site-packages/sklearn/base.py:329: UserWarning: Trying to unpickle estimator GaussianMixture from version 0.21.3 when using version 0.23.1. This might lead to breaking code or invalid results. Use at your own risk.\n",
      "  warnings.warn(\n"
     ]
    },
    {
     "name": "stdout",
     "output_type": "stream",
     "text": [
      "/g/data/hj10/admin/opol/level_1/in2019_v01/20190124/9776HUB-PPIVol-20190124-222724-0000.hdf\n"
     ]
    },
    {
     "name": "stderr",
     "output_type": "stream",
     "text": [
      "/g/data/en0/jss548/miniconda3/envs/radar-dev/lib/python3.8/site-packages/pyart/aux_io/odim_h5.py:295: DeprecationWarning: an integer is required (got type numpy.float32).  Implicit conversion to integers using __int__ is deprecated, and may be removed in a future version of Python.\n",
      "  start_time = datetime.datetime.utcfromtimestamp(start_epoch)\n",
      "/g/data/en0/jss548/miniconda3/envs/radar-dev/lib/python3.8/site-packages/sklearn/base.py:329: UserWarning: Trying to unpickle estimator GaussianMixture from version 0.21.3 when using version 0.23.1. This might lead to breaking code or invalid results. Use at your own risk.\n",
      "  warnings.warn(\n"
     ]
    },
    {
     "name": "stdout",
     "output_type": "stream",
     "text": [
      "/g/data/hj10/admin/opol/level_1/in2019_v01/20190124/9776HUB-PPIVol-20190124-222839-0000.hdf\n"
     ]
    },
    {
     "name": "stderr",
     "output_type": "stream",
     "text": [
      "/g/data/en0/jss548/miniconda3/envs/radar-dev/lib/python3.8/site-packages/pyart/aux_io/odim_h5.py:295: DeprecationWarning: an integer is required (got type numpy.float32).  Implicit conversion to integers using __int__ is deprecated, and may be removed in a future version of Python.\n",
      "  start_time = datetime.datetime.utcfromtimestamp(start_epoch)\n",
      "/g/data/en0/jss548/miniconda3/envs/radar-dev/lib/python3.8/site-packages/sklearn/base.py:329: UserWarning: Trying to unpickle estimator GaussianMixture from version 0.21.3 when using version 0.23.1. This might lead to breaking code or invalid results. Use at your own risk.\n",
      "  warnings.warn(\n"
     ]
    },
    {
     "name": "stdout",
     "output_type": "stream",
     "text": [
      "/g/data/hj10/admin/opol/level_1/in2019_v01/20190124/9776HUB-PPIVol-20190124-223410-0000.hdf\n"
     ]
    },
    {
     "name": "stderr",
     "output_type": "stream",
     "text": [
      "/g/data/en0/jss548/miniconda3/envs/radar-dev/lib/python3.8/site-packages/pyart/aux_io/odim_h5.py:295: DeprecationWarning: an integer is required (got type numpy.float32).  Implicit conversion to integers using __int__ is deprecated, and may be removed in a future version of Python.\n",
      "  start_time = datetime.datetime.utcfromtimestamp(start_epoch)\n",
      "/g/data/en0/jss548/miniconda3/envs/radar-dev/lib/python3.8/site-packages/sklearn/base.py:329: UserWarning: Trying to unpickle estimator GaussianMixture from version 0.21.3 when using version 0.23.1. This might lead to breaking code or invalid results. Use at your own risk.\n",
      "  warnings.warn(\n"
     ]
    },
    {
     "name": "stdout",
     "output_type": "stream",
     "text": [
      "/g/data/hj10/admin/opol/level_1/in2019_v01/20190124/9776HUB-PPIVol-20190124-223525-0000.hdf\n"
     ]
    },
    {
     "name": "stderr",
     "output_type": "stream",
     "text": [
      "/g/data/en0/jss548/miniconda3/envs/radar-dev/lib/python3.8/site-packages/pyart/aux_io/odim_h5.py:295: DeprecationWarning: an integer is required (got type numpy.float32).  Implicit conversion to integers using __int__ is deprecated, and may be removed in a future version of Python.\n",
      "  start_time = datetime.datetime.utcfromtimestamp(start_epoch)\n",
      "/g/data/en0/jss548/miniconda3/envs/radar-dev/lib/python3.8/site-packages/sklearn/base.py:329: UserWarning: Trying to unpickle estimator GaussianMixture from version 0.21.3 when using version 0.23.1. This might lead to breaking code or invalid results. Use at your own risk.\n",
      "  warnings.warn(\n"
     ]
    },
    {
     "name": "stdout",
     "output_type": "stream",
     "text": [
      "/g/data/hj10/admin/opol/level_1/in2019_v01/20190124/9776HUB-PPIVol-20190124-224057-0000.hdf\n"
     ]
    },
    {
     "name": "stderr",
     "output_type": "stream",
     "text": [
      "/g/data/en0/jss548/miniconda3/envs/radar-dev/lib/python3.8/site-packages/pyart/aux_io/odim_h5.py:295: DeprecationWarning: an integer is required (got type numpy.float32).  Implicit conversion to integers using __int__ is deprecated, and may be removed in a future version of Python.\n",
      "  start_time = datetime.datetime.utcfromtimestamp(start_epoch)\n",
      "/g/data/en0/jss548/miniconda3/envs/radar-dev/lib/python3.8/site-packages/sklearn/base.py:329: UserWarning: Trying to unpickle estimator GaussianMixture from version 0.21.3 when using version 0.23.1. This might lead to breaking code or invalid results. Use at your own risk.\n",
      "  warnings.warn(\n"
     ]
    },
    {
     "name": "stdout",
     "output_type": "stream",
     "text": [
      "/g/data/hj10/admin/opol/level_1/in2019_v01/20190124/9776HUB-PPIVol-20190124-224212-0000.hdf\n"
     ]
    },
    {
     "name": "stderr",
     "output_type": "stream",
     "text": [
      "/g/data/en0/jss548/miniconda3/envs/radar-dev/lib/python3.8/site-packages/pyart/aux_io/odim_h5.py:295: DeprecationWarning: an integer is required (got type numpy.float32).  Implicit conversion to integers using __int__ is deprecated, and may be removed in a future version of Python.\n",
      "  start_time = datetime.datetime.utcfromtimestamp(start_epoch)\n",
      "/g/data/en0/jss548/miniconda3/envs/radar-dev/lib/python3.8/site-packages/sklearn/base.py:329: UserWarning: Trying to unpickle estimator GaussianMixture from version 0.21.3 when using version 0.23.1. This might lead to breaking code or invalid results. Use at your own risk.\n",
      "  warnings.warn(\n"
     ]
    },
    {
     "name": "stdout",
     "output_type": "stream",
     "text": [
      "/g/data/hj10/admin/opol/level_1/in2019_v01/20190124/9776HUB-PPIVol-20190124-224743-0000.hdf\n"
     ]
    },
    {
     "name": "stderr",
     "output_type": "stream",
     "text": [
      "/g/data/en0/jss548/miniconda3/envs/radar-dev/lib/python3.8/site-packages/pyart/aux_io/odim_h5.py:295: DeprecationWarning: an integer is required (got type numpy.float32).  Implicit conversion to integers using __int__ is deprecated, and may be removed in a future version of Python.\n",
      "  start_time = datetime.datetime.utcfromtimestamp(start_epoch)\n",
      "/g/data/en0/jss548/miniconda3/envs/radar-dev/lib/python3.8/site-packages/sklearn/base.py:329: UserWarning: Trying to unpickle estimator GaussianMixture from version 0.21.3 when using version 0.23.1. This might lead to breaking code or invalid results. Use at your own risk.\n",
      "  warnings.warn(\n"
     ]
    },
    {
     "name": "stdout",
     "output_type": "stream",
     "text": [
      "/g/data/hj10/admin/opol/level_1/in2019_v01/20190124/9776HUB-PPIVol-20190124-224858-0000.hdf\n"
     ]
    },
    {
     "name": "stderr",
     "output_type": "stream",
     "text": [
      "/g/data/en0/jss548/miniconda3/envs/radar-dev/lib/python3.8/site-packages/pyart/aux_io/odim_h5.py:295: DeprecationWarning: an integer is required (got type numpy.float32).  Implicit conversion to integers using __int__ is deprecated, and may be removed in a future version of Python.\n",
      "  start_time = datetime.datetime.utcfromtimestamp(start_epoch)\n",
      "/g/data/en0/jss548/miniconda3/envs/radar-dev/lib/python3.8/site-packages/sklearn/base.py:329: UserWarning: Trying to unpickle estimator GaussianMixture from version 0.21.3 when using version 0.23.1. This might lead to breaking code or invalid results. Use at your own risk.\n",
      "  warnings.warn(\n"
     ]
    },
    {
     "name": "stdout",
     "output_type": "stream",
     "text": [
      "/g/data/hj10/admin/opol/level_1/in2019_v01/20190124/9776HUB-PPIVol-20190124-225430-0000.hdf\n"
     ]
    },
    {
     "name": "stderr",
     "output_type": "stream",
     "text": [
      "/g/data/en0/jss548/miniconda3/envs/radar-dev/lib/python3.8/site-packages/pyart/aux_io/odim_h5.py:295: DeprecationWarning: an integer is required (got type numpy.float32).  Implicit conversion to integers using __int__ is deprecated, and may be removed in a future version of Python.\n",
      "  start_time = datetime.datetime.utcfromtimestamp(start_epoch)\n",
      "/g/data/en0/jss548/miniconda3/envs/radar-dev/lib/python3.8/site-packages/sklearn/base.py:329: UserWarning: Trying to unpickle estimator GaussianMixture from version 0.21.3 when using version 0.23.1. This might lead to breaking code or invalid results. Use at your own risk.\n",
      "  warnings.warn(\n"
     ]
    },
    {
     "name": "stdout",
     "output_type": "stream",
     "text": [
      "/g/data/hj10/admin/opol/level_1/in2019_v01/20190124/9776HUB-PPIVol-20190124-225544-0000.hdf\n"
     ]
    },
    {
     "name": "stderr",
     "output_type": "stream",
     "text": [
      "/g/data/en0/jss548/miniconda3/envs/radar-dev/lib/python3.8/site-packages/pyart/aux_io/odim_h5.py:295: DeprecationWarning: an integer is required (got type numpy.float32).  Implicit conversion to integers using __int__ is deprecated, and may be removed in a future version of Python.\n",
      "  start_time = datetime.datetime.utcfromtimestamp(start_epoch)\n",
      "/g/data/en0/jss548/miniconda3/envs/radar-dev/lib/python3.8/site-packages/sklearn/base.py:329: UserWarning: Trying to unpickle estimator GaussianMixture from version 0.21.3 when using version 0.23.1. This might lead to breaking code or invalid results. Use at your own risk.\n",
      "  warnings.warn(\n"
     ]
    },
    {
     "name": "stdout",
     "output_type": "stream",
     "text": [
      "/g/data/hj10/admin/opol/level_1/in2019_v01/20190124/9776HUB-PPIVol-20190124-230116-0000.hdf\n"
     ]
    },
    {
     "name": "stderr",
     "output_type": "stream",
     "text": [
      "/g/data/en0/jss548/miniconda3/envs/radar-dev/lib/python3.8/site-packages/pyart/aux_io/odim_h5.py:295: DeprecationWarning: an integer is required (got type numpy.float32).  Implicit conversion to integers using __int__ is deprecated, and may be removed in a future version of Python.\n",
      "  start_time = datetime.datetime.utcfromtimestamp(start_epoch)\n",
      "/g/data/en0/jss548/miniconda3/envs/radar-dev/lib/python3.8/site-packages/sklearn/base.py:329: UserWarning: Trying to unpickle estimator GaussianMixture from version 0.21.3 when using version 0.23.1. This might lead to breaking code or invalid results. Use at your own risk.\n",
      "  warnings.warn(\n"
     ]
    },
    {
     "name": "stdout",
     "output_type": "stream",
     "text": [
      "/g/data/hj10/admin/opol/level_1/in2019_v01/20190124/9776HUB-PPIVol-20190124-230231-0000.hdf\n"
     ]
    },
    {
     "name": "stderr",
     "output_type": "stream",
     "text": [
      "/g/data/en0/jss548/miniconda3/envs/radar-dev/lib/python3.8/site-packages/pyart/aux_io/odim_h5.py:295: DeprecationWarning: an integer is required (got type numpy.float32).  Implicit conversion to integers using __int__ is deprecated, and may be removed in a future version of Python.\n",
      "  start_time = datetime.datetime.utcfromtimestamp(start_epoch)\n",
      "/g/data/en0/jss548/miniconda3/envs/radar-dev/lib/python3.8/site-packages/sklearn/base.py:329: UserWarning: Trying to unpickle estimator GaussianMixture from version 0.21.3 when using version 0.23.1. This might lead to breaking code or invalid results. Use at your own risk.\n",
      "  warnings.warn(\n"
     ]
    },
    {
     "name": "stdout",
     "output_type": "stream",
     "text": [
      "/g/data/hj10/admin/opol/level_1/in2019_v01/20190124/9776HUB-PPIVol-20190124-230803-0000.hdf\n"
     ]
    },
    {
     "name": "stderr",
     "output_type": "stream",
     "text": [
      "/g/data/en0/jss548/miniconda3/envs/radar-dev/lib/python3.8/site-packages/pyart/aux_io/odim_h5.py:295: DeprecationWarning: an integer is required (got type numpy.float32).  Implicit conversion to integers using __int__ is deprecated, and may be removed in a future version of Python.\n",
      "  start_time = datetime.datetime.utcfromtimestamp(start_epoch)\n",
      "/g/data/en0/jss548/miniconda3/envs/radar-dev/lib/python3.8/site-packages/sklearn/base.py:329: UserWarning: Trying to unpickle estimator GaussianMixture from version 0.21.3 when using version 0.23.1. This might lead to breaking code or invalid results. Use at your own risk.\n",
      "  warnings.warn(\n"
     ]
    },
    {
     "name": "stdout",
     "output_type": "stream",
     "text": [
      "/g/data/hj10/admin/opol/level_1/in2019_v01/20190124/9776HUB-PPIVol-20190124-230917-0000.hdf\n"
     ]
    },
    {
     "name": "stderr",
     "output_type": "stream",
     "text": [
      "/g/data/en0/jss548/miniconda3/envs/radar-dev/lib/python3.8/site-packages/pyart/aux_io/odim_h5.py:295: DeprecationWarning: an integer is required (got type numpy.float32).  Implicit conversion to integers using __int__ is deprecated, and may be removed in a future version of Python.\n",
      "  start_time = datetime.datetime.utcfromtimestamp(start_epoch)\n",
      "/g/data/en0/jss548/miniconda3/envs/radar-dev/lib/python3.8/site-packages/sklearn/base.py:329: UserWarning: Trying to unpickle estimator GaussianMixture from version 0.21.3 when using version 0.23.1. This might lead to breaking code or invalid results. Use at your own risk.\n",
      "  warnings.warn(\n"
     ]
    },
    {
     "name": "stdout",
     "output_type": "stream",
     "text": [
      "/g/data/hj10/admin/opol/level_1/in2019_v01/20190124/9776HUB-PPIVol-20190124-231449-0000.hdf\n"
     ]
    },
    {
     "name": "stderr",
     "output_type": "stream",
     "text": [
      "/g/data/en0/jss548/miniconda3/envs/radar-dev/lib/python3.8/site-packages/pyart/aux_io/odim_h5.py:295: DeprecationWarning: an integer is required (got type numpy.float32).  Implicit conversion to integers using __int__ is deprecated, and may be removed in a future version of Python.\n",
      "  start_time = datetime.datetime.utcfromtimestamp(start_epoch)\n",
      "/g/data/en0/jss548/miniconda3/envs/radar-dev/lib/python3.8/site-packages/sklearn/base.py:329: UserWarning: Trying to unpickle estimator GaussianMixture from version 0.21.3 when using version 0.23.1. This might lead to breaking code or invalid results. Use at your own risk.\n",
      "  warnings.warn(\n"
     ]
    },
    {
     "name": "stdout",
     "output_type": "stream",
     "text": [
      "/g/data/hj10/admin/opol/level_1/in2019_v01/20190124/9776HUB-PPIVol-20190124-231604-0000.hdf\n"
     ]
    },
    {
     "name": "stderr",
     "output_type": "stream",
     "text": [
      "/g/data/en0/jss548/miniconda3/envs/radar-dev/lib/python3.8/site-packages/pyart/aux_io/odim_h5.py:295: DeprecationWarning: an integer is required (got type numpy.float32).  Implicit conversion to integers using __int__ is deprecated, and may be removed in a future version of Python.\n",
      "  start_time = datetime.datetime.utcfromtimestamp(start_epoch)\n",
      "/g/data/en0/jss548/miniconda3/envs/radar-dev/lib/python3.8/site-packages/sklearn/base.py:329: UserWarning: Trying to unpickle estimator GaussianMixture from version 0.21.3 when using version 0.23.1. This might lead to breaking code or invalid results. Use at your own risk.\n",
      "  warnings.warn(\n"
     ]
    },
    {
     "name": "stdout",
     "output_type": "stream",
     "text": [
      "/g/data/hj10/admin/opol/level_1/in2019_v01/20190124/9776HUB-PPIVol-20190124-232136-0000.hdf\n"
     ]
    },
    {
     "name": "stderr",
     "output_type": "stream",
     "text": [
      "/g/data/en0/jss548/miniconda3/envs/radar-dev/lib/python3.8/site-packages/pyart/aux_io/odim_h5.py:295: DeprecationWarning: an integer is required (got type numpy.float32).  Implicit conversion to integers using __int__ is deprecated, and may be removed in a future version of Python.\n",
      "  start_time = datetime.datetime.utcfromtimestamp(start_epoch)\n",
      "/g/data/en0/jss548/miniconda3/envs/radar-dev/lib/python3.8/site-packages/sklearn/base.py:329: UserWarning: Trying to unpickle estimator GaussianMixture from version 0.21.3 when using version 0.23.1. This might lead to breaking code or invalid results. Use at your own risk.\n",
      "  warnings.warn(\n"
     ]
    },
    {
     "name": "stdout",
     "output_type": "stream",
     "text": [
      "/g/data/hj10/admin/opol/level_1/in2019_v01/20190124/9776HUB-PPIVol-20190124-232250-0000.hdf\n"
     ]
    },
    {
     "name": "stderr",
     "output_type": "stream",
     "text": [
      "/g/data/en0/jss548/miniconda3/envs/radar-dev/lib/python3.8/site-packages/pyart/aux_io/odim_h5.py:295: DeprecationWarning: an integer is required (got type numpy.float32).  Implicit conversion to integers using __int__ is deprecated, and may be removed in a future version of Python.\n",
      "  start_time = datetime.datetime.utcfromtimestamp(start_epoch)\n",
      "/g/data/en0/jss548/miniconda3/envs/radar-dev/lib/python3.8/site-packages/sklearn/base.py:329: UserWarning: Trying to unpickle estimator GaussianMixture from version 0.21.3 when using version 0.23.1. This might lead to breaking code or invalid results. Use at your own risk.\n",
      "  warnings.warn(\n"
     ]
    },
    {
     "name": "stdout",
     "output_type": "stream",
     "text": [
      "/g/data/hj10/admin/opol/level_1/in2019_v01/20190124/9776HUB-PPIVol-20190124-232822-0000.hdf\n"
     ]
    },
    {
     "name": "stderr",
     "output_type": "stream",
     "text": [
      "/g/data/en0/jss548/miniconda3/envs/radar-dev/lib/python3.8/site-packages/pyart/aux_io/odim_h5.py:295: DeprecationWarning: an integer is required (got type numpy.float32).  Implicit conversion to integers using __int__ is deprecated, and may be removed in a future version of Python.\n",
      "  start_time = datetime.datetime.utcfromtimestamp(start_epoch)\n",
      "/g/data/en0/jss548/miniconda3/envs/radar-dev/lib/python3.8/site-packages/sklearn/base.py:329: UserWarning: Trying to unpickle estimator GaussianMixture from version 0.21.3 when using version 0.23.1. This might lead to breaking code or invalid results. Use at your own risk.\n",
      "  warnings.warn(\n"
     ]
    },
    {
     "name": "stdout",
     "output_type": "stream",
     "text": [
      "/g/data/hj10/admin/opol/level_1/in2019_v01/20190124/9776HUB-PPIVol-20190124-232937-0000.hdf\n"
     ]
    },
    {
     "name": "stderr",
     "output_type": "stream",
     "text": [
      "/g/data/en0/jss548/miniconda3/envs/radar-dev/lib/python3.8/site-packages/pyart/aux_io/odim_h5.py:295: DeprecationWarning: an integer is required (got type numpy.float32).  Implicit conversion to integers using __int__ is deprecated, and may be removed in a future version of Python.\n",
      "  start_time = datetime.datetime.utcfromtimestamp(start_epoch)\n",
      "/g/data/en0/jss548/miniconda3/envs/radar-dev/lib/python3.8/site-packages/sklearn/base.py:329: UserWarning: Trying to unpickle estimator GaussianMixture from version 0.21.3 when using version 0.23.1. This might lead to breaking code or invalid results. Use at your own risk.\n",
      "  warnings.warn(\n"
     ]
    },
    {
     "name": "stdout",
     "output_type": "stream",
     "text": [
      "/g/data/hj10/admin/opol/level_1/in2019_v01/20190124/9776HUB-PPIVol-20190124-233508-0000.hdf\n"
     ]
    },
    {
     "name": "stderr",
     "output_type": "stream",
     "text": [
      "/g/data/en0/jss548/miniconda3/envs/radar-dev/lib/python3.8/site-packages/pyart/aux_io/odim_h5.py:295: DeprecationWarning: an integer is required (got type numpy.float32).  Implicit conversion to integers using __int__ is deprecated, and may be removed in a future version of Python.\n",
      "  start_time = datetime.datetime.utcfromtimestamp(start_epoch)\n",
      "/g/data/en0/jss548/miniconda3/envs/radar-dev/lib/python3.8/site-packages/sklearn/base.py:329: UserWarning: Trying to unpickle estimator GaussianMixture from version 0.21.3 when using version 0.23.1. This might lead to breaking code or invalid results. Use at your own risk.\n",
      "  warnings.warn(\n"
     ]
    },
    {
     "name": "stdout",
     "output_type": "stream",
     "text": [
      "/g/data/hj10/admin/opol/level_1/in2019_v01/20190124/9776HUB-PPIVol-20190124-233623-0000.hdf\n"
     ]
    },
    {
     "name": "stderr",
     "output_type": "stream",
     "text": [
      "/g/data/en0/jss548/miniconda3/envs/radar-dev/lib/python3.8/site-packages/pyart/aux_io/odim_h5.py:295: DeprecationWarning: an integer is required (got type numpy.float32).  Implicit conversion to integers using __int__ is deprecated, and may be removed in a future version of Python.\n",
      "  start_time = datetime.datetime.utcfromtimestamp(start_epoch)\n",
      "/g/data/en0/jss548/miniconda3/envs/radar-dev/lib/python3.8/site-packages/sklearn/base.py:329: UserWarning: Trying to unpickle estimator GaussianMixture from version 0.21.3 when using version 0.23.1. This might lead to breaking code or invalid results. Use at your own risk.\n",
      "  warnings.warn(\n"
     ]
    },
    {
     "name": "stdout",
     "output_type": "stream",
     "text": [
      "/g/data/hj10/admin/opol/level_1/in2019_v01/20190124/9776HUB-PPIVol-20190124-234155-0000.hdf\n"
     ]
    },
    {
     "name": "stderr",
     "output_type": "stream",
     "text": [
      "/g/data/en0/jss548/miniconda3/envs/radar-dev/lib/python3.8/site-packages/pyart/aux_io/odim_h5.py:295: DeprecationWarning: an integer is required (got type numpy.float32).  Implicit conversion to integers using __int__ is deprecated, and may be removed in a future version of Python.\n",
      "  start_time = datetime.datetime.utcfromtimestamp(start_epoch)\n",
      "/g/data/en0/jss548/miniconda3/envs/radar-dev/lib/python3.8/site-packages/sklearn/base.py:329: UserWarning: Trying to unpickle estimator GaussianMixture from version 0.21.3 when using version 0.23.1. This might lead to breaking code or invalid results. Use at your own risk.\n",
      "  warnings.warn(\n"
     ]
    },
    {
     "name": "stdout",
     "output_type": "stream",
     "text": [
      "/g/data/hj10/admin/opol/level_1/in2019_v01/20190124/9776HUB-PPIVol-20190124-234310-0000.hdf\n"
     ]
    },
    {
     "name": "stderr",
     "output_type": "stream",
     "text": [
      "/g/data/en0/jss548/miniconda3/envs/radar-dev/lib/python3.8/site-packages/pyart/aux_io/odim_h5.py:295: DeprecationWarning: an integer is required (got type numpy.float32).  Implicit conversion to integers using __int__ is deprecated, and may be removed in a future version of Python.\n",
      "  start_time = datetime.datetime.utcfromtimestamp(start_epoch)\n",
      "/g/data/en0/jss548/miniconda3/envs/radar-dev/lib/python3.8/site-packages/sklearn/base.py:329: UserWarning: Trying to unpickle estimator GaussianMixture from version 0.21.3 when using version 0.23.1. This might lead to breaking code or invalid results. Use at your own risk.\n",
      "  warnings.warn(\n"
     ]
    },
    {
     "name": "stdout",
     "output_type": "stream",
     "text": [
      "/g/data/hj10/admin/opol/level_1/in2019_v01/20190124/9776HUB-PPIVol-20190124-234841-0000.hdf\n"
     ]
    },
    {
     "name": "stderr",
     "output_type": "stream",
     "text": [
      "/g/data/en0/jss548/miniconda3/envs/radar-dev/lib/python3.8/site-packages/pyart/aux_io/odim_h5.py:295: DeprecationWarning: an integer is required (got type numpy.float32).  Implicit conversion to integers using __int__ is deprecated, and may be removed in a future version of Python.\n",
      "  start_time = datetime.datetime.utcfromtimestamp(start_epoch)\n",
      "/g/data/en0/jss548/miniconda3/envs/radar-dev/lib/python3.8/site-packages/sklearn/base.py:329: UserWarning: Trying to unpickle estimator GaussianMixture from version 0.21.3 when using version 0.23.1. This might lead to breaking code or invalid results. Use at your own risk.\n",
      "  warnings.warn(\n"
     ]
    },
    {
     "name": "stdout",
     "output_type": "stream",
     "text": [
      "/g/data/hj10/admin/opol/level_1/in2019_v01/20190124/9776HUB-PPIVol-20190124-234956-0000.hdf\n"
     ]
    },
    {
     "name": "stderr",
     "output_type": "stream",
     "text": [
      "/g/data/en0/jss548/miniconda3/envs/radar-dev/lib/python3.8/site-packages/pyart/aux_io/odim_h5.py:295: DeprecationWarning: an integer is required (got type numpy.float32).  Implicit conversion to integers using __int__ is deprecated, and may be removed in a future version of Python.\n",
      "  start_time = datetime.datetime.utcfromtimestamp(start_epoch)\n",
      "/g/data/en0/jss548/miniconda3/envs/radar-dev/lib/python3.8/site-packages/sklearn/base.py:329: UserWarning: Trying to unpickle estimator GaussianMixture from version 0.21.3 when using version 0.23.1. This might lead to breaking code or invalid results. Use at your own risk.\n",
      "  warnings.warn(\n"
     ]
    },
    {
     "name": "stdout",
     "output_type": "stream",
     "text": [
      "/g/data/hj10/admin/opol/level_1/in2019_v01/20190124/9776HUB-PPIVol-20190124-235528-0000.hdf\n"
     ]
    },
    {
     "name": "stderr",
     "output_type": "stream",
     "text": [
      "/g/data/en0/jss548/miniconda3/envs/radar-dev/lib/python3.8/site-packages/pyart/aux_io/odim_h5.py:295: DeprecationWarning: an integer is required (got type numpy.float32).  Implicit conversion to integers using __int__ is deprecated, and may be removed in a future version of Python.\n",
      "  start_time = datetime.datetime.utcfromtimestamp(start_epoch)\n",
      "/g/data/en0/jss548/miniconda3/envs/radar-dev/lib/python3.8/site-packages/sklearn/base.py:329: UserWarning: Trying to unpickle estimator GaussianMixture from version 0.21.3 when using version 0.23.1. This might lead to breaking code or invalid results. Use at your own risk.\n",
      "  warnings.warn(\n"
     ]
    },
    {
     "name": "stdout",
     "output_type": "stream",
     "text": [
      "/g/data/hj10/admin/opol/level_1/in2019_v01/20190124/9776HUB-PPIVol-20190124-235643-0000.hdf\n"
     ]
    },
    {
     "name": "stderr",
     "output_type": "stream",
     "text": [
      "/g/data/en0/jss548/miniconda3/envs/radar-dev/lib/python3.8/site-packages/pyart/aux_io/odim_h5.py:295: DeprecationWarning: an integer is required (got type numpy.float32).  Implicit conversion to integers using __int__ is deprecated, and may be removed in a future version of Python.\n",
      "  start_time = datetime.datetime.utcfromtimestamp(start_epoch)\n",
      "/g/data/en0/jss548/miniconda3/envs/radar-dev/lib/python3.8/site-packages/sklearn/base.py:329: UserWarning: Trying to unpickle estimator GaussianMixture from version 0.21.3 when using version 0.23.1. This might lead to breaking code or invalid results. Use at your own risk.\n",
      "  warnings.warn(\n"
     ]
    },
    {
     "name": "stdout",
     "output_type": "stream",
     "text": [
      "complete\n"
     ]
    }
   ],
   "source": [
    "# DAILY CONVERSION - See below for select volume conversion\n",
    "\n",
    "dt_str_list = ['20190124']\n",
    "\n",
    "opol_root = '/g/data/hj10/admin/opol/level_1/in2019_v01'\n",
    "out_folder = '/g/data/kl02/jss548/temp/opol_request/'\n",
    "PATH_TO_GM_MODEL = '/home/548/jss548/dev/projects/YMC/GM_model_radar_metechoes.pkl.gz'\n",
    "\n",
    "for dt_str in dt_str_list:\n",
    "    #generate dt, paths and listing\n",
    "    opol_path = opol_root + '/' + dt_str\n",
    "    opol_ffn_list = sorted(glob(opol_path + '/*.hdf'))\n",
    "    \n",
    "    for opol_ffn in opol_ffn_list:\n",
    "        print(opol_ffn)\n",
    "        #add gmm gate filter\n",
    "        radar = pyart.aux_io.read_odim_h5(opol_ffn, file_field_names=True)\n",
    "        gf = get_filter(radar, dbz_name='DBZH',\n",
    "                          zdr_name='ZDR',\n",
    "                          phidp_name='PHIDP',\n",
    "                          width_name='WRAD',\n",
    "                          rhohv_name='RHOHV')\n",
    "        #apply gatefilter to reflectivity field\n",
    "        refl = radar.fields['DBZH']['data']\n",
    "        refl_ma = np.ma.masked_where(gf._gate_excluded, refl)\n",
    "        radar.add_field_like('DBZH', 'DBZH_gmm', refl_ma)\n",
    "\n",
    "    #     #remove other fields\n",
    "    #     for k in list(radar.fields.keys()):\n",
    "    #         if k not in ['DBZH', 'DBZH_gmm']:\n",
    "    #             radar.fields.pop(k)\n",
    "\n",
    "        #save to file\n",
    "        output_ffn = out_folder + os.path.basename(opol_ffn)[:-4] + '.nc'\n",
    "        pyart.io.write_cfradial(output_ffn, radar)\n",
    "    \n",
    "#     #plot\n",
    "#     display = pyart.graph.RadarDisplay(radar)\n",
    "#     display.plot_ppi('DBZH_gmm', 0)\n",
    "#    break\n",
    "\n",
    "print('complete')"
   ]
  },
  {
   "cell_type": "code",
   "execution_count": null,
   "metadata": {},
   "outputs": [],
   "source": [
    "\"\"\"\n",
    "year  m   d   h  m   s      lon         lat \n",
    "2019-01-23 09:12:26   143.87    -57.41    \n",
    "2019-01-24 03:33:06   143.24    -59.44    \n",
    "2019-01-24 08:19:46   142.95    -60.31    \n",
    "2019-01-25 04:16:30   142.08    -62.86  \n",
    "2019-01-25 07:27:11   141.92    -63.28    \n",
    "2019-02-07 00:55:06   145.78    -64.20   \n",
    "2019-02-07 02:30:22   145.69    -64.41  \n",
    "2019-02-08 01:38:06   145.18    -65.47    \n",
    "2019-02-10 23:02:12   152.33    -64.07    \n",
    "2019-02-13 23:35:31   148.11    -65.62    \n",
    "2019-02-15 23:26:05   149.65    -65.22     \n",
    "\"\"\"\n",
    "\n",
    "dt_str_list = ['2019-01-23 09:12:26', '2019-01-24 03:33:06', '2019-01-24 08:19:46',\n",
    "              '2019-01-25 04:16:30', '2019-01-25 07:27:11', '2019-02-07 00:55:06',\n",
    "              '2019-02-07 02:30:22', '2019-02-08 01:38:06', '2019-02-10 23:02:12',\n",
    "              '2019-02-13 23:35:31', '2019-02-15 23:26:05']\n",
    "\n",
    "opol_root = '/g/data/hj10/admin/opol/level_1/in2019_v01'\n",
    "out_folder = '/g/data/kl02/jss548/temp/opol_request/'\n",
    "PATH_TO_GM_MODEL = '/home/548/jss548/dev/projects/YMC/GM_model_radar_metechoes.pkl.gz'\n",
    "\n",
    "for dt_str in dt_str_list:\n",
    "    #generate dt, paths and listing\n",
    "    target_dt = datetime.strptime(dt_str, '%Y-%m-%d %H:%M:%S')\n",
    "    opol_path = opol_root + '/' + target_dt.strftime('%Y%m%d')\n",
    "    opol_ffn_list = sorted(glob(opol_path + '/*.hdf'))\n",
    "    #find nearest file\n",
    "    target_opol_ffn = find_nearest_filename(opol_ffn_list, target_dt)\n",
    "    #add gmm gate filter\n",
    "    radar = pyart.aux_io.read_odim_h5(target_opol_ffn, file_field_names=True)\n",
    "    gf = get_filter(radar, dbz_name='DBZH',\n",
    "                      zdr_name='ZDR',\n",
    "                      phidp_name='PHIDP',\n",
    "                      width_name='WRAD',\n",
    "                      rhohv_name='RHOHV')\n",
    "    #apply gatefilter to reflectivity field\n",
    "    refl = radar.fields['DBZH']['data']\n",
    "    refl_ma = np.ma.masked_where(gf._gate_excluded, refl)\n",
    "    radar.add_field_like('DBZH', 'DBZH_gmm', refl_ma)\n",
    "    \n",
    "#     #remove other fields\n",
    "#     for k in list(radar.fields.keys()):\n",
    "#         if k not in ['DBZH', 'DBZH_gmm']:\n",
    "#             radar.fields.pop(k)\n",
    "    \n",
    "    #save to file\n",
    "    output_ffn = out_folder + os.path.basename(target_opol_ffn)[:-4] + '.nc'\n",
    "    pyart.io.write_cfradial(output_ffn, radar)\n",
    "    \n",
    "#     #plot\n",
    "#     display = pyart.graph.RadarDisplay(radar)\n",
    "#     display.plot_ppi('DBZH_gmm', 0)\n",
    "#    break\n",
    "\n",
    "print('complete')"
   ]
  },
  {
   "cell_type": "code",
   "execution_count": null,
   "metadata": {},
   "outputs": [],
   "source": []
  }
 ],
 "metadata": {
  "kernelspec": {
   "display_name": "Python [conda env:radar-dev] *",
   "language": "python",
   "name": "conda-env-radar-dev-py"
  },
  "language_info": {
   "codemirror_mode": {
    "name": "ipython",
    "version": 3
   },
   "file_extension": ".py",
   "mimetype": "text/x-python",
   "name": "python",
   "nbconvert_exporter": "python",
   "pygments_lexer": "ipython3",
   "version": "3.8.5"
  }
 },
 "nbformat": 4,
 "nbformat_minor": 4
}
