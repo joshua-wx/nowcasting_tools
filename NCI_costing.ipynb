{
 "cells": [
  {
   "cell_type": "code",
   "execution_count": 30,
   "metadata": {},
   "outputs": [
    {
     "data": {
      "text/plain": [
       "'\\nEstimate the charge rate for a queue and job specs. Also checks for multiple nodes\\nsee: https://opus.nci.org.au/display/Help/Queue+Limits for information on queue limits\\n12 May 2021\\n'"
      ]
     },
     "execution_count": 30,
     "metadata": {},
     "output_type": "execute_result"
    }
   ],
   "source": [
    "\"\"\"\n",
    "Estimate the charge rate for a queue and job specs. Also checks for multiple nodes\n",
    "see: https://opus.nci.org.au/display/Help/Queue+Limits for information on queue limits\n",
    "12 May 2021\n",
    "\"\"\""
   ]
  },
  {
   "cell_type": "code",
   "execution_count": 31,
   "metadata": {},
   "outputs": [],
   "source": [
    "def get_costing(queue, request_ncpu, request_mem, request_walltime):\n",
    "    #queue config\n",
    "    if queue=='normal':\n",
    "        queue_rate = 2\n",
    "        queue_ncpu = 48\n",
    "        queue_mem = 190\n",
    "    elif queue=='express':\n",
    "        queue_rate = 6\n",
    "        queue_ncpu = 48\n",
    "        queue_mem = 190\n",
    "    elif queue=='normalbw':\n",
    "        queue_rate = 1.25\n",
    "        queue_ncpu = 28\n",
    "        queue_mem = 128\n",
    "    elif queue=='expressbw':\n",
    "        queue_rate = 3.75\n",
    "        queue_ncpu = 28\n",
    "        queue_mem = 128\n",
    "    elif queue=='normalsl':\n",
    "        queue_rate = 1.5\n",
    "        queue_ncpu = 32\n",
    "        queue_mem = 192\n",
    "    else:\n",
    "        print('unknown queue')\n",
    "        return None\n",
    "    #check for multiple nodes\n",
    "    if request_ncpu>queue_ncpu:\n",
    "        print(f'WARNING: requested cpu exceeds a single node; {request_ncpu/queue_ncpu:.2f} nodes')\n",
    "    if request_mem>queue_mem:\n",
    "        print(f'WARNING: requested memort exceeds a single node; {request_mem/queue_mem:.2f} nodes')\n",
    "    \n",
    "    cost = request_ncpu * max([1, (queue_ncpu/queue_mem)*(request_mem/request_ncpu)]) * request_walltime * queue_rate\n",
    "    if cost > 1000:\n",
    "        print(f'job cost: {cost/1000:.2f} KSU')\n",
    "    else:\n",
    "        print(f'job cost: {cost:.2f} SU')\n",
    "    return None\n",
    "    "
   ]
  },
  {
   "cell_type": "code",
   "execution_count": 33,
   "metadata": {},
   "outputs": [
    {
     "name": "stdout",
     "output_type": "stream",
     "text": [
      "job cost: 776.08 SU\n"
     ]
    }
   ],
   "source": [
    "queue = 'normal'\n",
    "request_ncpu = 16 #ncpu\n",
    "request_mem = 64 #GB\n",
    "request_walltime = 24 #hours\n",
    "\n",
    "get_costing(queue, request_ncpu, request_mem, request_walltime)"
   ]
  },
  {
   "cell_type": "code",
   "execution_count": null,
   "metadata": {},
   "outputs": [],
   "source": []
  }
 ],
 "metadata": {
  "kernelspec": {
   "display_name": "Python [conda env:radar-dev] *",
   "language": "python",
   "name": "conda-env-radar-dev-py"
  },
  "language_info": {
   "codemirror_mode": {
    "name": "ipython",
    "version": 3
   },
   "file_extension": ".py",
   "mimetype": "text/x-python",
   "name": "python",
   "nbconvert_exporter": "python",
   "pygments_lexer": "ipython3",
   "version": "3.8.5"
  }
 },
 "nbformat": 4,
 "nbformat_minor": 4
}
