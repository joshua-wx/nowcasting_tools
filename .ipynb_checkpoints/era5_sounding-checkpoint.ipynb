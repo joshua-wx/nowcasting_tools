{
 "cells": [
  {
   "cell_type": "code",
   "execution_count": 37,
   "metadata": {},
   "outputs": [],
   "source": [
    "from glob import glob\n",
    "from datetime import datetime\n",
    "import xarray as xr\n",
    "import numpy as np\n",
    "from scipy.interpolate import interp1d"
   ]
  },
  {
   "cell_type": "code",
   "execution_count": 38,
   "metadata": {},
   "outputs": [],
   "source": [
    "def sounding_interp(snd_temp, snd_height, target_temp):\n",
    "    \"\"\"\n",
    "    Provides an linear interpolated height for a target temperature using a\n",
    "    sounding vertical profile. Looks for first instance of temperature\n",
    "    below target_temp from surface upward.\n",
    "\n",
    "    Parameters\n",
    "    ----------\n",
    "    snd_temp : ndarray\n",
    "        Temperature data (degrees C).\n",
    "    snd_height : ndarray\n",
    "        Relative height data (m).\n",
    "    target_temp : float\n",
    "        Target temperature to find height at (m).\n",
    "\n",
    "    Returns\n",
    "    -------\n",
    "    intp_h: float\n",
    "        Interpolated height of target_temp (m).\n",
    "\n",
    "    \"\"\"\n",
    "    intp_h = np.nan\n",
    "\n",
    "    #check if target_temp is warmer than lowest level in sounding\n",
    "    if target_temp>snd_temp[0]:\n",
    "        print('warning, target temp level below sounding, returning ground level (0m)')\n",
    "        return 0.\n",
    "    \n",
    "    # find index above and below freezing level\n",
    "    mask = np.where(snd_temp < target_temp)\n",
    "    above_ind = mask[0][0]\n",
    "\n",
    "    # index below\n",
    "    below_ind = above_ind - 1\n",
    "    # apply linear interplation to points above and below target_temp\n",
    "    set_interp = interp1d(\n",
    "        snd_temp[below_ind:above_ind+1],\n",
    "        snd_height[below_ind:above_ind+1], kind='linear')\n",
    "    # apply interpolant\n",
    "    intp_h = set_interp(target_temp)\n",
    "    return intp_h"
   ]
  },
  {
   "cell_type": "code",
   "execution_count": 39,
   "metadata": {},
   "outputs": [
    {
     "data": {
      "text/plain": [
       "'era5 fields\\nr = relative humidity\\nq = specific humidity\\nz = geopotential\\nu = u wind\\nv = v wind\\nt = temp\\n'"
      ]
     },
     "execution_count": 39,
     "metadata": {},
     "output_type": "execute_result"
    }
   ],
   "source": [
    "#config\n",
    "era5_root = '/g/data/rt52/era5/pressure-levels/reanalysis' #era5\n",
    "request_date = '20200319' #yyyymmdd UTC\n",
    "request_time = '0600' #HHMM UTC\n",
    "request_lat = -23.38\n",
    "request_lon = 150.51\n",
    "request_name = 'test'\n",
    "\"\"\"era5 fields\n",
    "r = relative humidity\n",
    "q = specific humidity\n",
    "z = geopotential\n",
    "u = u wind\n",
    "v = v wind\n",
    "t = temp\n",
    "\"\"\""
   ]
  },
  {
   "cell_type": "code",
   "execution_count": 40,
   "metadata": {},
   "outputs": [
    {
     "name": "stdout",
     "output_type": "stream",
     "text": [
      "/g/data/ub4/era5/netcdf/pressure/t/2020/*202003*.nc\n"
     ]
    }
   ],
   "source": [
    "#build file paths\n",
    "request_dt = datetime.strptime(request_date+request_time, '%Y%m%d%H%M')\n",
    "ym_str = request_date[0:6]\n",
    "year_str = request_date[0:4]\n",
    "print(era5_root + '/t/' + year_str + '/*' + ym_str + '*.nc')\n",
    "temp_ffn = glob(era5_root + '/t/' + year_str + '/t_era5_oper_pl_' + ym_str + '*.nc')[0]\n",
    "geop_ffn = glob(era5_root + '/z/' + year_str + '/z_era5_oper_pl_' + ym_str + '*.nc')[0]\n",
    "relh_ffn = glob(era5_root + '/r/' + year_str + '/r_era5_oper_pl_' + ym_str + '*.nc')[0]\n",
    "uwnd_ffn = glob(era5_root + '/u/' + year_str + '/u_era5_oper_pl_' + ym_str + '*.nc')[0]\n",
    "vwnd_ffn = glob(era5_root + '/v/' + year_str + '/v_era5_oper_pl_' + ym_str + '*.nc')[0]"
   ]
  },
  {
   "cell_type": "code",
   "execution_count": 41,
   "metadata": {},
   "outputs": [
    {
     "name": "stdout",
     "output_type": "stream",
     "text": [
      "<xarray.DataArray 'latitude' (latitude: 309)>\n",
      "array([ 20.  ,  19.75,  19.5 , ..., -56.5 , -56.75, -57.  ], dtype=float32)\n",
      "Coordinates:\n",
      "  * latitude  (latitude) float32 20.0 19.75 19.5 19.25 ... -56.5 -56.75 -57.0\n",
      "Attributes:\n",
      "    units:      degrees_north\n",
      "    long_name:  latitude\n"
     ]
    }
   ],
   "source": [
    "#extract data\n",
    "temp_ds = xr.open_dataset(temp_ffn)\n",
    "temp_data = temp_ds.t.sel(longitude=request_lon, method='nearest').sel(latitude=request_lat, method='nearest').sel(time=request_dt, method='nearest').data[:] - 273.15 #units: deg K -> C\n",
    "geop_ds = xr.open_dataset(geop_ffn)\n",
    "geop_data = geop_ds.z.sel(longitude=request_lon, method='nearest').sel(latitude=request_lat, method='nearest').sel(time=request_dt, method='nearest').data[:]/9.80665 #units: m**2 s**-2 -> m\n",
    "relh_ds = xr.open_dataset(relh_ffn)\n",
    "relh_data = relh_ds.r.sel(longitude=request_lon, method='nearest').sel(latitude=request_lat, method='nearest').sel(time=request_dt, method='nearest').data[:] #units: percentage\n",
    "uwnd_ds = xr.open_dataset(uwnd_ffn)\n",
    "uwnd_data = uwnd_ds.u.sel(longitude=request_lon, method='nearest').sel(latitude=request_lat, method='nearest').sel(time=request_dt, method='nearest').data[:] #units: m/s\n",
    "vwnd_ds = xr.open_dataset(vwnd_ffn)\n",
    "vwnd_data = vwnd_ds.v.sel(longitude=request_lon, method='nearest').sel(latitude=request_lat, method='nearest').sel(time=request_dt, method='nearest').data[:] #units: m/s"
   ]
  },
  {
   "cell_type": "code",
   "execution_count": 34,
   "metadata": {},
   "outputs": [],
   "source": [
    "#flipdata (ground is first row)\n",
    "temp_data = np.flipud(temp_data)\n",
    "geop_data = np.flipud(geop_data)\n",
    "relh_data = np.flipud(relh_data)\n",
    "uwnd_data = np.flipud(uwnd_data)\n",
    "vwnd_data = np.flipud(vwnd_data)"
   ]
  },
  {
   "cell_type": "code",
   "execution_count": 36,
   "metadata": {},
   "outputs": [
    {
     "name": "stdout",
     "output_type": "stream",
     "text": [
      "0C altitude:  5159.0 m\n",
      "-20C altitude:  7980.0 m\n"
     ]
    }
   ],
   "source": [
    "#interpolate to 0C and -20C levels\n",
    "print('0C altitude: ', np.round(sounding_interp(temp_data, geop_data, 0)), 'm')\n",
    "print('-20C altitude: ', np.round(sounding_interp(temp_data, geop_data, -20)), 'm')"
   ]
  },
  {
   "cell_type": "code",
   "execution_count": null,
   "metadata": {},
   "outputs": [],
   "source": []
  }
 ],
 "metadata": {
  "kernelspec": {
   "display_name": "Python [conda env:radar-dev] *",
   "language": "python",
   "name": "conda-env-radar-dev-py"
  },
  "language_info": {
   "codemirror_mode": {
    "name": "ipython",
    "version": 3
   },
   "file_extension": ".py",
   "mimetype": "text/x-python",
   "name": "python",
   "nbconvert_exporter": "python",
   "pygments_lexer": "ipython3",
   "version": "3.8.5"
  }
 },
 "nbformat": 4,
 "nbformat_minor": 4
}
