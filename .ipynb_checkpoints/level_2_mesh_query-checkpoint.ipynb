{
 "cells": [
  {
   "cell_type": "code",
   "execution_count": 51,
   "id": "f8a45bbf-8f3f-4d1d-b878-d0ffda0a4192",
   "metadata": {},
   "outputs": [],
   "source": [
    "import netCDF4 as nc\n",
    "import numpy as np\n",
    "from datetime import datetime\n",
    "from matplotlib import pyplot as plt"
   ]
  },
  {
   "cell_type": "code",
   "execution_count": 53,
   "id": "589a67c7-8b03-4dec-bd3a-daa075c72f46",
   "metadata": {},
   "outputs": [],
   "source": [
    "level2_shi_ffn = '/g/data/rq0/level_2/66/SHI/66_20201031_shi.nc' #this is not an opendap path, this is a direct path on NCI.\n",
    "request_lat = -27.501\n",
    "request_lon = 152.971\n",
    "request_radius = 10"
   ]
  },
  {
   "cell_type": "code",
   "execution_count": 62,
   "id": "849f226a-522c-424d-b218-9c4acdad7ce4",
   "metadata": {},
   "outputs": [],
   "source": [
    "with nc.Dataset(level2_shi_ffn) as ds:\n",
    "    shi = ds.variables['shi'][:]\n",
    "    lat = ds.variables['latitude'][:]\n",
    "    lon = ds.variables['longitude'][:]\n",
    "    x = ds.variables['x'][:] / 1000 #convert to km\n",
    "    y = ds.variables['y'][:] / 1000 # convert to km\n",
    "    x_grid, y_grid = np.meshgrid(x, y)"
   ]
  },
  {
   "cell_type": "code",
   "execution_count": 84,
   "id": "72394ea6-a8ea-4d12-a65b-d42bb472ac7c",
   "metadata": {},
   "outputs": [
    {
     "name": "stdout",
     "output_type": "stream",
     "text": [
      "Maximum MESH was:  46.511806\n"
     ]
    },
    {
     "data": {
      "text/plain": [
       "(150.0, 200.0)"
      ]
     },
     "execution_count": 84,
     "metadata": {},
     "output_type": "execute_result"
    },
    {
     "data": {
      "image/png": "[encoded data removed]",
      "text/plain": [
       "<Figure size 432x288 with 2 Axes>"
      ]
     },
     "metadata": {
      "needs_background": "light"
     },
     "output_type": "display_data"
    }
   ],
   "source": [
    "#calculate grid location closest to request\n",
    "dist_deg = np.sqrt((lat-request_lat)**2 + (lon-request_lon)**2)\n",
    "closest_index_array = np.where(dist_deg == np.min(dist_deg))\n",
    "closest_index = (closest_index_array[0][0], closest_index_array[1][0])\n",
    "\n",
    "#calculate all points within a radius of the closest point\n",
    "dist_km = np.sqrt((x_grid-x_grid[closest_index])**2 + (y_grid-y_grid[closest_index])**2)\n",
    "radius_outside = dist_km > request_radius\n",
    "\n",
    "#apply mask to daily shi\n",
    "max_daily_shi = np.max(shi, axis=0)\n",
    "max_daily_shi[radius_outside] = 0\n",
    "max_daily_mesh = 15.096 * max_daily_shi**0.206\n",
    "\n",
    "#print maximum and plot\n",
    "print('Maximum MESH was: ', np.max(max_daily_mesh))\n",
    "im = plt.pcolor(max_daily_mesh, cmap='hot_r')\n",
    "plt.colorbar(im, label='MESH (mm)')\n",
    "plt.xlim([100,150])\n",
    "plt.ylim([150,200])"
   ]
  },
  {
   "cell_type": "code",
   "execution_count": null,
   "id": "d1f4fc84-fdc3-46ff-96dc-1aa5f12b7c27",
   "metadata": {},
   "outputs": [],
   "source": []
  }
 ],
 "metadata": {
  "kernelspec": {
   "display_name": "Python 3 (ipykernel)",
   "language": "python",
   "name": "python3"
  },
  "language_info": {
   "codemirror_mode": {
    "name": "ipython",
    "version": 3
   },
   "file_extension": ".py",
   "mimetype": "text/x-python",
   "name": "python",
   "nbconvert_exporter": "python",
   "pygments_lexer": "ipython3",
   "version": "3.9.12"
  }
 },
 "nbformat": 4,
 "nbformat_minor": 5
}
