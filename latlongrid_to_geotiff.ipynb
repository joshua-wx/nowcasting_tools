{
 "cells": [
  {
   "cell_type": "code",
   "execution_count": 1,
   "metadata": {},
   "outputs": [
    {
     "data": {
      "text/plain": [
       "'\\nThis script takes a data grid with lat/lon 1D arrays and writes a geotif using the standard WGS84 projection\\nused: https://rasterio.readthedocs.io/en/latest/quickstart.html\\n'"
      ]
     },
     "execution_count": 1,
     "metadata": {},
     "output_type": "execute_result"
    }
   ],
   "source": [
    "\"\"\"\n",
    "This script takes a data grid with lat/lon 1D arrays and writes a geotif using the standard WGS84 projection\n",
    "used: https://rasterio.readthedocs.io/en/latest/quickstart.html\n",
    "\"\"\""
   ]
  },
  {
   "cell_type": "code",
   "execution_count": 1,
   "metadata": {},
   "outputs": [],
   "source": [
    "import rasterio\n",
    "from rasterio.transform import Affine\n",
    "\n",
    "from netCDF4 import Dataset\n",
    "from matplotlib import pyplot"
   ]
  },
  {
   "cell_type": "code",
   "execution_count": 10,
   "metadata": {},
   "outputs": [],
   "source": [
    "source_nc = \"Retrieval_Domain_Davis_Option1.nc\"\n",
    "dest_geotif = 'option1_dd_angle.tif'"
   ]
  },
  {
   "cell_type": "code",
   "execution_count": 11,
   "metadata": {},
   "outputs": [
    {
     "name": "stdout",
     "output_type": "stream",
     "text": [
      "<class 'netCDF4._netCDF4.Dataset'>\n",
      "root group (NETCDF3_CLASSIC data model, file format NETCDF3):\n",
      "    title: Single-Doppler and Dual-Doppler Coverage of Davis Aerodrome location\n",
      "    contact: Alain Protat (alain.protat@bom.gov.au)\n",
      "    idl_code: sdc-dualpoldev directory 3DWIND_5RADARS_CLEAN-TORNADO code dual_doppler.pro\n",
      "    dimensions(sizes): nlon(240), nlat(240)\n",
      "    variables(dimensions): float32 longitude(nlon), float32 latitude(nlat), float32 xmin(), float32 ymin(), float32 x(nlon), float32 y(nlat), float32 single_doppler_coverage(nlat,nlon), float32 dual_doppler_angle(nlat,nlon)\n",
      "    groups: \n",
      "0.0009958267211914063 0.0009958267211914063\n"
     ]
    },
    {
     "data": {
      "image/png": "[encoded data removed]",
      "text/plain": [
       "<Figure size 432x288 with 1 Axes>"
      ]
     },
     "metadata": {
      "needs_background": "light"
     },
     "output_type": "display_data"
    }
   ],
   "source": [
    "with Dataset(source_nc, \"r\", format=\"NETCDF4\") as ds:\n",
    "    print(ds)\n",
    "    ds_lat = ds['latitude'][:]\n",
    "    ds_lon = ds['longitude'][:]\n",
    "    data = ds['dual_doppler_angle'][:]\n",
    "    pyplot.imshow(data)\n",
    "    \n",
    "    #extract resolution\n",
    "    lon_res = (ds_lon[-1] - ds_lon[0]) / len(ds_lon)\n",
    "    lat_res = (ds_lat[-1] - ds_lat[0]) / len(ds_lat)\n",
    "    print(lon_res, lat_res)\n",
    "    #create transform\n",
    "    transform = Affine.translation(ds_lon[0] - lon_res / 2, ds_lat[0] - lat_res / 2) * Affine.scale(lon_res, lat_res)\n",
    "    \n",
    "    #create new dataset in memort\n",
    "    new_dataset = rasterio.open(dest_geotif, 'w',driver='GTiff', height=data.shape[0], width=data.shape[1],\n",
    "                                count=1, dtype=data.dtype, crs='+proj=latlong', transform=transform)\n",
    "    \n",
    "    #write\n",
    "    new_dataset.write(data, 1)\n",
    "    new_dataset.close()"
   ]
  },
  {
   "cell_type": "code",
   "execution_count": null,
   "metadata": {},
   "outputs": [],
   "source": []
  }
 ],
 "metadata": {
  "kernelspec": {
   "display_name": "Python [conda env:radar-dev] *",
   "language": "python",
   "name": "conda-env-radar-dev-py"
  },
  "language_info": {
   "codemirror_mode": {
    "name": "ipython",
    "version": 3
   },
   "file_extension": ".py",
   "mimetype": "text/x-python",
   "name": "python",
   "nbconvert_exporter": "python",
   "pygments_lexer": "ipython3",
   "version": "3.7.6"
  }
 },
 "nbformat": 4,
 "nbformat_minor": 4
}
